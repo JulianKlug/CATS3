{
 "cells": [
  {
   "cell_type": "code",
   "execution_count": 1,
   "id": "initial_id",
   "metadata": {
    "collapsed": true,
    "ExecuteTime": {
     "end_time": "2023-11-27T14:43:34.579032Z",
     "start_time": "2023-11-27T14:43:34.108624Z"
    }
   },
   "outputs": [],
   "source": [
    "import pandas as pd"
   ]
  },
  {
   "cell_type": "code",
   "execution_count": 2,
   "outputs": [],
   "source": [
    "data_path = '/Users/jk1/temp/treatment_effects/prepro_test/gsu_Extraction_20220815_prepro_25112023_213851/preprocessed_features_25112023_213851.csv'\n",
    "continuous_outcomes_path = '/Users/jk1/temp/treatment_effects/prepro_test/gsu_Extraction_20220815_prepro_25112023_213851/preprocessed_outcomes_continuous_25112023_213851.csv'\n",
    "binary_outcomes_path = '/Users/jk1/temp/treatment_effects/prepro_test/gsu_Extraction_20220815_prepro_25112023_213851/preprocessed_outcomes_final_25112023_213851.csv'"
   ],
   "metadata": {
    "collapsed": false,
    "ExecuteTime": {
     "end_time": "2023-11-27T14:43:34.587110Z",
     "start_time": "2023-11-27T14:43:34.580678Z"
    }
   },
   "id": "3212b45649ff58ab"
  },
  {
   "cell_type": "code",
   "execution_count": 3,
   "outputs": [],
   "source": [
    "data = pd.read_csv(data_path)\n",
    "continuous_outcomes = pd.read_csv(continuous_outcomes_path)\n",
    "binary_outcomes = pd.read_csv(binary_outcomes_path)"
   ],
   "metadata": {
    "collapsed": false,
    "ExecuteTime": {
     "end_time": "2023-11-27T14:43:45.422836Z",
     "start_time": "2023-11-27T14:43:34.584784Z"
    }
   },
   "id": "5243369a5a4fec61"
  },
  {
   "cell_type": "code",
   "execution_count": 4,
   "outputs": [],
   "source": [
    "outcome = '3M mRS 0-2'"
   ],
   "metadata": {
    "collapsed": false,
    "ExecuteTime": {
     "end_time": "2023-11-27T14:43:45.430512Z",
     "start_time": "2023-11-27T14:43:45.424522Z"
    }
   },
   "id": "1b6e120187e892d3"
  },
  {
   "cell_type": "code",
   "execution_count": 5,
   "outputs": [],
   "source": [
    "binary_outcomes['patient_id'] = binary_outcomes['case_admission_id'].apply(lambda x: x.split('_')[0])\n"
   ],
   "metadata": {
    "collapsed": false,
    "ExecuteTime": {
     "end_time": "2023-11-27T14:43:45.437749Z",
     "start_time": "2023-11-27T14:43:45.432798Z"
    }
   },
   "id": "9a0d0b8a5cb53342"
  },
  {
   "cell_type": "code",
   "execution_count": 6,
   "outputs": [
    {
     "data": {
      "text/plain": "      Unnamed: 0 case_admission_id Symptomatic ICH  Symptomatic ICH date  \\\n0              3       100503_0884              no                   NaN   \n1              5      1005564_4109              no                   NaN   \n2              6      1005798_9217              no                   NaN   \n3             11      1011794_0030              no                   NaN   \n4             13      1012915_7747              no                   NaN   \n...          ...               ...             ...                   ...   \n2498        5157        98851_8563              no                   NaN   \n2499        5158        98851_9614              no                   NaN   \n2500        5161        99150_6305              no                   NaN   \n2501        5162       993112_5546              no                   NaN   \n2502        5163       993552_6604              no                   NaN   \n\n     Recurrent stroke  Recurrent stroke date Orolingual angioedema  \\\n0                  no                    NaN                   NaN   \n1                  no                    NaN                   NaN   \n2                  no                    NaN                   NaN   \n3                  no                    NaN                   NaN   \n4                  no                    NaN                   NaN   \n...               ...                    ...                   ...   \n2498               no                    NaN                   NaN   \n2499               no                    NaN                   NaN   \n2500               no                    NaN                   NaN   \n2501               no                    NaN                   NaN   \n2502               no                    NaN                   NaN   \n\n      Death in hospital  Death at hospital date Death at hospital time  ...  \\\n0                   0.0                     NaN                    NaN  ...   \n1                   0.0                     NaN                    NaN  ...   \n2                   0.0                     NaN                    NaN  ...   \n3                   1.0              20180201.0                  01:00  ...   \n4                   0.0                     NaN                    NaN  ...   \n...                 ...                     ...                    ...  ...   \n2498                0.0                     NaN                    NaN  ...   \n2499                0.0                     NaN                    NaN  ...   \n2500                0.0                     NaN                    NaN  ...   \n2501                0.0                     NaN                    NaN  ...   \n2502                0.0                     NaN                    NaN  ...   \n\n     3M ICH date 3M Death  3M Death date 3M Death cause  3M Epileptic seizure  \\\n0            NaN      0.0            NaN            NaN                   NaN   \n1            NaN      0.0            NaN            NaN                    no   \n2            NaN      0.0            NaN            NaN                    no   \n3            NaN      1.0            NaN            NaN                   NaN   \n4            NaN      0.0            NaN            NaN                    no   \n...          ...      ...            ...            ...                   ...   \n2498         NaN      0.0            NaN            NaN                    no   \n2499         NaN      0.0            NaN            NaN                    no   \n2500         NaN      0.0            NaN            NaN                    no   \n2501         NaN      0.0            NaN            NaN                   NaN   \n2502         NaN      1.0     20210626.0        unknown                   NaN   \n\n     3M Epileptic seizure date  3M delta mRS 3M mRS 0-1  3M mRS 0-2 patient_id  \n0                          NaN           0.0        0.0         0.0     100503  \n1                          NaN           2.0        0.0         1.0    1005564  \n2                          NaN           1.0        1.0         1.0    1005798  \n3                          NaN           6.0        0.0         0.0    1011794  \n4                          NaN           0.0        1.0         1.0    1012915  \n...                        ...           ...        ...         ...        ...  \n2498                       NaN           1.0        0.0         0.0      98851  \n2499                       NaN           0.0        1.0         1.0      98851  \n2500                       NaN           1.0        1.0         1.0      99150  \n2501                       NaN           1.0        1.0         1.0     993112  \n2502                       NaN           3.0        0.0         0.0     993552  \n\n[2503 rows x 46 columns]",
      "text/html": "<div>\n<style scoped>\n    .dataframe tbody tr th:only-of-type {\n        vertical-align: middle;\n    }\n\n    .dataframe tbody tr th {\n        vertical-align: top;\n    }\n\n    .dataframe thead th {\n        text-align: right;\n    }\n</style>\n<table border=\"1\" class=\"dataframe\">\n  <thead>\n    <tr style=\"text-align: right;\">\n      <th></th>\n      <th>Unnamed: 0</th>\n      <th>case_admission_id</th>\n      <th>Symptomatic ICH</th>\n      <th>Symptomatic ICH date</th>\n      <th>Recurrent stroke</th>\n      <th>Recurrent stroke date</th>\n      <th>Orolingual angioedema</th>\n      <th>Death in hospital</th>\n      <th>Death at hospital date</th>\n      <th>Death at hospital time</th>\n      <th>...</th>\n      <th>3M ICH date</th>\n      <th>3M Death</th>\n      <th>3M Death date</th>\n      <th>3M Death cause</th>\n      <th>3M Epileptic seizure</th>\n      <th>3M Epileptic seizure date</th>\n      <th>3M delta mRS</th>\n      <th>3M mRS 0-1</th>\n      <th>3M mRS 0-2</th>\n      <th>patient_id</th>\n    </tr>\n  </thead>\n  <tbody>\n    <tr>\n      <th>0</th>\n      <td>3</td>\n      <td>100503_0884</td>\n      <td>no</td>\n      <td>NaN</td>\n      <td>no</td>\n      <td>NaN</td>\n      <td>NaN</td>\n      <td>0.0</td>\n      <td>NaN</td>\n      <td>NaN</td>\n      <td>...</td>\n      <td>NaN</td>\n      <td>0.0</td>\n      <td>NaN</td>\n      <td>NaN</td>\n      <td>NaN</td>\n      <td>NaN</td>\n      <td>0.0</td>\n      <td>0.0</td>\n      <td>0.0</td>\n      <td>100503</td>\n    </tr>\n    <tr>\n      <th>1</th>\n      <td>5</td>\n      <td>1005564_4109</td>\n      <td>no</td>\n      <td>NaN</td>\n      <td>no</td>\n      <td>NaN</td>\n      <td>NaN</td>\n      <td>0.0</td>\n      <td>NaN</td>\n      <td>NaN</td>\n      <td>...</td>\n      <td>NaN</td>\n      <td>0.0</td>\n      <td>NaN</td>\n      <td>NaN</td>\n      <td>no</td>\n      <td>NaN</td>\n      <td>2.0</td>\n      <td>0.0</td>\n      <td>1.0</td>\n      <td>1005564</td>\n    </tr>\n    <tr>\n      <th>2</th>\n      <td>6</td>\n      <td>1005798_9217</td>\n      <td>no</td>\n      <td>NaN</td>\n      <td>no</td>\n      <td>NaN</td>\n      <td>NaN</td>\n      <td>0.0</td>\n      <td>NaN</td>\n      <td>NaN</td>\n      <td>...</td>\n      <td>NaN</td>\n      <td>0.0</td>\n      <td>NaN</td>\n      <td>NaN</td>\n      <td>no</td>\n      <td>NaN</td>\n      <td>1.0</td>\n      <td>1.0</td>\n      <td>1.0</td>\n      <td>1005798</td>\n    </tr>\n    <tr>\n      <th>3</th>\n      <td>11</td>\n      <td>1011794_0030</td>\n      <td>no</td>\n      <td>NaN</td>\n      <td>no</td>\n      <td>NaN</td>\n      <td>NaN</td>\n      <td>1.0</td>\n      <td>20180201.0</td>\n      <td>01:00</td>\n      <td>...</td>\n      <td>NaN</td>\n      <td>1.0</td>\n      <td>NaN</td>\n      <td>NaN</td>\n      <td>NaN</td>\n      <td>NaN</td>\n      <td>6.0</td>\n      <td>0.0</td>\n      <td>0.0</td>\n      <td>1011794</td>\n    </tr>\n    <tr>\n      <th>4</th>\n      <td>13</td>\n      <td>1012915_7747</td>\n      <td>no</td>\n      <td>NaN</td>\n      <td>no</td>\n      <td>NaN</td>\n      <td>NaN</td>\n      <td>0.0</td>\n      <td>NaN</td>\n      <td>NaN</td>\n      <td>...</td>\n      <td>NaN</td>\n      <td>0.0</td>\n      <td>NaN</td>\n      <td>NaN</td>\n      <td>no</td>\n      <td>NaN</td>\n      <td>0.0</td>\n      <td>1.0</td>\n      <td>1.0</td>\n      <td>1012915</td>\n    </tr>\n    <tr>\n      <th>...</th>\n      <td>...</td>\n      <td>...</td>\n      <td>...</td>\n      <td>...</td>\n      <td>...</td>\n      <td>...</td>\n      <td>...</td>\n      <td>...</td>\n      <td>...</td>\n      <td>...</td>\n      <td>...</td>\n      <td>...</td>\n      <td>...</td>\n      <td>...</td>\n      <td>...</td>\n      <td>...</td>\n      <td>...</td>\n      <td>...</td>\n      <td>...</td>\n      <td>...</td>\n      <td>...</td>\n    </tr>\n    <tr>\n      <th>2498</th>\n      <td>5157</td>\n      <td>98851_8563</td>\n      <td>no</td>\n      <td>NaN</td>\n      <td>no</td>\n      <td>NaN</td>\n      <td>NaN</td>\n      <td>0.0</td>\n      <td>NaN</td>\n      <td>NaN</td>\n      <td>...</td>\n      <td>NaN</td>\n      <td>0.0</td>\n      <td>NaN</td>\n      <td>NaN</td>\n      <td>no</td>\n      <td>NaN</td>\n      <td>1.0</td>\n      <td>0.0</td>\n      <td>0.0</td>\n      <td>98851</td>\n    </tr>\n    <tr>\n      <th>2499</th>\n      <td>5158</td>\n      <td>98851_9614</td>\n      <td>no</td>\n      <td>NaN</td>\n      <td>no</td>\n      <td>NaN</td>\n      <td>NaN</td>\n      <td>0.0</td>\n      <td>NaN</td>\n      <td>NaN</td>\n      <td>...</td>\n      <td>NaN</td>\n      <td>0.0</td>\n      <td>NaN</td>\n      <td>NaN</td>\n      <td>no</td>\n      <td>NaN</td>\n      <td>0.0</td>\n      <td>1.0</td>\n      <td>1.0</td>\n      <td>98851</td>\n    </tr>\n    <tr>\n      <th>2500</th>\n      <td>5161</td>\n      <td>99150_6305</td>\n      <td>no</td>\n      <td>NaN</td>\n      <td>no</td>\n      <td>NaN</td>\n      <td>NaN</td>\n      <td>0.0</td>\n      <td>NaN</td>\n      <td>NaN</td>\n      <td>...</td>\n      <td>NaN</td>\n      <td>0.0</td>\n      <td>NaN</td>\n      <td>NaN</td>\n      <td>no</td>\n      <td>NaN</td>\n      <td>1.0</td>\n      <td>1.0</td>\n      <td>1.0</td>\n      <td>99150</td>\n    </tr>\n    <tr>\n      <th>2501</th>\n      <td>5162</td>\n      <td>993112_5546</td>\n      <td>no</td>\n      <td>NaN</td>\n      <td>no</td>\n      <td>NaN</td>\n      <td>NaN</td>\n      <td>0.0</td>\n      <td>NaN</td>\n      <td>NaN</td>\n      <td>...</td>\n      <td>NaN</td>\n      <td>0.0</td>\n      <td>NaN</td>\n      <td>NaN</td>\n      <td>NaN</td>\n      <td>NaN</td>\n      <td>1.0</td>\n      <td>1.0</td>\n      <td>1.0</td>\n      <td>993112</td>\n    </tr>\n    <tr>\n      <th>2502</th>\n      <td>5163</td>\n      <td>993552_6604</td>\n      <td>no</td>\n      <td>NaN</td>\n      <td>no</td>\n      <td>NaN</td>\n      <td>NaN</td>\n      <td>0.0</td>\n      <td>NaN</td>\n      <td>NaN</td>\n      <td>...</td>\n      <td>NaN</td>\n      <td>1.0</td>\n      <td>20210626.0</td>\n      <td>unknown</td>\n      <td>NaN</td>\n      <td>NaN</td>\n      <td>3.0</td>\n      <td>0.0</td>\n      <td>0.0</td>\n      <td>993552</td>\n    </tr>\n  </tbody>\n</table>\n<p>2503 rows × 46 columns</p>\n</div>"
     },
     "execution_count": 6,
     "metadata": {},
     "output_type": "execute_result"
    }
   ],
   "source": [
    "binary_outcomes"
   ],
   "metadata": {
    "collapsed": false,
    "ExecuteTime": {
     "end_time": "2023-11-27T14:43:45.472615Z",
     "start_time": "2023-11-27T14:43:45.436604Z"
    }
   },
   "id": "efe5e5d62489e0b2"
  },
  {
   "cell_type": "code",
   "execution_count": 7,
   "outputs": [],
   "source": [
    "binary_outcomes.drop(columns=['Unnamed: 0'], inplace=True)"
   ],
   "metadata": {
    "collapsed": false,
    "ExecuteTime": {
     "end_time": "2023-11-27T14:43:45.472816Z",
     "start_time": "2023-11-27T14:43:45.468709Z"
    }
   },
   "id": "1da45fbf1e298595"
  },
  {
   "cell_type": "code",
   "execution_count": null,
   "outputs": [],
   "source": [],
   "metadata": {
    "collapsed": false
   },
   "id": "8e3bae5335ad0fbe"
  },
  {
   "cell_type": "code",
   "execution_count": 13,
   "outputs": [
    {
     "data": {
      "text/plain": "     case_admission_id patient_id outcome_label  outcome\n0          100503_0884     100503    3M mRS 0-2      0.0\n1         1005564_4109    1005564    3M mRS 0-2      1.0\n2         1005798_9217    1005798    3M mRS 0-2      1.0\n3         1011794_0030    1011794    3M mRS 0-2      0.0\n4         1012915_7747    1012915    3M mRS 0-2      1.0\n...                ...        ...           ...      ...\n2498        98851_8563      98851    3M mRS 0-2      0.0\n2499        98851_9614      98851    3M mRS 0-2      1.0\n2500        99150_6305      99150    3M mRS 0-2      1.0\n2501       993112_5546     993112    3M mRS 0-2      1.0\n2502       993552_6604     993552    3M mRS 0-2      0.0\n\n[2503 rows x 4 columns]",
      "text/html": "<div>\n<style scoped>\n    .dataframe tbody tr th:only-of-type {\n        vertical-align: middle;\n    }\n\n    .dataframe tbody tr th {\n        vertical-align: top;\n    }\n\n    .dataframe thead th {\n        text-align: right;\n    }\n</style>\n<table border=\"1\" class=\"dataframe\">\n  <thead>\n    <tr style=\"text-align: right;\">\n      <th></th>\n      <th>case_admission_id</th>\n      <th>patient_id</th>\n      <th>outcome_label</th>\n      <th>outcome</th>\n    </tr>\n  </thead>\n  <tbody>\n    <tr>\n      <th>0</th>\n      <td>100503_0884</td>\n      <td>100503</td>\n      <td>3M mRS 0-2</td>\n      <td>0.0</td>\n    </tr>\n    <tr>\n      <th>1</th>\n      <td>1005564_4109</td>\n      <td>1005564</td>\n      <td>3M mRS 0-2</td>\n      <td>1.0</td>\n    </tr>\n    <tr>\n      <th>2</th>\n      <td>1005798_9217</td>\n      <td>1005798</td>\n      <td>3M mRS 0-2</td>\n      <td>1.0</td>\n    </tr>\n    <tr>\n      <th>3</th>\n      <td>1011794_0030</td>\n      <td>1011794</td>\n      <td>3M mRS 0-2</td>\n      <td>0.0</td>\n    </tr>\n    <tr>\n      <th>4</th>\n      <td>1012915_7747</td>\n      <td>1012915</td>\n      <td>3M mRS 0-2</td>\n      <td>1.0</td>\n    </tr>\n    <tr>\n      <th>...</th>\n      <td>...</td>\n      <td>...</td>\n      <td>...</td>\n      <td>...</td>\n    </tr>\n    <tr>\n      <th>2498</th>\n      <td>98851_8563</td>\n      <td>98851</td>\n      <td>3M mRS 0-2</td>\n      <td>0.0</td>\n    </tr>\n    <tr>\n      <th>2499</th>\n      <td>98851_9614</td>\n      <td>98851</td>\n      <td>3M mRS 0-2</td>\n      <td>1.0</td>\n    </tr>\n    <tr>\n      <th>2500</th>\n      <td>99150_6305</td>\n      <td>99150</td>\n      <td>3M mRS 0-2</td>\n      <td>1.0</td>\n    </tr>\n    <tr>\n      <th>2501</th>\n      <td>993112_5546</td>\n      <td>993112</td>\n      <td>3M mRS 0-2</td>\n      <td>1.0</td>\n    </tr>\n    <tr>\n      <th>2502</th>\n      <td>993552_6604</td>\n      <td>993552</td>\n      <td>3M mRS 0-2</td>\n      <td>0.0</td>\n    </tr>\n  </tbody>\n</table>\n<p>2503 rows × 4 columns</p>\n</div>"
     },
     "execution_count": 13,
     "metadata": {},
     "output_type": "execute_result"
    }
   ],
   "source": [
    "temp = binary_outcomes[['case_admission_id', 'patient_id', outcome]]\n",
    "temp.melt(id_vars=['case_admission_id', 'patient_id'], var_name='outcome_label', value_name='outcome')"
   ],
   "metadata": {
    "collapsed": false,
    "ExecuteTime": {
     "end_time": "2023-11-27T14:48:56.667923Z",
     "start_time": "2023-11-27T14:48:56.661072Z"
    }
   },
   "id": "ec5f9e414d01e2f0"
  },
  {
   "cell_type": "code",
   "execution_count": 15,
   "outputs": [
    {
     "data": {
      "text/plain": "     patient_id  outcome\n0        100503      0.0\n1       1005564      1.0\n2       1005798      1.0\n3       1011794      0.0\n4       1012915      1.0\n...         ...      ...\n2362   98549331      1.0\n2363   98577009      0.0\n2364   98642586      1.0\n2365      98851      0.0\n2366     993552      0.0\n\n[2367 rows x 2 columns]",
      "text/html": "<div>\n<style scoped>\n    .dataframe tbody tr th:only-of-type {\n        vertical-align: middle;\n    }\n\n    .dataframe tbody tr th {\n        vertical-align: top;\n    }\n\n    .dataframe thead th {\n        text-align: right;\n    }\n</style>\n<table border=\"1\" class=\"dataframe\">\n  <thead>\n    <tr style=\"text-align: right;\">\n      <th></th>\n      <th>patient_id</th>\n      <th>outcome</th>\n    </tr>\n  </thead>\n  <tbody>\n    <tr>\n      <th>0</th>\n      <td>100503</td>\n      <td>0.0</td>\n    </tr>\n    <tr>\n      <th>1</th>\n      <td>1005564</td>\n      <td>1.0</td>\n    </tr>\n    <tr>\n      <th>2</th>\n      <td>1005798</td>\n      <td>1.0</td>\n    </tr>\n    <tr>\n      <th>3</th>\n      <td>1011794</td>\n      <td>0.0</td>\n    </tr>\n    <tr>\n      <th>4</th>\n      <td>1012915</td>\n      <td>1.0</td>\n    </tr>\n    <tr>\n      <th>...</th>\n      <td>...</td>\n      <td>...</td>\n    </tr>\n    <tr>\n      <th>2362</th>\n      <td>98549331</td>\n      <td>1.0</td>\n    </tr>\n    <tr>\n      <th>2363</th>\n      <td>98577009</td>\n      <td>0.0</td>\n    </tr>\n    <tr>\n      <th>2364</th>\n      <td>98642586</td>\n      <td>1.0</td>\n    </tr>\n    <tr>\n      <th>2365</th>\n      <td>98851</td>\n      <td>0.0</td>\n    </tr>\n    <tr>\n      <th>2366</th>\n      <td>993552</td>\n      <td>0.0</td>\n    </tr>\n  </tbody>\n</table>\n<p>2367 rows × 2 columns</p>\n</div>"
     },
     "execution_count": 15,
     "metadata": {},
     "output_type": "execute_result"
    }
   ],
   "source": [
    "from data_splits.utils import link_patient_id_to_outcome\n",
    "\n",
    "temp = binary_outcomes[['case_admission_id', 'patient_id', outcome]]\n",
    "temp = temp.melt(id_vars=['case_admission_id', 'patient_id'], var_name='outcome_label', value_name='outcome')\n",
    "link_patient_id_to_outcome(temp, outcome)"
   ],
   "metadata": {
    "collapsed": false,
    "ExecuteTime": {
     "end_time": "2023-11-27T14:49:31.013905Z",
     "start_time": "2023-11-27T14:49:31.005349Z"
    }
   },
   "id": "329ad76b38229a2b"
  },
  {
   "cell_type": "code",
   "execution_count": 55,
   "outputs": [],
   "source": [
    "temp = binary_outcomes[['case_admission_id', outcome]]"
   ],
   "metadata": {
    "collapsed": false,
    "ExecuteTime": {
     "end_time": "2023-11-27T14:19:52.526934Z",
     "start_time": "2023-11-27T14:19:52.515980Z"
    }
   },
   "id": "ad828dbff9ca078e"
  },
  {
   "cell_type": "code",
   "execution_count": 56,
   "outputs": [
    {
     "name": "stderr",
     "output_type": "stream",
     "text": [
      "/var/folders/9v/1s329cwj32jc2kkx24p8jp980000gp/T/ipykernel_6704/4198746601.py:3: SettingWithCopyWarning: \n",
      "A value is trying to be set on a copy of a slice from a DataFrame\n",
      "\n",
      "See the caveats in the documentation: https://pandas.pydata.org/pandas-docs/stable/user_guide/indexing.html#returning-a-view-versus-a-copy\n",
      "  temp.dropna(inplace=True)\n",
      "/Users/jk1/opt/anaconda3/envs/treatment_effects/lib/python3.10/site-packages/sklearn/utils/validation.py:605: FutureWarning: is_sparse is deprecated and will be removed in a future version. Check `isinstance(dtype, pd.SparseDtype)` instead.\n",
      "  if is_sparse(pd_dtype):\n",
      "/Users/jk1/opt/anaconda3/envs/treatment_effects/lib/python3.10/site-packages/sklearn/utils/validation.py:614: FutureWarning: is_sparse is deprecated and will be removed in a future version. Check `isinstance(dtype, pd.SparseDtype)` instead.\n",
      "  if is_sparse(pd_dtype) or not is_extension_array_dtype(pd_dtype):\n"
     ]
    }
   ],
   "source": [
    "from sklearn.model_selection import train_test_split\n",
    "\n",
    "temp.dropna(inplace=True)\n",
    "train, test = train_test_split(temp, test_size=0.2, random_state=42, stratify=temp[outcome])"
   ],
   "metadata": {
    "collapsed": false,
    "ExecuteTime": {
     "end_time": "2023-11-27T14:19:52.734558Z",
     "start_time": "2023-11-27T14:19:52.727573Z"
    }
   },
   "id": "b1a9e4dc4548a6b8"
  },
  {
   "cell_type": "code",
   "execution_count": 57,
   "outputs": [
    {
     "data": {
      "text/plain": "     case_admission_id  3M mRS 0-2\n1080     97669697_0679         1.0\n2116       497529_9222         1.0\n9         1032987_8125         0.0\n618        155580_8063         1.0\n1621       957597_1393         1.0\n...                ...         ...\n1879       127189_3604         0.0\n1766     98561901_2706         1.0\n1442       449606_4967         1.0\n1589       891101_7173         1.0\n723        313914_8757         0.0\n\n[452 rows x 2 columns]",
      "text/html": "<div>\n<style scoped>\n    .dataframe tbody tr th:only-of-type {\n        vertical-align: middle;\n    }\n\n    .dataframe tbody tr th {\n        vertical-align: top;\n    }\n\n    .dataframe thead th {\n        text-align: right;\n    }\n</style>\n<table border=\"1\" class=\"dataframe\">\n  <thead>\n    <tr style=\"text-align: right;\">\n      <th></th>\n      <th>case_admission_id</th>\n      <th>3M mRS 0-2</th>\n    </tr>\n  </thead>\n  <tbody>\n    <tr>\n      <th>1080</th>\n      <td>97669697_0679</td>\n      <td>1.0</td>\n    </tr>\n    <tr>\n      <th>2116</th>\n      <td>497529_9222</td>\n      <td>1.0</td>\n    </tr>\n    <tr>\n      <th>9</th>\n      <td>1032987_8125</td>\n      <td>0.0</td>\n    </tr>\n    <tr>\n      <th>618</th>\n      <td>155580_8063</td>\n      <td>1.0</td>\n    </tr>\n    <tr>\n      <th>1621</th>\n      <td>957597_1393</td>\n      <td>1.0</td>\n    </tr>\n    <tr>\n      <th>...</th>\n      <td>...</td>\n      <td>...</td>\n    </tr>\n    <tr>\n      <th>1879</th>\n      <td>127189_3604</td>\n      <td>0.0</td>\n    </tr>\n    <tr>\n      <th>1766</th>\n      <td>98561901_2706</td>\n      <td>1.0</td>\n    </tr>\n    <tr>\n      <th>1442</th>\n      <td>449606_4967</td>\n      <td>1.0</td>\n    </tr>\n    <tr>\n      <th>1589</th>\n      <td>891101_7173</td>\n      <td>1.0</td>\n    </tr>\n    <tr>\n      <th>723</th>\n      <td>313914_8757</td>\n      <td>0.0</td>\n    </tr>\n  </tbody>\n</table>\n<p>452 rows × 2 columns</p>\n</div>"
     },
     "execution_count": 57,
     "metadata": {},
     "output_type": "execute_result"
    }
   ],
   "source": [
    "test"
   ],
   "metadata": {
    "collapsed": false,
    "ExecuteTime": {
     "end_time": "2023-11-27T14:19:54.742786Z",
     "start_time": "2023-11-27T14:19:54.736294Z"
    }
   },
   "id": "a81372e4b96735ec"
  },
  {
   "cell_type": "code",
   "execution_count": 16,
   "outputs": [],
   "source": [
    "# find unique values where sample_label == antihypertensive strategy for every case_admission_id\n",
    "pivoted_data = data.pivot(index=['case_admission_id', 'relative_sample_date_hourly_cat'], columns='sample_label', values='value')"
   ],
   "metadata": {
    "collapsed": false,
    "ExecuteTime": {
     "end_time": "2023-11-27T13:49:15.439433Z",
     "start_time": "2023-11-27T13:49:09.196443Z"
    }
   },
   "id": "fefa492c7ad32b8f"
  },
  {
   "cell_type": "code",
   "execution_count": 17,
   "outputs": [],
   "source": [
    "pivoted_data.reset_index(inplace=True)"
   ],
   "metadata": {
    "collapsed": false,
    "ExecuteTime": {
     "end_time": "2023-11-27T13:49:15.487577Z",
     "start_time": "2023-11-27T13:49:15.439777Z"
    }
   },
   "id": "e531c693ccd4ae7b"
  },
  {
   "cell_type": "code",
   "execution_count": 26,
   "outputs": [],
   "source": [
    "treatment_strategies_per_cid = pd.DataFrame()\n",
    "treatment_strategies = list(range(0, 8))\n",
    "for cid in data.case_admission_id.unique():\n",
    "    treatment_strategies_per_cid_temp = pd.DataFrame()\n",
    "    treatment_strategies_per_cid_temp['case_admission_id'] = [cid]\n",
    "    for treatment_strategy in treatment_strategies:\n",
    "        treatment_strategies_per_cid_temp['treatment_strategy_' + str(treatment_strategy)] = [int(treatment_strategy in pivoted_data[pivoted_data.case_admission_id == cid]['anti_hypertensive_strategy'].unique())]\n",
    "    treatment_strategies_per_cid = pd.concat([treatment_strategies_per_cid, treatment_strategies_per_cid_temp])"
   ],
   "metadata": {
    "collapsed": false,
    "ExecuteTime": {
     "end_time": "2023-11-27T14:04:13.169326Z",
     "start_time": "2023-11-27T14:01:06.775220Z"
    }
   },
   "id": "bd5d9d23b5f5126"
  },
  {
   "cell_type": "code",
   "execution_count": 27,
   "outputs": [
    {
     "data": {
      "text/plain": "   case_admission_id  treatment_strategy_0  treatment_strategy_1  \\\n0        100023_4784                  True                 False   \n0       1002417_9090                 False                 False   \n0        100447_0097                 False                 False   \n0        100503_0884                 False                 False   \n0       1005564_4109                 False                  True   \n..               ...                   ...                   ...   \n0        993552_0623                 False                 False   \n0        993552_6604                 False                 False   \n0         99400_5321                 False                 False   \n0        996783_7797                 False                 False   \n0          9996_3256                 False                 False   \n\n    treatment_strategy_2  treatment_strategy_3  treatment_strategy_4  \\\n0                  False                 False                  True   \n0                  False                 False                  True   \n0                  False                 False                 False   \n0                  False                 False                 False   \n0                  False                 False                 False   \n..                   ...                   ...                   ...   \n0                  False                 False                 False   \n0                  False                 False                 False   \n0                  False                  True                 False   \n0                  False                 False                 False   \n0                  False                 False                 False   \n\n    treatment_strategy_5  treatment_strategy_6  treatment_strategy_7  \n0                  False                 False                 False  \n0                  False                 False                  True  \n0                  False                 False                  True  \n0                  False                 False                  True  \n0                  False                 False                  True  \n..                   ...                   ...                   ...  \n0                  False                 False                  True  \n0                  False                 False                  True  \n0                   True                 False                  True  \n0                  False                 False                  True  \n0                  False                 False                  True  \n\n[2493 rows x 9 columns]",
      "text/html": "<div>\n<style scoped>\n    .dataframe tbody tr th:only-of-type {\n        vertical-align: middle;\n    }\n\n    .dataframe tbody tr th {\n        vertical-align: top;\n    }\n\n    .dataframe thead th {\n        text-align: right;\n    }\n</style>\n<table border=\"1\" class=\"dataframe\">\n  <thead>\n    <tr style=\"text-align: right;\">\n      <th></th>\n      <th>case_admission_id</th>\n      <th>treatment_strategy_0</th>\n      <th>treatment_strategy_1</th>\n      <th>treatment_strategy_2</th>\n      <th>treatment_strategy_3</th>\n      <th>treatment_strategy_4</th>\n      <th>treatment_strategy_5</th>\n      <th>treatment_strategy_6</th>\n      <th>treatment_strategy_7</th>\n    </tr>\n  </thead>\n  <tbody>\n    <tr>\n      <th>0</th>\n      <td>100023_4784</td>\n      <td>True</td>\n      <td>False</td>\n      <td>False</td>\n      <td>False</td>\n      <td>True</td>\n      <td>False</td>\n      <td>False</td>\n      <td>False</td>\n    </tr>\n    <tr>\n      <th>0</th>\n      <td>1002417_9090</td>\n      <td>False</td>\n      <td>False</td>\n      <td>False</td>\n      <td>False</td>\n      <td>True</td>\n      <td>False</td>\n      <td>False</td>\n      <td>True</td>\n    </tr>\n    <tr>\n      <th>0</th>\n      <td>100447_0097</td>\n      <td>False</td>\n      <td>False</td>\n      <td>False</td>\n      <td>False</td>\n      <td>False</td>\n      <td>False</td>\n      <td>False</td>\n      <td>True</td>\n    </tr>\n    <tr>\n      <th>0</th>\n      <td>100503_0884</td>\n      <td>False</td>\n      <td>False</td>\n      <td>False</td>\n      <td>False</td>\n      <td>False</td>\n      <td>False</td>\n      <td>False</td>\n      <td>True</td>\n    </tr>\n    <tr>\n      <th>0</th>\n      <td>1005564_4109</td>\n      <td>False</td>\n      <td>True</td>\n      <td>False</td>\n      <td>False</td>\n      <td>False</td>\n      <td>False</td>\n      <td>False</td>\n      <td>True</td>\n    </tr>\n    <tr>\n      <th>...</th>\n      <td>...</td>\n      <td>...</td>\n      <td>...</td>\n      <td>...</td>\n      <td>...</td>\n      <td>...</td>\n      <td>...</td>\n      <td>...</td>\n      <td>...</td>\n    </tr>\n    <tr>\n      <th>0</th>\n      <td>993552_0623</td>\n      <td>False</td>\n      <td>False</td>\n      <td>False</td>\n      <td>False</td>\n      <td>False</td>\n      <td>False</td>\n      <td>False</td>\n      <td>True</td>\n    </tr>\n    <tr>\n      <th>0</th>\n      <td>993552_6604</td>\n      <td>False</td>\n      <td>False</td>\n      <td>False</td>\n      <td>False</td>\n      <td>False</td>\n      <td>False</td>\n      <td>False</td>\n      <td>True</td>\n    </tr>\n    <tr>\n      <th>0</th>\n      <td>99400_5321</td>\n      <td>False</td>\n      <td>False</td>\n      <td>False</td>\n      <td>True</td>\n      <td>False</td>\n      <td>True</td>\n      <td>False</td>\n      <td>True</td>\n    </tr>\n    <tr>\n      <th>0</th>\n      <td>996783_7797</td>\n      <td>False</td>\n      <td>False</td>\n      <td>False</td>\n      <td>False</td>\n      <td>False</td>\n      <td>False</td>\n      <td>False</td>\n      <td>True</td>\n    </tr>\n    <tr>\n      <th>0</th>\n      <td>9996_3256</td>\n      <td>False</td>\n      <td>False</td>\n      <td>False</td>\n      <td>False</td>\n      <td>False</td>\n      <td>False</td>\n      <td>False</td>\n      <td>True</td>\n    </tr>\n  </tbody>\n</table>\n<p>2493 rows × 9 columns</p>\n</div>"
     },
     "execution_count": 27,
     "metadata": {},
     "output_type": "execute_result"
    }
   ],
   "source": [
    "treatment_strategies_per_cid"
   ],
   "metadata": {
    "collapsed": false,
    "ExecuteTime": {
     "end_time": "2023-11-27T14:04:13.183829Z",
     "start_time": "2023-11-27T14:04:13.180415Z"
    }
   },
   "id": "7d1f7ca1a86928f9"
  },
  {
   "cell_type": "code",
   "execution_count": 58,
   "outputs": [],
   "source": [
    "train_treatment_strategies = treatment_strategies_per_cid[treatment_strategies_per_cid.case_admission_id.isin(train.case_admission_id)]\n",
    "test_treatment_strategies = treatment_strategies_per_cid[treatment_strategies_per_cid.case_admission_id.isin(test.case_admission_id)]"
   ],
   "metadata": {
    "collapsed": false,
    "ExecuteTime": {
     "end_time": "2023-11-27T14:20:08.464361Z",
     "start_time": "2023-11-27T14:20:08.453579Z"
    }
   },
   "id": "4bb78522c327cb05"
  },
  {
   "cell_type": "code",
   "execution_count": 60,
   "outputs": [
    {
     "name": "stdout",
     "output_type": "stream",
     "text": [
      "Treatment strategy: 0\n",
      "0.07071269487750557\n",
      "0.08444444444444445\n",
      "Treatment strategy: 1\n",
      "0.11971046770601336\n",
      "0.10666666666666667\n",
      "Treatment strategy: 2\n",
      "0.005567928730512249\n",
      "0.02\n",
      "Treatment strategy: 3\n",
      "0.09465478841870824\n",
      "0.09777777777777778\n",
      "Treatment strategy: 4\n",
      "0.12639198218262807\n",
      "0.12666666666666668\n",
      "Treatment strategy: 5\n",
      "0.11080178173719377\n",
      "0.12666666666666668\n",
      "Treatment strategy: 6\n",
      "0.08797327394209355\n",
      "0.07555555555555556\n",
      "Treatment strategy: 7\n",
      "0.8635857461024499\n",
      "0.8488888888888889\n"
     ]
    }
   ],
   "source": [
    "for treatment_strategy in treatment_strategies:\n",
    "    print('Treatment strategy: ' + str(treatment_strategy))\n",
    "    print(train_treatment_strategies['treatment_strategy_' + str(treatment_strategy)].sum() / len(train_treatment_strategies))\n",
    "    \n",
    "    print(test_treatment_strategies['treatment_strategy_' + str(treatment_strategy)].sum() / len(test_treatment_strategies))"
   ],
   "metadata": {
    "collapsed": false,
    "ExecuteTime": {
     "end_time": "2023-11-27T14:20:41.061836Z",
     "start_time": "2023-11-27T14:20:41.052792Z"
    }
   },
   "id": "9872286c891ffa68"
  },
  {
   "cell_type": "code",
   "execution_count": 65,
   "outputs": [
    {
     "data": {
      "text/plain": "      Unnamed: 0 case_admission_id Symptomatic ICH  Symptomatic ICH date  \\\n0              3       100503_0884              no                   NaN   \n1              5      1005564_4109              no                   NaN   \n2              6      1005798_9217              no                   NaN   \n3             11      1011794_0030              no                   NaN   \n4             13      1012915_7747              no                   NaN   \n...          ...               ...             ...                   ...   \n2498        5157        98851_8563              no                   NaN   \n2499        5158        98851_9614              no                   NaN   \n2500        5161        99150_6305              no                   NaN   \n2501        5162       993112_5546              no                   NaN   \n2502        5163       993552_6604              no                   NaN   \n\n     Recurrent stroke  Recurrent stroke date Orolingual angioedema  \\\n0                  no                    NaN                   NaN   \n1                  no                    NaN                   NaN   \n2                  no                    NaN                   NaN   \n3                  no                    NaN                   NaN   \n4                  no                    NaN                   NaN   \n...               ...                    ...                   ...   \n2498               no                    NaN                   NaN   \n2499               no                    NaN                   NaN   \n2500               no                    NaN                   NaN   \n2501               no                    NaN                   NaN   \n2502               no                    NaN                   NaN   \n\n      Death in hospital  Death at hospital date Death at hospital time  ...  \\\n0                   0.0                     NaN                    NaN  ...   \n1                   0.0                     NaN                    NaN  ...   \n2                   0.0                     NaN                    NaN  ...   \n3                   1.0              20180201.0                  01:00  ...   \n4                   0.0                     NaN                    NaN  ...   \n...                 ...                     ...                    ...  ...   \n2498                0.0                     NaN                    NaN  ...   \n2499                0.0                     NaN                    NaN  ...   \n2500                0.0                     NaN                    NaN  ...   \n2501                0.0                     NaN                    NaN  ...   \n2502                0.0                     NaN                    NaN  ...   \n\n     3M ICH 3M ICH date  3M Death 3M Death date  3M Death cause  \\\n0        no         NaN       0.0           NaN             NaN   \n1        no         NaN       0.0           NaN             NaN   \n2        no         NaN       0.0           NaN             NaN   \n3       NaN         NaN       1.0           NaN             NaN   \n4        no         NaN       0.0           NaN             NaN   \n...     ...         ...       ...           ...             ...   \n2498     no         NaN       0.0           NaN             NaN   \n2499     no         NaN       0.0           NaN             NaN   \n2500     no         NaN       0.0           NaN             NaN   \n2501     no         NaN       0.0           NaN             NaN   \n2502     no         NaN       1.0    20210626.0         unknown   \n\n     3M Epileptic seizure  3M Epileptic seizure date 3M delta mRS  3M mRS 0-1  \\\n0                     NaN                        NaN          0.0         0.0   \n1                      no                        NaN          2.0         0.0   \n2                      no                        NaN          1.0         1.0   \n3                     NaN                        NaN          6.0         0.0   \n4                      no                        NaN          0.0         1.0   \n...                   ...                        ...          ...         ...   \n2498                   no                        NaN          1.0         0.0   \n2499                   no                        NaN          0.0         1.0   \n2500                   no                        NaN          1.0         1.0   \n2501                  NaN                        NaN          1.0         1.0   \n2502                  NaN                        NaN          3.0         0.0   \n\n     3M mRS 0-2  \n0           0.0  \n1           1.0  \n2           1.0  \n3           0.0  \n4           1.0  \n...         ...  \n2498        0.0  \n2499        1.0  \n2500        1.0  \n2501        1.0  \n2502        0.0  \n\n[2503 rows x 45 columns]",
      "text/html": "<div>\n<style scoped>\n    .dataframe tbody tr th:only-of-type {\n        vertical-align: middle;\n    }\n\n    .dataframe tbody tr th {\n        vertical-align: top;\n    }\n\n    .dataframe thead th {\n        text-align: right;\n    }\n</style>\n<table border=\"1\" class=\"dataframe\">\n  <thead>\n    <tr style=\"text-align: right;\">\n      <th></th>\n      <th>Unnamed: 0</th>\n      <th>case_admission_id</th>\n      <th>Symptomatic ICH</th>\n      <th>Symptomatic ICH date</th>\n      <th>Recurrent stroke</th>\n      <th>Recurrent stroke date</th>\n      <th>Orolingual angioedema</th>\n      <th>Death in hospital</th>\n      <th>Death at hospital date</th>\n      <th>Death at hospital time</th>\n      <th>...</th>\n      <th>3M ICH</th>\n      <th>3M ICH date</th>\n      <th>3M Death</th>\n      <th>3M Death date</th>\n      <th>3M Death cause</th>\n      <th>3M Epileptic seizure</th>\n      <th>3M Epileptic seizure date</th>\n      <th>3M delta mRS</th>\n      <th>3M mRS 0-1</th>\n      <th>3M mRS 0-2</th>\n    </tr>\n  </thead>\n  <tbody>\n    <tr>\n      <th>0</th>\n      <td>3</td>\n      <td>100503_0884</td>\n      <td>no</td>\n      <td>NaN</td>\n      <td>no</td>\n      <td>NaN</td>\n      <td>NaN</td>\n      <td>0.0</td>\n      <td>NaN</td>\n      <td>NaN</td>\n      <td>...</td>\n      <td>no</td>\n      <td>NaN</td>\n      <td>0.0</td>\n      <td>NaN</td>\n      <td>NaN</td>\n      <td>NaN</td>\n      <td>NaN</td>\n      <td>0.0</td>\n      <td>0.0</td>\n      <td>0.0</td>\n    </tr>\n    <tr>\n      <th>1</th>\n      <td>5</td>\n      <td>1005564_4109</td>\n      <td>no</td>\n      <td>NaN</td>\n      <td>no</td>\n      <td>NaN</td>\n      <td>NaN</td>\n      <td>0.0</td>\n      <td>NaN</td>\n      <td>NaN</td>\n      <td>...</td>\n      <td>no</td>\n      <td>NaN</td>\n      <td>0.0</td>\n      <td>NaN</td>\n      <td>NaN</td>\n      <td>no</td>\n      <td>NaN</td>\n      <td>2.0</td>\n      <td>0.0</td>\n      <td>1.0</td>\n    </tr>\n    <tr>\n      <th>2</th>\n      <td>6</td>\n      <td>1005798_9217</td>\n      <td>no</td>\n      <td>NaN</td>\n      <td>no</td>\n      <td>NaN</td>\n      <td>NaN</td>\n      <td>0.0</td>\n      <td>NaN</td>\n      <td>NaN</td>\n      <td>...</td>\n      <td>no</td>\n      <td>NaN</td>\n      <td>0.0</td>\n      <td>NaN</td>\n      <td>NaN</td>\n      <td>no</td>\n      <td>NaN</td>\n      <td>1.0</td>\n      <td>1.0</td>\n      <td>1.0</td>\n    </tr>\n    <tr>\n      <th>3</th>\n      <td>11</td>\n      <td>1011794_0030</td>\n      <td>no</td>\n      <td>NaN</td>\n      <td>no</td>\n      <td>NaN</td>\n      <td>NaN</td>\n      <td>1.0</td>\n      <td>20180201.0</td>\n      <td>01:00</td>\n      <td>...</td>\n      <td>NaN</td>\n      <td>NaN</td>\n      <td>1.0</td>\n      <td>NaN</td>\n      <td>NaN</td>\n      <td>NaN</td>\n      <td>NaN</td>\n      <td>6.0</td>\n      <td>0.0</td>\n      <td>0.0</td>\n    </tr>\n    <tr>\n      <th>4</th>\n      <td>13</td>\n      <td>1012915_7747</td>\n      <td>no</td>\n      <td>NaN</td>\n      <td>no</td>\n      <td>NaN</td>\n      <td>NaN</td>\n      <td>0.0</td>\n      <td>NaN</td>\n      <td>NaN</td>\n      <td>...</td>\n      <td>no</td>\n      <td>NaN</td>\n      <td>0.0</td>\n      <td>NaN</td>\n      <td>NaN</td>\n      <td>no</td>\n      <td>NaN</td>\n      <td>0.0</td>\n      <td>1.0</td>\n      <td>1.0</td>\n    </tr>\n    <tr>\n      <th>...</th>\n      <td>...</td>\n      <td>...</td>\n      <td>...</td>\n      <td>...</td>\n      <td>...</td>\n      <td>...</td>\n      <td>...</td>\n      <td>...</td>\n      <td>...</td>\n      <td>...</td>\n      <td>...</td>\n      <td>...</td>\n      <td>...</td>\n      <td>...</td>\n      <td>...</td>\n      <td>...</td>\n      <td>...</td>\n      <td>...</td>\n      <td>...</td>\n      <td>...</td>\n      <td>...</td>\n    </tr>\n    <tr>\n      <th>2498</th>\n      <td>5157</td>\n      <td>98851_8563</td>\n      <td>no</td>\n      <td>NaN</td>\n      <td>no</td>\n      <td>NaN</td>\n      <td>NaN</td>\n      <td>0.0</td>\n      <td>NaN</td>\n      <td>NaN</td>\n      <td>...</td>\n      <td>no</td>\n      <td>NaN</td>\n      <td>0.0</td>\n      <td>NaN</td>\n      <td>NaN</td>\n      <td>no</td>\n      <td>NaN</td>\n      <td>1.0</td>\n      <td>0.0</td>\n      <td>0.0</td>\n    </tr>\n    <tr>\n      <th>2499</th>\n      <td>5158</td>\n      <td>98851_9614</td>\n      <td>no</td>\n      <td>NaN</td>\n      <td>no</td>\n      <td>NaN</td>\n      <td>NaN</td>\n      <td>0.0</td>\n      <td>NaN</td>\n      <td>NaN</td>\n      <td>...</td>\n      <td>no</td>\n      <td>NaN</td>\n      <td>0.0</td>\n      <td>NaN</td>\n      <td>NaN</td>\n      <td>no</td>\n      <td>NaN</td>\n      <td>0.0</td>\n      <td>1.0</td>\n      <td>1.0</td>\n    </tr>\n    <tr>\n      <th>2500</th>\n      <td>5161</td>\n      <td>99150_6305</td>\n      <td>no</td>\n      <td>NaN</td>\n      <td>no</td>\n      <td>NaN</td>\n      <td>NaN</td>\n      <td>0.0</td>\n      <td>NaN</td>\n      <td>NaN</td>\n      <td>...</td>\n      <td>no</td>\n      <td>NaN</td>\n      <td>0.0</td>\n      <td>NaN</td>\n      <td>NaN</td>\n      <td>no</td>\n      <td>NaN</td>\n      <td>1.0</td>\n      <td>1.0</td>\n      <td>1.0</td>\n    </tr>\n    <tr>\n      <th>2501</th>\n      <td>5162</td>\n      <td>993112_5546</td>\n      <td>no</td>\n      <td>NaN</td>\n      <td>no</td>\n      <td>NaN</td>\n      <td>NaN</td>\n      <td>0.0</td>\n      <td>NaN</td>\n      <td>NaN</td>\n      <td>...</td>\n      <td>no</td>\n      <td>NaN</td>\n      <td>0.0</td>\n      <td>NaN</td>\n      <td>NaN</td>\n      <td>NaN</td>\n      <td>NaN</td>\n      <td>1.0</td>\n      <td>1.0</td>\n      <td>1.0</td>\n    </tr>\n    <tr>\n      <th>2502</th>\n      <td>5163</td>\n      <td>993552_6604</td>\n      <td>no</td>\n      <td>NaN</td>\n      <td>no</td>\n      <td>NaN</td>\n      <td>NaN</td>\n      <td>0.0</td>\n      <td>NaN</td>\n      <td>NaN</td>\n      <td>...</td>\n      <td>no</td>\n      <td>NaN</td>\n      <td>1.0</td>\n      <td>20210626.0</td>\n      <td>unknown</td>\n      <td>NaN</td>\n      <td>NaN</td>\n      <td>3.0</td>\n      <td>0.0</td>\n      <td>0.0</td>\n    </tr>\n  </tbody>\n</table>\n<p>2503 rows × 45 columns</p>\n</div>"
     },
     "execution_count": 65,
     "metadata": {},
     "output_type": "execute_result"
    }
   ],
   "source": [
    "binary_outcomes"
   ],
   "metadata": {
    "collapsed": false,
    "ExecuteTime": {
     "end_time": "2023-11-27T14:33:31.319633Z",
     "start_time": "2023-11-27T14:33:31.306611Z"
    }
   },
   "id": "9f8507ff4cd7db5a"
  },
  {
   "cell_type": "code",
   "execution_count": null,
   "outputs": [],
   "source": [],
   "metadata": {
    "collapsed": false
   },
   "id": "115557ad8bee995f"
  }
 ],
 "metadata": {
  "kernelspec": {
   "display_name": "Python 3",
   "language": "python",
   "name": "python3"
  },
  "language_info": {
   "codemirror_mode": {
    "name": "ipython",
    "version": 2
   },
   "file_extension": ".py",
   "mimetype": "text/x-python",
   "name": "python",
   "nbconvert_exporter": "python",
   "pygments_lexer": "ipython2",
   "version": "2.7.6"
  }
 },
 "nbformat": 4,
 "nbformat_minor": 5
}
