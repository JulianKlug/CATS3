{
 "cells": [
  {
   "cell_type": "code",
   "execution_count": 2,
   "id": "initial_id",
   "metadata": {
    "collapsed": true,
    "ExecuteTime": {
     "end_time": "2023-11-27T10:09:12.271681Z",
     "start_time": "2023-11-27T10:09:06.380983Z"
    }
   },
   "outputs": [],
   "source": [
    "import numpy as np\n",
    "from tempor import plugin_loader"
   ]
  },
  {
   "cell_type": "code",
   "execution_count": 3,
   "outputs": [
    {
     "name": "stdout",
     "output_type": "stream",
     "text": [
      "{'prediction': {'one_off': {'classification': ['nn_classifier', 'cde_classifier', 'laplace_ode_classifier', 'ode_classifier'], 'regression': ['ode_regressor', 'nn_regressor', 'laplace_ode_regressor', 'cde_regressor']}, 'temporal': {'classification': ['seq2seq_classifier'], 'regression': ['seq2seq_regressor']}}, 'preprocessing': {'encoding': {'static': ['static_onehot_encoder'], 'temporal': ['ts_onehot_encoder']}, 'imputation': {'static': ['static_tabular_imputer'], 'temporal': ['bfill', 'ts_tabular_imputer', 'ffill']}, 'nop': ['nop_transformer'], 'scaling': {'static': ['static_standard_scaler', 'static_minmax_scaler'], 'temporal': ['ts_standard_scaler', 'ts_minmax_scaler']}}, 'time_to_event': ['ts_coxph', 'ts_xgb', 'dynamic_deephit'], 'treatments': {'one_off': {'regression': ['synctwin_regressor']}, 'temporal': {'classification': ['crn_classifier'], 'regression': ['crn_regressor']}}}\n"
     ]
    }
   ],
   "source": [
    "print(plugin_loader.list())"
   ],
   "metadata": {
    "collapsed": false,
    "ExecuteTime": {
     "end_time": "2023-11-27T10:09:12.278528Z",
     "start_time": "2023-11-27T10:09:12.273861Z"
    }
   },
   "id": "b396f05749d3a014"
  },
  {
   "cell_type": "code",
   "execution_count": 4,
   "outputs": [],
   "source": [
    "# Load a dataset with temporal treatments and outcomes:\n",
    "dataset = plugin_loader.get(\n",
    "    \"treatments.temporal.dummy_treatments\",\n",
    "    plugin_type=\"datasource\",\n",
    "    temporal_covariates_missing_prob=0.0,\n",
    "    temporal_treatments_n_features=1,\n",
    "    temporal_treatments_n_categories=2,\n",
    ").load()"
   ],
   "metadata": {
    "collapsed": false,
    "ExecuteTime": {
     "end_time": "2023-11-27T10:09:13.138388Z",
     "start_time": "2023-11-27T10:09:12.278906Z"
    }
   },
   "id": "b7f9faadd8853e0a"
  },
  {
   "cell_type": "code",
   "execution_count": 5,
   "outputs": [
    {
     "data": {
      "text/plain": "TemporalTreatmentEffectsDataset(\n    time_series=TimeSeriesSamples([100, *, 5]),\n    static=StaticSamples([100, 3]),\n    predictive=TemporalTreatmentEffectsTaskData(\n        targets=TimeSeriesSamples([100, *, 2]),\n        treatments=TimeSeriesSamples([100, *, 1])\n    )\n)"
     },
     "execution_count": 5,
     "metadata": {},
     "output_type": "execute_result"
    }
   ],
   "source": [
    "dataset"
   ],
   "metadata": {
    "collapsed": false,
    "ExecuteTime": {
     "end_time": "2023-11-27T10:09:13.153943Z",
     "start_time": "2023-11-27T10:09:13.143071Z"
    }
   },
   "id": "bd59b955aea3149"
  },
  {
   "cell_type": "code",
   "execution_count": 6,
   "outputs": [
    {
     "data": {
      "text/plain": "TimeSeriesSamples with data:\n                             0          1          2          3          4\nsample_idx time_idx                                                       \n0          0          0.419045   0.893763   0.780285   0.660508   1.047522\n           1          1.257931   2.172271   2.226089   2.360713   1.981578\n           2          2.247657   0.853397   2.525946   3.213647   2.897191\n           3          3.396456   5.386071   3.721545   2.503248   3.517212\n           4          4.387812   3.365264   5.612532   5.573375   4.767746\n...                        ...        ...        ...        ...        ...\n99         12        12.654769  14.810888  12.914859  11.697631  12.818675\n           13        13.418815  12.135655  12.481295  13.336797  13.696168\n           14        13.785503  14.431228  15.193174  17.551818  14.464249\n           15        15.344934  15.916966  14.368132  15.965113  15.419334\n           16        16.033907  15.162631  17.338485  17.007235  17.034645\n\n[1547 rows x 5 columns]",
      "text/html": "<p><span style=\"font-family: monospace;\">TimeSeriesSamples</span> with data:</p><div>\n<style scoped>\n    .dataframe tbody tr th:only-of-type {\n        vertical-align: middle;\n    }\n\n    .dataframe tbody tr th {\n        vertical-align: top;\n    }\n\n    .dataframe thead th {\n        text-align: right;\n    }\n</style>\n<table border=\"1\" class=\"dataframe\">\n  <thead>\n    <tr style=\"text-align: right;\">\n      <th></th>\n      <th></th>\n      <th>0</th>\n      <th>1</th>\n      <th>2</th>\n      <th>3</th>\n      <th>4</th>\n    </tr>\n    <tr>\n      <th>sample_idx</th>\n      <th>time_idx</th>\n      <th></th>\n      <th></th>\n      <th></th>\n      <th></th>\n      <th></th>\n    </tr>\n  </thead>\n  <tbody>\n    <tr>\n      <th rowspan=\"5\" valign=\"top\">0</th>\n      <th>0</th>\n      <td>0.419045</td>\n      <td>0.893763</td>\n      <td>0.780285</td>\n      <td>0.660508</td>\n      <td>1.047522</td>\n    </tr>\n    <tr>\n      <th>1</th>\n      <td>1.257931</td>\n      <td>2.172271</td>\n      <td>2.226089</td>\n      <td>2.360713</td>\n      <td>1.981578</td>\n    </tr>\n    <tr>\n      <th>2</th>\n      <td>2.247657</td>\n      <td>0.853397</td>\n      <td>2.525946</td>\n      <td>3.213647</td>\n      <td>2.897191</td>\n    </tr>\n    <tr>\n      <th>3</th>\n      <td>3.396456</td>\n      <td>5.386071</td>\n      <td>3.721545</td>\n      <td>2.503248</td>\n      <td>3.517212</td>\n    </tr>\n    <tr>\n      <th>4</th>\n      <td>4.387812</td>\n      <td>3.365264</td>\n      <td>5.612532</td>\n      <td>5.573375</td>\n      <td>4.767746</td>\n    </tr>\n    <tr>\n      <th>...</th>\n      <th>...</th>\n      <td>...</td>\n      <td>...</td>\n      <td>...</td>\n      <td>...</td>\n      <td>...</td>\n    </tr>\n    <tr>\n      <th rowspan=\"5\" valign=\"top\">99</th>\n      <th>12</th>\n      <td>12.654769</td>\n      <td>14.810888</td>\n      <td>12.914859</td>\n      <td>11.697631</td>\n      <td>12.818675</td>\n    </tr>\n    <tr>\n      <th>13</th>\n      <td>13.418815</td>\n      <td>12.135655</td>\n      <td>12.481295</td>\n      <td>13.336797</td>\n      <td>13.696168</td>\n    </tr>\n    <tr>\n      <th>14</th>\n      <td>13.785503</td>\n      <td>14.431228</td>\n      <td>15.193174</td>\n      <td>17.551818</td>\n      <td>14.464249</td>\n    </tr>\n    <tr>\n      <th>15</th>\n      <td>15.344934</td>\n      <td>15.916966</td>\n      <td>14.368132</td>\n      <td>15.965113</td>\n      <td>15.419334</td>\n    </tr>\n    <tr>\n      <th>16</th>\n      <td>16.033907</td>\n      <td>15.162631</td>\n      <td>17.338485</td>\n      <td>17.007235</td>\n      <td>17.034645</td>\n    </tr>\n  </tbody>\n</table>\n<p>1547 rows × 5 columns</p>\n</div>"
     },
     "execution_count": 6,
     "metadata": {},
     "output_type": "execute_result"
    }
   ],
   "source": [
    "dataset.time_series"
   ],
   "metadata": {
    "collapsed": false,
    "ExecuteTime": {
     "end_time": "2023-11-27T10:09:13.166853Z",
     "start_time": "2023-11-27T10:09:13.155148Z"
    }
   },
   "id": "8dd5697259c8b78a"
  },
  {
   "cell_type": "code",
   "execution_count": 7,
   "outputs": [
    {
     "data": {
      "text/plain": "StaticSamples with data:\n                   0         1         2\nsample_idx                              \n0           0.753423  3.239284  0.995587\n1           0.829240  3.175298  0.770566\n2           0.674581  3.229741  1.302317\n3           0.584040  3.234011  1.594861\n4           0.501552  3.211027  0.639503\n...              ...       ...       ...\n95          0.680235  3.287749  0.705369\n96          0.788814  3.313229  1.318394\n97          0.589116  3.268607  1.646737\n98          0.551060  3.268599  0.998024\n99          0.716501  3.254501  1.047537\n\n[100 rows x 3 columns]",
      "text/html": "<p><span style=\"font-family: monospace;\">StaticSamples</span> with data:</p><div>\n<style scoped>\n    .dataframe tbody tr th:only-of-type {\n        vertical-align: middle;\n    }\n\n    .dataframe tbody tr th {\n        vertical-align: top;\n    }\n\n    .dataframe thead th {\n        text-align: right;\n    }\n</style>\n<table border=\"1\" class=\"dataframe\">\n  <thead>\n    <tr style=\"text-align: right;\">\n      <th></th>\n      <th>0</th>\n      <th>1</th>\n      <th>2</th>\n    </tr>\n    <tr>\n      <th>sample_idx</th>\n      <th></th>\n      <th></th>\n      <th></th>\n    </tr>\n  </thead>\n  <tbody>\n    <tr>\n      <th>0</th>\n      <td>0.753423</td>\n      <td>3.239284</td>\n      <td>0.995587</td>\n    </tr>\n    <tr>\n      <th>1</th>\n      <td>0.829240</td>\n      <td>3.175298</td>\n      <td>0.770566</td>\n    </tr>\n    <tr>\n      <th>2</th>\n      <td>0.674581</td>\n      <td>3.229741</td>\n      <td>1.302317</td>\n    </tr>\n    <tr>\n      <th>3</th>\n      <td>0.584040</td>\n      <td>3.234011</td>\n      <td>1.594861</td>\n    </tr>\n    <tr>\n      <th>4</th>\n      <td>0.501552</td>\n      <td>3.211027</td>\n      <td>0.639503</td>\n    </tr>\n    <tr>\n      <th>...</th>\n      <td>...</td>\n      <td>...</td>\n      <td>...</td>\n    </tr>\n    <tr>\n      <th>95</th>\n      <td>0.680235</td>\n      <td>3.287749</td>\n      <td>0.705369</td>\n    </tr>\n    <tr>\n      <th>96</th>\n      <td>0.788814</td>\n      <td>3.313229</td>\n      <td>1.318394</td>\n    </tr>\n    <tr>\n      <th>97</th>\n      <td>0.589116</td>\n      <td>3.268607</td>\n      <td>1.646737</td>\n    </tr>\n    <tr>\n      <th>98</th>\n      <td>0.551060</td>\n      <td>3.268599</td>\n      <td>0.998024</td>\n    </tr>\n    <tr>\n      <th>99</th>\n      <td>0.716501</td>\n      <td>3.254501</td>\n      <td>1.047537</td>\n    </tr>\n  </tbody>\n</table>\n<p>100 rows × 3 columns</p>\n</div>"
     },
     "execution_count": 7,
     "metadata": {},
     "output_type": "execute_result"
    }
   ],
   "source": [
    "dataset.static"
   ],
   "metadata": {
    "collapsed": false,
    "ExecuteTime": {
     "end_time": "2023-11-27T10:09:13.190807Z",
     "start_time": "2023-11-27T10:09:13.163257Z"
    }
   },
   "id": "b5b4c470e2e2d79a"
  },
  {
   "cell_type": "code",
   "execution_count": 8,
   "outputs": [
    {
     "data": {
      "text/plain": "TimeSeriesSamples with data:\n                     0\nsample_idx time_idx   \n0          0         1\n           1         0\n           2         1\n           3         0\n           4         0\n           5         1\n           6         1\n           7         1\n           8         1\n           9         0\n           10        1\n           11        0\n           12        1\n           13        1\n           14        0\n           15        0\n           16        0",
      "text/html": "<p><span style=\"font-family: monospace;\">TimeSeriesSamples</span> with data:</p><div>\n<style scoped>\n    .dataframe tbody tr th:only-of-type {\n        vertical-align: middle;\n    }\n\n    .dataframe tbody tr th {\n        vertical-align: top;\n    }\n\n    .dataframe thead th {\n        text-align: right;\n    }\n</style>\n<table border=\"1\" class=\"dataframe\">\n  <thead>\n    <tr style=\"text-align: right;\">\n      <th></th>\n      <th></th>\n      <th>0</th>\n    </tr>\n    <tr>\n      <th>sample_idx</th>\n      <th>time_idx</th>\n      <th></th>\n    </tr>\n  </thead>\n  <tbody>\n    <tr>\n      <th rowspan=\"17\" valign=\"top\">0</th>\n      <th>0</th>\n      <td>1</td>\n    </tr>\n    <tr>\n      <th>1</th>\n      <td>0</td>\n    </tr>\n    <tr>\n      <th>2</th>\n      <td>1</td>\n    </tr>\n    <tr>\n      <th>3</th>\n      <td>0</td>\n    </tr>\n    <tr>\n      <th>4</th>\n      <td>0</td>\n    </tr>\n    <tr>\n      <th>5</th>\n      <td>1</td>\n    </tr>\n    <tr>\n      <th>6</th>\n      <td>1</td>\n    </tr>\n    <tr>\n      <th>7</th>\n      <td>1</td>\n    </tr>\n    <tr>\n      <th>8</th>\n      <td>1</td>\n    </tr>\n    <tr>\n      <th>9</th>\n      <td>0</td>\n    </tr>\n    <tr>\n      <th>10</th>\n      <td>1</td>\n    </tr>\n    <tr>\n      <th>11</th>\n      <td>0</td>\n    </tr>\n    <tr>\n      <th>12</th>\n      <td>1</td>\n    </tr>\n    <tr>\n      <th>13</th>\n      <td>1</td>\n    </tr>\n    <tr>\n      <th>14</th>\n      <td>0</td>\n    </tr>\n    <tr>\n      <th>15</th>\n      <td>0</td>\n    </tr>\n    <tr>\n      <th>16</th>\n      <td>0</td>\n    </tr>\n  </tbody>\n</table>\n</div>"
     },
     "execution_count": 8,
     "metadata": {},
     "output_type": "execute_result"
    }
   ],
   "source": [
    "dataset.predictive.treatments[0]"
   ],
   "metadata": {
    "collapsed": false,
    "ExecuteTime": {
     "end_time": "2023-11-27T10:09:13.222769Z",
     "start_time": "2023-11-27T10:09:13.173128Z"
    }
   },
   "id": "f9de23071a37dd08"
  },
  {
   "cell_type": "code",
   "execution_count": 12,
   "outputs": [
    {
     "data": {
      "text/plain": "                            0         1\nsample_idx time_idx                    \n0          0        -1.433570  0.714861\n           1        -0.600733  2.744446\n           2         0.622874  1.816995\n           3         1.879785  4.981217\n           4         2.477957  5.932101\n...                       ...       ...\n6          2         0.514816  2.072122\n           3         1.443873  3.482707\n           4         2.444069  5.764491\n           5         3.585320  5.160905\n           6         4.506359  6.420430\n\n[100 rows x 2 columns]",
      "text/html": "<div>\n<style scoped>\n    .dataframe tbody tr th:only-of-type {\n        vertical-align: middle;\n    }\n\n    .dataframe tbody tr th {\n        vertical-align: top;\n    }\n\n    .dataframe thead th {\n        text-align: right;\n    }\n</style>\n<table border=\"1\" class=\"dataframe\">\n  <thead>\n    <tr style=\"text-align: right;\">\n      <th></th>\n      <th></th>\n      <th>0</th>\n      <th>1</th>\n    </tr>\n    <tr>\n      <th>sample_idx</th>\n      <th>time_idx</th>\n      <th></th>\n      <th></th>\n    </tr>\n  </thead>\n  <tbody>\n    <tr>\n      <th rowspan=\"5\" valign=\"top\">0</th>\n      <th>0</th>\n      <td>-1.433570</td>\n      <td>0.714861</td>\n    </tr>\n    <tr>\n      <th>1</th>\n      <td>-0.600733</td>\n      <td>2.744446</td>\n    </tr>\n    <tr>\n      <th>2</th>\n      <td>0.622874</td>\n      <td>1.816995</td>\n    </tr>\n    <tr>\n      <th>3</th>\n      <td>1.879785</td>\n      <td>4.981217</td>\n    </tr>\n    <tr>\n      <th>4</th>\n      <td>2.477957</td>\n      <td>5.932101</td>\n    </tr>\n    <tr>\n      <th>...</th>\n      <th>...</th>\n      <td>...</td>\n      <td>...</td>\n    </tr>\n    <tr>\n      <th rowspan=\"5\" valign=\"top\">6</th>\n      <th>2</th>\n      <td>0.514816</td>\n      <td>2.072122</td>\n    </tr>\n    <tr>\n      <th>3</th>\n      <td>1.443873</td>\n      <td>3.482707</td>\n    </tr>\n    <tr>\n      <th>4</th>\n      <td>2.444069</td>\n      <td>5.764491</td>\n    </tr>\n    <tr>\n      <th>5</th>\n      <td>3.585320</td>\n      <td>5.160905</td>\n    </tr>\n    <tr>\n      <th>6</th>\n      <td>4.506359</td>\n      <td>6.420430</td>\n    </tr>\n  </tbody>\n</table>\n<p>100 rows × 2 columns</p>\n</div>"
     },
     "execution_count": 12,
     "metadata": {},
     "output_type": "execute_result"
    }
   ],
   "source": [
    "dataset.predictive.targets.dataframe().head(100)"
   ],
   "metadata": {
    "collapsed": false,
    "ExecuteTime": {
     "end_time": "2023-11-27T10:09:35.675850Z",
     "start_time": "2023-11-27T10:09:35.662816Z"
    }
   },
   "id": "c752716654dcf19e"
  },
  {
   "cell_type": "code",
   "execution_count": 10,
   "outputs": [],
   "source": [
    "# Initialize the model:\n",
    "model = plugin_loader.get(\"treatments.temporal.regression.crn_regressor\", epochs=20)"
   ],
   "metadata": {
    "collapsed": false,
    "ExecuteTime": {
     "end_time": "2023-11-14T09:51:47.242733Z",
     "start_time": "2023-11-14T09:51:47.093188Z"
    }
   },
   "id": "b937e5e027cf6930"
  },
  {
   "cell_type": "code",
   "execution_count": 11,
   "outputs": [
    {
     "name": "stdout",
     "output_type": "stream",
     "text": [
      "Preparing data for decoder training...\n",
      "Preparing data for decoder training DONE.\n",
      "=== Training stage: 1. Train encoder ===\n",
      "Epoch: 0, Prediction Loss: 76.517, Lambda: 1.000, Treatment BR Loss: 0.000, Loss: 76.517\n",
      "Epoch: 1, Prediction Loss: 38.771, Lambda: 1.000, Treatment BR Loss: 0.000, Loss: 38.771\n",
      "Epoch: 2, Prediction Loss: 20.237, Lambda: 1.000, Treatment BR Loss: 0.000, Loss: 20.237\n",
      "Epoch: 3, Prediction Loss: 15.108, Lambda: 1.000, Treatment BR Loss: 0.000, Loss: 15.108\n",
      "Epoch: 4, Prediction Loss: 15.413, Lambda: 1.000, Treatment BR Loss: 0.000, Loss: 15.413\n",
      "Epoch: 5, Prediction Loss: 13.845, Lambda: 1.000, Treatment BR Loss: 0.000, Loss: 13.845\n",
      "Epoch: 6, Prediction Loss: 10.080, Lambda: 1.000, Treatment BR Loss: 0.000, Loss: 10.080\n",
      "Epoch: 7, Prediction Loss: 6.351, Lambda: 1.000, Treatment BR Loss: 0.000, Loss: 6.351\n",
      "Epoch: 8, Prediction Loss: 4.483, Lambda: 1.000, Treatment BR Loss: 0.000, Loss: 4.483\n",
      "Epoch: 9, Prediction Loss: 3.182, Lambda: 1.000, Treatment BR Loss: 0.000, Loss: 3.182\n",
      "Epoch: 10, Prediction Loss: 2.037, Lambda: 1.000, Treatment BR Loss: 0.000, Loss: 2.037\n",
      "Epoch: 11, Prediction Loss: 1.300, Lambda: 1.000, Treatment BR Loss: 0.000, Loss: 1.300\n",
      "Epoch: 12, Prediction Loss: 0.934, Lambda: 1.000, Treatment BR Loss: 0.000, Loss: 0.934\n",
      "Epoch: 13, Prediction Loss: 0.757, Lambda: 1.000, Treatment BR Loss: 0.000, Loss: 0.757\n",
      "Epoch: 14, Prediction Loss: 0.643, Lambda: 1.000, Treatment BR Loss: 0.000, Loss: 0.643\n",
      "Epoch: 15, Prediction Loss: 0.531, Lambda: 1.000, Treatment BR Loss: 0.000, Loss: 0.531\n",
      "Epoch: 16, Prediction Loss: 0.472, Lambda: 1.000, Treatment BR Loss: 0.000, Loss: 0.472\n",
      "Epoch: 17, Prediction Loss: 0.442, Lambda: 1.000, Treatment BR Loss: 0.000, Loss: 0.442\n",
      "Epoch: 18, Prediction Loss: 0.446, Lambda: 1.000, Treatment BR Loss: 0.000, Loss: 0.446\n",
      "Epoch: 19, Prediction Loss: 0.398, Lambda: 1.000, Treatment BR Loss: 0.000, Loss: 0.398\n",
      "=== Training stage: 2. Train decoder ===\n",
      "Epoch: 0, Prediction Loss: 32.031, Lambda: 1.000, Treatment BR Loss: 0.000, Loss: 32.031\n",
      "Epoch: 1, Prediction Loss: 1.810, Lambda: 1.000, Treatment BR Loss: 0.000, Loss: 1.810\n",
      "Epoch: 2, Prediction Loss: 0.560, Lambda: 1.000, Treatment BR Loss: 0.000, Loss: 0.560\n",
      "Epoch: 3, Prediction Loss: 0.417, Lambda: 1.000, Treatment BR Loss: 0.000, Loss: 0.417\n",
      "Epoch: 4, Prediction Loss: 0.362, Lambda: 1.000, Treatment BR Loss: 0.000, Loss: 0.362\n",
      "Epoch: 5, Prediction Loss: 0.331, Lambda: 1.000, Treatment BR Loss: 0.000, Loss: 0.331\n",
      "Epoch: 6, Prediction Loss: 0.331, Lambda: 1.000, Treatment BR Loss: 0.000, Loss: 0.331\n",
      "Epoch: 7, Prediction Loss: 0.345, Lambda: 1.000, Treatment BR Loss: 0.000, Loss: 0.345\n",
      "Epoch: 8, Prediction Loss: 0.325, Lambda: 1.000, Treatment BR Loss: 0.000, Loss: 0.325\n",
      "Epoch: 9, Prediction Loss: 0.345, Lambda: 1.000, Treatment BR Loss: 0.000, Loss: 0.345\n",
      "Epoch: 10, Prediction Loss: 0.343, Lambda: 1.000, Treatment BR Loss: 0.000, Loss: 0.343\n",
      "Epoch: 11, Prediction Loss: 0.313, Lambda: 1.000, Treatment BR Loss: 0.000, Loss: 0.313\n",
      "Epoch: 12, Prediction Loss: 0.353, Lambda: 1.000, Treatment BR Loss: 0.000, Loss: 0.353\n",
      "Epoch: 13, Prediction Loss: 0.363, Lambda: 1.000, Treatment BR Loss: 0.000, Loss: 0.363\n",
      "Epoch: 14, Prediction Loss: 0.368, Lambda: 1.000, Treatment BR Loss: 0.000, Loss: 0.368\n",
      "Epoch: 15, Prediction Loss: 0.349, Lambda: 1.000, Treatment BR Loss: 0.000, Loss: 0.349\n",
      "Epoch: 16, Prediction Loss: 0.346, Lambda: 1.000, Treatment BR Loss: 0.000, Loss: 0.346\n",
      "Epoch: 17, Prediction Loss: 0.345, Lambda: 1.000, Treatment BR Loss: 0.000, Loss: 0.345\n",
      "Epoch: 18, Prediction Loss: 0.364, Lambda: 1.000, Treatment BR Loss: 0.000, Loss: 0.364\n",
      "Epoch: 19, Prediction Loss: 0.328, Lambda: 1.000, Treatment BR Loss: 0.000, Loss: 0.328\n"
     ]
    },
    {
     "data": {
      "text/plain": "CRNTreatmentsRegressor(\n    name='crn_regressor',\n    category='treatments.temporal.regression',\n    plugin_type='method',\n    params={\n        'encoder_rnn_type': 'LSTM',\n        'encoder_hidden_size': 100,\n        'encoder_num_layers': 1,\n        'encoder_bias': True,\n        'encoder_dropout': 0.0,\n        'encoder_bidirectional': False,\n        'encoder_nonlinearity': None,\n        'encoder_proj_size': None,\n        'decoder_rnn_type': 'LSTM',\n        'decoder_hidden_size': 100,\n        'decoder_num_layers': 1,\n        'decoder_bias': True,\n        'decoder_dropout': 0.0,\n        'decoder_bidirectional': False,\n        'decoder_nonlinearity': None,\n        'decoder_proj_size': None,\n        'adapter_hidden_dims': [50],\n        'adapter_out_activation': 'Tanh',\n        'predictor_hidden_dims': [],\n        'predictor_out_activation': None,\n        'max_len': None,\n        'optimizer_str': 'Adam',\n        'optimizer_kwargs': {'lr': 0.01, 'weight_decay': 1e-05},\n        'batch_size': 32,\n        'epochs': 20,\n        'padding_indicator': -999.0\n    }\n)"
     },
     "execution_count": 11,
     "metadata": {},
     "output_type": "execute_result"
    }
   ],
   "source": [
    "# Train:\n",
    "model.fit(dataset)"
   ],
   "metadata": {
    "collapsed": false,
    "ExecuteTime": {
     "end_time": "2023-11-14T09:52:35.584148Z",
     "start_time": "2023-11-14T09:51:47.127850Z"
    }
   },
   "id": "b44f26a520b4c961"
  },
  {
   "cell_type": "code",
   "execution_count": 13,
   "outputs": [],
   "source": [
    "dataset = dataset[:5]"
   ],
   "metadata": {
    "collapsed": false,
    "ExecuteTime": {
     "end_time": "2023-11-14T09:53:11.713092Z",
     "start_time": "2023-11-14T09:53:10.643726Z"
    }
   },
   "id": "cd99d5daee218e2c"
  },
  {
   "cell_type": "code",
   "execution_count": 15,
   "outputs": [
    {
     "name": "stdout",
     "output_type": "stream",
     "text": [
      "Horizons for sample 0:\n",
      " [8, 9, 10, 11, 12, 13, 14, 15, 16]\n"
     ]
    }
   ],
   "source": [
    "# Define horizons for each sample.\n",
    "horizons = [tc.time_indexes()[0][len(tc.time_indexes()[0]) // 2 :] for tc in dataset.time_series]\n",
    "print(\"Horizons for sample 0:\\n\", horizons[0], end=\"\\n\\n\")"
   ],
   "metadata": {
    "collapsed": false,
    "ExecuteTime": {
     "end_time": "2023-11-14T09:53:20.553954Z",
     "start_time": "2023-11-14T09:53:20.544694Z"
    }
   },
   "id": "ee4b5a2d716a82ca"
  },
  {
   "cell_type": "code",
   "execution_count": 21,
   "outputs": [
    {
     "data": {
      "text/plain": "[0, 1, 2, 3, 4, 5, 6, 7, 8, 9, 10, 11, 12, 13, 14, 15, 16]"
     },
     "execution_count": 21,
     "metadata": {},
     "output_type": "execute_result"
    }
   ],
   "source": [
    "dataset.time_series[0].time_indexes()[0]"
   ],
   "metadata": {
    "collapsed": false,
    "ExecuteTime": {
     "end_time": "2023-11-14T10:26:15.006541Z",
     "start_time": "2023-11-14T10:26:14.943586Z"
    }
   },
   "id": "bb8f92fe398b7e61"
  },
  {
   "cell_type": "code",
   "execution_count": 35,
   "outputs": [
    {
     "name": "stdout",
     "output_type": "stream",
     "text": [
      "Alternative treatment scenarios for sample 0:\n",
      " [array([2, 2, 2, 2, 2, 2, 2, 2, 2]), array([0, 0, 0, 0, 0, 0, 0, 0, 0])]\n"
     ]
    }
   ],
   "source": [
    "# Define treatment scenarios for each sample.\n",
    "treatment_scenarios = [[np.asarray([2] * len(h)), np.asarray([0] * len(h))] for h in horizons]\n",
    "print(\"Alternative treatment scenarios for sample 0:\\n\", treatment_scenarios[0], end=\"\\n\\n\")\n"
   ],
   "metadata": {
    "collapsed": false,
    "ExecuteTime": {
     "end_time": "2023-11-14T12:23:16.744197Z",
     "start_time": "2023-11-14T12:23:16.734327Z"
    }
   },
   "id": "5234c703b1932a9"
  },
  {
   "cell_type": "code",
   "execution_count": 36,
   "outputs": [
    {
     "name": "stdout",
     "output_type": "stream",
     "text": [
      "Counterfactual outcomes for sample 0, given the alternative treatment scenarios:\n",
      "\n",
      "Treatment scenario 0, [2 2 2 2 2 2 2 2 2]\n",
      "TimeSeries() with data:\n",
      "                 0          1\n",
      "time_idx                     \n",
      "8         7.623644  10.405146\n",
      "9         7.915308  10.677928\n",
      "10        7.957008  10.714924\n",
      "11        7.962815  10.720039\n",
      "12        7.963622  10.720748\n",
      "13        7.963733  10.720847\n",
      "14        7.963748  10.720860\n",
      "15        7.963750  10.720861\n",
      "16        7.963750  10.720861\n",
      "\n",
      "Treatment scenario 1, [0 0 0 0 0 0 0 0 0]\n",
      "TimeSeries() with data:\n",
      "                 0          1\n",
      "time_idx                     \n",
      "8         7.578797  10.197225\n",
      "9         7.860027  10.441121\n",
      "10        7.902677  10.479163\n",
      "11        7.909140  10.484888\n",
      "12        7.910116  10.485751\n",
      "13        7.910263  10.485883\n",
      "14        7.910285  10.485902\n",
      "15        7.910288  10.485904\n",
      "16        7.910289  10.485906\n"
     ]
    }
   ],
   "source": [
    "# Call predict_counterfactuals.\n",
    "counterfactuals = model.predict_counterfactuals(dataset, horizons=horizons, treatment_scenarios=treatment_scenarios)\n",
    "print(\"Counterfactual outcomes for sample 0, given the alternative treatment scenarios:\\n\")\n",
    "for idx, c in enumerate(counterfactuals[0]):\n",
    "    print(f\"Treatment scenario {idx}, {treatment_scenarios[0][idx]}\")\n",
    "    print(c, end=\"\\n\\n\")"
   ],
   "metadata": {
    "collapsed": false,
    "ExecuteTime": {
     "end_time": "2023-11-14T12:23:18.512919Z",
     "start_time": "2023-11-14T12:23:18.110159Z"
    }
   },
   "id": "7e45f07ac2bc58b3"
  },
  {
   "cell_type": "code",
   "execution_count": 12,
   "outputs": [
    {
     "data": {
      "text/plain": "TimeSeries() with data:\n                 0          1\ntime_idx                     \n8         7.470183  10.196918\n9         7.948002  10.625115\n10        8.118283  10.779013\n11        8.181903  10.836723\n12        8.206075  10.858680\n13        8.215317  10.867080\n14        8.218859  10.870299\n15        8.220217  10.871533\n16        8.220738  10.872007",
      "text/html": "<p><span style=\"font-family: monospace;\">TimeSeries()</span> with data:</p><div>\n<style scoped>\n    .dataframe tbody tr th:only-of-type {\n        vertical-align: middle;\n    }\n\n    .dataframe tbody tr th {\n        vertical-align: top;\n    }\n\n    .dataframe thead th {\n        text-align: right;\n    }\n</style>\n<table border=\"1\" class=\"dataframe\">\n  <thead>\n    <tr style=\"text-align: right;\">\n      <th></th>\n      <th>0</th>\n      <th>1</th>\n    </tr>\n    <tr>\n      <th>time_idx</th>\n      <th></th>\n      <th></th>\n    </tr>\n  </thead>\n  <tbody>\n    <tr>\n      <th>8</th>\n      <td>7.470183</td>\n      <td>10.196918</td>\n    </tr>\n    <tr>\n      <th>9</th>\n      <td>7.948002</td>\n      <td>10.625115</td>\n    </tr>\n    <tr>\n      <th>10</th>\n      <td>8.118283</td>\n      <td>10.779013</td>\n    </tr>\n    <tr>\n      <th>11</th>\n      <td>8.181903</td>\n      <td>10.836723</td>\n    </tr>\n    <tr>\n      <th>12</th>\n      <td>8.206075</td>\n      <td>10.858680</td>\n    </tr>\n    <tr>\n      <th>13</th>\n      <td>8.215317</td>\n      <td>10.867080</td>\n    </tr>\n    <tr>\n      <th>14</th>\n      <td>8.218859</td>\n      <td>10.870299</td>\n    </tr>\n    <tr>\n      <th>15</th>\n      <td>8.220217</td>\n      <td>10.871533</td>\n    </tr>\n    <tr>\n      <th>16</th>\n      <td>8.220738</td>\n      <td>10.872007</td>\n    </tr>\n  </tbody>\n</table>\n</div>"
     },
     "execution_count": 12,
     "metadata": {},
     "output_type": "execute_result"
    }
   ],
   "source": [
    "counterfactuals[0][0]"
   ],
   "metadata": {
    "collapsed": false,
    "ExecuteTime": {
     "end_time": "2023-11-12T18:56:55.240450Z",
     "start_time": "2023-11-12T18:56:55.223504Z"
    }
   },
   "id": "ebcc0522a22953"
  },
  {
   "cell_type": "code",
   "execution_count": null,
   "outputs": [],
   "source": [],
   "metadata": {
    "collapsed": false,
    "ExecuteTime": {
     "end_time": "2023-11-11T17:05:05.465869Z",
     "start_time": "2023-11-11T17:05:05.427721Z"
    }
   },
   "id": "8d550c2efd5b991e"
  }
 ],
 "metadata": {
  "kernelspec": {
   "display_name": "Python 3",
   "language": "python",
   "name": "python3"
  },
  "language_info": {
   "codemirror_mode": {
    "name": "ipython",
    "version": 2
   },
   "file_extension": ".py",
   "mimetype": "text/x-python",
   "name": "python",
   "nbconvert_exporter": "python",
   "pygments_lexer": "ipython2",
   "version": "2.7.6"
  }
 },
 "nbformat": 4,
 "nbformat_minor": 5
}
