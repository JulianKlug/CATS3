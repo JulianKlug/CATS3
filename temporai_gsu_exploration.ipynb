{
 "cells": [
  {
   "cell_type": "code",
   "execution_count": 24,
   "id": "initial_id",
   "metadata": {
    "collapsed": true,
    "ExecuteTime": {
     "end_time": "2023-11-27T11:20:16.320695Z",
     "start_time": "2023-11-27T11:20:16.307868Z"
    }
   },
   "outputs": [],
   "source": [
    "from tempor import plugin_loader\n",
    "from data_loaders.temporAI_dataloader import load_gsu_dataset\n",
    "import numpy as np"
   ]
  },
  {
   "cell_type": "code",
   "execution_count": 14,
   "outputs": [],
   "source": [
    "data_path = '/Users/jk1/temp/treatment_effects/prepro_test/gsu_Extraction_20220815_prepro_25112023_213851/preprocessed_features_25112023_213851.csv'\n",
    "continuous_outcomes_path = '/Users/jk1/temp/treatment_effects/prepro_test/gsu_Extraction_20220815_prepro_25112023_213851/preprocessed_outcomes_continuous_25112023_213851.csv'"
   ],
   "metadata": {
    "collapsed": false,
    "ExecuteTime": {
     "end_time": "2023-11-27T11:15:10.739753Z",
     "start_time": "2023-11-27T11:15:10.723266Z"
    }
   },
   "id": "d815d8415c81615"
  },
  {
   "cell_type": "markdown",
   "source": [
    "# Load GSU dataset"
   ],
   "metadata": {
    "collapsed": false
   },
   "id": "57813be4c235473f"
  },
  {
   "cell_type": "code",
   "execution_count": 15,
   "outputs": [],
   "source": [
    "gsu_dataset = load_gsu_dataset(data_path, continuous_outcomes_path)"
   ],
   "metadata": {
    "collapsed": false,
    "ExecuteTime": {
     "end_time": "2023-11-27T11:15:44.820698Z",
     "start_time": "2023-11-27T11:15:11.229042Z"
    }
   },
   "id": "2845c18ba577e561"
  },
  {
   "cell_type": "code",
   "execution_count": 16,
   "outputs": [
    {
     "data": {
      "text/plain": "TemporalTreatmentEffectsDataset(\n    time_series=TimeSeriesSamples([2493, *, 84]),\n    predictive=TemporalTreatmentEffectsTaskData(\n        targets=TimeSeriesSamples([2493, *, 1]),\n        treatments=TimeSeriesSamples([2493, *, 1])\n    )\n)"
     },
     "execution_count": 16,
     "metadata": {},
     "output_type": "execute_result"
    }
   ],
   "source": [
    "gsu_dataset"
   ],
   "metadata": {
    "collapsed": false,
    "ExecuteTime": {
     "end_time": "2023-11-27T11:15:44.893182Z",
     "start_time": "2023-11-27T11:15:44.835009Z"
    }
   },
   "id": "db79d65339112bd6"
  },
  {
   "cell_type": "markdown",
   "source": [
    "## Explore model"
   ],
   "metadata": {
    "collapsed": false
   },
   "id": "3344716f999d17be"
  },
  {
   "cell_type": "code",
   "execution_count": 19,
   "outputs": [],
   "source": [
    "temp_dataset = gsu_dataset[0:2]"
   ],
   "metadata": {
    "collapsed": false,
    "ExecuteTime": {
     "end_time": "2023-11-27T11:16:16.352927Z",
     "start_time": "2023-11-27T11:16:14.106768Z"
    }
   },
   "id": "567539ac1edb271"
  },
  {
   "cell_type": "code",
   "execution_count": 20,
   "outputs": [],
   "source": [
    "# Initialize the model:\n",
    "model = plugin_loader.get(\"treatments.temporal.regression.crn_regressor\", epochs=1)"
   ],
   "metadata": {
    "collapsed": false,
    "ExecuteTime": {
     "end_time": "2023-11-27T11:16:20.247815Z",
     "start_time": "2023-11-27T11:16:20.243253Z"
    }
   },
   "id": "566e097e9e9e94a3"
  },
  {
   "cell_type": "code",
   "execution_count": 21,
   "outputs": [
    {
     "name": "stdout",
     "output_type": "stream",
     "text": [
      "Preparing data for decoder training...\n",
      "Preparing data for decoder training DONE.\n",
      "=== Training stage: 1. Train encoder ===\n",
      "Epoch: 0, Prediction Loss: 0.055, Lambda: 1.000, Treatment BR Loss: 0.000, Loss: 0.055\n",
      "=== Training stage: 2. Train decoder ===\n",
      "Epoch: 0, Prediction Loss: 0.099, Lambda: 1.000, Treatment BR Loss: 0.000, Loss: 0.099\n"
     ]
    },
    {
     "data": {
      "text/plain": "CRNTreatmentsRegressor(\n    name='crn_regressor',\n    category='treatments.temporal.regression',\n    plugin_type='method',\n    params={\n        'encoder_rnn_type': 'LSTM',\n        'encoder_hidden_size': 100,\n        'encoder_num_layers': 1,\n        'encoder_bias': True,\n        'encoder_dropout': 0.0,\n        'encoder_bidirectional': False,\n        'encoder_nonlinearity': None,\n        'encoder_proj_size': None,\n        'decoder_rnn_type': 'LSTM',\n        'decoder_hidden_size': 100,\n        'decoder_num_layers': 1,\n        'decoder_bias': True,\n        'decoder_dropout': 0.0,\n        'decoder_bidirectional': False,\n        'decoder_nonlinearity': None,\n        'decoder_proj_size': None,\n        'adapter_hidden_dims': [50],\n        'adapter_out_activation': 'Tanh',\n        'predictor_hidden_dims': [],\n        'predictor_out_activation': None,\n        'max_len': None,\n        'optimizer_str': 'Adam',\n        'optimizer_kwargs': {'lr': 0.01, 'weight_decay': 1e-05},\n        'batch_size': 32,\n        'epochs': 1,\n        'padding_indicator': -999.0\n    }\n)"
     },
     "execution_count": 21,
     "metadata": {},
     "output_type": "execute_result"
    }
   ],
   "source": [
    "# Train the model:\n",
    "model.fit(temp_dataset)"
   ],
   "metadata": {
    "collapsed": false,
    "ExecuteTime": {
     "end_time": "2023-11-27T11:17:22.109655Z",
     "start_time": "2023-11-27T11:16:20.482458Z"
    }
   },
   "id": "e62d285db81dd554"
  },
  {
   "cell_type": "code",
   "execution_count": 23,
   "outputs": [
    {
     "name": "stdout",
     "output_type": "stream",
     "text": [
      "Horizons for sample 0:\n",
      " [35, 36, 37, 38, 39, 40, 41, 42, 43, 44, 45, 46, 47, 48, 49, 50, 51, 52, 53, 54, 55, 56, 57, 58, 59, 60, 61, 62, 63, 64, 65, 66, 67, 68, 69, 70]\n"
     ]
    }
   ],
   "source": [
    "# Define horizons for each sample.\n",
    "horizons = [tc.time_indexes()[0][len(tc.time_indexes()[0]) // 2 :] for tc in temp_dataset.time_series]\n",
    "print(\"Horizons for sample 0:\\n\", horizons[0], end=\"\\n\\n\")"
   ],
   "metadata": {
    "collapsed": false,
    "ExecuteTime": {
     "end_time": "2023-11-27T11:19:10.141540Z",
     "start_time": "2023-11-27T11:19:10.129957Z"
    }
   },
   "id": "781a497dbf2ab0ac"
  },
  {
   "cell_type": "code",
   "execution_count": 25,
   "outputs": [
    {
     "name": "stdout",
     "output_type": "stream",
     "text": [
      "Alternative treatment scenarios for sample 0:\n",
      " [array([2, 2, 2, 2, 2, 2, 2, 2, 2, 2, 2, 2, 2, 2, 2, 2, 2, 2, 2, 2, 2, 2,\n",
      "       2, 2, 2, 2, 2, 2, 2, 2, 2, 2, 2, 2, 2, 2]), array([0, 0, 0, 0, 0, 0, 0, 0, 0, 0, 0, 0, 0, 0, 0, 0, 0, 0, 0, 0, 0, 0,\n",
      "       0, 0, 0, 0, 0, 0, 0, 0, 0, 0, 0, 0, 0, 0])]\n"
     ]
    }
   ],
   "source": [
    "# Define treatment scenarios for each sample.\n",
    "treatment_scenarios = [[np.asarray([2] * len(h)), np.asarray([0] * len(h))] for h in horizons]\n",
    "print(\"Alternative treatment scenarios for sample 0:\\n\", treatment_scenarios[0], end=\"\\n\\n\")"
   ],
   "metadata": {
    "collapsed": false,
    "ExecuteTime": {
     "end_time": "2023-11-27T11:20:20.335950Z",
     "start_time": "2023-11-27T11:20:20.328603Z"
    }
   },
   "id": "29225dd143e58dcd"
  },
  {
   "cell_type": "code",
   "execution_count": 41,
   "outputs": [
    {
     "data": {
      "text/plain": "TimeSeriesSamples with data:\n                      anti_hypertensive_strategy\nsample_idx  time_idx                            \n100023_4784 0                                4.0\n            1                                4.0\n            2                                4.0\n            3                                4.0\n            4                                4.0\n...                                          ...\n            66                               0.0\n            67                               0.0\n            68                               0.0\n            69                               0.0\n            70                               0.0\n\n[71 rows x 1 columns]",
      "text/html": "<p><span style=\"font-family: monospace;\">TimeSeriesSamples</span> with data:</p><div>\n<style scoped>\n    .dataframe tbody tr th:only-of-type {\n        vertical-align: middle;\n    }\n\n    .dataframe tbody tr th {\n        vertical-align: top;\n    }\n\n    .dataframe thead th {\n        text-align: right;\n    }\n</style>\n<table border=\"1\" class=\"dataframe\">\n  <thead>\n    <tr style=\"text-align: right;\">\n      <th></th>\n      <th></th>\n      <th>anti_hypertensive_strategy</th>\n    </tr>\n    <tr>\n      <th>sample_idx</th>\n      <th>time_idx</th>\n      <th></th>\n    </tr>\n  </thead>\n  <tbody>\n    <tr>\n      <th rowspan=\"11\" valign=\"top\">100023_4784</th>\n      <th>0</th>\n      <td>4.0</td>\n    </tr>\n    <tr>\n      <th>1</th>\n      <td>4.0</td>\n    </tr>\n    <tr>\n      <th>2</th>\n      <td>4.0</td>\n    </tr>\n    <tr>\n      <th>3</th>\n      <td>4.0</td>\n    </tr>\n    <tr>\n      <th>4</th>\n      <td>4.0</td>\n    </tr>\n    <tr>\n      <th>...</th>\n      <td>...</td>\n    </tr>\n    <tr>\n      <th>66</th>\n      <td>0.0</td>\n    </tr>\n    <tr>\n      <th>67</th>\n      <td>0.0</td>\n    </tr>\n    <tr>\n      <th>68</th>\n      <td>0.0</td>\n    </tr>\n    <tr>\n      <th>69</th>\n      <td>0.0</td>\n    </tr>\n    <tr>\n      <th>70</th>\n      <td>0.0</td>\n    </tr>\n  </tbody>\n</table>\n<p>71 rows × 1 columns</p>\n</div>"
     },
     "execution_count": 41,
     "metadata": {},
     "output_type": "execute_result"
    }
   ],
   "source": [
    "# Actual treatment scenarios for sample 0:\n",
    "temp_dataset.predictive.treatments[0]"
   ],
   "metadata": {
    "collapsed": false,
    "ExecuteTime": {
     "end_time": "2023-11-27T11:28:20.273203Z",
     "start_time": "2023-11-27T11:28:20.266133Z"
    }
   },
   "id": "12d5b4d1280120c4"
  },
  {
   "cell_type": "code",
   "execution_count": 42,
   "outputs": [],
   "source": [
    "# Call predict_counterfactuals.\n",
    "counterfactuals = model.predict_counterfactuals(temp_dataset, horizons=horizons, treatment_scenarios=treatment_scenarios)"
   ],
   "metadata": {
    "collapsed": false,
    "ExecuteTime": {
     "end_time": "2023-11-27T11:29:05.526108Z",
     "start_time": "2023-11-27T11:29:05.325907Z"
    }
   },
   "id": "78f0dcf48124e350"
  },
  {
   "cell_type": "code",
   "execution_count": 43,
   "outputs": [
    {
     "name": "stdout",
     "output_type": "stream",
     "text": [
      "Counterfactual outcomes for sample 0, given the alternative treatment scenarios:\n",
      "\n",
      "Treatment scenario 0, [2 2 2 2 2 2 2 2 2 2 2 2 2 2 2 2 2 2 2 2 2 2 2 2 2 2 2 2 2 2 2 2 2 2 2 2]\n",
      "TimeSeries() with data:\n",
      "          nihss_delta_at_next_ts\n",
      "time_idx                        \n",
      "35                      0.061641\n",
      "36                      0.055852\n",
      "37                      0.055918\n",
      "38                      0.055917\n",
      "39                      0.055917\n",
      "40                      0.055917\n",
      "41                      0.055917\n",
      "42                      0.055917\n",
      "43                      0.055917\n",
      "44                      0.055917\n",
      "45                      0.055917\n",
      "46                      0.055917\n",
      "47                      0.055917\n",
      "48                      0.055917\n",
      "49                      0.055917\n",
      "50                      0.055917\n",
      "51                      0.055917\n",
      "52                      0.055917\n",
      "53                      0.055917\n",
      "54                      0.055917\n",
      "55                      0.055917\n",
      "56                      0.055917\n",
      "57                      0.055917\n",
      "58                      0.055917\n",
      "59                      0.055917\n",
      "60                      0.055917\n",
      "61                      0.055917\n",
      "62                      0.055917\n",
      "63                      0.055917\n",
      "64                      0.055917\n",
      "65                      0.055917\n",
      "66                      0.055917\n",
      "67                      0.055917\n",
      "68                      0.055917\n",
      "69                      0.055917\n",
      "70                      0.055917\n",
      "\n",
      "Treatment scenario 1, [0 0 0 0 0 0 0 0 0 0 0 0 0 0 0 0 0 0 0 0 0 0 0 0 0 0 0 0 0 0 0 0 0 0 0 0]\n",
      "TimeSeries() with data:\n",
      "          nihss_delta_at_next_ts\n",
      "time_idx                        \n",
      "35                      0.002946\n",
      "36                     -0.010522\n",
      "37                     -0.010370\n",
      "38                     -0.010372\n",
      "39                     -0.010372\n",
      "40                     -0.010372\n",
      "41                     -0.010372\n",
      "42                     -0.010372\n",
      "43                     -0.010372\n",
      "44                     -0.010372\n",
      "45                     -0.010372\n",
      "46                     -0.010372\n",
      "47                     -0.010372\n",
      "48                     -0.010372\n",
      "49                     -0.010372\n",
      "50                     -0.010372\n",
      "51                     -0.010372\n",
      "52                     -0.010372\n",
      "53                     -0.010372\n",
      "54                     -0.010372\n",
      "55                     -0.010372\n",
      "56                     -0.010372\n",
      "57                     -0.010372\n",
      "58                     -0.010372\n",
      "59                     -0.010372\n",
      "60                     -0.010372\n",
      "61                     -0.010372\n",
      "62                     -0.010372\n",
      "63                     -0.010372\n",
      "64                     -0.010372\n",
      "65                     -0.010372\n",
      "66                     -0.010372\n",
      "67                     -0.010372\n",
      "68                     -0.010372\n",
      "69                     -0.010372\n",
      "70                     -0.010372\n"
     ]
    }
   ],
   "source": [
    "print(\"Counterfactual outcomes for sample 0, given the alternative treatment scenarios:\\n\")\n",
    "for idx, c in enumerate(counterfactuals[0]):\n",
    "    print(f\"Treatment scenario {idx}, {treatment_scenarios[0][idx]}\")\n",
    "    print(c, end=\"\\n\\n\")"
   ],
   "metadata": {
    "collapsed": false,
    "ExecuteTime": {
     "end_time": "2023-11-27T11:29:13.362056Z",
     "start_time": "2023-11-27T11:29:13.342621Z"
    }
   },
   "id": "2bdabd6950c1df96"
  },
  {
   "cell_type": "code",
   "execution_count": null,
   "outputs": [],
   "source": [],
   "metadata": {
    "collapsed": false
   },
   "id": "52a4709fa1983c78"
  }
 ],
 "metadata": {
  "kernelspec": {
   "display_name": "Python 3",
   "language": "python",
   "name": "python3"
  },
  "language_info": {
   "codemirror_mode": {
    "name": "ipython",
    "version": 2
   },
   "file_extension": ".py",
   "mimetype": "text/x-python",
   "name": "python",
   "nbconvert_exporter": "python",
   "pygments_lexer": "ipython2",
   "version": "2.7.6"
  }
 },
 "nbformat": 4,
 "nbformat_minor": 5
}
