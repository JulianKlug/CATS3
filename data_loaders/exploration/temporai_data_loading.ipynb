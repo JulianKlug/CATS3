{
 "cells": [
  {
   "cell_type": "code",
   "execution_count": 67,
   "id": "initial_id",
   "metadata": {
    "collapsed": true,
    "ExecuteTime": {
     "end_time": "2023-11-27T10:42:45.509336Z",
     "start_time": "2023-11-27T10:42:45.291583Z"
    }
   },
   "outputs": [],
   "source": [
    "import pandas as pd\n",
    "from tempor.data.dataset import TemporalTreatmentEffectsDataset"
   ]
  },
  {
   "cell_type": "code",
   "execution_count": 68,
   "outputs": [],
   "source": [
    "data_path = '/Users/jk1/temp/treatment_effects/prepro_test/gsu_Extraction_20220815_prepro_25112023_213851/preprocessed_features_25112023_213851.csv'\n",
    "continuous_outcomes_path = '/Users/jk1/temp/treatment_effects/prepro_test/gsu_Extraction_20220815_prepro_25112023_213851/preprocessed_outcomes_continuous_25112023_213851.csv'"
   ],
   "metadata": {
    "collapsed": false,
    "ExecuteTime": {
     "end_time": "2023-11-27T10:42:45.511819Z",
     "start_time": "2023-11-27T10:42:45.298623Z"
    }
   },
   "id": "e7bf4319d5bf508"
  },
  {
   "cell_type": "code",
   "execution_count": 97,
   "outputs": [],
   "source": [
    "features_df = pd.read_csv(data_path)\n",
    "outcomes_df = pd.read_csv(continuous_outcomes_path)"
   ],
   "metadata": {
    "collapsed": false,
    "ExecuteTime": {
     "end_time": "2023-11-27T10:49:41.554139Z",
     "start_time": "2023-11-27T10:49:30.744892Z"
    }
   },
   "id": "6500c27d20eb7f78"
  },
  {
   "cell_type": "markdown",
   "source": [
    "## Features data"
   ],
   "metadata": {
    "collapsed": false
   },
   "id": "1b067139a0577028"
  },
  {
   "cell_type": "code",
   "execution_count": 70,
   "outputs": [
    {
     "data": {
      "text/plain": "   Unnamed: 0  relative_sample_date_hourly_cat case_admission_id sample_label  \\\n0           0                                0       100023_4784         ALAT   \n1           1                                1       100023_4784         ALAT   \n2           2                                2       100023_4784         ALAT   \n3           3                                3       100023_4784         ALAT   \n4           4                                4       100023_4784         ALAT   \n\n             source     value  impute_missing_as  \n0               EHR -0.301828                NaN  \n1  EHR_locf_imputed -0.301828                NaN  \n2  EHR_locf_imputed -0.301828                NaN  \n3  EHR_locf_imputed -0.301828                NaN  \n4  EHR_locf_imputed -0.301828                NaN  ",
      "text/html": "<div>\n<style scoped>\n    .dataframe tbody tr th:only-of-type {\n        vertical-align: middle;\n    }\n\n    .dataframe tbody tr th {\n        vertical-align: top;\n    }\n\n    .dataframe thead th {\n        text-align: right;\n    }\n</style>\n<table border=\"1\" class=\"dataframe\">\n  <thead>\n    <tr style=\"text-align: right;\">\n      <th></th>\n      <th>Unnamed: 0</th>\n      <th>relative_sample_date_hourly_cat</th>\n      <th>case_admission_id</th>\n      <th>sample_label</th>\n      <th>source</th>\n      <th>value</th>\n      <th>impute_missing_as</th>\n    </tr>\n  </thead>\n  <tbody>\n    <tr>\n      <th>0</th>\n      <td>0</td>\n      <td>0</td>\n      <td>100023_4784</td>\n      <td>ALAT</td>\n      <td>EHR</td>\n      <td>-0.301828</td>\n      <td>NaN</td>\n    </tr>\n    <tr>\n      <th>1</th>\n      <td>1</td>\n      <td>1</td>\n      <td>100023_4784</td>\n      <td>ALAT</td>\n      <td>EHR_locf_imputed</td>\n      <td>-0.301828</td>\n      <td>NaN</td>\n    </tr>\n    <tr>\n      <th>2</th>\n      <td>2</td>\n      <td>2</td>\n      <td>100023_4784</td>\n      <td>ALAT</td>\n      <td>EHR_locf_imputed</td>\n      <td>-0.301828</td>\n      <td>NaN</td>\n    </tr>\n    <tr>\n      <th>3</th>\n      <td>3</td>\n      <td>3</td>\n      <td>100023_4784</td>\n      <td>ALAT</td>\n      <td>EHR_locf_imputed</td>\n      <td>-0.301828</td>\n      <td>NaN</td>\n    </tr>\n    <tr>\n      <th>4</th>\n      <td>4</td>\n      <td>4</td>\n      <td>100023_4784</td>\n      <td>ALAT</td>\n      <td>EHR_locf_imputed</td>\n      <td>-0.301828</td>\n      <td>NaN</td>\n    </tr>\n  </tbody>\n</table>\n</div>"
     },
     "execution_count": 70,
     "metadata": {},
     "output_type": "execute_result"
    }
   ],
   "source": [
    "features_df.head()"
   ],
   "metadata": {
    "collapsed": false,
    "ExecuteTime": {
     "end_time": "2023-11-27T10:42:56.227876Z",
     "start_time": "2023-11-27T10:42:56.219640Z"
    }
   },
   "id": "51c4bd2b67f45aab"
  },
  {
   "cell_type": "code",
   "execution_count": 71,
   "outputs": [],
   "source": [
    "features_df.drop(columns=['impute_missing_as'], inplace=True)"
   ],
   "metadata": {
    "collapsed": false,
    "ExecuteTime": {
     "end_time": "2023-11-27T10:42:56.831926Z",
     "start_time": "2023-11-27T10:42:56.229842Z"
    }
   },
   "id": "af89576b824c3ed2"
  },
  {
   "cell_type": "code",
   "execution_count": 90,
   "outputs": [],
   "source": [
    "pivoted_features_df = features_df.pivot(index=['case_admission_id', 'relative_sample_date_hourly_cat'], columns='sample_label', values='value')"
   ],
   "metadata": {
    "collapsed": false,
    "ExecuteTime": {
     "end_time": "2023-11-27T10:48:23.437921Z",
     "start_time": "2023-11-27T10:48:17.196330Z"
    }
   },
   "id": "5efe09982a070aac"
  },
  {
   "cell_type": "code",
   "execution_count": 91,
   "outputs": [],
   "source": [
    "# get rid of multiindex\n",
    "pivoted_features_df = pivoted_features_df.rename_axis(None, axis=1).reset_index()"
   ],
   "metadata": {
    "collapsed": false,
    "ExecuteTime": {
     "end_time": "2023-11-27T10:48:23.710516Z",
     "start_time": "2023-11-27T10:48:23.439374Z"
    }
   },
   "id": "ff7df76f4c5cc6e2"
  },
  {
   "cell_type": "code",
   "execution_count": 93,
   "outputs": [],
   "source": [
    "# restrict to relative_sample_date_hourly_cat 0-70\n",
    "last_timestep = 70\n",
    "pivoted_features_df = pivoted_features_df[pivoted_features_df.relative_sample_date_hourly_cat < last_timestep + 1]"
   ],
   "metadata": {
    "collapsed": false,
    "ExecuteTime": {
     "end_time": "2023-11-27T10:48:44.585678Z",
     "start_time": "2023-11-27T10:48:44.492839Z"
    }
   },
   "id": "b867a1cd8e996561"
  },
  {
   "cell_type": "code",
   "execution_count": 94,
   "outputs": [],
   "source": [
    "# seperate out treatment features\n",
    "treatment_df = pivoted_features_df[['case_admission_id', 'relative_sample_date_hourly_cat', 'anti_hypertensive_strategy']]\n",
    "pivoted_features_df.drop(columns=['anti_hypertensive_strategy'], inplace=True)"
   ],
   "metadata": {
    "collapsed": false,
    "ExecuteTime": {
     "end_time": "2023-11-27T10:48:45.310117Z",
     "start_time": "2023-11-27T10:48:45.258730Z"
    }
   },
   "id": "92f77ccfa52d8886"
  },
  {
   "cell_type": "code",
   "execution_count": 95,
   "outputs": [],
   "source": [
    "# Set the 2-level index:\n",
    "treatment_df.set_index(keys=[\"case_admission_id\", \"relative_sample_date_hourly_cat\"], drop=True, inplace=True)\n",
    "pivoted_features_df.set_index(keys=[\"case_admission_id\", \"relative_sample_date_hourly_cat\"], drop=True, inplace=True)"
   ],
   "metadata": {
    "collapsed": false,
    "ExecuteTime": {
     "end_time": "2023-11-27T10:48:45.631965Z",
     "start_time": "2023-11-27T10:48:45.591791Z"
    }
   },
   "id": "2391a82a017cd31d"
  },
  {
   "cell_type": "code",
   "execution_count": 96,
   "outputs": [
    {
     "data": {
      "text/plain": "                                                       ALAT      ASAT  \\\ncase_admission_id relative_sample_date_hourly_cat                       \n100023_4784       0                               -0.301828 -0.642529   \n                  1                               -0.301828 -0.642529   \n                  2                               -0.301828 -0.642529   \n                  3                               -0.301828 -0.642529   \n                  4                               -0.301828 -0.642529   \n...                                                     ...       ...   \n9996_3256         66                               1.205856 -0.801674   \n                  67                               1.205856 -0.801674   \n                  68                               1.205856 -0.801674   \n                  69                               1.205856 -0.801674   \n                  70                               1.205856 -0.801674   \n\n                                                      FIO2  \\\ncase_admission_id relative_sample_date_hourly_cat            \n100023_4784       0                               -0.28577   \n                  1                               -0.28577   \n                  2                               -0.28577   \n                  3                               -0.28577   \n                  4                               -0.28577   \n...                                                    ...   \n9996_3256         66                              -0.28577   \n                  67                              -0.28577   \n                  68                              -0.28577   \n                  69                              -0.28577   \n                  70                              -0.28577   \n\n                                                   Glasgow Coma Scale  \\\ncase_admission_id relative_sample_date_hourly_cat                       \n100023_4784       0                                          0.385502   \n                  1                                          0.385502   \n                  2                                          0.385502   \n                  3                                          0.385502   \n                  4                                          0.385502   \n...                                                               ...   \n9996_3256         66                                         0.385502   \n                  67                                         0.385502   \n                  68                                         0.385502   \n                  69                                         0.385502   \n                  70                                         0.385502   \n\n                                                        INR  \\\ncase_admission_id relative_sample_date_hourly_cat             \n100023_4784       0                               -0.077362   \n                  1                               -0.077362   \n                  2                               -0.077362   \n                  3                               -0.077362   \n                  4                               -0.077362   \n...                                                     ...   \n9996_3256         66                              -0.751824   \n                  67                              -0.751824   \n                  68                              -0.751824   \n                  69                              -0.751824   \n                  70                              -0.751824   \n\n                                                   LDL cholesterol calcule  \\\ncase_admission_id relative_sample_date_hourly_cat                            \n100023_4784       0                                               1.616579   \n                  1                                               1.616579   \n                  2                                               1.616579   \n                  3                                               1.616579   \n                  4                                               1.616579   \n...                                                                    ...   \n9996_3256         66                                              0.516917   \n                  67                                              0.516917   \n                  68                                              0.516917   \n                  69                                              0.516917   \n                  70                                              0.516917   \n\n                                                        PTT       age  \\\ncase_admission_id relative_sample_date_hourly_cat                       \n100023_4784       0                               -1.198924 -0.767160   \n                  1                               -1.198924 -0.767160   \n                  2                               -1.198924 -0.767160   \n                  3                               -1.198924 -0.767160   \n                  4                               -1.198924 -0.767160   \n...                                                     ...       ...   \n9996_3256         66                              -0.345719 -0.347627   \n                  67                              -0.345719 -0.347627   \n                  68                              -0.345719 -0.347627   \n                  69                              -0.345719 -0.347627   \n                  70                              -0.345719 -0.347627   \n\n                                                   anticoagulants_yes  \\\ncase_admission_id relative_sample_date_hourly_cat                       \n100023_4784       0                                               0.0   \n                  1                                               0.0   \n                  2                                               0.0   \n                  3                                               0.0   \n                  4                                               0.0   \n...                                                               ...   \n9996_3256         66                                              0.0   \n                  67                                              0.0   \n                  68                                              0.0   \n                  69                                              0.0   \n                  70                                              0.0   \n\n                                                   antihypert._drugs_pre-stroke_yes  \\\ncase_admission_id relative_sample_date_hourly_cat                                     \n100023_4784       0                                                             0.0   \n                  1                                                             0.0   \n                  2                                                             0.0   \n                  3                                                             0.0   \n                  4                                                             0.0   \n...                                                                             ...   \n9996_3256         66                                                            1.0   \n                  67                                                            1.0   \n                  68                                                            1.0   \n                  69                                                            1.0   \n                  70                                                            1.0   \n\n                                                   ...  \\\ncase_admission_id relative_sample_date_hourly_cat  ...   \n100023_4784       0                                ...   \n                  1                                ...   \n                  2                                ...   \n                  3                                ...   \n                  4                                ...   \n...                                                ...   \n9996_3256         66                               ...   \n                  67                               ...   \n                  68                               ...   \n                  69                               ...   \n                  70                               ...   \n\n                                                   referral_other_hospital  \\\ncase_admission_id relative_sample_date_hourly_cat                            \n100023_4784       0                                                    0.0   \n                  1                                                    0.0   \n                  2                                                    0.0   \n                  3                                                    0.0   \n                  4                                                    0.0   \n...                                                                    ...   \n9996_3256         66                                                   0.0   \n                  67                                                   0.0   \n                  68                                                   0.0   \n                  69                                                   0.0   \n                  70                                                   0.0   \n\n                                                   referral_self_referral_or_gp  \\\ncase_admission_id relative_sample_date_hourly_cat                                 \n100023_4784       0                                                         0.0   \n                  1                                                         0.0   \n                  2                                                         0.0   \n                  3                                                         0.0   \n                  4                                                         0.0   \n...                                                                         ...   \n9996_3256         66                                                        1.0   \n                  67                                                        1.0   \n                  68                                                        1.0   \n                  69                                                        1.0   \n                  70                                                        1.0   \n\n                                                   sex_male    sodium  \\\ncase_admission_id relative_sample_date_hourly_cat                       \n100023_4784       0                                     1.0  0.190726   \n                  1                                     1.0  0.190726   \n                  2                                     1.0  0.190726   \n                  3                                     1.0  0.190726   \n                  4                                     1.0  0.190726   \n...                                                     ...       ...   \n9996_3256         66                                    1.0 -0.440140   \n                  67                                    1.0 -0.440140   \n                  68                                    1.0 -0.440140   \n                  69                                    1.0 -0.440140   \n                  70                                    1.0 -0.440140   \n\n                                                   temperature  thrombocytes  \\\ncase_admission_id relative_sample_date_hourly_cat                              \n100023_4784       0                                  -2.295099     -0.315647   \n                  1                                  -0.094932     -0.315647   \n                  2                                  -0.094932     -0.315647   \n                  3                                  -0.094932     -0.315647   \n                  4                                  -0.094932     -0.315647   \n...                                                        ...           ...   \n9996_3256         66                                  0.368262     -0.098847   \n                  67                                  0.368262     -0.098847   \n                  68                                  0.368262     -0.098847   \n                  69                                  0.368262     -0.098847   \n                  70                                 -0.558125     -0.098847   \n\n                                                   triglycerides      uree  \\\ncase_admission_id relative_sample_date_hourly_cat                            \n100023_4784       0                                    -0.291580  0.013028   \n                  1                                    -0.291580  0.013028   \n                  2                                    -0.291580  0.013028   \n                  3                                    -0.291580  0.013028   \n                  4                                    -0.291580  0.013028   \n...                                                          ...       ...   \n9996_3256         66                                    1.810562  0.377717   \n                  67                                    1.810562  0.377717   \n                  68                                    1.810562  0.377717   \n                  69                                    1.810562  0.377717   \n                  70                                    1.810562  0.377717   \n\n                                                   wake_up_stroke_true  \\\ncase_admission_id relative_sample_date_hourly_cat                        \n100023_4784       0                                                1.0   \n                  1                                                1.0   \n                  2                                                1.0   \n                  3                                                1.0   \n                  4                                                1.0   \n...                                                                ...   \n9996_3256         66                                               0.0   \n                  67                                               0.0   \n                  68                                               0.0   \n                  69                                               0.0   \n                  70                                               0.0   \n\n                                                     weight  \ncase_admission_id relative_sample_date_hourly_cat            \n100023_4784       0                                1.153254  \n                  1                                1.153254  \n                  2                                1.153254  \n                  3                                1.153254  \n                  4                                1.153254  \n...                                                     ...  \n9996_3256         66                              -0.075108  \n                  67                              -0.075108  \n                  68                              -0.075108  \n                  69                              -0.075108  \n                  70                              -0.075108  \n\n[177003 rows x 84 columns]",
      "text/html": "<div>\n<style scoped>\n    .dataframe tbody tr th:only-of-type {\n        vertical-align: middle;\n    }\n\n    .dataframe tbody tr th {\n        vertical-align: top;\n    }\n\n    .dataframe thead th {\n        text-align: right;\n    }\n</style>\n<table border=\"1\" class=\"dataframe\">\n  <thead>\n    <tr style=\"text-align: right;\">\n      <th></th>\n      <th></th>\n      <th>ALAT</th>\n      <th>ASAT</th>\n      <th>FIO2</th>\n      <th>Glasgow Coma Scale</th>\n      <th>INR</th>\n      <th>LDL cholesterol calcule</th>\n      <th>PTT</th>\n      <th>age</th>\n      <th>anticoagulants_yes</th>\n      <th>antihypert._drugs_pre-stroke_yes</th>\n      <th>...</th>\n      <th>referral_other_hospital</th>\n      <th>referral_self_referral_or_gp</th>\n      <th>sex_male</th>\n      <th>sodium</th>\n      <th>temperature</th>\n      <th>thrombocytes</th>\n      <th>triglycerides</th>\n      <th>uree</th>\n      <th>wake_up_stroke_true</th>\n      <th>weight</th>\n    </tr>\n    <tr>\n      <th>case_admission_id</th>\n      <th>relative_sample_date_hourly_cat</th>\n      <th></th>\n      <th></th>\n      <th></th>\n      <th></th>\n      <th></th>\n      <th></th>\n      <th></th>\n      <th></th>\n      <th></th>\n      <th></th>\n      <th></th>\n      <th></th>\n      <th></th>\n      <th></th>\n      <th></th>\n      <th></th>\n      <th></th>\n      <th></th>\n      <th></th>\n      <th></th>\n      <th></th>\n    </tr>\n  </thead>\n  <tbody>\n    <tr>\n      <th rowspan=\"5\" valign=\"top\">100023_4784</th>\n      <th>0</th>\n      <td>-0.301828</td>\n      <td>-0.642529</td>\n      <td>-0.28577</td>\n      <td>0.385502</td>\n      <td>-0.077362</td>\n      <td>1.616579</td>\n      <td>-1.198924</td>\n      <td>-0.767160</td>\n      <td>0.0</td>\n      <td>0.0</td>\n      <td>...</td>\n      <td>0.0</td>\n      <td>0.0</td>\n      <td>1.0</td>\n      <td>0.190726</td>\n      <td>-2.295099</td>\n      <td>-0.315647</td>\n      <td>-0.291580</td>\n      <td>0.013028</td>\n      <td>1.0</td>\n      <td>1.153254</td>\n    </tr>\n    <tr>\n      <th>1</th>\n      <td>-0.301828</td>\n      <td>-0.642529</td>\n      <td>-0.28577</td>\n      <td>0.385502</td>\n      <td>-0.077362</td>\n      <td>1.616579</td>\n      <td>-1.198924</td>\n      <td>-0.767160</td>\n      <td>0.0</td>\n      <td>0.0</td>\n      <td>...</td>\n      <td>0.0</td>\n      <td>0.0</td>\n      <td>1.0</td>\n      <td>0.190726</td>\n      <td>-0.094932</td>\n      <td>-0.315647</td>\n      <td>-0.291580</td>\n      <td>0.013028</td>\n      <td>1.0</td>\n      <td>1.153254</td>\n    </tr>\n    <tr>\n      <th>2</th>\n      <td>-0.301828</td>\n      <td>-0.642529</td>\n      <td>-0.28577</td>\n      <td>0.385502</td>\n      <td>-0.077362</td>\n      <td>1.616579</td>\n      <td>-1.198924</td>\n      <td>-0.767160</td>\n      <td>0.0</td>\n      <td>0.0</td>\n      <td>...</td>\n      <td>0.0</td>\n      <td>0.0</td>\n      <td>1.0</td>\n      <td>0.190726</td>\n      <td>-0.094932</td>\n      <td>-0.315647</td>\n      <td>-0.291580</td>\n      <td>0.013028</td>\n      <td>1.0</td>\n      <td>1.153254</td>\n    </tr>\n    <tr>\n      <th>3</th>\n      <td>-0.301828</td>\n      <td>-0.642529</td>\n      <td>-0.28577</td>\n      <td>0.385502</td>\n      <td>-0.077362</td>\n      <td>1.616579</td>\n      <td>-1.198924</td>\n      <td>-0.767160</td>\n      <td>0.0</td>\n      <td>0.0</td>\n      <td>...</td>\n      <td>0.0</td>\n      <td>0.0</td>\n      <td>1.0</td>\n      <td>0.190726</td>\n      <td>-0.094932</td>\n      <td>-0.315647</td>\n      <td>-0.291580</td>\n      <td>0.013028</td>\n      <td>1.0</td>\n      <td>1.153254</td>\n    </tr>\n    <tr>\n      <th>4</th>\n      <td>-0.301828</td>\n      <td>-0.642529</td>\n      <td>-0.28577</td>\n      <td>0.385502</td>\n      <td>-0.077362</td>\n      <td>1.616579</td>\n      <td>-1.198924</td>\n      <td>-0.767160</td>\n      <td>0.0</td>\n      <td>0.0</td>\n      <td>...</td>\n      <td>0.0</td>\n      <td>0.0</td>\n      <td>1.0</td>\n      <td>0.190726</td>\n      <td>-0.094932</td>\n      <td>-0.315647</td>\n      <td>-0.291580</td>\n      <td>0.013028</td>\n      <td>1.0</td>\n      <td>1.153254</td>\n    </tr>\n    <tr>\n      <th>...</th>\n      <th>...</th>\n      <td>...</td>\n      <td>...</td>\n      <td>...</td>\n      <td>...</td>\n      <td>...</td>\n      <td>...</td>\n      <td>...</td>\n      <td>...</td>\n      <td>...</td>\n      <td>...</td>\n      <td>...</td>\n      <td>...</td>\n      <td>...</td>\n      <td>...</td>\n      <td>...</td>\n      <td>...</td>\n      <td>...</td>\n      <td>...</td>\n      <td>...</td>\n      <td>...</td>\n      <td>...</td>\n    </tr>\n    <tr>\n      <th rowspan=\"5\" valign=\"top\">9996_3256</th>\n      <th>66</th>\n      <td>1.205856</td>\n      <td>-0.801674</td>\n      <td>-0.28577</td>\n      <td>0.385502</td>\n      <td>-0.751824</td>\n      <td>0.516917</td>\n      <td>-0.345719</td>\n      <td>-0.347627</td>\n      <td>0.0</td>\n      <td>1.0</td>\n      <td>...</td>\n      <td>0.0</td>\n      <td>1.0</td>\n      <td>1.0</td>\n      <td>-0.440140</td>\n      <td>0.368262</td>\n      <td>-0.098847</td>\n      <td>1.810562</td>\n      <td>0.377717</td>\n      <td>0.0</td>\n      <td>-0.075108</td>\n    </tr>\n    <tr>\n      <th>67</th>\n      <td>1.205856</td>\n      <td>-0.801674</td>\n      <td>-0.28577</td>\n      <td>0.385502</td>\n      <td>-0.751824</td>\n      <td>0.516917</td>\n      <td>-0.345719</td>\n      <td>-0.347627</td>\n      <td>0.0</td>\n      <td>1.0</td>\n      <td>...</td>\n      <td>0.0</td>\n      <td>1.0</td>\n      <td>1.0</td>\n      <td>-0.440140</td>\n      <td>0.368262</td>\n      <td>-0.098847</td>\n      <td>1.810562</td>\n      <td>0.377717</td>\n      <td>0.0</td>\n      <td>-0.075108</td>\n    </tr>\n    <tr>\n      <th>68</th>\n      <td>1.205856</td>\n      <td>-0.801674</td>\n      <td>-0.28577</td>\n      <td>0.385502</td>\n      <td>-0.751824</td>\n      <td>0.516917</td>\n      <td>-0.345719</td>\n      <td>-0.347627</td>\n      <td>0.0</td>\n      <td>1.0</td>\n      <td>...</td>\n      <td>0.0</td>\n      <td>1.0</td>\n      <td>1.0</td>\n      <td>-0.440140</td>\n      <td>0.368262</td>\n      <td>-0.098847</td>\n      <td>1.810562</td>\n      <td>0.377717</td>\n      <td>0.0</td>\n      <td>-0.075108</td>\n    </tr>\n    <tr>\n      <th>69</th>\n      <td>1.205856</td>\n      <td>-0.801674</td>\n      <td>-0.28577</td>\n      <td>0.385502</td>\n      <td>-0.751824</td>\n      <td>0.516917</td>\n      <td>-0.345719</td>\n      <td>-0.347627</td>\n      <td>0.0</td>\n      <td>1.0</td>\n      <td>...</td>\n      <td>0.0</td>\n      <td>1.0</td>\n      <td>1.0</td>\n      <td>-0.440140</td>\n      <td>0.368262</td>\n      <td>-0.098847</td>\n      <td>1.810562</td>\n      <td>0.377717</td>\n      <td>0.0</td>\n      <td>-0.075108</td>\n    </tr>\n    <tr>\n      <th>70</th>\n      <td>1.205856</td>\n      <td>-0.801674</td>\n      <td>-0.28577</td>\n      <td>0.385502</td>\n      <td>-0.751824</td>\n      <td>0.516917</td>\n      <td>-0.345719</td>\n      <td>-0.347627</td>\n      <td>0.0</td>\n      <td>1.0</td>\n      <td>...</td>\n      <td>0.0</td>\n      <td>1.0</td>\n      <td>1.0</td>\n      <td>-0.440140</td>\n      <td>-0.558125</td>\n      <td>-0.098847</td>\n      <td>1.810562</td>\n      <td>0.377717</td>\n      <td>0.0</td>\n      <td>-0.075108</td>\n    </tr>\n  </tbody>\n</table>\n<p>177003 rows × 84 columns</p>\n</div>"
     },
     "execution_count": 96,
     "metadata": {},
     "output_type": "execute_result"
    }
   ],
   "source": [
    "pivoted_features_df"
   ],
   "metadata": {
    "collapsed": false,
    "ExecuteTime": {
     "end_time": "2023-11-27T10:48:49.810871Z",
     "start_time": "2023-11-27T10:48:49.736866Z"
    }
   },
   "id": "7b6d8bd3ddd9ed9a"
  },
  {
   "cell_type": "markdown",
   "source": [
    "## Outcome data"
   ],
   "metadata": {
    "collapsed": false
   },
   "id": "f76f9ae775d3f25c"
  },
  {
   "cell_type": "code",
   "execution_count": 86,
   "outputs": [
    {
     "data": {
      "text/plain": "                                                   Unnamed: 0  \\\ncase_admission_id relative_sample_date_hourly_cat               \n100023_4784       0                                      3816   \n                  1                                      3817   \n                  2                                      3818   \n                  3                                      3819   \n                  4                                      3820   \n...                                                       ...   \n9996_3256         67                                 15254923   \n                  68                                 15254924   \n                  69                                 15254925   \n                  70                                 15254926   \n                  71                                 15254927   \n\n                                                             source  nihss  \\\ncase_admission_id relative_sample_date_hourly_cat                            \n100023_4784       0                                             EHR    2.0   \n                  1                                             EHR    0.0   \n                  2                                             EHR    0.0   \n                  3                                EHR_locf_imputed    0.0   \n                  4                                             EHR    0.0   \n...                                                             ...    ...   \n9996_3256         67                               EHR_locf_imputed    0.0   \n                  68                               EHR_locf_imputed    0.0   \n                  69                               EHR_locf_imputed    0.0   \n                  70                               EHR_locf_imputed    0.0   \n                  71                               EHR_locf_imputed    0.0   \n\n                                                   nihss_delta  \\\ncase_admission_id relative_sample_date_hourly_cat                \n100023_4784       0                                        0.0   \n                  1                                       -2.0   \n                  2                                        0.0   \n                  3                                        0.0   \n                  4                                        0.0   \n...                                                        ...   \n9996_3256         67                                       0.0   \n                  68                                       0.0   \n                  69                                       0.0   \n                  70                                       0.0   \n                  71                                       0.0   \n\n                                                   nihss_delta_to_best_prior_state  \\\ncase_admission_id relative_sample_date_hourly_cat                                    \n100023_4784       0                                                            0.0   \n                  1                                                            0.0   \n                  2                                                            0.0   \n                  3                                                            0.0   \n                  4                                                            0.0   \n...                                                                            ...   \n9996_3256         67                                                           0.0   \n                  68                                                           0.0   \n                  69                                                           0.0   \n                  70                                                           0.0   \n                  71                                                           0.0   \n\n                                                   nihss_delta_to_start_state  \\\ncase_admission_id relative_sample_date_hourly_cat                               \n100023_4784       0                                                       0.0   \n                  1                                                      -2.0   \n                  2                                                      -2.0   \n                  3                                                      -2.0   \n                  4                                                      -2.0   \n...                                                                       ...   \n9996_3256         67                                                      0.0   \n                  68                                                      0.0   \n                  69                                                      0.0   \n                  70                                                      0.0   \n                  71                                                      0.0   \n\n                                                   nihss_delta_at_next_ts  \\\ncase_admission_id relative_sample_date_hourly_cat                           \n100023_4784       0                                                  -2.0   \n                  1                                                   0.0   \n                  2                                                   0.0   \n                  3                                                   0.0   \n                  4                                                   0.0   \n...                                                                   ...   \n9996_3256         67                                                  0.0   \n                  68                                                  0.0   \n                  69                                                  0.0   \n                  70                                                  0.0   \n                  71                                                  NaN   \n\n                                                   nihss_delta_to_best_prior_state_at_next_ts  \\\ncase_admission_id relative_sample_date_hourly_cat                                               \n100023_4784       0                                                                       0.0   \n                  1                                                                       0.0   \n                  2                                                                       0.0   \n                  3                                                                       0.0   \n                  4                                                                       0.0   \n...                                                                                       ...   \n9996_3256         67                                                                      0.0   \n                  68                                                                      0.0   \n                  69                                                                      0.0   \n                  70                                                                      0.0   \n                  71                                                                      NaN   \n\n                                                   nihss_delta_to_start_state_at_next_ts  \ncase_admission_id relative_sample_date_hourly_cat                                         \n100023_4784       0                                                                 -2.0  \n                  1                                                                 -2.0  \n                  2                                                                 -2.0  \n                  3                                                                 -2.0  \n                  4                                                                 -2.0  \n...                                                                                  ...  \n9996_3256         67                                                                 0.0  \n                  68                                                                 0.0  \n                  69                                                                 0.0  \n                  70                                                                 0.0  \n                  71                                                                 NaN  \n\n[179496 rows x 9 columns]",
      "text/html": "<div>\n<style scoped>\n    .dataframe tbody tr th:only-of-type {\n        vertical-align: middle;\n    }\n\n    .dataframe tbody tr th {\n        vertical-align: top;\n    }\n\n    .dataframe thead th {\n        text-align: right;\n    }\n</style>\n<table border=\"1\" class=\"dataframe\">\n  <thead>\n    <tr style=\"text-align: right;\">\n      <th></th>\n      <th></th>\n      <th>Unnamed: 0</th>\n      <th>source</th>\n      <th>nihss</th>\n      <th>nihss_delta</th>\n      <th>nihss_delta_to_best_prior_state</th>\n      <th>nihss_delta_to_start_state</th>\n      <th>nihss_delta_at_next_ts</th>\n      <th>nihss_delta_to_best_prior_state_at_next_ts</th>\n      <th>nihss_delta_to_start_state_at_next_ts</th>\n    </tr>\n    <tr>\n      <th>case_admission_id</th>\n      <th>relative_sample_date_hourly_cat</th>\n      <th></th>\n      <th></th>\n      <th></th>\n      <th></th>\n      <th></th>\n      <th></th>\n      <th></th>\n      <th></th>\n      <th></th>\n    </tr>\n  </thead>\n  <tbody>\n    <tr>\n      <th rowspan=\"5\" valign=\"top\">100023_4784</th>\n      <th>0</th>\n      <td>3816</td>\n      <td>EHR</td>\n      <td>2.0</td>\n      <td>0.0</td>\n      <td>0.0</td>\n      <td>0.0</td>\n      <td>-2.0</td>\n      <td>0.0</td>\n      <td>-2.0</td>\n    </tr>\n    <tr>\n      <th>1</th>\n      <td>3817</td>\n      <td>EHR</td>\n      <td>0.0</td>\n      <td>-2.0</td>\n      <td>0.0</td>\n      <td>-2.0</td>\n      <td>0.0</td>\n      <td>0.0</td>\n      <td>-2.0</td>\n    </tr>\n    <tr>\n      <th>2</th>\n      <td>3818</td>\n      <td>EHR</td>\n      <td>0.0</td>\n      <td>0.0</td>\n      <td>0.0</td>\n      <td>-2.0</td>\n      <td>0.0</td>\n      <td>0.0</td>\n      <td>-2.0</td>\n    </tr>\n    <tr>\n      <th>3</th>\n      <td>3819</td>\n      <td>EHR_locf_imputed</td>\n      <td>0.0</td>\n      <td>0.0</td>\n      <td>0.0</td>\n      <td>-2.0</td>\n      <td>0.0</td>\n      <td>0.0</td>\n      <td>-2.0</td>\n    </tr>\n    <tr>\n      <th>4</th>\n      <td>3820</td>\n      <td>EHR</td>\n      <td>0.0</td>\n      <td>0.0</td>\n      <td>0.0</td>\n      <td>-2.0</td>\n      <td>0.0</td>\n      <td>0.0</td>\n      <td>-2.0</td>\n    </tr>\n    <tr>\n      <th>...</th>\n      <th>...</th>\n      <td>...</td>\n      <td>...</td>\n      <td>...</td>\n      <td>...</td>\n      <td>...</td>\n      <td>...</td>\n      <td>...</td>\n      <td>...</td>\n      <td>...</td>\n    </tr>\n    <tr>\n      <th rowspan=\"5\" valign=\"top\">9996_3256</th>\n      <th>67</th>\n      <td>15254923</td>\n      <td>EHR_locf_imputed</td>\n      <td>0.0</td>\n      <td>0.0</td>\n      <td>0.0</td>\n      <td>0.0</td>\n      <td>0.0</td>\n      <td>0.0</td>\n      <td>0.0</td>\n    </tr>\n    <tr>\n      <th>68</th>\n      <td>15254924</td>\n      <td>EHR_locf_imputed</td>\n      <td>0.0</td>\n      <td>0.0</td>\n      <td>0.0</td>\n      <td>0.0</td>\n      <td>0.0</td>\n      <td>0.0</td>\n      <td>0.0</td>\n    </tr>\n    <tr>\n      <th>69</th>\n      <td>15254925</td>\n      <td>EHR_locf_imputed</td>\n      <td>0.0</td>\n      <td>0.0</td>\n      <td>0.0</td>\n      <td>0.0</td>\n      <td>0.0</td>\n      <td>0.0</td>\n      <td>0.0</td>\n    </tr>\n    <tr>\n      <th>70</th>\n      <td>15254926</td>\n      <td>EHR_locf_imputed</td>\n      <td>0.0</td>\n      <td>0.0</td>\n      <td>0.0</td>\n      <td>0.0</td>\n      <td>0.0</td>\n      <td>0.0</td>\n      <td>0.0</td>\n    </tr>\n    <tr>\n      <th>71</th>\n      <td>15254927</td>\n      <td>EHR_locf_imputed</td>\n      <td>0.0</td>\n      <td>0.0</td>\n      <td>0.0</td>\n      <td>0.0</td>\n      <td>NaN</td>\n      <td>NaN</td>\n      <td>NaN</td>\n    </tr>\n  </tbody>\n</table>\n<p>179496 rows × 9 columns</p>\n</div>"
     },
     "execution_count": 86,
     "metadata": {},
     "output_type": "execute_result"
    }
   ],
   "source": [
    "outcomes_df"
   ],
   "metadata": {
    "collapsed": false,
    "ExecuteTime": {
     "end_time": "2023-11-27T10:43:49.054112Z",
     "start_time": "2023-11-27T10:43:49.040009Z"
    }
   },
   "id": "86fc8c977048b7a8"
  },
  {
   "cell_type": "code",
   "execution_count": 98,
   "outputs": [],
   "source": [
    "outcomes_df = outcomes_df[outcomes_df.relative_sample_date_hourly_cat < last_timestep + 1]"
   ],
   "metadata": {
    "collapsed": false,
    "ExecuteTime": {
     "end_time": "2023-11-27T10:50:03.059870Z",
     "start_time": "2023-11-27T10:50:03.032810Z"
    }
   },
   "id": "adb33315cc342e14"
  },
  {
   "cell_type": "code",
   "execution_count": 99,
   "outputs": [],
   "source": [
    "outcomes_df.set_index(keys=[\"case_admission_id\", \"relative_sample_date_hourly_cat\"], drop=True, inplace=True)"
   ],
   "metadata": {
    "collapsed": false,
    "ExecuteTime": {
     "end_time": "2023-11-27T10:50:03.751460Z",
     "start_time": "2023-11-27T10:50:03.730245Z"
    }
   },
   "id": "b58bd63efdbc2a10"
  },
  {
   "cell_type": "code",
   "execution_count": 100,
   "outputs": [],
   "source": [
    "reformatted_outcomes_df = outcomes_df[['nihss_delta_at_next_ts']]"
   ],
   "metadata": {
    "collapsed": false,
    "ExecuteTime": {
     "end_time": "2023-11-27T10:50:04.291398Z",
     "start_time": "2023-11-27T10:50:04.268746Z"
    }
   },
   "id": "73fbc202785404eb"
  },
  {
   "cell_type": "code",
   "execution_count": 101,
   "outputs": [
    {
     "data": {
      "text/plain": "                                                   nihss_delta_at_next_ts\ncase_admission_id relative_sample_date_hourly_cat                        \n100023_4784       0                                                  -2.0\n                  1                                                   0.0\n                  2                                                   0.0\n                  3                                                   0.0\n                  4                                                   0.0\n...                                                                   ...\n9996_3256         66                                                  0.0\n                  67                                                  0.0\n                  68                                                  0.0\n                  69                                                  0.0\n                  70                                                  0.0\n\n[177003 rows x 1 columns]",
      "text/html": "<div>\n<style scoped>\n    .dataframe tbody tr th:only-of-type {\n        vertical-align: middle;\n    }\n\n    .dataframe tbody tr th {\n        vertical-align: top;\n    }\n\n    .dataframe thead th {\n        text-align: right;\n    }\n</style>\n<table border=\"1\" class=\"dataframe\">\n  <thead>\n    <tr style=\"text-align: right;\">\n      <th></th>\n      <th></th>\n      <th>nihss_delta_at_next_ts</th>\n    </tr>\n    <tr>\n      <th>case_admission_id</th>\n      <th>relative_sample_date_hourly_cat</th>\n      <th></th>\n    </tr>\n  </thead>\n  <tbody>\n    <tr>\n      <th rowspan=\"5\" valign=\"top\">100023_4784</th>\n      <th>0</th>\n      <td>-2.0</td>\n    </tr>\n    <tr>\n      <th>1</th>\n      <td>0.0</td>\n    </tr>\n    <tr>\n      <th>2</th>\n      <td>0.0</td>\n    </tr>\n    <tr>\n      <th>3</th>\n      <td>0.0</td>\n    </tr>\n    <tr>\n      <th>4</th>\n      <td>0.0</td>\n    </tr>\n    <tr>\n      <th>...</th>\n      <th>...</th>\n      <td>...</td>\n    </tr>\n    <tr>\n      <th rowspan=\"5\" valign=\"top\">9996_3256</th>\n      <th>66</th>\n      <td>0.0</td>\n    </tr>\n    <tr>\n      <th>67</th>\n      <td>0.0</td>\n    </tr>\n    <tr>\n      <th>68</th>\n      <td>0.0</td>\n    </tr>\n    <tr>\n      <th>69</th>\n      <td>0.0</td>\n    </tr>\n    <tr>\n      <th>70</th>\n      <td>0.0</td>\n    </tr>\n  </tbody>\n</table>\n<p>177003 rows × 1 columns</p>\n</div>"
     },
     "execution_count": 101,
     "metadata": {},
     "output_type": "execute_result"
    }
   ],
   "source": [
    "reformatted_outcomes_df"
   ],
   "metadata": {
    "collapsed": false,
    "ExecuteTime": {
     "end_time": "2023-11-27T10:50:04.939038Z",
     "start_time": "2023-11-27T10:50:04.904888Z"
    }
   },
   "id": "a971b0deeb3e93a"
  },
  {
   "cell_type": "markdown",
   "source": [
    "## Create temporAi dataset"
   ],
   "metadata": {
    "collapsed": false
   },
   "id": "417a284be7a43e05"
  },
  {
   "cell_type": "code",
   "execution_count": 102,
   "outputs": [],
   "source": [
    "data = TemporalTreatmentEffectsDataset(\n",
    "    time_series=pivoted_features_df,\n",
    "    treatments=treatment_df,\n",
    "    targets=reformatted_outcomes_df\n",
    ")"
   ],
   "metadata": {
    "collapsed": false,
    "ExecuteTime": {
     "end_time": "2023-11-27T10:50:23.500734Z",
     "start_time": "2023-11-27T10:50:16.140501Z"
    }
   },
   "id": "a3104584cf4c7812"
  },
  {
   "cell_type": "code",
   "execution_count": 103,
   "outputs": [
    {
     "data": {
      "text/plain": "TemporalTreatmentEffectsDataset(\n    time_series=TimeSeriesSamples([2493, *, 84]),\n    predictive=TemporalTreatmentEffectsTaskData(\n        targets=TimeSeriesSamples([2493, *, 1]),\n        treatments=TimeSeriesSamples([2493, *, 1])\n    )\n)"
     },
     "execution_count": 103,
     "metadata": {},
     "output_type": "execute_result"
    }
   ],
   "source": [
    "data"
   ],
   "metadata": {
    "collapsed": false,
    "ExecuteTime": {
     "end_time": "2023-11-27T10:50:23.554916Z",
     "start_time": "2023-11-27T10:50:23.513858Z"
    }
   },
   "id": "80799766014310df"
  },
  {
   "cell_type": "code",
   "execution_count": 104,
   "outputs": [
    {
     "data": {
      "text/plain": "TimeSeriesSamples with data:\n                          ALAT      ASAT     FIO2  Glasgow Coma Scale  \\\nsample_idx  time_idx                                                    \n100023_4784 0        -0.301828 -0.642529 -0.28577            0.385502   \n            1        -0.301828 -0.642529 -0.28577            0.385502   \n            2        -0.301828 -0.642529 -0.28577            0.385502   \n            3        -0.301828 -0.642529 -0.28577            0.385502   \n            4        -0.301828 -0.642529 -0.28577            0.385502   \n...                        ...       ...      ...                 ...   \n9996_3256   66        1.205856 -0.801674 -0.28577            0.385502   \n            67        1.205856 -0.801674 -0.28577            0.385502   \n            68        1.205856 -0.801674 -0.28577            0.385502   \n            69        1.205856 -0.801674 -0.28577            0.385502   \n            70        1.205856 -0.801674 -0.28577            0.385502   \n\n                           INR  LDL cholesterol calcule       PTT       age  \\\nsample_idx  time_idx                                                          \n100023_4784 0        -0.077362                 1.616579 -1.198924 -0.767160   \n            1        -0.077362                 1.616579 -1.198924 -0.767160   \n            2        -0.077362                 1.616579 -1.198924 -0.767160   \n            3        -0.077362                 1.616579 -1.198924 -0.767160   \n            4        -0.077362                 1.616579 -1.198924 -0.767160   \n...                        ...                      ...       ...       ...   \n9996_3256   66       -0.751824                 0.516917 -0.345719 -0.347627   \n            67       -0.751824                 0.516917 -0.345719 -0.347627   \n            68       -0.751824                 0.516917 -0.345719 -0.347627   \n            69       -0.751824                 0.516917 -0.345719 -0.347627   \n            70       -0.751824                 0.516917 -0.345719 -0.347627   \n\n                      anticoagulants_yes  antihypert._drugs_pre-stroke_yes  \\\nsample_idx  time_idx                                                         \n100023_4784 0                        0.0                               0.0   \n            1                        0.0                               0.0   \n            2                        0.0                               0.0   \n            3                        0.0                               0.0   \n            4                        0.0                               0.0   \n...                                  ...                               ...   \n9996_3256   66                       0.0                               1.0   \n            67                       0.0                               1.0   \n            68                       0.0                               1.0   \n            69                       0.0                               1.0   \n            70                       0.0                               1.0   \n\n                      ...  referral_other_hospital  \\\nsample_idx  time_idx  ...                            \n100023_4784 0         ...                      0.0   \n            1         ...                      0.0   \n            2         ...                      0.0   \n            3         ...                      0.0   \n            4         ...                      0.0   \n...                   ...                      ...   \n9996_3256   66        ...                      0.0   \n            67        ...                      0.0   \n            68        ...                      0.0   \n            69        ...                      0.0   \n            70        ...                      0.0   \n\n                      referral_self_referral_or_gp  sex_male    sodium  \\\nsample_idx  time_idx                                                     \n100023_4784 0                                  0.0       1.0  0.190726   \n            1                                  0.0       1.0  0.190726   \n            2                                  0.0       1.0  0.190726   \n            3                                  0.0       1.0  0.190726   \n            4                                  0.0       1.0  0.190726   \n...                                            ...       ...       ...   \n9996_3256   66                                 1.0       1.0 -0.440140   \n            67                                 1.0       1.0 -0.440140   \n            68                                 1.0       1.0 -0.440140   \n            69                                 1.0       1.0 -0.440140   \n            70                                 1.0       1.0 -0.440140   \n\n                      temperature  thrombocytes  triglycerides      uree  \\\nsample_idx  time_idx                                                       \n100023_4784 0           -2.295099     -0.315647      -0.291580  0.013028   \n            1           -0.094932     -0.315647      -0.291580  0.013028   \n            2           -0.094932     -0.315647      -0.291580  0.013028   \n            3           -0.094932     -0.315647      -0.291580  0.013028   \n            4           -0.094932     -0.315647      -0.291580  0.013028   \n...                           ...           ...            ...       ...   \n9996_3256   66           0.368262     -0.098847       1.810562  0.377717   \n            67           0.368262     -0.098847       1.810562  0.377717   \n            68           0.368262     -0.098847       1.810562  0.377717   \n            69           0.368262     -0.098847       1.810562  0.377717   \n            70          -0.558125     -0.098847       1.810562  0.377717   \n\n                      wake_up_stroke_true    weight  \nsample_idx  time_idx                                 \n100023_4784 0                         1.0  1.153254  \n            1                         1.0  1.153254  \n            2                         1.0  1.153254  \n            3                         1.0  1.153254  \n            4                         1.0  1.153254  \n...                                   ...       ...  \n9996_3256   66                        0.0 -0.075108  \n            67                        0.0 -0.075108  \n            68                        0.0 -0.075108  \n            69                        0.0 -0.075108  \n            70                        0.0 -0.075108  \n\n[177003 rows x 84 columns]",
      "text/html": "<p><span style=\"font-family: monospace;\">TimeSeriesSamples</span> with data:</p><div>\n<style scoped>\n    .dataframe tbody tr th:only-of-type {\n        vertical-align: middle;\n    }\n\n    .dataframe tbody tr th {\n        vertical-align: top;\n    }\n\n    .dataframe thead th {\n        text-align: right;\n    }\n</style>\n<table border=\"1\" class=\"dataframe\">\n  <thead>\n    <tr style=\"text-align: right;\">\n      <th></th>\n      <th></th>\n      <th>ALAT</th>\n      <th>ASAT</th>\n      <th>FIO2</th>\n      <th>Glasgow Coma Scale</th>\n      <th>INR</th>\n      <th>LDL cholesterol calcule</th>\n      <th>PTT</th>\n      <th>age</th>\n      <th>anticoagulants_yes</th>\n      <th>antihypert._drugs_pre-stroke_yes</th>\n      <th>...</th>\n      <th>referral_other_hospital</th>\n      <th>referral_self_referral_or_gp</th>\n      <th>sex_male</th>\n      <th>sodium</th>\n      <th>temperature</th>\n      <th>thrombocytes</th>\n      <th>triglycerides</th>\n      <th>uree</th>\n      <th>wake_up_stroke_true</th>\n      <th>weight</th>\n    </tr>\n    <tr>\n      <th>sample_idx</th>\n      <th>time_idx</th>\n      <th></th>\n      <th></th>\n      <th></th>\n      <th></th>\n      <th></th>\n      <th></th>\n      <th></th>\n      <th></th>\n      <th></th>\n      <th></th>\n      <th></th>\n      <th></th>\n      <th></th>\n      <th></th>\n      <th></th>\n      <th></th>\n      <th></th>\n      <th></th>\n      <th></th>\n      <th></th>\n      <th></th>\n    </tr>\n  </thead>\n  <tbody>\n    <tr>\n      <th rowspan=\"5\" valign=\"top\">100023_4784</th>\n      <th>0</th>\n      <td>-0.301828</td>\n      <td>-0.642529</td>\n      <td>-0.28577</td>\n      <td>0.385502</td>\n      <td>-0.077362</td>\n      <td>1.616579</td>\n      <td>-1.198924</td>\n      <td>-0.767160</td>\n      <td>0.0</td>\n      <td>0.0</td>\n      <td>...</td>\n      <td>0.0</td>\n      <td>0.0</td>\n      <td>1.0</td>\n      <td>0.190726</td>\n      <td>-2.295099</td>\n      <td>-0.315647</td>\n      <td>-0.291580</td>\n      <td>0.013028</td>\n      <td>1.0</td>\n      <td>1.153254</td>\n    </tr>\n    <tr>\n      <th>1</th>\n      <td>-0.301828</td>\n      <td>-0.642529</td>\n      <td>-0.28577</td>\n      <td>0.385502</td>\n      <td>-0.077362</td>\n      <td>1.616579</td>\n      <td>-1.198924</td>\n      <td>-0.767160</td>\n      <td>0.0</td>\n      <td>0.0</td>\n      <td>...</td>\n      <td>0.0</td>\n      <td>0.0</td>\n      <td>1.0</td>\n      <td>0.190726</td>\n      <td>-0.094932</td>\n      <td>-0.315647</td>\n      <td>-0.291580</td>\n      <td>0.013028</td>\n      <td>1.0</td>\n      <td>1.153254</td>\n    </tr>\n    <tr>\n      <th>2</th>\n      <td>-0.301828</td>\n      <td>-0.642529</td>\n      <td>-0.28577</td>\n      <td>0.385502</td>\n      <td>-0.077362</td>\n      <td>1.616579</td>\n      <td>-1.198924</td>\n      <td>-0.767160</td>\n      <td>0.0</td>\n      <td>0.0</td>\n      <td>...</td>\n      <td>0.0</td>\n      <td>0.0</td>\n      <td>1.0</td>\n      <td>0.190726</td>\n      <td>-0.094932</td>\n      <td>-0.315647</td>\n      <td>-0.291580</td>\n      <td>0.013028</td>\n      <td>1.0</td>\n      <td>1.153254</td>\n    </tr>\n    <tr>\n      <th>3</th>\n      <td>-0.301828</td>\n      <td>-0.642529</td>\n      <td>-0.28577</td>\n      <td>0.385502</td>\n      <td>-0.077362</td>\n      <td>1.616579</td>\n      <td>-1.198924</td>\n      <td>-0.767160</td>\n      <td>0.0</td>\n      <td>0.0</td>\n      <td>...</td>\n      <td>0.0</td>\n      <td>0.0</td>\n      <td>1.0</td>\n      <td>0.190726</td>\n      <td>-0.094932</td>\n      <td>-0.315647</td>\n      <td>-0.291580</td>\n      <td>0.013028</td>\n      <td>1.0</td>\n      <td>1.153254</td>\n    </tr>\n    <tr>\n      <th>4</th>\n      <td>-0.301828</td>\n      <td>-0.642529</td>\n      <td>-0.28577</td>\n      <td>0.385502</td>\n      <td>-0.077362</td>\n      <td>1.616579</td>\n      <td>-1.198924</td>\n      <td>-0.767160</td>\n      <td>0.0</td>\n      <td>0.0</td>\n      <td>...</td>\n      <td>0.0</td>\n      <td>0.0</td>\n      <td>1.0</td>\n      <td>0.190726</td>\n      <td>-0.094932</td>\n      <td>-0.315647</td>\n      <td>-0.291580</td>\n      <td>0.013028</td>\n      <td>1.0</td>\n      <td>1.153254</td>\n    </tr>\n    <tr>\n      <th>...</th>\n      <th>...</th>\n      <td>...</td>\n      <td>...</td>\n      <td>...</td>\n      <td>...</td>\n      <td>...</td>\n      <td>...</td>\n      <td>...</td>\n      <td>...</td>\n      <td>...</td>\n      <td>...</td>\n      <td>...</td>\n      <td>...</td>\n      <td>...</td>\n      <td>...</td>\n      <td>...</td>\n      <td>...</td>\n      <td>...</td>\n      <td>...</td>\n      <td>...</td>\n      <td>...</td>\n      <td>...</td>\n    </tr>\n    <tr>\n      <th rowspan=\"5\" valign=\"top\">9996_3256</th>\n      <th>66</th>\n      <td>1.205856</td>\n      <td>-0.801674</td>\n      <td>-0.28577</td>\n      <td>0.385502</td>\n      <td>-0.751824</td>\n      <td>0.516917</td>\n      <td>-0.345719</td>\n      <td>-0.347627</td>\n      <td>0.0</td>\n      <td>1.0</td>\n      <td>...</td>\n      <td>0.0</td>\n      <td>1.0</td>\n      <td>1.0</td>\n      <td>-0.440140</td>\n      <td>0.368262</td>\n      <td>-0.098847</td>\n      <td>1.810562</td>\n      <td>0.377717</td>\n      <td>0.0</td>\n      <td>-0.075108</td>\n    </tr>\n    <tr>\n      <th>67</th>\n      <td>1.205856</td>\n      <td>-0.801674</td>\n      <td>-0.28577</td>\n      <td>0.385502</td>\n      <td>-0.751824</td>\n      <td>0.516917</td>\n      <td>-0.345719</td>\n      <td>-0.347627</td>\n      <td>0.0</td>\n      <td>1.0</td>\n      <td>...</td>\n      <td>0.0</td>\n      <td>1.0</td>\n      <td>1.0</td>\n      <td>-0.440140</td>\n      <td>0.368262</td>\n      <td>-0.098847</td>\n      <td>1.810562</td>\n      <td>0.377717</td>\n      <td>0.0</td>\n      <td>-0.075108</td>\n    </tr>\n    <tr>\n      <th>68</th>\n      <td>1.205856</td>\n      <td>-0.801674</td>\n      <td>-0.28577</td>\n      <td>0.385502</td>\n      <td>-0.751824</td>\n      <td>0.516917</td>\n      <td>-0.345719</td>\n      <td>-0.347627</td>\n      <td>0.0</td>\n      <td>1.0</td>\n      <td>...</td>\n      <td>0.0</td>\n      <td>1.0</td>\n      <td>1.0</td>\n      <td>-0.440140</td>\n      <td>0.368262</td>\n      <td>-0.098847</td>\n      <td>1.810562</td>\n      <td>0.377717</td>\n      <td>0.0</td>\n      <td>-0.075108</td>\n    </tr>\n    <tr>\n      <th>69</th>\n      <td>1.205856</td>\n      <td>-0.801674</td>\n      <td>-0.28577</td>\n      <td>0.385502</td>\n      <td>-0.751824</td>\n      <td>0.516917</td>\n      <td>-0.345719</td>\n      <td>-0.347627</td>\n      <td>0.0</td>\n      <td>1.0</td>\n      <td>...</td>\n      <td>0.0</td>\n      <td>1.0</td>\n      <td>1.0</td>\n      <td>-0.440140</td>\n      <td>0.368262</td>\n      <td>-0.098847</td>\n      <td>1.810562</td>\n      <td>0.377717</td>\n      <td>0.0</td>\n      <td>-0.075108</td>\n    </tr>\n    <tr>\n      <th>70</th>\n      <td>1.205856</td>\n      <td>-0.801674</td>\n      <td>-0.28577</td>\n      <td>0.385502</td>\n      <td>-0.751824</td>\n      <td>0.516917</td>\n      <td>-0.345719</td>\n      <td>-0.347627</td>\n      <td>0.0</td>\n      <td>1.0</td>\n      <td>...</td>\n      <td>0.0</td>\n      <td>1.0</td>\n      <td>1.0</td>\n      <td>-0.440140</td>\n      <td>-0.558125</td>\n      <td>-0.098847</td>\n      <td>1.810562</td>\n      <td>0.377717</td>\n      <td>0.0</td>\n      <td>-0.075108</td>\n    </tr>\n  </tbody>\n</table>\n<p>177003 rows × 84 columns</p>\n</div>"
     },
     "execution_count": 104,
     "metadata": {},
     "output_type": "execute_result"
    }
   ],
   "source": [
    "data.time_series"
   ],
   "metadata": {
    "collapsed": false,
    "ExecuteTime": {
     "end_time": "2023-11-27T10:50:23.606210Z",
     "start_time": "2023-11-27T10:50:23.548238Z"
    }
   },
   "id": "51fcc1fe4b17cb19"
  },
  {
   "cell_type": "code",
   "execution_count": 105,
   "outputs": [
    {
     "data": {
      "text/plain": "TimeSeriesSamples with data:\n                      anti_hypertensive_strategy\nsample_idx  time_idx                            \n100023_4784 0                                4.0\n            1                                4.0\n            2                                4.0\n            3                                4.0\n            4                                4.0\n...                                          ...\n9996_3256   66                               7.0\n            67                               7.0\n            68                               7.0\n            69                               7.0\n            70                               7.0\n\n[177003 rows x 1 columns]",
      "text/html": "<p><span style=\"font-family: monospace;\">TimeSeriesSamples</span> with data:</p><div>\n<style scoped>\n    .dataframe tbody tr th:only-of-type {\n        vertical-align: middle;\n    }\n\n    .dataframe tbody tr th {\n        vertical-align: top;\n    }\n\n    .dataframe thead th {\n        text-align: right;\n    }\n</style>\n<table border=\"1\" class=\"dataframe\">\n  <thead>\n    <tr style=\"text-align: right;\">\n      <th></th>\n      <th></th>\n      <th>anti_hypertensive_strategy</th>\n    </tr>\n    <tr>\n      <th>sample_idx</th>\n      <th>time_idx</th>\n      <th></th>\n    </tr>\n  </thead>\n  <tbody>\n    <tr>\n      <th rowspan=\"5\" valign=\"top\">100023_4784</th>\n      <th>0</th>\n      <td>4.0</td>\n    </tr>\n    <tr>\n      <th>1</th>\n      <td>4.0</td>\n    </tr>\n    <tr>\n      <th>2</th>\n      <td>4.0</td>\n    </tr>\n    <tr>\n      <th>3</th>\n      <td>4.0</td>\n    </tr>\n    <tr>\n      <th>4</th>\n      <td>4.0</td>\n    </tr>\n    <tr>\n      <th>...</th>\n      <th>...</th>\n      <td>...</td>\n    </tr>\n    <tr>\n      <th rowspan=\"5\" valign=\"top\">9996_3256</th>\n      <th>66</th>\n      <td>7.0</td>\n    </tr>\n    <tr>\n      <th>67</th>\n      <td>7.0</td>\n    </tr>\n    <tr>\n      <th>68</th>\n      <td>7.0</td>\n    </tr>\n    <tr>\n      <th>69</th>\n      <td>7.0</td>\n    </tr>\n    <tr>\n      <th>70</th>\n      <td>7.0</td>\n    </tr>\n  </tbody>\n</table>\n<p>177003 rows × 1 columns</p>\n</div>"
     },
     "execution_count": 105,
     "metadata": {},
     "output_type": "execute_result"
    }
   ],
   "source": [
    "data.predictive.treatments"
   ],
   "metadata": {
    "collapsed": false,
    "ExecuteTime": {
     "end_time": "2023-11-27T10:50:23.617599Z",
     "start_time": "2023-11-27T10:50:23.605492Z"
    }
   },
   "id": "50aae2c780b42190"
  },
  {
   "cell_type": "code",
   "execution_count": 106,
   "outputs": [
    {
     "data": {
      "text/plain": "                       nihss_delta_at_next_ts\nsample_idx   time_idx                        \n100023_4784  0                           -2.0\n             1                            0.0\n             2                            0.0\n             3                            0.0\n             4                            0.0\n...                                       ...\n1002417_9090 24                           0.0\n             25                           0.0\n             26                           0.0\n             27                           0.0\n             28                           0.0\n\n[100 rows x 1 columns]",
      "text/html": "<div>\n<style scoped>\n    .dataframe tbody tr th:only-of-type {\n        vertical-align: middle;\n    }\n\n    .dataframe tbody tr th {\n        vertical-align: top;\n    }\n\n    .dataframe thead th {\n        text-align: right;\n    }\n</style>\n<table border=\"1\" class=\"dataframe\">\n  <thead>\n    <tr style=\"text-align: right;\">\n      <th></th>\n      <th></th>\n      <th>nihss_delta_at_next_ts</th>\n    </tr>\n    <tr>\n      <th>sample_idx</th>\n      <th>time_idx</th>\n      <th></th>\n    </tr>\n  </thead>\n  <tbody>\n    <tr>\n      <th rowspan=\"5\" valign=\"top\">100023_4784</th>\n      <th>0</th>\n      <td>-2.0</td>\n    </tr>\n    <tr>\n      <th>1</th>\n      <td>0.0</td>\n    </tr>\n    <tr>\n      <th>2</th>\n      <td>0.0</td>\n    </tr>\n    <tr>\n      <th>3</th>\n      <td>0.0</td>\n    </tr>\n    <tr>\n      <th>4</th>\n      <td>0.0</td>\n    </tr>\n    <tr>\n      <th>...</th>\n      <th>...</th>\n      <td>...</td>\n    </tr>\n    <tr>\n      <th rowspan=\"5\" valign=\"top\">1002417_9090</th>\n      <th>24</th>\n      <td>0.0</td>\n    </tr>\n    <tr>\n      <th>25</th>\n      <td>0.0</td>\n    </tr>\n    <tr>\n      <th>26</th>\n      <td>0.0</td>\n    </tr>\n    <tr>\n      <th>27</th>\n      <td>0.0</td>\n    </tr>\n    <tr>\n      <th>28</th>\n      <td>0.0</td>\n    </tr>\n  </tbody>\n</table>\n<p>100 rows × 1 columns</p>\n</div>"
     },
     "execution_count": 106,
     "metadata": {},
     "output_type": "execute_result"
    }
   ],
   "source": [
    "data.predictive.targets.dataframe().head(100)"
   ],
   "metadata": {
    "collapsed": false,
    "ExecuteTime": {
     "end_time": "2023-11-27T10:50:23.623562Z",
     "start_time": "2023-11-27T10:50:23.616077Z"
    }
   },
   "id": "7ffa392165a3bf9"
  },
  {
   "cell_type": "code",
   "execution_count": 84,
   "outputs": [],
   "source": [],
   "metadata": {
    "collapsed": false,
    "ExecuteTime": {
     "end_time": "2023-11-27T10:43:10.354078Z",
     "start_time": "2023-11-27T10:43:10.338620Z"
    }
   },
   "id": "1e87550a36b459a1"
  }
 ],
 "metadata": {
  "kernelspec": {
   "display_name": "Python 3",
   "language": "python",
   "name": "python3"
  },
  "language_info": {
   "codemirror_mode": {
    "name": "ipython",
    "version": 2
   },
   "file_extension": ".py",
   "mimetype": "text/x-python",
   "name": "python",
   "nbconvert_exporter": "python",
   "pygments_lexer": "ipython2",
   "version": "2.7.6"
  }
 },
 "nbformat": 4,
 "nbformat_minor": 5
}
