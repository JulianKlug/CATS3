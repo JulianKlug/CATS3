{
 "cells": [
  {
   "cell_type": "code",
   "execution_count": 1,
   "outputs": [],
   "source": [
    "from ray.rllib.algorithms.dqn import DQNConfig\n",
    "from ray.rllib.offline.estimators import (\n",
    "    ImportanceSampling,\n",
    "    WeightedImportanceSampling,\n",
    "    DirectMethod,\n",
    "    DoublyRobust,\n",
    ")\n",
    "from tqdm import tqdm\n",
    "from ray.rllib.offline.estimators.fqe_torch_model import FQETorchModel\n",
    "import numpy as np"
   ],
   "metadata": {
    "collapsed": false,
    "ExecuteTime": {
     "end_time": "2023-12-19T21:36:25.752141Z",
     "start_time": "2023-12-19T21:36:11.281872Z"
    }
   },
   "id": "4130e532199268e3"
  },
  {
   "cell_type": "markdown",
   "source": [
    "## Demo data"
   ],
   "metadata": {
    "collapsed": false
   },
   "id": "c69f2aff37821398"
  },
  {
   "cell_type": "code",
   "execution_count": 2,
   "id": "initial_id",
   "metadata": {
    "collapsed": true,
    "ExecuteTime": {
     "end_time": "2023-12-10T11:26:12.261063Z",
     "start_time": "2023-12-10T11:26:12.253091Z"
    }
   },
   "outputs": [],
   "source": [
    "config = (\n",
    "    DQNConfig()\n",
    "    .environment(env=\"CartPole-v1\")\n",
    "    .framework(\"torch\")\n",
    "    .offline_data(input_=\"/Users/jk1/temp/ope_tests/cartpole-out\")\n",
    "    .evaluation(\n",
    "        evaluation_interval=1,\n",
    "        evaluation_duration=10,\n",
    "        evaluation_num_workers=1,\n",
    "        evaluation_duration_unit=\"timesteps\",\n",
    "        evaluation_config={\"input\": \"/Users/jk1/temp/ope_tests/cartpole-eval\"},\n",
    "        off_policy_estimation_methods={\n",
    "            \"is\": {\"type\": ImportanceSampling},\n",
    "            \"wis\": {\"type\": WeightedImportanceSampling},\n",
    "            \"dm_fqe\": {\n",
    "                \"type\": DirectMethod,\n",
    "                \"q_model_config\": {\"type\": FQETorchModel, \"polyak_coef\": 0.05},\n",
    "            },\n",
    "            \"dr_fqe\": {\n",
    "                \"type\": DoublyRobust,\n",
    "                \"q_model_config\": {\"type\": FQETorchModel, \"polyak_coef\": 0.05},\n",
    "            },\n",
    "        },\n",
    "    )\n",
    ")\n"
   ]
  },
  {
   "cell_type": "code",
   "execution_count": 3,
   "outputs": [
    {
     "name": "stderr",
     "output_type": "stream",
     "text": [
      "2023-12-10 12:26:12,256\tWARNING deprecation.py:50 -- DeprecationWarning: `rllib/algorithms/simple_q/` has been deprecated. Use `rllib_contrib/simple_q/` instead. This will raise an error in the future!\n",
      "/Users/jk1/opt/anaconda3/envs/cats3/lib/python3.10/site-packages/ray/rllib/algorithms/algorithm.py:484: RayDeprecationWarning: This API is deprecated and may be removed in future Ray releases. You could suppress this warning by setting env variable PYTHONWARNINGS=\"ignore::DeprecationWarning\"\n",
      "`UnifiedLogger` will be removed in Ray 2.7.\n",
      "  return UnifiedLogger(config, logdir, loggers=None)\n",
      "/Users/jk1/opt/anaconda3/envs/cats3/lib/python3.10/site-packages/ray/tune/logger/unified.py:53: RayDeprecationWarning: This API is deprecated and may be removed in future Ray releases. You could suppress this warning by setting env variable PYTHONWARNINGS=\"ignore::DeprecationWarning\"\n",
      "The `JsonLogger interface is deprecated in favor of the `ray.tune.json.JsonLoggerCallback` interface and will be removed in Ray 2.7.\n",
      "  self._loggers.append(cls(self.config, self.logdir, self.trial))\n",
      "/Users/jk1/opt/anaconda3/envs/cats3/lib/python3.10/site-packages/ray/tune/logger/unified.py:53: RayDeprecationWarning: This API is deprecated and may be removed in future Ray releases. You could suppress this warning by setting env variable PYTHONWARNINGS=\"ignore::DeprecationWarning\"\n",
      "The `CSVLogger interface is deprecated in favor of the `ray.tune.csv.CSVLoggerCallback` interface and will be removed in Ray 2.7.\n",
      "  self._loggers.append(cls(self.config, self.logdir, self.trial))\n",
      "/Users/jk1/opt/anaconda3/envs/cats3/lib/python3.10/site-packages/ray/tune/logger/unified.py:53: RayDeprecationWarning: This API is deprecated and may be removed in future Ray releases. You could suppress this warning by setting env variable PYTHONWARNINGS=\"ignore::DeprecationWarning\"\n",
      "The `TBXLogger interface is deprecated in favor of the `ray.tune.tensorboardx.TBXLoggerCallback` interface and will be removed in Ray 2.7.\n",
      "  self._loggers.append(cls(self.config, self.logdir, self.trial))\n",
      "2023-12-10 12:26:12,359\tWARNING deprecation.py:50 -- DeprecationWarning: `ray.rllib.models.torch.fcnet.FullyConnectedNetwork` has been deprecated. This will raise an error in the future!\n",
      "2023-12-10 12:26:12,976\tWARNING json_reader.py:261 -- Treating input directory as glob patterns: ['/Users/jk1/temp/ope_tests/cartpole-out/*.json', '/Users/jk1/temp/ope_tests/cartpole-out/*.zip']\n",
      "2023-12-10 12:26:15,687\tINFO worker.py:1673 -- Started a local Ray instance.\n",
      "\u001B[33m(raylet)\u001B[0m [2023-12-10 12:26:25,681 E 12512 503067] (raylet) file_system_monitor.cc:111: /tmp/ray/session_2023-12-10_12-26-13_065290_12500 is over 95% full, available space: 1205727232; capacity: 499963174912. Object creation will fail if spilling is required.\n",
      "\u001B[36m(RolloutWorker pid=12539)\u001B[0m 2023-12-10 12:26:29,624\tWARNING deprecation.py:50 -- DeprecationWarning: `ray.rllib.models.torch.fcnet.FullyConnectedNetwork` has been deprecated. This will raise an error in the future!\n",
      "2023-12-10 12:26:30,133\tWARNING json_reader.py:261 -- Treating input directory as glob patterns: ['/Users/jk1/temp/ope_tests/cartpole-eval/*.json', '/Users/jk1/temp/ope_tests/cartpole-eval/*.zip']\n",
      "2023-12-10 12:26:30,145\tINFO trainable.py:164 -- Trainable.setup took 17.828 seconds. If your trainable is slow to initialize, consider setting reuse_actors=True to reduce actor creation overheads.\n",
      "2023-12-10 12:26:30,148\tWARNING util.py:62 -- Install gputil for GPU system monitoring.\n"
     ]
    }
   ],
   "source": [
    "algo = config.build()"
   ],
   "metadata": {
    "collapsed": false,
    "ExecuteTime": {
     "end_time": "2023-12-10T11:26:30.180877Z",
     "start_time": "2023-12-10T11:26:12.259248Z"
    }
   },
   "id": "ea3c6de11a554819"
  },
  {
   "cell_type": "code",
   "execution_count": 4,
   "outputs": [
    {
     "name": "stderr",
     "output_type": "stream",
     "text": [
      "\u001B[36m(RolloutWorker pid=12539)\u001B[0m 2023-12-10 12:26:30,096\tWARNING json_reader.py:261 -- Treating input directory as glob patterns: ['/Users/jk1/temp/ope_tests/cartpole-eval/*.json', '/Users/jk1/temp/ope_tests/cartpole-eval/*.zip']\n",
      "2023-12-10 12:26:31,986\tWARNING deprecation.py:50 -- DeprecationWarning: `ray.rllib.execution.train_ops.multi_gpu_train_one_step` has been deprecated. This will raise an error in the future!\n"
     ]
    }
   ],
   "source": [
    "for _ in range(2):\n",
    "    algo.train()"
   ],
   "metadata": {
    "collapsed": false,
    "ExecuteTime": {
     "end_time": "2023-12-10T11:26:35.554523Z",
     "start_time": "2023-12-10T11:26:30.162173Z"
    }
   },
   "id": "78c161c286b91582"
  },
  {
   "cell_type": "code",
   "execution_count": 5,
   "outputs": [],
   "source": [
    "from ray.rllib.offline.json_reader import JsonReader\n",
    "from ray.rllib.offline.estimators import DoublyRobust\n",
    "from ray.rllib.offline.estimators.fqe_torch_model import FQETorchModel\n",
    "\n",
    "estimator = DoublyRobust(\n",
    "    policy=algo.get_policy(),\n",
    "    gamma=0.99,\n",
    "    q_model_config={\"type\": FQETorchModel, \"n_iters\": 160},\n",
    ")"
   ],
   "metadata": {
    "collapsed": false,
    "ExecuteTime": {
     "end_time": "2023-12-10T11:26:35.572012Z",
     "start_time": "2023-12-10T11:26:35.561569Z"
    }
   },
   "id": "dcf8f65a8f89fe84"
  },
  {
   "cell_type": "code",
   "execution_count": 6,
   "outputs": [
    {
     "name": "stderr",
     "output_type": "stream",
     "text": [
      "2023-12-10 12:26:35,573\tWARNING json_reader.py:261 -- Treating input directory as glob patterns: ['/Users/jk1/temp/ope_tests/cartpole-out/*.json', '/Users/jk1/temp/ope_tests/cartpole-out/*.zip']\n",
      "\u001B[33m(raylet)\u001B[0m [2023-12-10 12:26:35,735 E 12512 503067] (raylet) file_system_monitor.cc:111: /tmp/ray/session_2023-12-10_12-26-13_065290_12500 is over 95% full, available space: 1204441088; capacity: 499963174912. Object creation will fail if spilling is required.\n"
     ]
    },
    {
     "name": "stdout",
     "output_type": "stream",
     "text": [
      "{'loss': 246.2779119031076}\n",
      "{'loss': 47136.12594086613}\n"
     ]
    }
   ],
   "source": [
    "# Train estimator's Q-model; only required for DM and DR estimators\n",
    "reader = JsonReader(\"/Users/jk1/temp/ope_tests/cartpole-out\")\n",
    "for _ in range(2):\n",
    "    batch = reader.next()\n",
    "    print(estimator.train(batch))\n",
    "    # {'loss': ...}"
   ],
   "metadata": {
    "collapsed": false,
    "ExecuteTime": {
     "end_time": "2023-12-10T11:26:38.689438Z",
     "start_time": "2023-12-10T11:26:35.574996Z"
    }
   },
   "id": "3718059a87f08f8c"
  },
  {
   "cell_type": "code",
   "execution_count": 7,
   "outputs": [
    {
     "name": "stderr",
     "output_type": "stream",
     "text": [
      "2023-12-10 12:26:38,678\tWARNING json_reader.py:261 -- Treating input directory as glob patterns: ['/Users/jk1/temp/ope_tests/cartpole-eval/*.json', '/Users/jk1/temp/ope_tests/cartpole-eval/*.zip']\n"
     ]
    },
    {
     "name": "stdout",
     "output_type": "stream",
     "text": [
      "{'v_behavior': 16.334573860702964, 'v_behavior_std': 7.473125277139228, 'v_target': 1981.9499566597967, 'v_target_std': 3193.4366097375023, 'v_gain': 121.3346594506447, 'v_delta': 1965.6153827990938}\n",
      "{'v_behavior': 16.334573860702964, 'v_behavior_std': 7.473125277139228, 'v_target': 1981.9499566597967, 'v_target_std': 3193.4366097375023, 'v_gain': 121.3346594506447, 'v_delta': 1965.6153827990938}\n"
     ]
    }
   ],
   "source": [
    "reader = JsonReader(\"/Users/jk1/temp/ope_tests/cartpole-eval\")\n",
    "# Compute off-policy estimates\n",
    "for _ in range(2):\n",
    "    batch = reader.next()\n",
    "    print(estimator.estimate(batch))"
   ],
   "metadata": {
    "collapsed": false,
    "ExecuteTime": {
     "end_time": "2023-12-10T11:26:38.818127Z",
     "start_time": "2023-12-10T11:26:38.682115Z"
    }
   },
   "id": "4bcd51d0ea53d715"
  },
  {
   "cell_type": "code",
   "execution_count": 8,
   "outputs": [],
   "source": [
    "from ray.rllib.policy.sample_batch import convert_ma_batch_to_sample_batch\n",
    "\n",
    "batch = convert_ma_batch_to_sample_batch(batch)    \n"
   ],
   "metadata": {
    "collapsed": false,
    "ExecuteTime": {
     "end_time": "2023-12-10T11:26:38.818416Z",
     "start_time": "2023-12-10T11:26:38.802077Z"
    }
   },
   "id": "cd8e50cfe5c20abf"
  },
  {
   "cell_type": "code",
   "execution_count": 9,
   "outputs": [
    {
     "data": {
      "text/plain": "SampleBatch(200: ['obs', 'new_obs', 'actions', 'prev_actions', 'rewards', 'prev_rewards', 'terminateds', 'truncateds', 'infos', 'eps_id', 'unroll_id', 'agent_index', 't', 'action_dist_inputs', 'action_prob', 'action_logp', 'advantages', 'value_targets'])"
     },
     "execution_count": 9,
     "metadata": {},
     "output_type": "execute_result"
    }
   ],
   "source": [
    "batch"
   ],
   "metadata": {
    "collapsed": false,
    "ExecuteTime": {
     "end_time": "2023-12-10T11:26:38.857885Z",
     "start_time": "2023-12-10T11:26:38.815460Z"
    }
   },
   "id": "33323fbfb9135595"
  },
  {
   "cell_type": "code",
   "execution_count": 10,
   "outputs": [],
   "source": [
    "all_episodes = batch.split_by_episode()"
   ],
   "metadata": {
    "collapsed": false,
    "ExecuteTime": {
     "end_time": "2023-12-10T11:26:38.959469Z",
     "start_time": "2023-12-10T11:26:38.823558Z"
    }
   },
   "id": "1cfce8fd375bce75"
  },
  {
   "cell_type": "code",
   "execution_count": 11,
   "outputs": [
    {
     "data": {
      "text/plain": "array([False, False, False, False, False, False, False, False, False,\n       False, False, False])"
     },
     "execution_count": 11,
     "metadata": {},
     "output_type": "execute_result"
    }
   ],
   "source": [
    "all_episodes[-1]['truncateds']"
   ],
   "metadata": {
    "collapsed": false,
    "ExecuteTime": {
     "end_time": "2023-12-10T11:26:38.979462Z",
     "start_time": "2023-12-10T11:26:38.883056Z"
    }
   },
   "id": "6bf33eaedd0d7c08"
  },
  {
   "cell_type": "markdown",
   "source": [
    "## Custom data"
   ],
   "metadata": {
    "collapsed": false
   },
   "id": "6a6eab416811b1c7"
  },
  {
   "cell_type": "markdown",
   "source": [
    "### Prepare data"
   ],
   "metadata": {
    "collapsed": false
   },
   "id": "9d2dbe85563362cc"
  },
  {
   "cell_type": "code",
   "execution_count": 2,
   "outputs": [],
   "source": [
    "import pandas as pd"
   ],
   "metadata": {
    "collapsed": false,
    "ExecuteTime": {
     "end_time": "2023-12-19T21:36:25.766337Z",
     "start_time": "2023-12-19T21:36:25.755025Z"
    }
   },
   "id": "6380acfb9a9f078b"
  },
  {
   "cell_type": "code",
   "execution_count": 3,
   "outputs": [],
   "source": [
    "data_path = '/Users/jk1/temp/treatment_effects/preprocessing/gsu_Extraction_20220815_prepro_25112023_213851/splits/train_features_split_0.csv'\n",
    "continuous_outcomes_path = '/Users/jk1/temp/treatment_effects/preprocessing/gsu_Extraction_20220815_prepro_25112023_213851/splits/train_continuous_outcomes_split_0.csv'\n",
    "outcomes_path = '/Users/jk1/temp/treatment_effects/preprocessing/gsu_Extraction_20220815_prepro_25112023_213851/splits/train_final_outcomes_split_0.csv'\n"
   ],
   "metadata": {
    "collapsed": false,
    "ExecuteTime": {
     "end_time": "2023-12-19T21:36:25.770420Z",
     "start_time": "2023-12-19T21:36:25.761119Z"
    }
   },
   "id": "8a704eafd8457a5a"
  },
  {
   "cell_type": "code",
   "execution_count": 4,
   "outputs": [],
   "source": [
    "features_df = pd.read_csv(data_path)\n",
    "continuous_outcomes_df = pd.read_csv(continuous_outcomes_path)\n",
    "outcomes_df = pd.read_csv(outcomes_path)"
   ],
   "metadata": {
    "collapsed": false,
    "ExecuteTime": {
     "end_time": "2023-12-19T21:36:38.576328Z",
     "start_time": "2023-12-19T21:36:25.770893Z"
    }
   },
   "id": "6ce71cb23f8a19dc"
  },
  {
   "cell_type": "code",
   "execution_count": 5,
   "outputs": [],
   "source": [
    "# Features data\n",
    "features_df.drop(columns=['impute_missing_as'], inplace=True)\n",
    "\n",
    "pivoted_features_df = features_df.pivot(index=['case_admission_id', 'relative_sample_date_hourly_cat'],\n",
    "                                        columns='sample_label', values='value')\n",
    "\n",
    "# get rid of multiindex\n",
    "pivoted_features_df = pivoted_features_df.rename_axis(None, axis=1).reset_index()\n",
    "\n",
    "# seperate out treatment features\n",
    "treatment_df = pivoted_features_df[\n",
    "    ['case_admission_id', 'relative_sample_date_hourly_cat', 'anti_hypertensive_strategy']]\n",
    "pivoted_features_df.drop(columns=['anti_hypertensive_strategy'], inplace=True)"
   ],
   "metadata": {
    "collapsed": false,
    "ExecuteTime": {
     "end_time": "2023-12-19T21:36:44.277305Z",
     "start_time": "2023-12-19T21:36:38.578068Z"
    }
   },
   "id": "1571d0bf72d17987"
  },
  {
   "cell_type": "code",
   "execution_count": 42,
   "outputs": [
    {
     "data": {
      "text/plain": "       case_admission_id  relative_sample_date_hourly_cat      ALAT      ASAT  \\\n0           1002417_9090                                0 -0.164766 -0.165095   \n1           1002417_9090                                1 -0.164766 -0.165095   \n2           1002417_9090                                2 -0.164766 -0.165095   \n3           1002417_9090                                3 -0.164766 -0.165095   \n4           1002417_9090                                4 -0.164766 -0.165095   \n...                  ...                              ...       ...       ...   \n104467       996783_7797                               67 -0.164766 -0.165095   \n104468       996783_7797                               68 -0.164766 -0.165095   \n104469       996783_7797                               69 -0.164766 -0.165095   \n104470       996783_7797                               70 -0.164766 -0.165095   \n104471       996783_7797                               71 -0.164766 -0.165095   \n\n           FIO2  Glasgow Coma Scale       INR  LDL cholesterol calcule  \\\n0      -0.28577            0.385502 -0.751824                -0.163287   \n1      -0.28577            0.385502 -0.751824                -0.163287   \n2      -0.28577            0.385502 -0.751824                -0.163287   \n3      -0.28577            0.385502 -0.751824                -0.163287   \n4      -0.28577            0.385502 -0.751824                -0.163287   \n...         ...                 ...       ...                      ...   \n104467 -0.28577            0.385502 -0.452063                -1.115572   \n104468 -0.28577            0.385502 -0.452063                -1.115572   \n104469 -0.28577            0.385502 -0.452063                -1.115572   \n104470 -0.28577            0.385502 -0.452063                -1.115572   \n104471 -0.28577            0.385502 -0.452063                -1.115572   \n\n             PTT      age  ...  referral_other_hospital  \\\n0      -1.135252 -1.49435  ...                      0.0   \n1      -1.135252 -1.49435  ...                      0.0   \n2      -1.135252 -1.49435  ...                      0.0   \n3      -1.135252 -1.49435  ...                      0.0   \n4      -1.135252 -1.49435  ...                      0.0   \n...          ...      ...  ...                      ...   \n104467 -1.033377 -0.64130  ...                      0.0   \n104468 -1.033377 -0.64130  ...                      0.0   \n104469 -1.033377 -0.64130  ...                      0.0   \n104470 -1.033377 -0.64130  ...                      0.0   \n104471 -1.033377 -0.64130  ...                      0.0   \n\n        referral_self_referral_or_gp  sex_male    sodium  temperature  \\\n0                                0.0       1.0 -1.544155    -0.326528   \n1                                0.0       1.0 -1.544155    -0.094932   \n2                                0.0       1.0 -1.544155    -0.094932   \n3                                0.0       1.0 -1.544155    -0.094932   \n4                                0.0       1.0 -1.544155    -0.094932   \n...                              ...       ...       ...          ...   \n104467                           1.0       1.0 -0.124707    -0.558125   \n104468                           1.0       1.0 -0.124707    -0.558125   \n104469                           1.0       1.0 -0.124707    -0.558125   \n104470                           1.0       1.0 -0.124707    -0.558125   \n104471                           1.0       1.0 -0.124707    -0.558125   \n\n        thrombocytes  triglycerides      uree  wake_up_stroke_true    weight  \n0           0.056011      -0.084327  1.061508                  1.0  0.743800  \n1           0.056011      -0.084327  1.061508                  1.0  0.743800  \n2           0.056011      -0.084327  1.061508                  1.0  0.743800  \n3           0.056011      -0.084327  1.061508                  1.0  0.880285  \n4           0.056011      -0.084327  1.061508                  1.0  0.880285  \n...              ...            ...       ...                  ...       ...  \n104467      2.425328       1.810562  0.058614                  0.0 -0.552805  \n104468      2.425328       1.810562  0.058614                  0.0 -0.552805  \n104469      2.425328       1.810562  0.058614                  0.0 -0.552805  \n104470      2.425328       1.810562  0.058614                  0.0 -0.552805  \n104471      2.425328       1.810562  0.058614                  0.0 -0.552805  \n\n[104472 rows x 86 columns]",
      "text/html": "<div>\n<style scoped>\n    .dataframe tbody tr th:only-of-type {\n        vertical-align: middle;\n    }\n\n    .dataframe tbody tr th {\n        vertical-align: top;\n    }\n\n    .dataframe thead th {\n        text-align: right;\n    }\n</style>\n<table border=\"1\" class=\"dataframe\">\n  <thead>\n    <tr style=\"text-align: right;\">\n      <th></th>\n      <th>case_admission_id</th>\n      <th>relative_sample_date_hourly_cat</th>\n      <th>ALAT</th>\n      <th>ASAT</th>\n      <th>FIO2</th>\n      <th>Glasgow Coma Scale</th>\n      <th>INR</th>\n      <th>LDL cholesterol calcule</th>\n      <th>PTT</th>\n      <th>age</th>\n      <th>...</th>\n      <th>referral_other_hospital</th>\n      <th>referral_self_referral_or_gp</th>\n      <th>sex_male</th>\n      <th>sodium</th>\n      <th>temperature</th>\n      <th>thrombocytes</th>\n      <th>triglycerides</th>\n      <th>uree</th>\n      <th>wake_up_stroke_true</th>\n      <th>weight</th>\n    </tr>\n  </thead>\n  <tbody>\n    <tr>\n      <th>0</th>\n      <td>1002417_9090</td>\n      <td>0</td>\n      <td>-0.164766</td>\n      <td>-0.165095</td>\n      <td>-0.28577</td>\n      <td>0.385502</td>\n      <td>-0.751824</td>\n      <td>-0.163287</td>\n      <td>-1.135252</td>\n      <td>-1.49435</td>\n      <td>...</td>\n      <td>0.0</td>\n      <td>0.0</td>\n      <td>1.0</td>\n      <td>-1.544155</td>\n      <td>-0.326528</td>\n      <td>0.056011</td>\n      <td>-0.084327</td>\n      <td>1.061508</td>\n      <td>1.0</td>\n      <td>0.743800</td>\n    </tr>\n    <tr>\n      <th>1</th>\n      <td>1002417_9090</td>\n      <td>1</td>\n      <td>-0.164766</td>\n      <td>-0.165095</td>\n      <td>-0.28577</td>\n      <td>0.385502</td>\n      <td>-0.751824</td>\n      <td>-0.163287</td>\n      <td>-1.135252</td>\n      <td>-1.49435</td>\n      <td>...</td>\n      <td>0.0</td>\n      <td>0.0</td>\n      <td>1.0</td>\n      <td>-1.544155</td>\n      <td>-0.094932</td>\n      <td>0.056011</td>\n      <td>-0.084327</td>\n      <td>1.061508</td>\n      <td>1.0</td>\n      <td>0.743800</td>\n    </tr>\n    <tr>\n      <th>2</th>\n      <td>1002417_9090</td>\n      <td>2</td>\n      <td>-0.164766</td>\n      <td>-0.165095</td>\n      <td>-0.28577</td>\n      <td>0.385502</td>\n      <td>-0.751824</td>\n      <td>-0.163287</td>\n      <td>-1.135252</td>\n      <td>-1.49435</td>\n      <td>...</td>\n      <td>0.0</td>\n      <td>0.0</td>\n      <td>1.0</td>\n      <td>-1.544155</td>\n      <td>-0.094932</td>\n      <td>0.056011</td>\n      <td>-0.084327</td>\n      <td>1.061508</td>\n      <td>1.0</td>\n      <td>0.743800</td>\n    </tr>\n    <tr>\n      <th>3</th>\n      <td>1002417_9090</td>\n      <td>3</td>\n      <td>-0.164766</td>\n      <td>-0.165095</td>\n      <td>-0.28577</td>\n      <td>0.385502</td>\n      <td>-0.751824</td>\n      <td>-0.163287</td>\n      <td>-1.135252</td>\n      <td>-1.49435</td>\n      <td>...</td>\n      <td>0.0</td>\n      <td>0.0</td>\n      <td>1.0</td>\n      <td>-1.544155</td>\n      <td>-0.094932</td>\n      <td>0.056011</td>\n      <td>-0.084327</td>\n      <td>1.061508</td>\n      <td>1.0</td>\n      <td>0.880285</td>\n    </tr>\n    <tr>\n      <th>4</th>\n      <td>1002417_9090</td>\n      <td>4</td>\n      <td>-0.164766</td>\n      <td>-0.165095</td>\n      <td>-0.28577</td>\n      <td>0.385502</td>\n      <td>-0.751824</td>\n      <td>-0.163287</td>\n      <td>-1.135252</td>\n      <td>-1.49435</td>\n      <td>...</td>\n      <td>0.0</td>\n      <td>0.0</td>\n      <td>1.0</td>\n      <td>-1.544155</td>\n      <td>-0.094932</td>\n      <td>0.056011</td>\n      <td>-0.084327</td>\n      <td>1.061508</td>\n      <td>1.0</td>\n      <td>0.880285</td>\n    </tr>\n    <tr>\n      <th>...</th>\n      <td>...</td>\n      <td>...</td>\n      <td>...</td>\n      <td>...</td>\n      <td>...</td>\n      <td>...</td>\n      <td>...</td>\n      <td>...</td>\n      <td>...</td>\n      <td>...</td>\n      <td>...</td>\n      <td>...</td>\n      <td>...</td>\n      <td>...</td>\n      <td>...</td>\n      <td>...</td>\n      <td>...</td>\n      <td>...</td>\n      <td>...</td>\n      <td>...</td>\n      <td>...</td>\n    </tr>\n    <tr>\n      <th>104467</th>\n      <td>996783_7797</td>\n      <td>67</td>\n      <td>-0.164766</td>\n      <td>-0.165095</td>\n      <td>-0.28577</td>\n      <td>0.385502</td>\n      <td>-0.452063</td>\n      <td>-1.115572</td>\n      <td>-1.033377</td>\n      <td>-0.64130</td>\n      <td>...</td>\n      <td>0.0</td>\n      <td>1.0</td>\n      <td>1.0</td>\n      <td>-0.124707</td>\n      <td>-0.558125</td>\n      <td>2.425328</td>\n      <td>1.810562</td>\n      <td>0.058614</td>\n      <td>0.0</td>\n      <td>-0.552805</td>\n    </tr>\n    <tr>\n      <th>104468</th>\n      <td>996783_7797</td>\n      <td>68</td>\n      <td>-0.164766</td>\n      <td>-0.165095</td>\n      <td>-0.28577</td>\n      <td>0.385502</td>\n      <td>-0.452063</td>\n      <td>-1.115572</td>\n      <td>-1.033377</td>\n      <td>-0.64130</td>\n      <td>...</td>\n      <td>0.0</td>\n      <td>1.0</td>\n      <td>1.0</td>\n      <td>-0.124707</td>\n      <td>-0.558125</td>\n      <td>2.425328</td>\n      <td>1.810562</td>\n      <td>0.058614</td>\n      <td>0.0</td>\n      <td>-0.552805</td>\n    </tr>\n    <tr>\n      <th>104469</th>\n      <td>996783_7797</td>\n      <td>69</td>\n      <td>-0.164766</td>\n      <td>-0.165095</td>\n      <td>-0.28577</td>\n      <td>0.385502</td>\n      <td>-0.452063</td>\n      <td>-1.115572</td>\n      <td>-1.033377</td>\n      <td>-0.64130</td>\n      <td>...</td>\n      <td>0.0</td>\n      <td>1.0</td>\n      <td>1.0</td>\n      <td>-0.124707</td>\n      <td>-0.558125</td>\n      <td>2.425328</td>\n      <td>1.810562</td>\n      <td>0.058614</td>\n      <td>0.0</td>\n      <td>-0.552805</td>\n    </tr>\n    <tr>\n      <th>104470</th>\n      <td>996783_7797</td>\n      <td>70</td>\n      <td>-0.164766</td>\n      <td>-0.165095</td>\n      <td>-0.28577</td>\n      <td>0.385502</td>\n      <td>-0.452063</td>\n      <td>-1.115572</td>\n      <td>-1.033377</td>\n      <td>-0.64130</td>\n      <td>...</td>\n      <td>0.0</td>\n      <td>1.0</td>\n      <td>1.0</td>\n      <td>-0.124707</td>\n      <td>-0.558125</td>\n      <td>2.425328</td>\n      <td>1.810562</td>\n      <td>0.058614</td>\n      <td>0.0</td>\n      <td>-0.552805</td>\n    </tr>\n    <tr>\n      <th>104471</th>\n      <td>996783_7797</td>\n      <td>71</td>\n      <td>-0.164766</td>\n      <td>-0.165095</td>\n      <td>-0.28577</td>\n      <td>0.385502</td>\n      <td>-0.452063</td>\n      <td>-1.115572</td>\n      <td>-1.033377</td>\n      <td>-0.64130</td>\n      <td>...</td>\n      <td>0.0</td>\n      <td>1.0</td>\n      <td>1.0</td>\n      <td>-0.124707</td>\n      <td>-0.558125</td>\n      <td>2.425328</td>\n      <td>1.810562</td>\n      <td>0.058614</td>\n      <td>0.0</td>\n      <td>-0.552805</td>\n    </tr>\n  </tbody>\n</table>\n<p>104472 rows × 86 columns</p>\n</div>"
     },
     "execution_count": 42,
     "metadata": {},
     "output_type": "execute_result"
    }
   ],
   "source": [
    "pivoted_features_df"
   ],
   "metadata": {
    "collapsed": false,
    "ExecuteTime": {
     "end_time": "2023-12-20T10:06:38.801913Z",
     "start_time": "2023-12-20T10:06:38.634727Z"
    }
   },
   "id": "328bdbe57450131e"
  },
  {
   "cell_type": "code",
   "execution_count": 6,
   "outputs": [
    {
     "data": {
      "text/plain": "1451"
     },
     "execution_count": 6,
     "metadata": {},
     "output_type": "execute_result"
    }
   ],
   "source": [
    "n_episodes = features_df.case_admission_id.nunique()\n",
    "n_episodes"
   ],
   "metadata": {
    "collapsed": false,
    "ExecuteTime": {
     "end_time": "2023-12-19T21:36:44.781973Z",
     "start_time": "2023-12-19T21:36:44.567828Z"
    }
   },
   "id": "cbf7ebafdc9c5ad8"
  },
  {
   "cell_type": "code",
   "execution_count": 7,
   "outputs": [],
   "source": [
    "target_outcome = '3M mRS 0-2'\n",
    "verbose = True"
   ],
   "metadata": {
    "collapsed": false,
    "ExecuteTime": {
     "end_time": "2023-12-19T21:36:44.783182Z",
     "start_time": "2023-12-19T21:36:44.776084Z"
    }
   },
   "id": "c34b8e1ffb1eb3a3"
  },
  {
   "cell_type": "code",
   "execution_count": 13,
   "outputs": [],
   "source": [
    "# As preprocesor does not accept Text spaces, we need to convert them to two integers\n",
    "cid0 = pivoted_features_df[pivoted_features_df.columns[0]].apply(lambda x: x.split('_')[0]).astype(int)\n",
    "cid1 = pivoted_features_df[pivoted_features_df.columns[0]].apply(lambda x: x.split('_')[1]).astype(int)"
   ],
   "metadata": {
    "collapsed": false,
    "ExecuteTime": {
     "end_time": "2023-12-19T21:38:43.345299Z",
     "start_time": "2023-12-19T21:38:43.277254Z"
    }
   },
   "id": "7d5a1c2aa7317101"
  },
  {
   "cell_type": "code",
   "execution_count": 28,
   "outputs": [],
   "source": [
    "features_with_index_columns_df = pd.concat([cid0, cid1, pivoted_features_df[pivoted_features_df.columns[1:]]], axis=1).astype(float)\n",
    "features_with_index_columns_df.columns = ['cid0', 'cid1'] + list(pivoted_features_df.columns[1:])"
   ],
   "metadata": {
    "collapsed": false,
    "ExecuteTime": {
     "end_time": "2023-12-19T21:56:10.917876Z",
     "start_time": "2023-12-19T21:56:10.749253Z"
    }
   },
   "id": "725db3c0519b997"
  },
  {
   "cell_type": "code",
   "execution_count": 27,
   "outputs": [
    {
     "data": {
      "text/plain": "             cid0    cid1  relative_sample_date_hourly_cat      ALAT  \\\n0       1002417.0  9090.0                              0.0 -0.164766   \n1       1002417.0  9090.0                              1.0 -0.164766   \n2       1002417.0  9090.0                              2.0 -0.164766   \n3       1002417.0  9090.0                              3.0 -0.164766   \n4       1002417.0  9090.0                              4.0 -0.164766   \n...           ...     ...                              ...       ...   \n104467   996783.0  7797.0                             67.0 -0.164766   \n104468   996783.0  7797.0                             68.0 -0.164766   \n104469   996783.0  7797.0                             69.0 -0.164766   \n104470   996783.0  7797.0                             70.0 -0.164766   \n104471   996783.0  7797.0                             71.0 -0.164766   \n\n            ASAT     FIO2  Glasgow Coma Scale       INR  \\\n0      -0.165095 -0.28577            0.385502 -0.751824   \n1      -0.165095 -0.28577            0.385502 -0.751824   \n2      -0.165095 -0.28577            0.385502 -0.751824   \n3      -0.165095 -0.28577            0.385502 -0.751824   \n4      -0.165095 -0.28577            0.385502 -0.751824   \n...          ...      ...                 ...       ...   \n104467 -0.165095 -0.28577            0.385502 -0.452063   \n104468 -0.165095 -0.28577            0.385502 -0.452063   \n104469 -0.165095 -0.28577            0.385502 -0.452063   \n104470 -0.165095 -0.28577            0.385502 -0.452063   \n104471 -0.165095 -0.28577            0.385502 -0.452063   \n\n        LDL cholesterol calcule       PTT  ...  referral_other_hospital  \\\n0                     -0.163287 -1.135252  ...                      0.0   \n1                     -0.163287 -1.135252  ...                      0.0   \n2                     -0.163287 -1.135252  ...                      0.0   \n3                     -0.163287 -1.135252  ...                      0.0   \n4                     -0.163287 -1.135252  ...                      0.0   \n...                         ...       ...  ...                      ...   \n104467                -1.115572 -1.033377  ...                      0.0   \n104468                -1.115572 -1.033377  ...                      0.0   \n104469                -1.115572 -1.033377  ...                      0.0   \n104470                -1.115572 -1.033377  ...                      0.0   \n104471                -1.115572 -1.033377  ...                      0.0   \n\n        referral_self_referral_or_gp  sex_male    sodium  temperature  \\\n0                                0.0       1.0 -1.544155    -0.326528   \n1                                0.0       1.0 -1.544155    -0.094932   \n2                                0.0       1.0 -1.544155    -0.094932   \n3                                0.0       1.0 -1.544155    -0.094932   \n4                                0.0       1.0 -1.544155    -0.094932   \n...                              ...       ...       ...          ...   \n104467                           1.0       1.0 -0.124707    -0.558125   \n104468                           1.0       1.0 -0.124707    -0.558125   \n104469                           1.0       1.0 -0.124707    -0.558125   \n104470                           1.0       1.0 -0.124707    -0.558125   \n104471                           1.0       1.0 -0.124707    -0.558125   \n\n        thrombocytes  triglycerides      uree  wake_up_stroke_true    weight  \n0           0.056011      -0.084327  1.061508                  1.0  0.743800  \n1           0.056011      -0.084327  1.061508                  1.0  0.743800  \n2           0.056011      -0.084327  1.061508                  1.0  0.743800  \n3           0.056011      -0.084327  1.061508                  1.0  0.880285  \n4           0.056011      -0.084327  1.061508                  1.0  0.880285  \n...              ...            ...       ...                  ...       ...  \n104467      2.425328       1.810562  0.058614                  0.0 -0.552805  \n104468      2.425328       1.810562  0.058614                  0.0 -0.552805  \n104469      2.425328       1.810562  0.058614                  0.0 -0.552805  \n104470      2.425328       1.810562  0.058614                  0.0 -0.552805  \n104471      2.425328       1.810562  0.058614                  0.0 -0.552805  \n\n[104472 rows x 87 columns]",
      "text/html": "<div>\n<style scoped>\n    .dataframe tbody tr th:only-of-type {\n        vertical-align: middle;\n    }\n\n    .dataframe tbody tr th {\n        vertical-align: top;\n    }\n\n    .dataframe thead th {\n        text-align: right;\n    }\n</style>\n<table border=\"1\" class=\"dataframe\">\n  <thead>\n    <tr style=\"text-align: right;\">\n      <th></th>\n      <th>cid0</th>\n      <th>cid1</th>\n      <th>relative_sample_date_hourly_cat</th>\n      <th>ALAT</th>\n      <th>ASAT</th>\n      <th>FIO2</th>\n      <th>Glasgow Coma Scale</th>\n      <th>INR</th>\n      <th>LDL cholesterol calcule</th>\n      <th>PTT</th>\n      <th>...</th>\n      <th>referral_other_hospital</th>\n      <th>referral_self_referral_or_gp</th>\n      <th>sex_male</th>\n      <th>sodium</th>\n      <th>temperature</th>\n      <th>thrombocytes</th>\n      <th>triglycerides</th>\n      <th>uree</th>\n      <th>wake_up_stroke_true</th>\n      <th>weight</th>\n    </tr>\n  </thead>\n  <tbody>\n    <tr>\n      <th>0</th>\n      <td>1002417.0</td>\n      <td>9090.0</td>\n      <td>0.0</td>\n      <td>-0.164766</td>\n      <td>-0.165095</td>\n      <td>-0.28577</td>\n      <td>0.385502</td>\n      <td>-0.751824</td>\n      <td>-0.163287</td>\n      <td>-1.135252</td>\n      <td>...</td>\n      <td>0.0</td>\n      <td>0.0</td>\n      <td>1.0</td>\n      <td>-1.544155</td>\n      <td>-0.326528</td>\n      <td>0.056011</td>\n      <td>-0.084327</td>\n      <td>1.061508</td>\n      <td>1.0</td>\n      <td>0.743800</td>\n    </tr>\n    <tr>\n      <th>1</th>\n      <td>1002417.0</td>\n      <td>9090.0</td>\n      <td>1.0</td>\n      <td>-0.164766</td>\n      <td>-0.165095</td>\n      <td>-0.28577</td>\n      <td>0.385502</td>\n      <td>-0.751824</td>\n      <td>-0.163287</td>\n      <td>-1.135252</td>\n      <td>...</td>\n      <td>0.0</td>\n      <td>0.0</td>\n      <td>1.0</td>\n      <td>-1.544155</td>\n      <td>-0.094932</td>\n      <td>0.056011</td>\n      <td>-0.084327</td>\n      <td>1.061508</td>\n      <td>1.0</td>\n      <td>0.743800</td>\n    </tr>\n    <tr>\n      <th>2</th>\n      <td>1002417.0</td>\n      <td>9090.0</td>\n      <td>2.0</td>\n      <td>-0.164766</td>\n      <td>-0.165095</td>\n      <td>-0.28577</td>\n      <td>0.385502</td>\n      <td>-0.751824</td>\n      <td>-0.163287</td>\n      <td>-1.135252</td>\n      <td>...</td>\n      <td>0.0</td>\n      <td>0.0</td>\n      <td>1.0</td>\n      <td>-1.544155</td>\n      <td>-0.094932</td>\n      <td>0.056011</td>\n      <td>-0.084327</td>\n      <td>1.061508</td>\n      <td>1.0</td>\n      <td>0.743800</td>\n    </tr>\n    <tr>\n      <th>3</th>\n      <td>1002417.0</td>\n      <td>9090.0</td>\n      <td>3.0</td>\n      <td>-0.164766</td>\n      <td>-0.165095</td>\n      <td>-0.28577</td>\n      <td>0.385502</td>\n      <td>-0.751824</td>\n      <td>-0.163287</td>\n      <td>-1.135252</td>\n      <td>...</td>\n      <td>0.0</td>\n      <td>0.0</td>\n      <td>1.0</td>\n      <td>-1.544155</td>\n      <td>-0.094932</td>\n      <td>0.056011</td>\n      <td>-0.084327</td>\n      <td>1.061508</td>\n      <td>1.0</td>\n      <td>0.880285</td>\n    </tr>\n    <tr>\n      <th>4</th>\n      <td>1002417.0</td>\n      <td>9090.0</td>\n      <td>4.0</td>\n      <td>-0.164766</td>\n      <td>-0.165095</td>\n      <td>-0.28577</td>\n      <td>0.385502</td>\n      <td>-0.751824</td>\n      <td>-0.163287</td>\n      <td>-1.135252</td>\n      <td>...</td>\n      <td>0.0</td>\n      <td>0.0</td>\n      <td>1.0</td>\n      <td>-1.544155</td>\n      <td>-0.094932</td>\n      <td>0.056011</td>\n      <td>-0.084327</td>\n      <td>1.061508</td>\n      <td>1.0</td>\n      <td>0.880285</td>\n    </tr>\n    <tr>\n      <th>...</th>\n      <td>...</td>\n      <td>...</td>\n      <td>...</td>\n      <td>...</td>\n      <td>...</td>\n      <td>...</td>\n      <td>...</td>\n      <td>...</td>\n      <td>...</td>\n      <td>...</td>\n      <td>...</td>\n      <td>...</td>\n      <td>...</td>\n      <td>...</td>\n      <td>...</td>\n      <td>...</td>\n      <td>...</td>\n      <td>...</td>\n      <td>...</td>\n      <td>...</td>\n      <td>...</td>\n    </tr>\n    <tr>\n      <th>104467</th>\n      <td>996783.0</td>\n      <td>7797.0</td>\n      <td>67.0</td>\n      <td>-0.164766</td>\n      <td>-0.165095</td>\n      <td>-0.28577</td>\n      <td>0.385502</td>\n      <td>-0.452063</td>\n      <td>-1.115572</td>\n      <td>-1.033377</td>\n      <td>...</td>\n      <td>0.0</td>\n      <td>1.0</td>\n      <td>1.0</td>\n      <td>-0.124707</td>\n      <td>-0.558125</td>\n      <td>2.425328</td>\n      <td>1.810562</td>\n      <td>0.058614</td>\n      <td>0.0</td>\n      <td>-0.552805</td>\n    </tr>\n    <tr>\n      <th>104468</th>\n      <td>996783.0</td>\n      <td>7797.0</td>\n      <td>68.0</td>\n      <td>-0.164766</td>\n      <td>-0.165095</td>\n      <td>-0.28577</td>\n      <td>0.385502</td>\n      <td>-0.452063</td>\n      <td>-1.115572</td>\n      <td>-1.033377</td>\n      <td>...</td>\n      <td>0.0</td>\n      <td>1.0</td>\n      <td>1.0</td>\n      <td>-0.124707</td>\n      <td>-0.558125</td>\n      <td>2.425328</td>\n      <td>1.810562</td>\n      <td>0.058614</td>\n      <td>0.0</td>\n      <td>-0.552805</td>\n    </tr>\n    <tr>\n      <th>104469</th>\n      <td>996783.0</td>\n      <td>7797.0</td>\n      <td>69.0</td>\n      <td>-0.164766</td>\n      <td>-0.165095</td>\n      <td>-0.28577</td>\n      <td>0.385502</td>\n      <td>-0.452063</td>\n      <td>-1.115572</td>\n      <td>-1.033377</td>\n      <td>...</td>\n      <td>0.0</td>\n      <td>1.0</td>\n      <td>1.0</td>\n      <td>-0.124707</td>\n      <td>-0.558125</td>\n      <td>2.425328</td>\n      <td>1.810562</td>\n      <td>0.058614</td>\n      <td>0.0</td>\n      <td>-0.552805</td>\n    </tr>\n    <tr>\n      <th>104470</th>\n      <td>996783.0</td>\n      <td>7797.0</td>\n      <td>70.0</td>\n      <td>-0.164766</td>\n      <td>-0.165095</td>\n      <td>-0.28577</td>\n      <td>0.385502</td>\n      <td>-0.452063</td>\n      <td>-1.115572</td>\n      <td>-1.033377</td>\n      <td>...</td>\n      <td>0.0</td>\n      <td>1.0</td>\n      <td>1.0</td>\n      <td>-0.124707</td>\n      <td>-0.558125</td>\n      <td>2.425328</td>\n      <td>1.810562</td>\n      <td>0.058614</td>\n      <td>0.0</td>\n      <td>-0.552805</td>\n    </tr>\n    <tr>\n      <th>104471</th>\n      <td>996783.0</td>\n      <td>7797.0</td>\n      <td>71.0</td>\n      <td>-0.164766</td>\n      <td>-0.165095</td>\n      <td>-0.28577</td>\n      <td>0.385502</td>\n      <td>-0.452063</td>\n      <td>-1.115572</td>\n      <td>-1.033377</td>\n      <td>...</td>\n      <td>0.0</td>\n      <td>1.0</td>\n      <td>1.0</td>\n      <td>-0.124707</td>\n      <td>-0.558125</td>\n      <td>2.425328</td>\n      <td>1.810562</td>\n      <td>0.058614</td>\n      <td>0.0</td>\n      <td>-0.552805</td>\n    </tr>\n  </tbody>\n</table>\n<p>104472 rows × 87 columns</p>\n</div>"
     },
     "execution_count": 27,
     "metadata": {},
     "output_type": "execute_result"
    }
   ],
   "source": [
    "features_with_index_columns_dffeatures_with_index_columns_df"
   ],
   "metadata": {
    "collapsed": false,
    "ExecuteTime": {
     "end_time": "2023-12-19T21:55:57.107814Z",
     "start_time": "2023-12-19T21:55:56.952248Z"
    }
   },
   "id": "8dd2768b4eda078f"
  },
  {
   "cell_type": "code",
   "execution_count": 41,
   "outputs": [
    {
     "name": "stderr",
     "output_type": "stream",
     "text": [
      "/var/folders/9v/1s329cwj32jc2kkx24p8jp980000gp/T/ipykernel_13188/2013509784.py:25: DeprecationWarning: `product` is deprecated as of NumPy 1.25.0, and will be removed in NumPy 2.0. Please use `prod` instead.\n",
      "  prep = get_preprocessor(obs_space)(obs_space)\n"
     ]
    },
    {
     "name": "stdout",
     "output_type": "stream",
     "text": [
      "The preprocessor is <ray.rllib.models.preprocessors.NoPreprocessor object at 0x7ff6482bca00>\n"
     ]
    },
    {
     "name": "stderr",
     "output_type": "stream",
     "text": [
      "  0%|          | 0/2 [00:00<?, ?it/s]"
     ]
    },
    {
     "name": "stdout",
     "output_type": "stream",
     "text": [
      "cid: 1002417_9090, ts: 0, action: 7, terminated: False, reward: 0\n",
      "prev_action: 7\n",
      "---\n",
      "cid: 1002417_9090, ts: 1, action: 7, terminated: False, reward: 0\n",
      "prev_action: 7\n",
      "---\n",
      "cid: 1002417_9090, ts: 2, action: 7, terminated: False, reward: 0\n",
      "prev_action: 7\n",
      "---\n",
      "cid: 1002417_9090, ts: 3, action: 7, terminated: False, reward: 0\n",
      "prev_action: 7\n",
      "---\n",
      "cid: 1002417_9090, ts: 4, action: 7, terminated: False, reward: 0\n",
      "prev_action: 7\n",
      "---\n",
      "cid: 1002417_9090, ts: 5, action: 7, terminated: False, reward: 0\n",
      "prev_action: 7\n",
      "---\n",
      "cid: 1002417_9090, ts: 6, action: 7, terminated: False, reward: 0\n",
      "prev_action: 7\n",
      "---\n",
      "cid: 1002417_9090, ts: 7, action: 7, terminated: False, reward: 0\n",
      "prev_action: 7\n",
      "---\n",
      "cid: 1002417_9090, ts: 8, action: 7, terminated: False, reward: 0\n",
      "prev_action: 7\n",
      "---\n",
      "cid: 1002417_9090, ts: 9, action: 7, terminated: False, reward: 0\n",
      "prev_action: 7\n",
      "---\n",
      "cid: 1002417_9090, ts: 10, action: 7, terminated: False, reward: 0\n",
      "prev_action: 7\n",
      "---\n",
      "cid: 1002417_9090, ts: 11, action: 7, terminated: False, reward: 0\n",
      "prev_action: 7\n",
      "---\n",
      "cid: 1002417_9090, ts: 12, action: 7, terminated: False, reward: 0\n",
      "prev_action: 7\n",
      "---\n",
      "cid: 1002417_9090, ts: 13, action: 7, terminated: False, reward: 0\n",
      "prev_action: 7\n",
      "---\n",
      "cid: 1002417_9090, ts: 14, action: 7, terminated: False, reward: 0\n",
      "prev_action: 7\n",
      "---\n",
      "cid: 1002417_9090, ts: 15, action: 7, terminated: False, reward: 0\n",
      "prev_action: 7\n",
      "---\n",
      "cid: 1002417_9090, ts: 16, action: 7, terminated: False, reward: 0\n",
      "prev_action: 7\n",
      "---\n",
      "cid: 1002417_9090, ts: 17, action: 7, terminated: False, reward: 0\n",
      "prev_action: 7\n",
      "---\n",
      "cid: 1002417_9090, ts: 18, action: 7, terminated: False, reward: 0\n",
      "prev_action: 7\n",
      "---\n",
      "cid: 1002417_9090, ts: 19, action: 7, terminated: False, reward: 0\n",
      "prev_action: 7\n",
      "---\n",
      "cid: 1002417_9090, ts: 20, action: 7, terminated: False, reward: 0\n",
      "prev_action: 7\n",
      "---\n",
      "cid: 1002417_9090, ts: 21, action: 7, terminated: False, reward: 0\n",
      "prev_action: 7\n",
      "---\n",
      "cid: 1002417_9090, ts: 22, action: 7, terminated: False, reward: 0\n",
      "prev_action: 7\n",
      "---\n",
      "cid: 1002417_9090, ts: 23, action: 7, terminated: False, reward: 0\n",
      "prev_action: 7\n",
      "---\n",
      "cid: 1002417_9090, ts: 24, action: 7, terminated: False, reward: 0\n",
      "prev_action: 7\n",
      "---\n",
      "cid: 1002417_9090, ts: 25, action: 7, terminated: False, reward: 0\n",
      "prev_action: 7\n",
      "---\n",
      "cid: 1002417_9090, ts: 26, action: 7, terminated: False, reward: 0\n",
      "prev_action: 7\n",
      "---\n",
      "cid: 1002417_9090, ts: 27, action: 7, terminated: False, reward: 0\n",
      "prev_action: 7\n",
      "---\n",
      "cid: 1002417_9090, ts: 28, action: 7, terminated: False, reward: 0\n",
      "prev_action: 7\n",
      "---\n",
      "cid: 1002417_9090, ts: 29, action: 7, terminated: False, reward: 0\n",
      "prev_action: 7\n",
      "---\n",
      "cid: 1002417_9090, ts: 30, action: 7, terminated: False, reward: 0\n",
      "prev_action: 7\n",
      "---\n",
      "cid: 1002417_9090, ts: 31, action: 7, terminated: False, reward: 0\n",
      "prev_action: 7\n",
      "---\n",
      "cid: 1002417_9090, ts: 32, action: 7, terminated: False, reward: 0\n",
      "prev_action: 7\n",
      "---\n",
      "cid: 1002417_9090, ts: 33, action: 7, terminated: False, reward: 0\n",
      "prev_action: 7\n",
      "---\n",
      "cid: 1002417_9090, ts: 34, action: 7, terminated: False, reward: 0\n",
      "prev_action: 7\n",
      "---\n",
      "cid: 1002417_9090, ts: 35, action: 7, terminated: False, reward: 0\n",
      "prev_action: 7\n",
      "---\n",
      "cid: 1002417_9090, ts: 36, action: 7, terminated: False, reward: 0\n",
      "prev_action: 7\n",
      "---\n",
      "cid: 1002417_9090, ts: 37, action: 7, terminated: False, reward: 0\n",
      "prev_action: 7\n",
      "---\n",
      "cid: 1002417_9090, ts: 38, action: 4, terminated: False, reward: 0\n",
      "prev_action: 7\n",
      "---\n",
      "cid: 1002417_9090, ts: 39, action: 4, terminated: False, reward: 0\n",
      "prev_action: 4\n",
      "---\n",
      "cid: 1002417_9090, ts: 40, action: 4, terminated: False, reward: 0\n",
      "prev_action: 4\n",
      "---\n",
      "cid: 1002417_9090, ts: 41, action: 4, terminated: False, reward: 0\n",
      "prev_action: 4\n",
      "---\n",
      "cid: 1002417_9090, ts: 42, action: 4, terminated: False, reward: 0\n",
      "prev_action: 4\n",
      "---\n",
      "cid: 1002417_9090, ts: 43, action: 4, terminated: False, reward: 0\n",
      "prev_action: 4\n",
      "---\n",
      "cid: 1002417_9090, ts: 44, action: 4, terminated: False, reward: 0\n",
      "prev_action: 4\n",
      "---\n",
      "cid: 1002417_9090, ts: 45, action: 4, terminated: False, reward: 0\n",
      "prev_action: 4\n",
      "---\n",
      "cid: 1002417_9090, ts: 46, action: 4, terminated: False, reward: 0\n",
      "prev_action: 4\n",
      "---\n",
      "cid: 1002417_9090, ts: 47, action: 4, terminated: False, reward: 0\n",
      "prev_action: 4\n",
      "---\n",
      "cid: 1002417_9090, ts: 48, action: 4, terminated: False, reward: 0\n",
      "prev_action: 4\n",
      "---\n",
      "cid: 1002417_9090, ts: 49, action: 4, terminated: False, reward: 0\n",
      "prev_action: 4\n",
      "---\n",
      "cid: 1002417_9090, ts: 50, action: 4, terminated: False, reward: 0\n",
      "prev_action: 4\n",
      "---\n",
      "cid: 1002417_9090, ts: 51, action: 4, terminated: False, reward: 0\n",
      "prev_action: 4\n",
      "---\n",
      "cid: 1002417_9090, ts: 52, action: 4, terminated: False, reward: 0\n",
      "prev_action: 4\n",
      "---\n",
      "cid: 1002417_9090, ts: 53, action: 4, terminated: False, reward: 0\n",
      "prev_action: 4\n",
      "---\n",
      "cid: 1002417_9090, ts: 54, action: 4, terminated: False, reward: 0\n",
      "prev_action: 4\n",
      "---\n",
      "cid: 1002417_9090, ts: 55, action: 4, terminated: False, reward: 0\n",
      "prev_action: 4\n",
      "---\n",
      "cid: 1002417_9090, ts: 56, action: 4, terminated: False, reward: 0\n",
      "prev_action: 4\n",
      "---\n",
      "cid: 1002417_9090, ts: 57, action: 4, terminated: False, reward: 0\n",
      "prev_action: 4\n",
      "---\n",
      "cid: 1002417_9090, ts: 58, action: 4, terminated: False, reward: 0\n",
      "prev_action: 4\n",
      "---\n",
      "cid: 1002417_9090, ts: 59, action: 4, terminated: False, reward: 0\n",
      "prev_action: 4\n",
      "---\n",
      "cid: 1002417_9090, ts: 60, action: 4, terminated: False, reward: 0\n",
      "prev_action: 4\n",
      "---\n",
      "cid: 1002417_9090, ts: 61, action: 4, terminated: False, reward: 0\n",
      "prev_action: 4\n",
      "---\n",
      "cid: 1002417_9090, ts: 62, action: 4, terminated: False, reward: 0\n",
      "prev_action: 4\n",
      "---\n",
      "cid: 1002417_9090, ts: 63, action: 4, terminated: False, reward: 0\n",
      "prev_action: 4\n",
      "---\n",
      "cid: 1002417_9090, ts: 64, action: 4, terminated: False, reward: 0\n",
      "prev_action: 4\n",
      "---\n",
      "cid: 1002417_9090, ts: 65, action: 4, terminated: False, reward: 0\n",
      "prev_action: 4\n",
      "---\n",
      "cid: 1002417_9090, ts: 66, action: 4, terminated: False, reward: 0\n",
      "prev_action: 4\n",
      "---\n",
      "cid: 1002417_9090, ts: 67, action: 4, terminated: False, reward: 0\n",
      "prev_action: 4\n",
      "---\n",
      "cid: 1002417_9090, ts: 68, action: 4, terminated: False, reward: 0\n",
      "prev_action: 4\n",
      "---\n"
     ]
    },
    {
     "name": "stderr",
     "output_type": "stream",
     "text": [
      " 50%|█████     | 1/2 [00:01<00:01,  1.35s/it]"
     ]
    },
    {
     "name": "stdout",
     "output_type": "stream",
     "text": [
      "cid: 1002417_9090, ts: 69, action: 4, terminated: False, reward: 0\n",
      "prev_action: 4\n",
      "---\n",
      "cid: 1002417_9090, ts: 70, action: 4, terminated: True, reward: 0.0\n",
      "prev_action: 4\n",
      "---\n",
      "cid: 100447_0097, ts: 0, action: 7, terminated: False, reward: 0\n",
      "prev_action: 7\n",
      "---\n",
      "cid: 100447_0097, ts: 1, action: 7, terminated: False, reward: 0\n",
      "prev_action: 7\n",
      "---\n",
      "cid: 100447_0097, ts: 2, action: 7, terminated: False, reward: 0\n",
      "prev_action: 7\n",
      "---\n",
      "cid: 100447_0097, ts: 3, action: 7, terminated: False, reward: 0\n",
      "prev_action: 7\n",
      "---\n",
      "cid: 100447_0097, ts: 4, action: 7, terminated: False, reward: 0\n",
      "prev_action: 7\n",
      "---\n",
      "cid: 100447_0097, ts: 5, action: 7, terminated: False, reward: 0\n",
      "prev_action: 7\n",
      "---\n",
      "cid: 100447_0097, ts: 6, action: 7, terminated: False, reward: 0\n",
      "prev_action: 7\n",
      "---\n",
      "cid: 100447_0097, ts: 7, action: 7, terminated: False, reward: 0\n",
      "prev_action: 7\n",
      "---\n",
      "cid: 100447_0097, ts: 8, action: 7, terminated: False, reward: 0\n",
      "prev_action: 7\n",
      "---\n",
      "cid: 100447_0097, ts: 9, action: 7, terminated: False, reward: 0\n",
      "prev_action: 7\n",
      "---\n",
      "cid: 100447_0097, ts: 10, action: 7, terminated: False, reward: 0\n",
      "prev_action: 7\n",
      "---\n",
      "cid: 100447_0097, ts: 11, action: 7, terminated: False, reward: 0\n",
      "prev_action: 7\n",
      "---\n",
      "cid: 100447_0097, ts: 12, action: 7, terminated: False, reward: 0\n",
      "prev_action: 7\n",
      "---\n",
      "cid: 100447_0097, ts: 13, action: 7, terminated: False, reward: 0\n",
      "prev_action: 7\n",
      "---\n",
      "cid: 100447_0097, ts: 14, action: 7, terminated: False, reward: 0\n",
      "prev_action: 7\n",
      "---\n",
      "cid: 100447_0097, ts: 15, action: 7, terminated: False, reward: 0\n",
      "prev_action: 7\n",
      "---\n",
      "cid: 100447_0097, ts: 16, action: 7, terminated: False, reward: 0\n",
      "prev_action: 7\n",
      "---\n",
      "cid: 100447_0097, ts: 17, action: 7, terminated: False, reward: 0\n",
      "prev_action: 7\n",
      "---\n",
      "cid: 100447_0097, ts: 18, action: 7, terminated: False, reward: 0\n",
      "prev_action: 7\n",
      "---\n",
      "cid: 100447_0097, ts: 19, action: 7, terminated: False, reward: 0\n",
      "prev_action: 7\n",
      "---\n",
      "cid: 100447_0097, ts: 20, action: 7, terminated: False, reward: 0\n",
      "prev_action: 7\n",
      "---\n",
      "cid: 100447_0097, ts: 21, action: 7, terminated: False, reward: 0\n",
      "prev_action: 7\n",
      "---\n",
      "cid: 100447_0097, ts: 22, action: 7, terminated: False, reward: 0\n",
      "prev_action: 7\n",
      "---\n",
      "cid: 100447_0097, ts: 23, action: 7, terminated: False, reward: 0\n",
      "prev_action: 7\n",
      "---\n",
      "cid: 100447_0097, ts: 24, action: 7, terminated: False, reward: 0\n",
      "prev_action: 7\n",
      "---\n",
      "cid: 100447_0097, ts: 25, action: 7, terminated: False, reward: 0\n",
      "prev_action: 7\n",
      "---\n",
      "cid: 100447_0097, ts: 26, action: 7, terminated: False, reward: 0\n",
      "prev_action: 7\n",
      "---\n",
      "cid: 100447_0097, ts: 27, action: 7, terminated: False, reward: 0\n",
      "prev_action: 7\n",
      "---\n",
      "cid: 100447_0097, ts: 28, action: 7, terminated: False, reward: 0\n",
      "prev_action: 7\n",
      "---\n",
      "cid: 100447_0097, ts: 29, action: 7, terminated: False, reward: 0\n",
      "prev_action: 7\n",
      "---\n",
      "cid: 100447_0097, ts: 30, action: 7, terminated: False, reward: 0\n",
      "prev_action: 7\n",
      "---\n",
      "cid: 100447_0097, ts: 31, action: 7, terminated: False, reward: 0\n",
      "prev_action: 7\n",
      "---\n",
      "cid: 100447_0097, ts: 32, action: 7, terminated: False, reward: 0\n",
      "prev_action: 7\n",
      "---\n",
      "cid: 100447_0097, ts: 33, action: 7, terminated: False, reward: 0\n",
      "prev_action: 7\n",
      "---\n",
      "cid: 100447_0097, ts: 34, action: 7, terminated: False, reward: 0\n",
      "prev_action: 7\n",
      "---\n",
      "cid: 100447_0097, ts: 35, action: 7, terminated: False, reward: 0\n",
      "prev_action: 7\n",
      "---\n",
      "cid: 100447_0097, ts: 36, action: 7, terminated: False, reward: 0\n",
      "prev_action: 7\n",
      "---\n",
      "cid: 100447_0097, ts: 37, action: 7, terminated: False, reward: 0\n",
      "prev_action: 7\n",
      "---\n",
      "cid: 100447_0097, ts: 38, action: 7, terminated: False, reward: 0\n",
      "prev_action: 7\n",
      "---\n",
      "cid: 100447_0097, ts: 39, action: 7, terminated: False, reward: 0\n",
      "prev_action: 7\n",
      "---\n",
      "cid: 100447_0097, ts: 40, action: 7, terminated: False, reward: 0\n",
      "prev_action: 7\n",
      "---\n",
      "cid: 100447_0097, ts: 41, action: 7, terminated: False, reward: 0\n",
      "prev_action: 7\n",
      "---\n",
      "cid: 100447_0097, ts: 42, action: 7, terminated: False, reward: 0\n",
      "prev_action: 7\n",
      "---\n",
      "cid: 100447_0097, ts: 43, action: 7, terminated: False, reward: 0\n",
      "prev_action: 7\n",
      "---\n",
      "cid: 100447_0097, ts: 44, action: 7, terminated: False, reward: 0\n",
      "prev_action: 7\n",
      "---\n",
      "cid: 100447_0097, ts: 45, action: 7, terminated: False, reward: 0\n",
      "prev_action: 7\n",
      "---\n",
      "cid: 100447_0097, ts: 46, action: 7, terminated: False, reward: 0\n",
      "prev_action: 7\n",
      "---\n",
      "cid: 100447_0097, ts: 47, action: 7, terminated: False, reward: 0\n",
      "prev_action: 7\n",
      "---\n",
      "cid: 100447_0097, ts: 48, action: 7, terminated: False, reward: 0\n",
      "prev_action: 7\n",
      "---\n",
      "cid: 100447_0097, ts: 49, action: 7, terminated: False, reward: 0\n",
      "prev_action: 7\n",
      "---\n",
      "cid: 100447_0097, ts: 50, action: 7, terminated: False, reward: 0\n",
      "prev_action: 7\n",
      "---\n",
      "cid: 100447_0097, ts: 51, action: 7, terminated: False, reward: 0\n",
      "prev_action: 7\n",
      "---\n",
      "cid: 100447_0097, ts: 52, action: 7, terminated: False, reward: 0\n",
      "prev_action: 7\n",
      "---\n",
      "cid: 100447_0097, ts: 53, action: 7, terminated: False, reward: 0\n",
      "prev_action: 7\n",
      "---\n",
      "cid: 100447_0097, ts: 54, action: 7, terminated: False, reward: 0\n",
      "prev_action: 7\n",
      "---\n",
      "cid: 100447_0097, ts: 55, action: 7, terminated: False, reward: 0\n",
      "prev_action: 7\n",
      "---\n",
      "cid: 100447_0097, ts: 56, action: 7, terminated: False, reward: 0\n",
      "prev_action: 7\n",
      "---\n",
      "cid: 100447_0097, ts: 57, action: 7, terminated: False, reward: 0\n",
      "prev_action: 7\n",
      "---\n",
      "cid: 100447_0097, ts: 58, action: 7, terminated: False, reward: 0\n",
      "prev_action: 7\n",
      "---\n",
      "cid: 100447_0097, ts: 59, action: 7, terminated: False, reward: 0\n",
      "prev_action: 7\n",
      "---\n",
      "cid: 100447_0097, ts: 60, action: 7, terminated: False, reward: 0\n",
      "prev_action: 7\n",
      "---\n",
      "cid: 100447_0097, ts: 61, action: 7, terminated: False, reward: 0\n",
      "prev_action: 7\n",
      "---\n",
      "cid: 100447_0097, ts: 62, action: 7, terminated: False, reward: 0\n",
      "prev_action: 7\n",
      "---\n",
      "cid: 100447_0097, ts: 63, action: 7, terminated: False, reward: 0\n",
      "prev_action: 7\n",
      "---\n",
      "cid: 100447_0097, ts: 64, action: 7, terminated: False, reward: 0\n",
      "prev_action: 7\n",
      "---\n"
     ]
    },
    {
     "name": "stderr",
     "output_type": "stream",
     "text": [
      "100%|██████████| 2/2 [00:02<00:00,  1.36s/it]"
     ]
    },
    {
     "name": "stdout",
     "output_type": "stream",
     "text": [
      "cid: 100447_0097, ts: 65, action: 7, terminated: False, reward: 0\n",
      "prev_action: 7\n",
      "---\n",
      "cid: 100447_0097, ts: 66, action: 7, terminated: False, reward: 0\n",
      "prev_action: 7\n",
      "---\n",
      "cid: 100447_0097, ts: 67, action: 7, terminated: False, reward: 0\n",
      "prev_action: 7\n",
      "---\n",
      "cid: 100447_0097, ts: 68, action: 7, terminated: False, reward: 0\n",
      "prev_action: 7\n",
      "---\n",
      "cid: 100447_0097, ts: 69, action: 7, terminated: False, reward: 0\n",
      "prev_action: 7\n",
      "---\n",
      "cid: 100447_0097, ts: 70, action: 7, terminated: True, reward: 1.0\n",
      "prev_action: 7\n",
      "---\n"
     ]
    },
    {
     "name": "stderr",
     "output_type": "stream",
     "text": [
      "\n"
     ]
    }
   ],
   "source": [
    "from ray.rllib.models.preprocessors import get_preprocessor\n",
    "from ray.rllib.offline import JsonWriter\n",
    "from ray.rllib.evaluation import SampleBatchBuilder\n",
    "from gymnasium.spaces import Box, Discrete, Dict, Text\n",
    "import numpy as np\n",
    "import os\n",
    "\n",
    "batch_builder = SampleBatchBuilder()  # or MultiAgentSampleBatchBuilder\n",
    "writer = JsonWriter(os.path.join('/Users/jk1/temp/ope_tests/', 'custom_data_out'))\n",
    "n_features = len(pivoted_features_df.columns) - 3\n",
    "\n",
    "# # As preprocesor does not accept Text spaces, we need to convert them to two integers\n",
    "# cid0 = pivoted_features_df[pivoted_features_df.columns[0]].apply(lambda x: x.split('_')[0]).astype(int)\n",
    "# cid1 = pivoted_features_df[pivoted_features_df.columns[0]].apply(lambda x: x.split('_')[1]).astype(int)\n",
    "# \n",
    "# obs_space = Dict({\n",
    "#     'cid': Box(low=min(cid0.min(), cid1.min()), high=max(cid0.max(), cid1.max()), shape=(2,), dtype=int),\n",
    "#     'timestep': Box(low=pivoted_features_df[pivoted_features_df.columns[1]].min().min(), high=pivoted_features_df[pivoted_features_df.columns[1]].max().max(),\n",
    "#                     shape=(1,), dtype=int),\n",
    "#     'data': Box(low=pivoted_features_df[pivoted_features_df.columns[2:]].min().min(), high=pivoted_features_df[pivoted_features_df.columns[2:]].max().max(), shape=(n_features,), dtype=np.float32)\n",
    "# })\n",
    "\n",
    "obs_space = Box(low=features_with_index_columns_df.min().min(), high=features_with_index_columns_df.max().max(), shape=(len(features_with_index_columns_df.columns),), dtype=np.float32)\n",
    "\n",
    "prep = get_preprocessor(obs_space)(obs_space)\n",
    "\n",
    "if verbose:\n",
    "    print(\"The preprocessor is\", prep)\n",
    "\n",
    "\n",
    "# for eps_id in tqdm(range(n_episodes)):\n",
    "for eps_id in tqdm(range(2)):\n",
    "    cid = pivoted_features_df.case_admission_id.unique()[eps_id]\n",
    "    cid_data_df = features_with_index_columns_df[(features_with_index_columns_df.cid0.astype(int) == int(cid.split('_')[0]))\n",
    "                                                    & (features_with_index_columns_df.cid1.astype(int) == int(cid.split('_')[1]))]\n",
    "    # for ts in range(cid_data_df.relative_sample_date_hourly_cat.max() + 1):\n",
    "    for ts in range(int(cid_data_df.relative_sample_date_hourly_cat.max())):\n",
    "        obs_df = cid_data_df[cid_data_df.relative_sample_date_hourly_cat == ts]\n",
    "        # obs_data = obs_df[obs_df.columns[2:]].values[0]\n",
    "        obs_data = obs_df.values[0]\n",
    "        \n",
    "        # obs = {\n",
    "        #     'cid': np.array(cid.split('_')).astype(int),\n",
    "        #     'timestep': np.array([ts]),\n",
    "        #     'data': obs_data\n",
    "        # }\n",
    "        \n",
    "        obs = prep.transform(obs_data)\n",
    "        \n",
    "        new_obs_df = cid_data_df[cid_data_df.relative_sample_date_hourly_cat == ts+1]\n",
    "        new_obs_data = new_obs_df.values[0]\n",
    "        # new_obs_data = new_obs_df[new_obs_df.columns[2:]].values[0]\n",
    "        # \n",
    "        # new_obs = {\n",
    "        #     'cid': np.array(cid.split('_')).astype(int),\n",
    "        #     'timestep': np.array([ts+1]),\n",
    "        #     'data': new_obs_data\n",
    "        # }\n",
    "        \n",
    "        new_obs = prep.transform(new_obs_data)\n",
    "        \n",
    "        action = int(treatment_df[(treatment_df.case_admission_id == cid) & (treatment_df.relative_sample_date_hourly_cat == ts)]['anti_hypertensive_strategy'].values[0])\n",
    "        \n",
    "        if ts == 0:\n",
    "            prev_action = action\n",
    "        else:\n",
    "            prev_action = int(treatment_df[(treatment_df.case_admission_id == cid) & (treatment_df.relative_sample_date_hourly_cat == ts-1)]['anti_hypertensive_strategy'].values[0])\n",
    "            \n",
    "        # if ts == cid_data_df.relative_sample_date_hourly_cat.max():\n",
    "        if ts == cid_data_df.relative_sample_date_hourly_cat.max() - 1:\n",
    "            terminated = True\n",
    "            reward = outcomes_df[outcomes_df.case_admission_id == cid][target_outcome].values[0]\n",
    "        else:\n",
    "            terminated = False\n",
    "            reward = 0\n",
    "            \n",
    "        truncated = False\n",
    "        prev_reward = 0\n",
    "        info = {}\n",
    "            \n",
    "        if verbose:\n",
    "            print(f'cid: {cid}, ts: {ts}, action: {action}, terminated: {terminated}, reward: {reward}')\n",
    "            print(f'prev_action: {prev_action}')\n",
    "            print('---')\n",
    " \n",
    "        batch_builder.add_values(\n",
    "                t=ts,\n",
    "                eps_id=eps_id,\n",
    "                agent_index=0,\n",
    "                obs=obs,\n",
    "                actions=action,\n",
    "                action_prob=1.0,  # put the true action probability here\n",
    "                action_logp=0.0,\n",
    "                rewards=reward,\n",
    "                prev_actions=prev_action,\n",
    "                prev_rewards=prev_reward,\n",
    "                terminateds=terminated,\n",
    "                truncateds=truncated,\n",
    "                infos=info,\n",
    "                new_obs=new_obs,\n",
    "            )\n",
    "        \n",
    "    writer.write(batch_builder.build_and_reset())\n",
    "\n",
    "        "
   ],
   "metadata": {
    "collapsed": false,
    "ExecuteTime": {
     "end_time": "2023-12-19T22:04:09.656622Z",
     "start_time": "2023-12-19T22:04:06.862988Z"
    }
   },
   "id": "f268c59146431c3f"
  },
  {
   "cell_type": "code",
   "execution_count": 40,
   "outputs": [
    {
     "data": {
      "text/plain": "71"
     },
     "execution_count": 40,
     "metadata": {},
     "output_type": "execute_result"
    }
   ],
   "source": [
    "int(cid_data_df.relative_sample_date_hourly_cat.max())"
   ],
   "metadata": {
    "collapsed": false,
    "ExecuteTime": {
     "end_time": "2023-12-19T22:03:55.857837Z",
     "start_time": "2023-12-19T22:03:55.844926Z"
    }
   },
   "id": "8333aedbf8c4ff5f"
  },
  {
   "cell_type": "code",
   "execution_count": 19,
   "outputs": [
    {
     "name": "stderr",
     "output_type": "stream",
     "text": [
      "/var/folders/9v/1s329cwj32jc2kkx24p8jp980000gp/T/ipykernel_36834/3873862856.py:22: DeprecationWarning: `product` is deprecated as of NumPy 1.25.0, and will be removed in NumPy 2.0. Please use `prod` instead.\n",
      "  prep = get_preprocessor(space)(space)\n"
     ]
    }
   ],
   "source": [
    "import gymnasium as gym\n",
    "from gymnasium.spaces import Box, Discrete, Dict, Text\n",
    "from ray.rllib.models.preprocessors import get_preprocessor\n",
    "\n",
    "\n",
    "n_features = len(pivoted_features_df.columns) - 2\n",
    "\n",
    "\n",
    "# space = Box(low=pivoted_features_df[pivoted_features_df.columns[2:]].min().min(), high=pivoted_features_df[pivoted_features_df.columns[2:]].max().max(), shape=(n_features,), dtype=np.float32)\n",
    "\n",
    "prep = get_preprocessor(space)(space)\n",
    "# isinstance(space, gym.spaces.Dict)"
   ],
   "metadata": {
    "collapsed": false,
    "ExecuteTime": {
     "end_time": "2023-12-15T10:43:20.387329Z",
     "start_time": "2023-12-15T10:43:20.230630Z"
    }
   },
   "id": "6b8a543e90983cdf"
  },
  {
   "cell_type": "code",
   "execution_count": null,
   "outputs": [],
   "source": [],
   "metadata": {
    "collapsed": false
   },
   "id": "844e83e6a63c0a6c"
  }
 ],
 "metadata": {
  "kernelspec": {
   "display_name": "Python 3",
   "language": "python",
   "name": "python3"
  },
  "language_info": {
   "codemirror_mode": {
    "name": "ipython",
    "version": 2
   },
   "file_extension": ".py",
   "mimetype": "text/x-python",
   "name": "python",
   "nbconvert_exporter": "python",
   "pygments_lexer": "ipython2",
   "version": "2.7.6"
  }
 },
 "nbformat": 4,
 "nbformat_minor": 5
}
