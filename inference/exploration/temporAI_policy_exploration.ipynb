{
 "cells": [
  {
   "cell_type": "markdown",
   "source": [
    "# Build custom policy based on CRN model recommendations"
   ],
   "metadata": {
    "collapsed": false
   },
   "id": "649eebbbf9c30aa5"
  },
  {
   "cell_type": "code",
   "execution_count": 87,
   "outputs": [],
   "source": [
    "import os\n",
    "import pandas as pd\n",
    "from tqdm import tqdm\n",
    "from utils import flatten\n",
    "from data_loaders.temporAI_dataloader import load_gsu_dataset\n",
    "import numpy as np\n",
    "from tempor.utils.serialization import load_from_file\n",
    "from tempor.data.dataset import TemporalTreatmentEffectsDataset"
   ],
   "metadata": {
    "collapsed": false,
    "ExecuteTime": {
     "end_time": "2023-12-11T16:15:21.799534Z",
     "start_time": "2023-12-11T16:15:21.791075Z"
    }
   },
   "id": "493b457a02ead61e"
  },
  {
   "cell_type": "code",
   "execution_count": 2,
   "outputs": [],
   "source": [
    "model_path = '/Users/jk1/temp/treatment_effects/training_test/crn_20231127_203329/crn_model_20231127_203329_split_0.cpkl'\n",
    "split_folder = '/Users/jk1/temp/treatment_effects/preprocessing/gsu_Extraction_20220815_prepro_25112023_213851/splits'"
   ],
   "metadata": {
    "collapsed": false,
    "ExecuteTime": {
     "end_time": "2023-12-11T15:14:38.552699Z",
     "start_time": "2023-12-11T15:14:38.493873Z"
    }
   },
   "id": "b41d0b769d844dd0"
  },
  {
   "cell_type": "code",
   "execution_count": 3,
   "outputs": [],
   "source": [
    "split = 0"
   ],
   "metadata": {
    "collapsed": false,
    "ExecuteTime": {
     "end_time": "2023-12-11T15:14:38.611054Z",
     "start_time": "2023-12-11T15:14:38.506071Z"
    }
   },
   "id": "90019552b94b70ab"
  },
  {
   "cell_type": "markdown",
   "source": [
    "# Load data and model"
   ],
   "metadata": {
    "collapsed": false
   },
   "id": "f80486e70915ff2"
  },
  {
   "cell_type": "code",
   "execution_count": 4,
   "outputs": [],
   "source": [
    "# Load data and model\n",
    "train_features_path = os.path.join(split_folder, f'train_features_split_{split}.csv')\n",
    "train_cont_outcomes_path = os.path.join(split_folder, f'train_continuous_outcomes_split_{split}.csv')\n",
    "val_features_path = os.path.join(split_folder, f'val_features_split_{split}.csv')\n",
    "val_cont_outcomes_path = os.path.join(split_folder, f'val_continuous_outcomes_split_{split}.csv')\n",
    "val_gsu_dataset = load_gsu_dataset(val_features_path, val_cont_outcomes_path)\n",
    "model = load_from_file(model_path)"
   ],
   "metadata": {
    "collapsed": false,
    "ExecuteTime": {
     "end_time": "2023-12-11T15:14:53.434116Z",
     "start_time": "2023-12-11T15:14:38.523250Z"
    }
   },
   "id": "initial_id"
  },
  {
   "cell_type": "markdown",
   "source": [
    "# Get predictions\n",
    "\n",
    "Criteria for working inference\n",
    "- treatment scenarion must be binary (only 2 different ttt per scenario)\n",
    "- start at timestep 2 (CRN needs at least 2 timesteps run-in"
   ],
   "metadata": {
    "collapsed": false
   },
   "id": "344417311d106586"
  },
  {
   "cell_type": "code",
   "execution_count": 5,
   "outputs": [],
   "source": [
    "# horizons: all predictions (starting from TC 2)\n",
    "horizons = [tc.time_indexes()[0][2:] for tc in val_gsu_dataset.time_series]"
   ],
   "metadata": {
    "collapsed": false,
    "ExecuteTime": {
     "end_time": "2023-12-11T15:14:54.913841Z",
     "start_time": "2023-12-11T15:14:53.439236Z"
    }
   },
   "id": "7592cf10072fb9d4"
  },
  {
   "cell_type": "code",
   "execution_count": 6,
   "outputs": [],
   "source": [
    "treatment_scenarios = [[ttt.dataframe().values[2:].squeeze().astype(int)\n",
    "                        ] for ttt in val_gsu_dataset.predictive.treatments]"
   ],
   "metadata": {
    "collapsed": false,
    "ExecuteTime": {
     "end_time": "2023-12-11T15:14:56.208014Z",
     "start_time": "2023-12-11T15:14:54.918234Z"
    }
   },
   "id": "312168b161af394f"
  },
  {
   "cell_type": "code",
   "execution_count": 7,
   "outputs": [],
   "source": [
    "single_step_horizon = [tc.time_indexes()[0][2:3] for tc in val_gsu_dataset.time_series]"
   ],
   "metadata": {
    "collapsed": false,
    "ExecuteTime": {
     "end_time": "2023-12-11T15:14:57.671635Z",
     "start_time": "2023-12-11T15:14:56.215778Z"
    }
   },
   "id": "1f78186fcb52b918"
  },
  {
   "cell_type": "code",
   "execution_count": 8,
   "outputs": [],
   "source": [
    "single_step_treatment_scenarios = [[np.array([ttt_strat]) for ttt_strat in range(8)] for h in single_step_horizon]"
   ],
   "metadata": {
    "collapsed": false,
    "ExecuteTime": {
     "end_time": "2023-12-11T15:14:57.697078Z",
     "start_time": "2023-12-11T15:14:57.677313Z"
    }
   },
   "id": "667f8ecdbc68849b"
  },
  {
   "cell_type": "code",
   "execution_count": 9,
   "outputs": [],
   "source": [
    "predictions = model.predict_counterfactuals(val_gsu_dataset[0:2], horizons=single_step_horizon[0:2], treatment_scenarios=single_step_treatment_scenarios[0:2])"
   ],
   "metadata": {
    "collapsed": false,
    "ExecuteTime": {
     "end_time": "2023-12-11T15:15:02.023933Z",
     "start_time": "2023-12-11T15:14:57.685879Z"
    }
   },
   "id": "30de607020bc0a20"
  },
  {
   "cell_type": "code",
   "execution_count": 10,
   "outputs": [],
   "source": [
    "extracted_predictions = [flatten(flatten([subj_pred[ttt_strat_idx].to_numpy() for ttt_strat_idx in range(len(subj_pred))])) for subj_pred in predictions]"
   ],
   "metadata": {
    "collapsed": false,
    "ExecuteTime": {
     "end_time": "2023-12-11T15:15:02.057001Z",
     "start_time": "2023-12-11T15:15:02.037137Z"
    }
   },
   "id": "e38796b722638c6"
  },
  {
   "cell_type": "code",
   "execution_count": 12,
   "outputs": [
    {
     "data": {
      "text/plain": "[-0.07683232426643372,\n -0.07031607627868652,\n -0.06379981338977814,\n -0.05728356912732124,\n -0.050767313688993454,\n -0.04425106570124626,\n -0.03773481026291847,\n -0.03121856227517128]"
     },
     "execution_count": 12,
     "metadata": {},
     "output_type": "execute_result"
    }
   ],
   "source": [
    "extracted_predictions[1]"
   ],
   "metadata": {
    "collapsed": false,
    "ExecuteTime": {
     "end_time": "2023-12-11T15:15:02.165810Z",
     "start_time": "2023-12-11T15:15:02.056165Z"
    }
   },
   "id": "d3296bc99b827c3b"
  },
  {
   "cell_type": "markdown",
   "source": [
    "### Absolute decision function"
   ],
   "metadata": {
    "collapsed": false
   },
   "id": "da5d4b8bcc51a19d"
  },
  {
   "cell_type": "code",
   "execution_count": 13,
   "outputs": [],
   "source": [
    "# for every prediction return argmin of prediction (choose treatment which minimizes delta NIHSS)\n",
    "def absolute_decision_function(predicted_counterfactuals_per_ttt):\n",
    "    return np.argmin(predicted_counterfactuals_per_ttt)"
   ],
   "metadata": {
    "collapsed": false,
    "ExecuteTime": {
     "end_time": "2023-12-11T15:15:02.178760Z",
     "start_time": "2023-12-11T15:15:02.065663Z"
    }
   },
   "id": "3032f7ea22594cc4"
  },
  {
   "cell_type": "code",
   "execution_count": 14,
   "outputs": [
    {
     "data": {
      "text/plain": "[0, 0]"
     },
     "execution_count": 14,
     "metadata": {},
     "output_type": "execute_result"
    }
   ],
   "source": [
    "[absolute_decision_function(subj_extracted_predictions) for subj_extracted_predictions in extracted_predictions]"
   ],
   "metadata": {
    "collapsed": false,
    "ExecuteTime": {
     "end_time": "2023-12-11T15:15:02.192505Z",
     "start_time": "2023-12-11T15:15:02.075460Z"
    }
   },
   "id": "34cd803fc0ee6d84"
  },
  {
   "cell_type": "markdown",
   "source": [
    "### Probabilistic decision function"
   ],
   "metadata": {
    "collapsed": false
   },
   "id": "73dae484a6696c53"
  },
  {
   "cell_type": "code",
   "execution_count": 15,
   "outputs": [],
   "source": [
    "def probabilistic_decision_function(predicted_counterfactuals_per_ttt, epsilon = 1e-6):\n",
    "    \"\"\"\n",
    "    Compute likelihood and log-likelihood of choosing every treatment option based on predicted counterfactuals\n",
    "    \n",
    "    :param predicted_counterfactuals_per_ttt: \n",
    "    :param epsilon: \n",
    "    :return: \n",
    "    \"\"\"\n",
    "    \n",
    "    # map extracted_predictions[0] to 0-1 (where most negative value should be mapped to 1 and most positive to 0)\n",
    "    min = np.min(predicted_counterfactuals_per_ttt)\n",
    "    max = np.max(predicted_counterfactuals_per_ttt)\n",
    "    \n",
    "    likelihood = (predicted_counterfactuals_per_ttt - max) / (min - max)\n",
    "    log_likelihood = np.log(likelihood + epsilon)\n",
    "    return likelihood, log_likelihood"
   ],
   "metadata": {
    "collapsed": false,
    "ExecuteTime": {
     "end_time": "2023-12-11T15:15:02.306398Z",
     "start_time": "2023-12-11T15:15:02.093544Z"
    }
   },
   "id": "9a4010383928db70"
  },
  {
   "cell_type": "code",
   "execution_count": 16,
   "outputs": [
    {
     "data": {
      "text/plain": "[(array([ 1.        , -0.        ,  0.97755378,  0.96633069,  0.95510759,\n          0.94388448,  0.93266138,  0.92143827]),\n  array([ 9.99999500e-07, -1.38155106e+01, -2.27009440e-02, -3.42481411e-02,\n         -4.59302418e-02, -5.77504355e-02, -6.97120053e-02, -8.18184022e-02])),\n (array([ 1.        ,  0.85714294,  0.71428555,  0.57142857,  0.42857135,\n          0.28571429,  0.14285706, -0.        ]),\n  array([ 9.99999500e-07, -1.54149418e-01, -3.36471065e-01, -5.59614038e-01,\n         -8.47295718e-01, -1.25275947e+00, -1.94590372e+00, -1.38155106e+01]))]"
     },
     "execution_count": 16,
     "metadata": {},
     "output_type": "execute_result"
    }
   ],
   "source": [
    "[probabilistic_decision_function(subj_extracted_predictions) for subj_extracted_predictions in extracted_predictions]"
   ],
   "metadata": {
    "collapsed": false,
    "ExecuteTime": {
     "end_time": "2023-12-11T15:15:02.345760Z",
     "start_time": "2023-12-11T15:15:02.104450Z"
    }
   },
   "id": "c53b5287783a0be7"
  },
  {
   "cell_type": "code",
   "execution_count": null,
   "outputs": [],
   "source": [
    "predicted_factuals = model.predict_counterfactuals(val_gsu_dataset[0:2], horizons=horizons[0:2], treatment_scenarios=treatment_scenarios[0:2])\n",
    "predicted_factuals"
   ],
   "metadata": {
    "collapsed": false,
    "ExecuteTime": {
     "start_time": "2023-12-11T15:15:03.014176Z"
    }
   },
   "id": "5c81e531e86e82c6"
  },
  {
   "cell_type": "code",
   "execution_count": 101,
   "outputs": [],
   "source": [
    "dataset = val_gsu_dataset[0:2]\n",
    "n_timesteps_to_predict = 1\n",
    "n_timesteps = dataset.time_series[0].dataframe().shape[0]\n",
    "n_timesteps = 5\n",
    "n_treatment_strategies = 8\n",
    "# iteratively update dataset with selected treatment\n",
    "update_treatment = True"
   ],
   "metadata": {
    "collapsed": false,
    "ExecuteTime": {
     "end_time": "2023-12-11T16:30:37.210779Z",
     "start_time": "2023-12-11T16:30:33.444445Z"
    }
   },
   "id": "a98b15fa0bc6903e"
  },
  {
   "cell_type": "code",
   "execution_count": 104,
   "outputs": [
    {
     "name": "stderr",
     "output_type": "stream",
     "text": [
      "100%|██████████| 3/3 [00:11<00:00,  3.83s/it]\n"
     ]
    }
   ],
   "source": [
    "predicted_treatment_strategies_df = pd.DataFrame()\n",
    "for ts in tqdm(range(2, n_timesteps - n_timesteps_to_predict + 1)):\n",
    "    # predict single timestep at a time\n",
    "    horizon = [tc.time_indexes()[0][ts:ts + n_timesteps_to_predict] for tc in dataset.time_series]\n",
    "    treatment_scenarios = [[np.array([ttt_strat]) for ttt_strat in range(8)] for h in horizon]\n",
    "\n",
    "    predictions = model.predict_counterfactuals(dataset, horizons=horizon, treatment_scenarios=treatment_scenarios)\n",
    "    extracted_predictions = [flatten(flatten([subj_pred[ttt_strat_idx].to_numpy() for ttt_strat_idx in range(len(subj_pred))])) for subj_pred in predictions]\n",
    "    \n",
    "    optimal_treatment_option = [absolute_decision_function(subj_extracted_predictions) for subj_extracted_predictions in extracted_predictions]\n",
    "    \n",
    "    treatment_probas = [probabilistic_decision_function(subj_extracted_predictions) for subj_extracted_predictions in extracted_predictions]\n",
    "    treatment_likelihoods = [treatment_proba[0] for treatment_proba in treatment_probas]\n",
    "    treatment_log_likelihoods = [treatment_proba[1] for treatment_proba in treatment_probas]\n",
    "    \n",
    "    \n",
    "    temp_df = pd.DataFrame({'case_admission_id': dataset.time_series.dataframe().reset_index()['sample_idx'].unique(),\n",
    "                            'time_idx': ts,\n",
    "                            'optimal_treatment_option': optimal_treatment_option})\n",
    "    # add a column for every likelihood treatment option\n",
    "    for ttt_strat_idx in range(n_treatment_strategies):\n",
    "        temp_df[f'treatment_likelihood_strat_{ttt_strat_idx}'] = [treatment_likelihood[ttt_strat_idx] for treatment_likelihood in treatment_likelihoods]\n",
    "        temp_df[f'treatment_log_likelihood_strat_{ttt_strat_idx}'] = [treatment_log_likelihood[ttt_strat_idx] for treatment_log_likelihood in treatment_log_likelihoods]\n",
    "    predicted_treatment_strategies_df = pd.concat([predicted_treatment_strategies_df, temp_df], axis=0)\n",
    "    \n",
    "    if update_treatment:\n",
    "        # update dataset with predicted treatment\n",
    "        temp = dataset.predictive.treatments.dataframe()\n",
    "        temp.loc[(slice(None), ts), 'anti_hypertensive_strategy'] = optimal_treatment_option\n",
    "        dataset = TemporalTreatmentEffectsDataset(\n",
    "            time_series=dataset.time_series.dataframe(),\n",
    "            treatments=temp,\n",
    "            targets=dataset.predictive.targets.dataframe()\n",
    "        )\n",
    "    "
   ],
   "metadata": {
    "collapsed": false,
    "ExecuteTime": {
     "end_time": "2023-12-11T16:31:47.347192Z",
     "start_time": "2023-12-11T16:31:35.857640Z"
    }
   },
   "id": "5582bd8c1fc8ff13"
  },
  {
   "cell_type": "code",
   "execution_count": 105,
   "outputs": [
    {
     "data": {
      "text/plain": "  case_admission_id  time_idx  optimal_treatment_option  \\\n0        10189_1690         2                         0   \n1      1025279_1586         2                         0   \n0        10189_1690         3                         0   \n1      1025279_1586         3                         0   \n0        10189_1690         4                         0   \n1      1025279_1586         4                         0   \n\n   treatment_likelihood_strat_0  treatment_log_likelihood_strat_0  \\\n0                           1.0                      9.999995e-07   \n1                           1.0                      9.999995e-07   \n0                           1.0                      9.999995e-07   \n1                           1.0                      9.999995e-07   \n0                           1.0                      9.999995e-07   \n1                           1.0                      9.999995e-07   \n\n   treatment_likelihood_strat_1  treatment_log_likelihood_strat_1  \\\n0                      0.857143                         -0.154150   \n1                      0.857143                         -0.154149   \n0                      0.857143                         -0.154149   \n1                      0.857143                         -0.154149   \n0                      0.857143                         -0.154149   \n1                      0.857143                         -0.154149   \n\n   treatment_likelihood_strat_2  treatment_log_likelihood_strat_2  \\\n0                      0.714286                         -0.336471   \n1                      0.714286                         -0.336471   \n0                      0.714286                         -0.336471   \n1                      0.714286                         -0.336471   \n0                      0.714286                         -0.336471   \n1                      0.714286                         -0.336471   \n\n   treatment_likelihood_strat_3  treatment_log_likelihood_strat_3  \\\n0                      0.571429                         -0.559614   \n1                      0.571429                         -0.559614   \n0                      0.571429                         -0.559614   \n1                      0.571429                         -0.559614   \n0                      0.571429                         -0.559614   \n1                      0.571429                         -0.559614   \n\n   treatment_likelihood_strat_4  treatment_log_likelihood_strat_4  \\\n0                      0.428571                         -0.847295   \n1                      0.428571                         -0.847296   \n0                      0.428571                         -0.847296   \n1                      0.428572                         -0.847295   \n0                      0.428571                         -0.847295   \n1                      0.428571                         -0.847295   \n\n   treatment_likelihood_strat_5  treatment_log_likelihood_strat_5  \\\n0                      0.285714                         -1.252760   \n1                      0.285714                         -1.252759   \n0                      0.285714                         -1.252760   \n1                      0.285714                         -1.252760   \n0                      0.285714                         -1.252759   \n1                      0.285714                         -1.252759   \n\n   treatment_likelihood_strat_6  treatment_log_likelihood_strat_6  \\\n0                      0.142857                         -1.945903   \n1                      0.142857                         -1.945904   \n0                      0.142857                         -1.945903   \n1                      0.142857                         -1.945903   \n0                      0.142857                         -1.945902   \n1                      0.142857                         -1.945902   \n\n   treatment_likelihood_strat_7  treatment_log_likelihood_strat_7  \n0                          -0.0                        -13.815511  \n1                          -0.0                        -13.815511  \n0                          -0.0                        -13.815511  \n1                          -0.0                        -13.815511  \n0                          -0.0                        -13.815511  \n1                          -0.0                        -13.815511  ",
      "text/html": "<div>\n<style scoped>\n    .dataframe tbody tr th:only-of-type {\n        vertical-align: middle;\n    }\n\n    .dataframe tbody tr th {\n        vertical-align: top;\n    }\n\n    .dataframe thead th {\n        text-align: right;\n    }\n</style>\n<table border=\"1\" class=\"dataframe\">\n  <thead>\n    <tr style=\"text-align: right;\">\n      <th></th>\n      <th>case_admission_id</th>\n      <th>time_idx</th>\n      <th>optimal_treatment_option</th>\n      <th>treatment_likelihood_strat_0</th>\n      <th>treatment_log_likelihood_strat_0</th>\n      <th>treatment_likelihood_strat_1</th>\n      <th>treatment_log_likelihood_strat_1</th>\n      <th>treatment_likelihood_strat_2</th>\n      <th>treatment_log_likelihood_strat_2</th>\n      <th>treatment_likelihood_strat_3</th>\n      <th>treatment_log_likelihood_strat_3</th>\n      <th>treatment_likelihood_strat_4</th>\n      <th>treatment_log_likelihood_strat_4</th>\n      <th>treatment_likelihood_strat_5</th>\n      <th>treatment_log_likelihood_strat_5</th>\n      <th>treatment_likelihood_strat_6</th>\n      <th>treatment_log_likelihood_strat_6</th>\n      <th>treatment_likelihood_strat_7</th>\n      <th>treatment_log_likelihood_strat_7</th>\n    </tr>\n  </thead>\n  <tbody>\n    <tr>\n      <th>0</th>\n      <td>10189_1690</td>\n      <td>2</td>\n      <td>0</td>\n      <td>1.0</td>\n      <td>9.999995e-07</td>\n      <td>0.857143</td>\n      <td>-0.154150</td>\n      <td>0.714286</td>\n      <td>-0.336471</td>\n      <td>0.571429</td>\n      <td>-0.559614</td>\n      <td>0.428571</td>\n      <td>-0.847295</td>\n      <td>0.285714</td>\n      <td>-1.252760</td>\n      <td>0.142857</td>\n      <td>-1.945903</td>\n      <td>-0.0</td>\n      <td>-13.815511</td>\n    </tr>\n    <tr>\n      <th>1</th>\n      <td>1025279_1586</td>\n      <td>2</td>\n      <td>0</td>\n      <td>1.0</td>\n      <td>9.999995e-07</td>\n      <td>0.857143</td>\n      <td>-0.154149</td>\n      <td>0.714286</td>\n      <td>-0.336471</td>\n      <td>0.571429</td>\n      <td>-0.559614</td>\n      <td>0.428571</td>\n      <td>-0.847296</td>\n      <td>0.285714</td>\n      <td>-1.252759</td>\n      <td>0.142857</td>\n      <td>-1.945904</td>\n      <td>-0.0</td>\n      <td>-13.815511</td>\n    </tr>\n    <tr>\n      <th>0</th>\n      <td>10189_1690</td>\n      <td>3</td>\n      <td>0</td>\n      <td>1.0</td>\n      <td>9.999995e-07</td>\n      <td>0.857143</td>\n      <td>-0.154149</td>\n      <td>0.714286</td>\n      <td>-0.336471</td>\n      <td>0.571429</td>\n      <td>-0.559614</td>\n      <td>0.428571</td>\n      <td>-0.847296</td>\n      <td>0.285714</td>\n      <td>-1.252760</td>\n      <td>0.142857</td>\n      <td>-1.945903</td>\n      <td>-0.0</td>\n      <td>-13.815511</td>\n    </tr>\n    <tr>\n      <th>1</th>\n      <td>1025279_1586</td>\n      <td>3</td>\n      <td>0</td>\n      <td>1.0</td>\n      <td>9.999995e-07</td>\n      <td>0.857143</td>\n      <td>-0.154149</td>\n      <td>0.714286</td>\n      <td>-0.336471</td>\n      <td>0.571429</td>\n      <td>-0.559614</td>\n      <td>0.428572</td>\n      <td>-0.847295</td>\n      <td>0.285714</td>\n      <td>-1.252760</td>\n      <td>0.142857</td>\n      <td>-1.945903</td>\n      <td>-0.0</td>\n      <td>-13.815511</td>\n    </tr>\n    <tr>\n      <th>0</th>\n      <td>10189_1690</td>\n      <td>4</td>\n      <td>0</td>\n      <td>1.0</td>\n      <td>9.999995e-07</td>\n      <td>0.857143</td>\n      <td>-0.154149</td>\n      <td>0.714286</td>\n      <td>-0.336471</td>\n      <td>0.571429</td>\n      <td>-0.559614</td>\n      <td>0.428571</td>\n      <td>-0.847295</td>\n      <td>0.285714</td>\n      <td>-1.252759</td>\n      <td>0.142857</td>\n      <td>-1.945902</td>\n      <td>-0.0</td>\n      <td>-13.815511</td>\n    </tr>\n    <tr>\n      <th>1</th>\n      <td>1025279_1586</td>\n      <td>4</td>\n      <td>0</td>\n      <td>1.0</td>\n      <td>9.999995e-07</td>\n      <td>0.857143</td>\n      <td>-0.154149</td>\n      <td>0.714286</td>\n      <td>-0.336471</td>\n      <td>0.571429</td>\n      <td>-0.559614</td>\n      <td>0.428571</td>\n      <td>-0.847295</td>\n      <td>0.285714</td>\n      <td>-1.252759</td>\n      <td>0.142857</td>\n      <td>-1.945902</td>\n      <td>-0.0</td>\n      <td>-13.815511</td>\n    </tr>\n  </tbody>\n</table>\n</div>"
     },
     "execution_count": 105,
     "metadata": {},
     "output_type": "execute_result"
    }
   ],
   "source": [
    "predicted_treatment_strategies_df"
   ],
   "metadata": {
    "collapsed": false,
    "ExecuteTime": {
     "end_time": "2023-12-11T16:31:58.719205Z",
     "start_time": "2023-12-11T16:31:58.665668Z"
    }
   },
   "id": "5641e4a272b966b9"
  },
  {
   "cell_type": "code",
   "execution_count": null,
   "outputs": [],
   "source": [],
   "metadata": {
    "collapsed": false
   },
   "id": "f4059a0699c42767"
  }
 ],
 "metadata": {
  "kernelspec": {
   "display_name": "Python 3",
   "language": "python",
   "name": "python3"
  },
  "language_info": {
   "codemirror_mode": {
    "name": "ipython",
    "version": 2
   },
   "file_extension": ".py",
   "mimetype": "text/x-python",
   "name": "python",
   "nbconvert_exporter": "python",
   "pygments_lexer": "ipython2",
   "version": "2.7.6"
  }
 },
 "nbformat": 4,
 "nbformat_minor": 5
}
