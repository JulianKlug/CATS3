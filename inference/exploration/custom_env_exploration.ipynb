{
 "cells": [
  {
   "cell_type": "code",
   "execution_count": 30,
   "id": "initial_id",
   "metadata": {
    "collapsed": true,
    "ExecuteTime": {
     "end_time": "2023-12-10T09:24:07.914924Z",
     "start_time": "2023-12-10T09:24:07.901232Z"
    }
   },
   "outputs": [],
   "source": [
    "from typing import SupportsFloat, Any\n",
    "\n",
    "import gymnasium as gym\n",
    "from gymnasium.core import ActType, ObsType\n",
    "from gymnasium.spaces import Box, Discrete\n",
    "import pandas as pd\n",
    "import numpy as np"
   ]
  },
  {
   "cell_type": "code",
   "execution_count": 31,
   "outputs": [],
   "source": [
    "data_path = '/Users/jk1/temp/treatment_effects/preprocessing/gsu_Extraction_20220815_prepro_25112023_213851/splits/train_features_split_0.csv'\n",
    "continuous_outcomes_path = '/Users/jk1/temp/treatment_effects/preprocessing/gsu_Extraction_20220815_prepro_25112023_213851/splits/train_continuous_outcomes_split_0.csv'\n",
    "outcomes_path = '/Users/jk1/temp/treatment_effects/preprocessing/gsu_Extraction_20220815_prepro_25112023_213851/splits/train_final_outcomes_split_0.csv'"
   ],
   "metadata": {
    "collapsed": false,
    "ExecuteTime": {
     "end_time": "2023-12-10T09:42:20.466696Z",
     "start_time": "2023-12-10T09:42:20.449434Z"
    }
   },
   "id": "48c3415dee6e97c7"
  },
  {
   "cell_type": "code",
   "execution_count": 32,
   "outputs": [],
   "source": [
    "features_df = pd.read_csv(data_path)\n",
    "continuous_outcomes_df = pd.read_csv(continuous_outcomes_path)\n",
    "outcomes_df = pd.read_csv(outcomes_path)"
   ],
   "metadata": {
    "collapsed": false,
    "ExecuteTime": {
     "end_time": "2023-12-10T09:42:36.321946Z",
     "start_time": "2023-12-10T09:42:24.682285Z"
    }
   },
   "id": "f2fc6940fd1d76af"
  },
  {
   "cell_type": "code",
   "execution_count": 17,
   "outputs": [
    {
     "data": {
      "text/plain": "   Unnamed: 0  relative_sample_date_hourly_cat case_admission_id sample_label  \\\n0        6120                                0      1002417_9090         ALAT   \n1        6121                                1      1002417_9090         ALAT   \n2        6122                                2      1002417_9090         ALAT   \n3        6123                                3      1002417_9090         ALAT   \n4        6124                                4      1002417_9090         ALAT   \n\n                         source     value  impute_missing_as  patient_id  \n0               EHR_pop_imputed -0.164766                NaN     1002417  \n1  EHR_pop_imputed_locf_imputed -0.164766                NaN     1002417  \n2  EHR_pop_imputed_locf_imputed -0.164766                NaN     1002417  \n3  EHR_pop_imputed_locf_imputed -0.164766                NaN     1002417  \n4  EHR_pop_imputed_locf_imputed -0.164766                NaN     1002417  ",
      "text/html": "<div>\n<style scoped>\n    .dataframe tbody tr th:only-of-type {\n        vertical-align: middle;\n    }\n\n    .dataframe tbody tr th {\n        vertical-align: top;\n    }\n\n    .dataframe thead th {\n        text-align: right;\n    }\n</style>\n<table border=\"1\" class=\"dataframe\">\n  <thead>\n    <tr style=\"text-align: right;\">\n      <th></th>\n      <th>Unnamed: 0</th>\n      <th>relative_sample_date_hourly_cat</th>\n      <th>case_admission_id</th>\n      <th>sample_label</th>\n      <th>source</th>\n      <th>value</th>\n      <th>impute_missing_as</th>\n      <th>patient_id</th>\n    </tr>\n  </thead>\n  <tbody>\n    <tr>\n      <th>0</th>\n      <td>6120</td>\n      <td>0</td>\n      <td>1002417_9090</td>\n      <td>ALAT</td>\n      <td>EHR_pop_imputed</td>\n      <td>-0.164766</td>\n      <td>NaN</td>\n      <td>1002417</td>\n    </tr>\n    <tr>\n      <th>1</th>\n      <td>6121</td>\n      <td>1</td>\n      <td>1002417_9090</td>\n      <td>ALAT</td>\n      <td>EHR_pop_imputed_locf_imputed</td>\n      <td>-0.164766</td>\n      <td>NaN</td>\n      <td>1002417</td>\n    </tr>\n    <tr>\n      <th>2</th>\n      <td>6122</td>\n      <td>2</td>\n      <td>1002417_9090</td>\n      <td>ALAT</td>\n      <td>EHR_pop_imputed_locf_imputed</td>\n      <td>-0.164766</td>\n      <td>NaN</td>\n      <td>1002417</td>\n    </tr>\n    <tr>\n      <th>3</th>\n      <td>6123</td>\n      <td>3</td>\n      <td>1002417_9090</td>\n      <td>ALAT</td>\n      <td>EHR_pop_imputed_locf_imputed</td>\n      <td>-0.164766</td>\n      <td>NaN</td>\n      <td>1002417</td>\n    </tr>\n    <tr>\n      <th>4</th>\n      <td>6124</td>\n      <td>4</td>\n      <td>1002417_9090</td>\n      <td>ALAT</td>\n      <td>EHR_pop_imputed_locf_imputed</td>\n      <td>-0.164766</td>\n      <td>NaN</td>\n      <td>1002417</td>\n    </tr>\n  </tbody>\n</table>\n</div>"
     },
     "execution_count": 17,
     "metadata": {},
     "output_type": "execute_result"
    }
   ],
   "source": [
    "features_df.head()"
   ],
   "metadata": {
    "collapsed": false,
    "ExecuteTime": {
     "end_time": "2023-12-10T09:17:31.286307Z",
     "start_time": "2023-12-10T09:17:31.265095Z"
    }
   },
   "id": "23cbc344989e8572"
  },
  {
   "cell_type": "code",
   "execution_count": 18,
   "outputs": [
    {
     "data": {
      "text/plain": "   Unnamed: 0  relative_sample_date_hourly_cat case_admission_id  \\\n0        9936                                0      1002417_9090   \n1        9937                                1      1002417_9090   \n2        9938                                2      1002417_9090   \n3        9939                                3      1002417_9090   \n4        9940                                4      1002417_9090   \n\n             source  nihss  nihss_delta  nihss_delta_to_best_prior_state  \\\n0               EHR    6.0          0.0                              0.0   \n1               EHR   12.0          6.0                              6.0   \n2  EHR_locf_imputed   12.0          0.0                              6.0   \n3  EHR_locf_imputed   12.0          0.0                              6.0   \n4               EHR   11.0         -1.0                              5.0   \n\n   nihss_delta_to_start_state  nihss_delta_at_next_ts  \\\n0                         0.0                     6.0   \n1                         6.0                     0.0   \n2                         6.0                     0.0   \n3                         6.0                    -1.0   \n4                         5.0                    -1.0   \n\n   nihss_delta_to_best_prior_state_at_next_ts  \\\n0                                         6.0   \n1                                         6.0   \n2                                         6.0   \n3                                         5.0   \n4                                         4.0   \n\n   nihss_delta_to_start_state_at_next_ts  patient_id  \n0                                    6.0     1002417  \n1                                    6.0     1002417  \n2                                    6.0     1002417  \n3                                    5.0     1002417  \n4                                    4.0     1002417  ",
      "text/html": "<div>\n<style scoped>\n    .dataframe tbody tr th:only-of-type {\n        vertical-align: middle;\n    }\n\n    .dataframe tbody tr th {\n        vertical-align: top;\n    }\n\n    .dataframe thead th {\n        text-align: right;\n    }\n</style>\n<table border=\"1\" class=\"dataframe\">\n  <thead>\n    <tr style=\"text-align: right;\">\n      <th></th>\n      <th>Unnamed: 0</th>\n      <th>relative_sample_date_hourly_cat</th>\n      <th>case_admission_id</th>\n      <th>source</th>\n      <th>nihss</th>\n      <th>nihss_delta</th>\n      <th>nihss_delta_to_best_prior_state</th>\n      <th>nihss_delta_to_start_state</th>\n      <th>nihss_delta_at_next_ts</th>\n      <th>nihss_delta_to_best_prior_state_at_next_ts</th>\n      <th>nihss_delta_to_start_state_at_next_ts</th>\n      <th>patient_id</th>\n    </tr>\n  </thead>\n  <tbody>\n    <tr>\n      <th>0</th>\n      <td>9936</td>\n      <td>0</td>\n      <td>1002417_9090</td>\n      <td>EHR</td>\n      <td>6.0</td>\n      <td>0.0</td>\n      <td>0.0</td>\n      <td>0.0</td>\n      <td>6.0</td>\n      <td>6.0</td>\n      <td>6.0</td>\n      <td>1002417</td>\n    </tr>\n    <tr>\n      <th>1</th>\n      <td>9937</td>\n      <td>1</td>\n      <td>1002417_9090</td>\n      <td>EHR</td>\n      <td>12.0</td>\n      <td>6.0</td>\n      <td>6.0</td>\n      <td>6.0</td>\n      <td>0.0</td>\n      <td>6.0</td>\n      <td>6.0</td>\n      <td>1002417</td>\n    </tr>\n    <tr>\n      <th>2</th>\n      <td>9938</td>\n      <td>2</td>\n      <td>1002417_9090</td>\n      <td>EHR_locf_imputed</td>\n      <td>12.0</td>\n      <td>0.0</td>\n      <td>6.0</td>\n      <td>6.0</td>\n      <td>0.0</td>\n      <td>6.0</td>\n      <td>6.0</td>\n      <td>1002417</td>\n    </tr>\n    <tr>\n      <th>3</th>\n      <td>9939</td>\n      <td>3</td>\n      <td>1002417_9090</td>\n      <td>EHR_locf_imputed</td>\n      <td>12.0</td>\n      <td>0.0</td>\n      <td>6.0</td>\n      <td>6.0</td>\n      <td>-1.0</td>\n      <td>5.0</td>\n      <td>5.0</td>\n      <td>1002417</td>\n    </tr>\n    <tr>\n      <th>4</th>\n      <td>9940</td>\n      <td>4</td>\n      <td>1002417_9090</td>\n      <td>EHR</td>\n      <td>11.0</td>\n      <td>-1.0</td>\n      <td>5.0</td>\n      <td>5.0</td>\n      <td>-1.0</td>\n      <td>4.0</td>\n      <td>4.0</td>\n      <td>1002417</td>\n    </tr>\n  </tbody>\n</table>\n</div>"
     },
     "execution_count": 18,
     "metadata": {},
     "output_type": "execute_result"
    }
   ],
   "source": [
    "continuous_outcomes_df.head()"
   ],
   "metadata": {
    "collapsed": false,
    "ExecuteTime": {
     "end_time": "2023-12-10T09:17:31.301692Z",
     "start_time": "2023-12-10T09:17:31.289235Z"
    }
   },
   "id": "604947c3671f3f94"
  },
  {
   "cell_type": "code",
   "execution_count": 33,
   "outputs": [
    {
     "data": {
      "text/plain": "   Unnamed: 0 case_admission_id Symptomatic ICH  Symptomatic ICH date  \\\n0           3       100503_0884              no                   NaN   \n1           6      1005798_9217              no                   NaN   \n2          13      1012915_7747              no                   NaN   \n3          15      1018635_4340              no                   NaN   \n4          16      1020314_6753              no                   NaN   \n\n  Recurrent stroke  Recurrent stroke date Orolingual angioedema  \\\n0               no                    NaN                   NaN   \n1               no                    NaN                   NaN   \n2               no                    NaN                   NaN   \n3               no                    NaN                   NaN   \n4               no                    NaN                   NaN   \n\n   Death in hospital  Death at hospital date Death at hospital time  ...  \\\n0                0.0                     NaN                    NaN  ...   \n1                0.0                     NaN                    NaN  ...   \n2                0.0                     NaN                    NaN  ...   \n3                0.0                     NaN                    NaN  ...   \n4                0.0                     NaN                    NaN  ...   \n\n  3M ICH date 3M Death  3M Death date 3M Death cause  3M Epileptic seizure  \\\n0         NaN      0.0            NaN            NaN                   NaN   \n1         NaN      0.0            NaN            NaN                    no   \n2         NaN      0.0            NaN            NaN                    no   \n3         NaN      1.0     20201120.0        unknown                    no   \n4         NaN      0.0            NaN            NaN                    no   \n\n  3M Epileptic seizure date  3M delta mRS 3M mRS 0-1  3M mRS 0-2 patient_id  \n0                       NaN           0.0        0.0         0.0     100503  \n1                       NaN           1.0        1.0         1.0    1005798  \n2                       NaN           0.0        1.0         1.0    1012915  \n3                       NaN           2.0        0.0         0.0    1018635  \n4                       NaN           3.0        0.0         0.0    1020314  \n\n[5 rows x 46 columns]",
      "text/html": "<div>\n<style scoped>\n    .dataframe tbody tr th:only-of-type {\n        vertical-align: middle;\n    }\n\n    .dataframe tbody tr th {\n        vertical-align: top;\n    }\n\n    .dataframe thead th {\n        text-align: right;\n    }\n</style>\n<table border=\"1\" class=\"dataframe\">\n  <thead>\n    <tr style=\"text-align: right;\">\n      <th></th>\n      <th>Unnamed: 0</th>\n      <th>case_admission_id</th>\n      <th>Symptomatic ICH</th>\n      <th>Symptomatic ICH date</th>\n      <th>Recurrent stroke</th>\n      <th>Recurrent stroke date</th>\n      <th>Orolingual angioedema</th>\n      <th>Death in hospital</th>\n      <th>Death at hospital date</th>\n      <th>Death at hospital time</th>\n      <th>...</th>\n      <th>3M ICH date</th>\n      <th>3M Death</th>\n      <th>3M Death date</th>\n      <th>3M Death cause</th>\n      <th>3M Epileptic seizure</th>\n      <th>3M Epileptic seizure date</th>\n      <th>3M delta mRS</th>\n      <th>3M mRS 0-1</th>\n      <th>3M mRS 0-2</th>\n      <th>patient_id</th>\n    </tr>\n  </thead>\n  <tbody>\n    <tr>\n      <th>0</th>\n      <td>3</td>\n      <td>100503_0884</td>\n      <td>no</td>\n      <td>NaN</td>\n      <td>no</td>\n      <td>NaN</td>\n      <td>NaN</td>\n      <td>0.0</td>\n      <td>NaN</td>\n      <td>NaN</td>\n      <td>...</td>\n      <td>NaN</td>\n      <td>0.0</td>\n      <td>NaN</td>\n      <td>NaN</td>\n      <td>NaN</td>\n      <td>NaN</td>\n      <td>0.0</td>\n      <td>0.0</td>\n      <td>0.0</td>\n      <td>100503</td>\n    </tr>\n    <tr>\n      <th>1</th>\n      <td>6</td>\n      <td>1005798_9217</td>\n      <td>no</td>\n      <td>NaN</td>\n      <td>no</td>\n      <td>NaN</td>\n      <td>NaN</td>\n      <td>0.0</td>\n      <td>NaN</td>\n      <td>NaN</td>\n      <td>...</td>\n      <td>NaN</td>\n      <td>0.0</td>\n      <td>NaN</td>\n      <td>NaN</td>\n      <td>no</td>\n      <td>NaN</td>\n      <td>1.0</td>\n      <td>1.0</td>\n      <td>1.0</td>\n      <td>1005798</td>\n    </tr>\n    <tr>\n      <th>2</th>\n      <td>13</td>\n      <td>1012915_7747</td>\n      <td>no</td>\n      <td>NaN</td>\n      <td>no</td>\n      <td>NaN</td>\n      <td>NaN</td>\n      <td>0.0</td>\n      <td>NaN</td>\n      <td>NaN</td>\n      <td>...</td>\n      <td>NaN</td>\n      <td>0.0</td>\n      <td>NaN</td>\n      <td>NaN</td>\n      <td>no</td>\n      <td>NaN</td>\n      <td>0.0</td>\n      <td>1.0</td>\n      <td>1.0</td>\n      <td>1012915</td>\n    </tr>\n    <tr>\n      <th>3</th>\n      <td>15</td>\n      <td>1018635_4340</td>\n      <td>no</td>\n      <td>NaN</td>\n      <td>no</td>\n      <td>NaN</td>\n      <td>NaN</td>\n      <td>0.0</td>\n      <td>NaN</td>\n      <td>NaN</td>\n      <td>...</td>\n      <td>NaN</td>\n      <td>1.0</td>\n      <td>20201120.0</td>\n      <td>unknown</td>\n      <td>no</td>\n      <td>NaN</td>\n      <td>2.0</td>\n      <td>0.0</td>\n      <td>0.0</td>\n      <td>1018635</td>\n    </tr>\n    <tr>\n      <th>4</th>\n      <td>16</td>\n      <td>1020314_6753</td>\n      <td>no</td>\n      <td>NaN</td>\n      <td>no</td>\n      <td>NaN</td>\n      <td>NaN</td>\n      <td>0.0</td>\n      <td>NaN</td>\n      <td>NaN</td>\n      <td>...</td>\n      <td>NaN</td>\n      <td>0.0</td>\n      <td>NaN</td>\n      <td>NaN</td>\n      <td>no</td>\n      <td>NaN</td>\n      <td>3.0</td>\n      <td>0.0</td>\n      <td>0.0</td>\n      <td>1020314</td>\n    </tr>\n  </tbody>\n</table>\n<p>5 rows × 46 columns</p>\n</div>"
     },
     "execution_count": 33,
     "metadata": {},
     "output_type": "execute_result"
    }
   ],
   "source": [
    "outcomes_df.head()"
   ],
   "metadata": {
    "collapsed": false,
    "ExecuteTime": {
     "end_time": "2023-12-10T09:42:36.369662Z",
     "start_time": "2023-12-10T09:42:36.357692Z"
    }
   },
   "id": "5086dd1edbfbaa89"
  },
  {
   "cell_type": "markdown",
   "source": [
    "# Prepare data"
   ],
   "metadata": {
    "collapsed": false
   },
   "id": "27a4faf5143fbe2c"
  },
  {
   "cell_type": "code",
   "execution_count": 19,
   "outputs": [],
   "source": [
    "# Features data\n",
    "features_df.drop(columns=['impute_missing_as'], inplace=True)\n",
    "\n",
    "pivoted_features_df = features_df.pivot(index=['case_admission_id', 'relative_sample_date_hourly_cat'],\n",
    "                                        columns='sample_label', values='value')\n",
    "\n",
    "# get rid of multiindex\n",
    "pivoted_features_df = pivoted_features_df.rename_axis(None, axis=1).reset_index()\n",
    "\n",
    "# seperate out treatment features\n",
    "treatment_df = pivoted_features_df[\n",
    "    ['case_admission_id', 'relative_sample_date_hourly_cat', 'anti_hypertensive_strategy']]\n",
    "pivoted_features_df.drop(columns=['anti_hypertensive_strategy'], inplace=True)"
   ],
   "metadata": {
    "collapsed": false,
    "ExecuteTime": {
     "end_time": "2023-12-10T09:17:56.250668Z",
     "start_time": "2023-12-10T09:17:50.282571Z"
    }
   },
   "id": "8a18c00aa6531cdb"
  },
  {
   "cell_type": "code",
   "execution_count": 24,
   "outputs": [
    {
     "data": {
      "text/plain": "84"
     },
     "execution_count": 24,
     "metadata": {},
     "output_type": "execute_result"
    }
   ],
   "source": [
    "n_features = len(pivoted_features_df.columns) - 2 \n",
    "n_features"
   ],
   "metadata": {
    "collapsed": false,
    "ExecuteTime": {
     "end_time": "2023-12-10T09:21:15.238653Z",
     "start_time": "2023-12-10T09:21:15.228457Z"
    }
   },
   "id": "4779646b44dc6f31"
  },
  {
   "cell_type": "code",
   "execution_count": 26,
   "outputs": [
    {
     "data": {
      "text/plain": "8"
     },
     "execution_count": 26,
     "metadata": {},
     "output_type": "execute_result"
    }
   ],
   "source": [
    "n_treatment_actions = treatment_df.anti_hypertensive_strategy.nunique()\n",
    "n_treatment_actions"
   ],
   "metadata": {
    "collapsed": false,
    "ExecuteTime": {
     "end_time": "2023-12-10T09:21:27.491136Z",
     "start_time": "2023-12-10T09:21:27.478681Z"
    }
   },
   "id": "c906d4233df91e09"
  },
  {
   "cell_type": "code",
   "execution_count": 29,
   "outputs": [
    {
     "data": {
      "text/plain": "(20.57745506446808, -7.048474126005384)"
     },
     "execution_count": 29,
     "metadata": {},
     "output_type": "execute_result"
    }
   ],
   "source": [
    "# max and min of all features\n",
    "pivoted_features_df[pivoted_features_df.columns[2:]].max().max(), pivoted_features_df[pivoted_features_df.columns[2:]].min().min()"
   ],
   "metadata": {
    "collapsed": false,
    "ExecuteTime": {
     "end_time": "2023-12-10T09:23:17.954523Z",
     "start_time": "2023-12-10T09:23:17.845176Z"
    }
   },
   "id": "1cf93b6ba53b8aea"
  },
  {
   "cell_type": "code",
   "execution_count": null,
   "outputs": [],
   "source": [
    "class PatientEnv(gym.Env):\n",
    "    def __init__(self, features_df, outcomes_df, n_treatment_actions, target_outcome):\n",
    "        self.features_df = features_df\n",
    "        self.outcomes_df = outcomes_df\n",
    "        self.target_outcome = target_outcome\n",
    "        # Action space is the number of unique values for the anti_hypertensive_strategy \n",
    "        self.action_space = Discrete(n_treatment_actions)\n",
    "        \n",
    "        n_features = len(pivoted_features_df.columns) - 2 \n",
    "        self.observation_space = Box(low=pivoted_features_df[pivoted_features_df.columns[2:]].min().min(), high=pivoted_features_df[pivoted_features_df.columns[2:]].max().max(), shape=(n_features,), dtype=np.float32)\n",
    "        \n",
    "    def _get_obs(self, case_admission_id, relative_sample_date_hourly_cat):\n",
    "        obs = self.features_df[(self.features_df.case_admission_id == case_admission_id) & (self.features_df.relative_sample_date_hourly_cat == relative_sample_date_hourly_cat)]\n",
    "        obs = obs[obs.columns[2:]].values\n",
    "        return obs\n",
    "    \n",
    "    def _take_action(self, action):\n",
    "        pass\n",
    "    \n",
    "    def _get_reward(self, case_admission_id, relative_sample_date_hourly_cat):\n",
    "        # check if last sample for patient\n",
    "        if relative_sample_date_hourly_cat == self.features_df[self.features_df.case_admission_id == case_admission_id].relative_sample_date_hourly_cat.max():\n",
    "            reward = self.outcomes_df[self.outcomes_df.case_admission_id == case_admission_id][self.target_outcome].values[0]\n",
    "        else:\n",
    "            reward = 0\n",
    "        return reward\n",
    "    \n",
    "    def _is_done(self, case_admission_id, relative_sample_date_hourly_cat):\n",
    "        # check if last sample for patient\n",
    "        if relative_sample_date_hourly_cat == self.features_df[self.features_df.case_admission_id == case_admission_id].relative_sample_date_hourly_cat.max():\n",
    "            done = True\n",
    "        else:\n",
    "            done = False\n",
    "        return done\n",
    "    \n",
    "    def reset(self):\n",
    "        self.current_case_admission_id = self.features_df.case_admission_id.sample(1).values[0]\n",
    "        self.current_relative_sample_date_hourly_cat = self.features_df[self.features_df.case_admission_id == self.current_case_admission_id].relative_sample_date_hourly_cat.min()\n",
    "        obs = self._get_obs(self.current_case_admission_id, self.current_relative_sample_date_hourly_cat)\n",
    "        return obs\n",
    "    \n",
    "    def step(\n",
    "        self, action: ActType\n",
    "    ) -> tuple[ObsType, SupportsFloat, bool, bool, dict[str, Any]]:\n",
    "        self._take_action(action)\n",
    "        obs = self._get_obs(self.current_case_admission_id, self.current_relative_sample_date_hourly_cat)\n",
    "        reward = self._get_reward(self.current_case_admission_id, self.current_relative_sample_date_hourly_cat)\n",
    "        done = self._is_done(self.current_case_admission_id, self.current_relative_sample_date_hourly_cat)  \n",
    "        \n",
    "        if not done:\n",
    "            self.current_relative_sample_date_hourly_cat += 1\n",
    "        \n",
    "        return obs, reward, done, {}, {}"
   ],
   "metadata": {
    "collapsed": false
   },
   "id": "77233a9943991e7d"
  }
 ],
 "metadata": {
  "kernelspec": {
   "display_name": "Python 3",
   "language": "python",
   "name": "python3"
  },
  "language_info": {
   "codemirror_mode": {
    "name": "ipython",
    "version": 2
   },
   "file_extension": ".py",
   "mimetype": "text/x-python",
   "name": "python",
   "nbconvert_exporter": "python",
   "pygments_lexer": "ipython2",
   "version": "2.7.6"
  }
 },
 "nbformat": 4,
 "nbformat_minor": 5
}
