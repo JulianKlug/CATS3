{
 "cells": [
  {
   "cell_type": "code",
   "execution_count": 1,
   "id": "initial_id",
   "metadata": {
    "collapsed": true,
    "ExecuteTime": {
     "end_time": "2023-12-10T16:00:40.750562Z",
     "start_time": "2023-12-10T16:00:23.729934Z"
    }
   },
   "outputs": [],
   "source": [
    "import gymnasium as gym\n",
    "import numpy as np\n",
    "import os\n",
    "\n",
    "import ray._private.utils\n",
    "\n",
    "from ray.rllib.models.preprocessors import get_preprocessor\n",
    "from ray.rllib.evaluation.sample_batch_builder import SampleBatchBuilder\n",
    "from ray.rllib.offline.json_writer import JsonWriter"
   ]
  },
  {
   "cell_type": "code",
   "execution_count": 6,
   "outputs": [
    {
     "name": "stdout",
     "output_type": "stream",
     "text": [
      "The preprocessor is <ray.rllib.models.preprocessors.NoPreprocessor object at 0x7fcb346984c0>\n"
     ]
    },
    {
     "name": "stderr",
     "output_type": "stream",
     "text": [
      "/var/folders/9v/1s329cwj32jc2kkx24p8jp980000gp/T/ipykernel_4453/2015136742.py:13: DeprecationWarning: `product` is deprecated as of NumPy 1.25.0, and will be removed in NumPy 2.0. Please use `prod` instead.\n",
      "  prep = get_preprocessor(env.observation_space)(env.observation_space)\n"
     ]
    }
   ],
   "source": [
    "batch_builder = SampleBatchBuilder()  # or MultiAgentSampleBatchBuilder\n",
    "writer = JsonWriter(\n",
    "    os.path.join('/Users/jk1/temp/ope_tests/demo_out', \"demo-out\")\n",
    ")\n",
    "\n",
    "# You normally wouldn't want to manually create sample batches if a\n",
    "# simulator is available, but let's do it anyways for example purposes:\n",
    "env = gym.make(\"CartPole-v1\")\n",
    "\n",
    "# RLlib uses preprocessors to implement transforms such as one-hot encoding\n",
    "# and flattening of tuple and dict observations. For CartPole a no-op\n",
    "# preprocessor is used, but this may be relevant for more complex envs.\n",
    "prep = get_preprocessor(env.observation_space)(env.observation_space)\n",
    "print(\"The preprocessor is\", prep)\n",
    "\n",
    "for eps_id in range(1):\n",
    "    obs, info = env.reset()\n",
    "    prev_action = np.zeros_like(env.action_space.sample())\n",
    "    prev_reward = 0\n",
    "    terminated = truncated = False\n",
    "    t = 0\n",
    "    while not terminated and not truncated:\n",
    "        action = env.action_space.sample()\n",
    "        new_obs, rew, terminated, truncated, info = env.step(action)\n",
    "        batch_builder.add_values(\n",
    "            t=t,\n",
    "            eps_id=eps_id,\n",
    "            agent_index=0,\n",
    "            obs=prep.transform(obs),\n",
    "            actions=action,\n",
    "            action_prob=1.0,  # put the true action probability here\n",
    "            action_logp=0.0,\n",
    "            rewards=rew,\n",
    "            prev_actions=prev_action,\n",
    "            prev_rewards=prev_reward,\n",
    "            terminateds=terminated,\n",
    "            truncateds=truncated,\n",
    "            infos=info,\n",
    "            new_obs=prep.transform(new_obs),\n",
    "        )\n",
    "        obs = new_obs\n",
    "        prev_action = action\n",
    "        prev_reward = rew\n",
    "        t += 1\n",
    "    # writer.write(batch_builder.build_and_reset()) "
   ],
   "metadata": {
    "collapsed": false,
    "ExecuteTime": {
     "end_time": "2023-12-10T16:04:13.043751Z",
     "start_time": "2023-12-10T16:04:13.012854Z"
    }
   },
   "id": "2f7156957519d207"
  },
  {
   "cell_type": "code",
   "execution_count": 10,
   "outputs": [
    {
     "data": {
      "text/plain": "array([-0.00064289, -0.20507737,  0.0021346 ,  0.25802866], dtype=float32)"
     },
     "execution_count": 10,
     "metadata": {},
     "output_type": "execute_result"
    }
   ],
   "source": [
    "batch_builder.buffers['obs'][1]"
   ],
   "metadata": {
    "collapsed": false,
    "ExecuteTime": {
     "end_time": "2023-12-10T16:05:22.908273Z",
     "start_time": "2023-12-10T16:05:22.893323Z"
    }
   },
   "id": "3525b5f47cb8318f"
  },
  {
   "cell_type": "code",
   "execution_count": 9,
   "outputs": [
    {
     "data": {
      "text/plain": "array([-0.00064289, -0.20507737,  0.0021346 ,  0.25802866], dtype=float32)"
     },
     "execution_count": 9,
     "metadata": {},
     "output_type": "execute_result"
    }
   ],
   "source": [
    "batch_builder.buffers['new_obs'][0]"
   ],
   "metadata": {
    "collapsed": false,
    "ExecuteTime": {
     "end_time": "2023-12-10T16:05:14.370676Z",
     "start_time": "2023-12-10T16:05:14.347535Z"
    }
   },
   "id": "b6df821f86454ff1"
  },
  {
   "cell_type": "code",
   "execution_count": 11,
   "outputs": [],
   "source": [
    "env = gym.make(\"CartPole-v1\")"
   ],
   "metadata": {
    "collapsed": false,
    "ExecuteTime": {
     "end_time": "2023-12-10T16:16:06.816070Z",
     "start_time": "2023-12-10T16:16:06.787970Z"
    }
   },
   "id": "31d07de9f394eac5"
  },
  {
   "cell_type": "code",
   "execution_count": 12,
   "outputs": [
    {
     "data": {
      "text/plain": "Discrete(2)"
     },
     "execution_count": 12,
     "metadata": {},
     "output_type": "execute_result"
    }
   ],
   "source": [
    "env.action_space"
   ],
   "metadata": {
    "collapsed": false,
    "ExecuteTime": {
     "end_time": "2023-12-10T16:16:09.998363Z",
     "start_time": "2023-12-10T16:16:09.964547Z"
    }
   },
   "id": "313b6712e410c2db"
  },
  {
   "cell_type": "code",
   "execution_count": 13,
   "outputs": [
    {
     "data": {
      "text/plain": "Box([-4.8000002e+00 -3.4028235e+38 -4.1887903e-01 -3.4028235e+38], [4.8000002e+00 3.4028235e+38 4.1887903e-01 3.4028235e+38], (4,), float32)"
     },
     "execution_count": 13,
     "metadata": {},
     "output_type": "execute_result"
    }
   ],
   "source": [
    "env.observation_space"
   ],
   "metadata": {
    "collapsed": false,
    "ExecuteTime": {
     "end_time": "2023-12-10T16:16:15.027805Z",
     "start_time": "2023-12-10T16:16:15.002298Z"
    }
   },
   "id": "ba9c88e394438cfd"
  },
  {
   "cell_type": "code",
   "execution_count": null,
   "outputs": [],
   "source": [],
   "metadata": {
    "collapsed": false
   },
   "id": "ba07d3e3d9bf92f0"
  }
 ],
 "metadata": {
  "kernelspec": {
   "display_name": "Python 3",
   "language": "python",
   "name": "python3"
  },
  "language_info": {
   "codemirror_mode": {
    "name": "ipython",
    "version": 2
   },
   "file_extension": ".py",
   "mimetype": "text/x-python",
   "name": "python",
   "nbconvert_exporter": "python",
   "pygments_lexer": "ipython2",
   "version": "2.7.6"
  }
 },
 "nbformat": 4,
 "nbformat_minor": 5
}
