{
 "cells": [
  {
   "cell_type": "code",
   "execution_count": 9,
   "id": "initial_id",
   "metadata": {
    "collapsed": true,
    "ExecuteTime": {
     "end_time": "2023-12-21T10:35:06.180252Z",
     "start_time": "2023-12-21T10:35:06.169386Z"
    }
   },
   "outputs": [],
   "source": [
    "import pandas as pd\n",
    "import os\n",
    "from ray.rllib.offline import JsonReader\n",
    "from evaluation.off_policy_evaluation.rllib_policy_from_table import reconstitute_case_admission_id\n",
    "from data_loaders.rllib_data_io import rllib_gsu_dataset_creation\n",
    "from evaluation.off_policy_evaluation.rllib_policy_from_table import PolicyFromTable\n"
   ]
  },
  {
   "cell_type": "code",
   "execution_count": 2,
   "outputs": [],
   "source": [
    "gsu_features_path = '/Users/jk1/temp/treatment_effects/preprocessing/gsu_Extraction_20220815_prepro_25112023_213851/splits/val_features_split_0.csv'\n",
    "gsu_final_outcomes_path = '/Users/jk1/temp/treatment_effects/preprocessing/gsu_Extraction_20220815_prepro_25112023_213851/splits/val_final_outcomes_split_0.csv'\n",
    "output_path = '/Users/jk1/temp/ope_tests/custom_data_out/val_split0_temp'"
   ],
   "metadata": {
    "collapsed": false,
    "ExecuteTime": {
     "end_time": "2023-12-21T10:31:36.256450Z",
     "start_time": "2023-12-21T10:31:36.252383Z"
    }
   },
   "id": "fe6fb89d9f93b0d9"
  },
  {
   "cell_type": "markdown",
   "source": [
    "## Testing data conversion to Rllib batch format"
   ],
   "metadata": {
    "collapsed": false
   },
   "id": "6dbf935168ac2e9e"
  },
  {
   "cell_type": "code",
   "execution_count": 3,
   "outputs": [
    {
     "name": "stderr",
     "output_type": "stream",
     "text": [
      "2023-12-21 11:31:40,222\tWARNING deprecation.py:50 -- DeprecationWarning: `SampleBatchBuilder` has been deprecated. Use `a child class of `SampleCollector`` instead. This will raise an error in the future!\n",
      "100%|██████████| 356/356 [03:06<00:00,  1.91it/s]\n"
     ]
    }
   ],
   "source": [
    "rllib_gsu_dataset_creation(gsu_features_path = gsu_features_path, gsu_final_outcomes_path=gsu_final_outcomes_path,\n",
    "                               output_path=output_path,\n",
    "                                save_index_columns=True, verbose=False)"
   ],
   "metadata": {
    "collapsed": false,
    "ExecuteTime": {
     "end_time": "2023-12-21T10:34:47.397758Z",
     "start_time": "2023-12-21T10:31:36.257366Z"
    }
   },
   "id": "73bccef1a2b826e6"
  },
  {
   "cell_type": "code",
   "execution_count": 4,
   "outputs": [
    {
     "data": {
      "text/plain": "'output-2023-12-21_11-31-41_worker-0_0.json'"
     },
     "execution_count": 4,
     "metadata": {},
     "output_type": "execute_result"
    }
   ],
   "source": [
    "# get file in output_path\n",
    "available_files = [file for file in os.listdir(output_path) if file.endswith('.json')]\n",
    "if len (available_files) != 1:\n",
    "    raise ValueError('output_path should contain only one file')\n",
    "else:\n",
    "    saved_data_file = available_files[0]\n",
    "saved_data_file"
   ],
   "metadata": {
    "collapsed": false,
    "ExecuteTime": {
     "end_time": "2023-12-21T10:34:47.409718Z",
     "start_time": "2023-12-21T10:34:47.397230Z"
    }
   },
   "id": "df0495b290241edd"
  },
  {
   "cell_type": "code",
   "execution_count": 5,
   "outputs": [],
   "source": [
    "reader = JsonReader(os.path.join(output_path, saved_data_file))"
   ],
   "metadata": {
    "collapsed": false,
    "ExecuteTime": {
     "end_time": "2023-12-21T10:34:47.419150Z",
     "start_time": "2023-12-21T10:34:47.414640Z"
    }
   },
   "id": "e0c3cd0d68686f25"
  },
  {
   "cell_type": "code",
   "execution_count": 6,
   "outputs": [],
   "source": [
    "features_df = pd.read_csv(gsu_features_path)\n",
    "outcomes_df = pd.read_csv(gsu_final_outcomes_path)"
   ],
   "metadata": {
    "collapsed": false,
    "ExecuteTime": {
     "end_time": "2023-12-21T10:34:50.121957Z",
     "start_time": "2023-12-21T10:34:47.420158Z"
    }
   },
   "id": "eedc37dbc3b93fba"
  },
  {
   "cell_type": "code",
   "execution_count": 7,
   "outputs": [
    {
     "name": "stdout",
     "output_type": "stream",
     "text": [
      "0\n"
     ]
    }
   ],
   "source": [
    "num_batches = sum(1 for _ in reader.read_all_files())\n",
    "\n",
    "n_not_found = 0\n",
    "cids_from_saved_batchs = []\n",
    "for _ in range(num_batches):\n",
    "    batch = reader.next()\n",
    "    cid = reconstitute_case_admission_id(batch['obs'][0][0], batch['obs'][0][1])\n",
    "    cids_from_saved_batchs.append(cid)\n",
    "    # check if cid is in features_df\n",
    "    if cid not in features_df.case_admission_id.values:\n",
    "        print(f'{cid} not found in feature_df')\n",
    "        print(batch['obs'][0][0], batch['obs'][0][1])\n",
    "        n_not_found += 1\n",
    "        \n",
    "print(n_not_found)"
   ],
   "metadata": {
    "collapsed": false,
    "ExecuteTime": {
     "end_time": "2023-12-21T10:35:04.708943Z",
     "start_time": "2023-12-21T10:34:50.126911Z"
    }
   },
   "id": "670e272dc7ea9025"
  },
  {
   "cell_type": "markdown",
   "source": [
    "## Testing policy creation"
   ],
   "metadata": {
    "collapsed": false
   },
   "id": "8ce0063aad8d902a"
  },
  {
   "cell_type": "code",
   "execution_count": 8,
   "outputs": [
    {
     "name": "stderr",
     "output_type": "stream",
     "text": [
      "/var/folders/9v/1s329cwj32jc2kkx24p8jp980000gp/T/ipykernel_22821/2283902728.py:14: SettingWithCopyWarning: \n",
      "A value is trying to be set on a copy of a slice from a DataFrame\n",
      "\n",
      "See the caveats in the documentation: https://pandas.pydata.org/pandas-docs/stable/user_guide/indexing.html#returning-a-view-versus-a-copy\n",
      "  treatment_df.rename(columns={'relative_sample_date_hourly_cat': 'timestep'}, inplace=True)\n"
     ]
    }
   ],
   "source": [
    "# create treatment dataframe \n",
    "# Features data\n",
    "features_df.drop(columns=['impute_missing_as'], inplace=True)\n",
    "\n",
    "pivoted_features_df = features_df.pivot(index=['case_admission_id', 'relative_sample_date_hourly_cat'],\n",
    "                                        columns='sample_label', values='value')\n",
    "\n",
    "# get rid of multiindex\n",
    "pivoted_features_df = pivoted_features_df.rename_axis(None, axis=1).reset_index()\n",
    "\n",
    "# seperate out treatment features\n",
    "treatment_df = pivoted_features_df[\n",
    "    ['case_admission_id', 'relative_sample_date_hourly_cat', 'anti_hypertensive_strategy']]\n",
    "treatment_df.rename(columns={'relative_sample_date_hourly_cat': 'timestep'}, inplace=True)"
   ],
   "metadata": {
    "collapsed": false,
    "ExecuteTime": {
     "end_time": "2023-12-21T10:35:06.167652Z",
     "start_time": "2023-12-21T10:35:04.710157Z"
    }
   },
   "id": "30fbf443080fed1a"
  },
  {
   "cell_type": "code",
   "execution_count": 10,
   "outputs": [],
   "source": [
    "# create policy\n",
    "treatment_policy = PolicyFromTable({}, {}, {}, lookup_table=treatment_df)"
   ],
   "metadata": {
    "collapsed": false,
    "ExecuteTime": {
     "end_time": "2023-12-21T10:35:34.098150Z",
     "start_time": "2023-12-21T10:35:34.089222Z"
    }
   },
   "id": "3fc5d99a456545eb"
  },
  {
   "cell_type": "markdown",
   "source": [
    "## test policy evaluation"
   ],
   "metadata": {
    "collapsed": false
   },
   "id": "5a19198381713c0"
  },
  {
   "cell_type": "code",
   "execution_count": 12,
   "outputs": [
    {
     "name": "stderr",
     "output_type": "stream",
     "text": [
      "Weighted Importance Sampling Estimation: 100%|██████████| 356/356 [01:12<00:00,  4.92it/s]\n"
     ]
    }
   ],
   "source": [
    "from evaluation.off_policy_evaluation.weighted_importance_sampling import weighted_importance_sampling\n",
    "\n",
    "results_df = weighted_importance_sampling(\n",
    "    baseline_data_path=os.path.join(output_path, saved_data_file),\n",
    "    target_treatment_df=treatment_df,\n",
    "    verbose=True\n",
    ")"
   ],
   "metadata": {
    "collapsed": false,
    "ExecuteTime": {
     "end_time": "2023-12-21T10:38:28.978210Z",
     "start_time": "2023-12-21T10:37:16.504233Z"
    }
   },
   "id": "9dd30cc3742e309d"
  },
  {
   "cell_type": "code",
   "execution_count": 13,
   "outputs": [
    {
     "data": {
      "text/plain": "   v_behavior  v_behavior_std  v_target  v_target_std  v_gain  v_delta  \\\n0    0.000000             0.0  0.000000           0.0     0.0      0.0   \n0    0.494839             0.0  0.494839           0.0     1.0      0.0   \n0    0.494839             0.0  0.494839           0.0     1.0      0.0   \n0    0.000000             0.0  0.000000           0.0     0.0      0.0   \n0    0.494839             0.0  0.494839           0.0     1.0      0.0   \n\n  case_admission_id  \n0        10189_1690  \n0      1025279_1586  \n0      1025830_4031  \n0        10338_5096  \n0      1042770_4046  ",
      "text/html": "<div>\n<style scoped>\n    .dataframe tbody tr th:only-of-type {\n        vertical-align: middle;\n    }\n\n    .dataframe tbody tr th {\n        vertical-align: top;\n    }\n\n    .dataframe thead th {\n        text-align: right;\n    }\n</style>\n<table border=\"1\" class=\"dataframe\">\n  <thead>\n    <tr style=\"text-align: right;\">\n      <th></th>\n      <th>v_behavior</th>\n      <th>v_behavior_std</th>\n      <th>v_target</th>\n      <th>v_target_std</th>\n      <th>v_gain</th>\n      <th>v_delta</th>\n      <th>case_admission_id</th>\n    </tr>\n  </thead>\n  <tbody>\n    <tr>\n      <th>0</th>\n      <td>0.000000</td>\n      <td>0.0</td>\n      <td>0.000000</td>\n      <td>0.0</td>\n      <td>0.0</td>\n      <td>0.0</td>\n      <td>10189_1690</td>\n    </tr>\n    <tr>\n      <th>0</th>\n      <td>0.494839</td>\n      <td>0.0</td>\n      <td>0.494839</td>\n      <td>0.0</td>\n      <td>1.0</td>\n      <td>0.0</td>\n      <td>1025279_1586</td>\n    </tr>\n    <tr>\n      <th>0</th>\n      <td>0.494839</td>\n      <td>0.0</td>\n      <td>0.494839</td>\n      <td>0.0</td>\n      <td>1.0</td>\n      <td>0.0</td>\n      <td>1025830_4031</td>\n    </tr>\n    <tr>\n      <th>0</th>\n      <td>0.000000</td>\n      <td>0.0</td>\n      <td>0.000000</td>\n      <td>0.0</td>\n      <td>0.0</td>\n      <td>0.0</td>\n      <td>10338_5096</td>\n    </tr>\n    <tr>\n      <th>0</th>\n      <td>0.494839</td>\n      <td>0.0</td>\n      <td>0.494839</td>\n      <td>0.0</td>\n      <td>1.0</td>\n      <td>0.0</td>\n      <td>1042770_4046</td>\n    </tr>\n  </tbody>\n</table>\n</div>"
     },
     "execution_count": 13,
     "metadata": {},
     "output_type": "execute_result"
    }
   ],
   "source": [
    "results_df.head()"
   ],
   "metadata": {
    "collapsed": false,
    "ExecuteTime": {
     "end_time": "2023-12-21T10:39:08.572300Z",
     "start_time": "2023-12-21T10:39:08.548049Z"
    }
   },
   "id": "385ec04091955e71"
  },
  {
   "cell_type": "code",
   "execution_count": 14,
   "outputs": [
    {
     "data": {
      "text/plain": "(0.49483865960020695, 0.49483865960020695)"
     },
     "execution_count": 14,
     "metadata": {},
     "output_type": "execute_result"
    }
   ],
   "source": [
    "results_df.v_behavior.median(), results_df.v_target.median()"
   ],
   "metadata": {
    "collapsed": false,
    "ExecuteTime": {
     "end_time": "2023-12-21T10:39:37.990949Z",
     "start_time": "2023-12-21T10:39:37.965397Z"
    }
   },
   "id": "2320b34c8269d497"
  },
  {
   "cell_type": "code",
   "execution_count": 15,
   "outputs": [
    {
     "data": {
      "text/plain": "(0.0, 0.0)"
     },
     "execution_count": 15,
     "metadata": {},
     "output_type": "execute_result"
    }
   ],
   "source": [
    "results_df.v_delta.mean(), results_df.v_delta.median()"
   ],
   "metadata": {
    "collapsed": false,
    "ExecuteTime": {
     "end_time": "2023-12-21T10:40:08.153127Z",
     "start_time": "2023-12-21T10:40:08.120312Z"
    }
   },
   "id": "d97cbbb0d4a2c88f"
  },
  {
   "cell_type": "code",
   "execution_count": null,
   "outputs": [],
   "source": [],
   "metadata": {
    "collapsed": false
   },
   "id": "c22fadf684042235"
  }
 ],
 "metadata": {
  "kernelspec": {
   "display_name": "Python 3",
   "language": "python",
   "name": "python3"
  },
  "language_info": {
   "codemirror_mode": {
    "name": "ipython",
    "version": 2
   },
   "file_extension": ".py",
   "mimetype": "text/x-python",
   "name": "python",
   "nbconvert_exporter": "python",
   "pygments_lexer": "ipython2",
   "version": "2.7.6"
  }
 },
 "nbformat": 4,
 "nbformat_minor": 5
}
