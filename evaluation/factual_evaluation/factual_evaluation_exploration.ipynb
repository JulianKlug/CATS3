{
 "cells": [
  {
   "cell_type": "code",
   "execution_count": 1,
   "id": "initial_id",
   "metadata": {
    "collapsed": true,
    "ExecuteTime": {
     "end_time": "2023-12-11T10:19:26.085468Z",
     "start_time": "2023-12-11T10:19:18.815625Z"
    }
   },
   "outputs": [
    {
     "ename": "AttributeError",
     "evalue": "module 'pydantic' has no attribute 'model_validator'",
     "output_type": "error",
     "traceback": [
      "\u001B[0;31m---------------------------------------------------------------------------\u001B[0m",
      "\u001B[0;31mAttributeError\u001B[0m                            Traceback (most recent call last)",
      "Cell \u001B[0;32mIn[1], line 5\u001B[0m\n\u001B[1;32m      3\u001B[0m \u001B[38;5;28;01mimport\u001B[39;00m \u001B[38;5;21;01mpandas\u001B[39;00m \u001B[38;5;28;01mas\u001B[39;00m \u001B[38;5;21;01mpd\u001B[39;00m\n\u001B[1;32m      4\u001B[0m \u001B[38;5;28;01mfrom\u001B[39;00m \u001B[38;5;21;01mtqdm\u001B[39;00m \u001B[38;5;28;01mimport\u001B[39;00m tqdm\n\u001B[0;32m----> 5\u001B[0m \u001B[38;5;28;01mfrom\u001B[39;00m \u001B[38;5;21;01mdata_loaders\u001B[39;00m\u001B[38;5;21;01m.\u001B[39;00m\u001B[38;5;21;01mtemporAI_dataloader\u001B[39;00m \u001B[38;5;28;01mimport\u001B[39;00m load_gsu_dataset\n\u001B[1;32m      6\u001B[0m \u001B[38;5;28;01mimport\u001B[39;00m \u001B[38;5;21;01mnumpy\u001B[39;00m \u001B[38;5;28;01mas\u001B[39;00m \u001B[38;5;21;01mnp\u001B[39;00m\n\u001B[1;32m      7\u001B[0m \u001B[38;5;28;01mfrom\u001B[39;00m \u001B[38;5;21;01mtempor\u001B[39;00m\u001B[38;5;21;01m.\u001B[39;00m\u001B[38;5;21;01mutils\u001B[39;00m\u001B[38;5;21;01m.\u001B[39;00m\u001B[38;5;21;01mserialization\u001B[39;00m \u001B[38;5;28;01mimport\u001B[39;00m load_from_file\n",
      "File \u001B[0;32m~/stroke_research/CATS3/data_loaders/temporAI_dataloader.py:2\u001B[0m\n\u001B[1;32m      1\u001B[0m \u001B[38;5;28;01mimport\u001B[39;00m \u001B[38;5;21;01mpandas\u001B[39;00m \u001B[38;5;28;01mas\u001B[39;00m \u001B[38;5;21;01mpd\u001B[39;00m\n\u001B[0;32m----> 2\u001B[0m \u001B[38;5;28;01mfrom\u001B[39;00m \u001B[38;5;21;01mtempor\u001B[39;00m\u001B[38;5;21;01m.\u001B[39;00m\u001B[38;5;21;01mdata\u001B[39;00m\u001B[38;5;21;01m.\u001B[39;00m\u001B[38;5;21;01mdataset\u001B[39;00m \u001B[38;5;28;01mimport\u001B[39;00m TemporalTreatmentEffectsDataset\n\u001B[1;32m      5\u001B[0m \u001B[38;5;28;01mdef\u001B[39;00m \u001B[38;5;21mload_gsu_dataset\u001B[39m(gsu_features_path: \u001B[38;5;28mstr\u001B[39m, gsu_continuous_outcomes_path: \u001B[38;5;28mstr\u001B[39m, last_timestep:\u001B[38;5;28mint\u001B[39m \u001B[38;5;241m=\u001B[39m \u001B[38;5;241m70\u001B[39m) \u001B[38;5;241m-\u001B[39m\u001B[38;5;241m>\u001B[39m TemporalTreatmentEffectsDataset:\n\u001B[1;32m      6\u001B[0m \u001B[38;5;250m    \u001B[39m\u001B[38;5;124;03m\"\"\"\u001B[39;00m\n\u001B[1;32m      7\u001B[0m \u001B[38;5;124;03m    Loads the Geneva Stroke Unit (GSU) dataset into a TemporAI Treatment Effects Dataset.\u001B[39;00m\n\u001B[1;32m      8\u001B[0m \u001B[38;5;124;03m    :param gsu_features_path: path to the GSU features\u001B[39;00m\n\u001B[0;32m   (...)\u001B[0m\n\u001B[1;32m     13\u001B[0m \u001B[38;5;124;03m    :return: TemporalTreatmentEffectsDataset\u001B[39;00m\n\u001B[1;32m     14\u001B[0m \u001B[38;5;124;03m    \"\"\"\u001B[39;00m\n",
      "File \u001B[0;32m~/opt/anaconda3/envs/cats3/lib/python3.10/site-packages/tempor/__init__.py:34\u001B[0m\n\u001B[1;32m     26\u001B[0m \u001B[38;5;66;03m# NOTE:\u001B[39;00m\n\u001B[1;32m     27\u001B[0m \u001B[38;5;66;03m# Currently, migrating to Pydantic 2.0's validate_call decorator is not possible due to several incompatibilities, e.g.:\u001B[39;00m\n\u001B[1;32m     28\u001B[0m \u001B[38;5;66;03m# - cloudpickle fails to pickle objects: TypeError: cannot pickle 'EncodedFile' object.\u001B[39;00m\n\u001B[1;32m     29\u001B[0m \u001B[38;5;66;03m# - PipelineMeta setup is incompatible, triggers: TypeError: can't apply this __setattr__ to ABCMeta object.\u001B[39;00m\n\u001B[1;32m     30\u001B[0m \u001B[38;5;66;03m# For the time being, reasonable to stick to validate_arguments and silence Pydantic 2.0's deprecation warning.\u001B[39;00m\n\u001B[1;32m     33\u001B[0m \u001B[38;5;28;01mimport\u001B[39;00m \u001B[38;5;21;01mtempor\u001B[39;00m\u001B[38;5;21;01m.\u001B[39;00m\u001B[38;5;21;01mdatasources\u001B[39;00m  \u001B[38;5;66;03m# noqa: E402 F401\u001B[39;00m\n\u001B[0;32m---> 34\u001B[0m \u001B[38;5;28;01mimport\u001B[39;00m \u001B[38;5;21;01mtempor\u001B[39;00m\u001B[38;5;21;01m.\u001B[39;00m\u001B[38;5;21;01mmethods\u001B[39;00m  \u001B[38;5;66;03m# noqa: E402 F401\u001B[39;00m\n\u001B[1;32m     36\u001B[0m \u001B[38;5;66;03m# Prepare the plugin loader:\u001B[39;00m\n\u001B[1;32m     37\u001B[0m \u001B[38;5;28;01mfrom\u001B[39;00m \u001B[38;5;21;01mtempor\u001B[39;00m\u001B[38;5;21;01m.\u001B[39;00m\u001B[38;5;21;01mcore\u001B[39;00m \u001B[38;5;28;01mimport\u001B[39;00m plugins  \u001B[38;5;66;03m# noqa: E402\u001B[39;00m\n",
      "File \u001B[0;32m~/opt/anaconda3/envs/cats3/lib/python3.10/site-packages/tempor/methods/__init__.py:1\u001B[0m\n\u001B[0;32m----> 1\u001B[0m \u001B[38;5;28;01mfrom\u001B[39;00m \u001B[38;5;21;01m.\u001B[39;00m \u001B[38;5;28;01mimport\u001B[39;00m prediction, preprocessing, time_to_event, treatments\n\u001B[1;32m      3\u001B[0m __all__ \u001B[38;5;241m=\u001B[39m [\n\u001B[1;32m      4\u001B[0m     \u001B[38;5;124m\"\u001B[39m\u001B[38;5;124mprediction\u001B[39m\u001B[38;5;124m\"\u001B[39m,\n\u001B[1;32m      5\u001B[0m     \u001B[38;5;124m\"\u001B[39m\u001B[38;5;124mpreprocessing\u001B[39m\u001B[38;5;124m\"\u001B[39m,\n\u001B[1;32m      6\u001B[0m     \u001B[38;5;124m\"\u001B[39m\u001B[38;5;124mtime_to_event\u001B[39m\u001B[38;5;124m\"\u001B[39m,\n\u001B[1;32m      7\u001B[0m     \u001B[38;5;124m\"\u001B[39m\u001B[38;5;124mtreatments\u001B[39m\u001B[38;5;124m\"\u001B[39m,\n\u001B[1;32m      8\u001B[0m ]\n",
      "File \u001B[0;32m~/opt/anaconda3/envs/cats3/lib/python3.10/site-packages/tempor/methods/prediction/__init__.py:1\u001B[0m\n\u001B[0;32m----> 1\u001B[0m \u001B[38;5;28;01mfrom\u001B[39;00m \u001B[38;5;21;01m.\u001B[39;00m \u001B[38;5;28;01mimport\u001B[39;00m one_off, temporal\n\u001B[1;32m      3\u001B[0m __all__ \u001B[38;5;241m=\u001B[39m [\n\u001B[1;32m      4\u001B[0m     \u001B[38;5;124m\"\u001B[39m\u001B[38;5;124mone_off\u001B[39m\u001B[38;5;124m\"\u001B[39m,\n\u001B[1;32m      5\u001B[0m     \u001B[38;5;124m\"\u001B[39m\u001B[38;5;124mtemporal\u001B[39m\u001B[38;5;124m\"\u001B[39m,\n\u001B[1;32m      6\u001B[0m ]\n",
      "File \u001B[0;32m~/opt/anaconda3/envs/cats3/lib/python3.10/site-packages/tempor/methods/prediction/one_off/__init__.py:1\u001B[0m\n\u001B[0;32m----> 1\u001B[0m \u001B[38;5;28;01mfrom\u001B[39;00m \u001B[38;5;21;01m.\u001B[39;00m \u001B[38;5;28;01mimport\u001B[39;00m classification, regression\n\u001B[1;32m      3\u001B[0m __all__ \u001B[38;5;241m=\u001B[39m [\n\u001B[1;32m      4\u001B[0m     \u001B[38;5;124m\"\u001B[39m\u001B[38;5;124mclassification\u001B[39m\u001B[38;5;124m\"\u001B[39m,\n\u001B[1;32m      5\u001B[0m     \u001B[38;5;124m\"\u001B[39m\u001B[38;5;124mregression\u001B[39m\u001B[38;5;124m\"\u001B[39m,\n\u001B[1;32m      6\u001B[0m ]\n",
      "File \u001B[0;32m~/opt/anaconda3/envs/cats3/lib/python3.10/site-packages/tempor/methods/prediction/one_off/classification/__init__.py:8\u001B[0m\n\u001B[1;32m      5\u001B[0m \u001B[38;5;28;01mimport\u001B[39;00m \u001B[38;5;21;01mpydantic\u001B[39;00m\n\u001B[1;32m      6\u001B[0m \u001B[38;5;28;01mfrom\u001B[39;00m \u001B[38;5;21;01mtyping_extensions\u001B[39;00m \u001B[38;5;28;01mimport\u001B[39;00m Self\n\u001B[0;32m----> 8\u001B[0m \u001B[38;5;28;01mimport\u001B[39;00m \u001B[38;5;21;01mtempor\u001B[39;00m\u001B[38;5;21;01m.\u001B[39;00m\u001B[38;5;21;01mmethods\u001B[39;00m\u001B[38;5;21;01m.\u001B[39;00m\u001B[38;5;21;01mcore\u001B[39;00m \u001B[38;5;28;01mas\u001B[39;00m \u001B[38;5;21;01mmethods_core\u001B[39;00m\n\u001B[1;32m      9\u001B[0m \u001B[38;5;28;01mfrom\u001B[39;00m \u001B[38;5;21;01mtempor\u001B[39;00m\u001B[38;5;21;01m.\u001B[39;00m\u001B[38;5;21;01mcore\u001B[39;00m \u001B[38;5;28;01mimport\u001B[39;00m plugins, pydantic_utils\n\u001B[1;32m     10\u001B[0m \u001B[38;5;28;01mfrom\u001B[39;00m \u001B[38;5;21;01mtempor\u001B[39;00m\u001B[38;5;21;01m.\u001B[39;00m\u001B[38;5;21;01mdata\u001B[39;00m \u001B[38;5;28;01mimport\u001B[39;00m dataset, samples\n",
      "File \u001B[0;32m~/opt/anaconda3/envs/cats3/lib/python3.10/site-packages/tempor/methods/core/__init__.py:3\u001B[0m\n\u001B[1;32m      1\u001B[0m \u001B[38;5;28;01mfrom\u001B[39;00m \u001B[38;5;21;01mtempor\u001B[39;00m\u001B[38;5;21;01m.\u001B[39;00m\u001B[38;5;21;01mcore\u001B[39;00m\u001B[38;5;21;01m.\u001B[39;00m\u001B[38;5;21;01mplugins\u001B[39;00m \u001B[38;5;28;01mimport\u001B[39;00m Plugin, PluginLoader, importing, register_plugin, register_plugin_category\n\u001B[0;32m----> 3\u001B[0m \u001B[38;5;28;01mfrom\u001B[39;00m \u001B[38;5;21;01m.\u001B[39;00m\u001B[38;5;21;01m_base_estimator\u001B[39;00m \u001B[38;5;28;01mimport\u001B[39;00m BaseEstimator\n\u001B[1;32m      4\u001B[0m \u001B[38;5;28;01mfrom\u001B[39;00m \u001B[38;5;21;01m.\u001B[39;00m\u001B[38;5;21;01m_base_predictor\u001B[39;00m \u001B[38;5;28;01mimport\u001B[39;00m BasePredictor\n\u001B[1;32m      5\u001B[0m \u001B[38;5;28;01mfrom\u001B[39;00m \u001B[38;5;21;01m.\u001B[39;00m\u001B[38;5;21;01m_base_transformer\u001B[39;00m \u001B[38;5;28;01mimport\u001B[39;00m BaseTransformer\n",
      "File \u001B[0;32m~/opt/anaconda3/envs/cats3/lib/python3.10/site-packages/tempor/methods/core/_base_estimator.py:24\u001B[0m\n\u001B[1;32m     19\u001B[0m \u001B[38;5;129m@dataclasses\u001B[39m\u001B[38;5;241m.\u001B[39mdataclass\n\u001B[1;32m     20\u001B[0m \u001B[38;5;28;01mclass\u001B[39;00m \u001B[38;5;21;01mEmptyParamsDefinition\u001B[39;00m:\n\u001B[1;32m     21\u001B[0m     \u001B[38;5;28;01mpass\u001B[39;00m\n\u001B[0;32m---> 24\u001B[0m \u001B[38;5;28;01mclass\u001B[39;00m \u001B[38;5;21;01mBaseEstimator\u001B[39;00m(Plugin, abc\u001B[38;5;241m.\u001B[39mABC):\n\u001B[1;32m     25\u001B[0m     ParamsDefinition: ClassVar[Type] \u001B[38;5;241m=\u001B[39m EmptyParamsDefinition\n\u001B[1;32m     26\u001B[0m     _fitted: \u001B[38;5;28mbool\u001B[39m\n",
      "File \u001B[0;32m~/opt/anaconda3/envs/cats3/lib/python3.10/site-packages/tempor/methods/core/_base_estimator.py:28\u001B[0m, in \u001B[0;36mBaseEstimator\u001B[0;34m()\u001B[0m\n\u001B[1;32m     25\u001B[0m ParamsDefinition: ClassVar[Type] \u001B[38;5;241m=\u001B[39m EmptyParamsDefinition\n\u001B[1;32m     26\u001B[0m _fitted: \u001B[38;5;28mbool\u001B[39m\n\u001B[0;32m---> 28\u001B[0m \u001B[38;5;28;01mclass\u001B[39;00m \u001B[38;5;21;01m_InitArgsValidator\u001B[39;00m(pydantic\u001B[38;5;241m.\u001B[39mBaseModel):\n\u001B[1;32m     29\u001B[0m     params: Optional[Dict[\u001B[38;5;28mstr\u001B[39m, Any]] \u001B[38;5;241m=\u001B[39m \u001B[38;5;28;01mNone\u001B[39;00m\n\u001B[1;32m     30\u001B[0m     ParamsDefinitionClass: Type\n",
      "File \u001B[0;32m~/opt/anaconda3/envs/cats3/lib/python3.10/site-packages/tempor/methods/core/_base_estimator.py:35\u001B[0m, in \u001B[0;36mBaseEstimator._InitArgsValidator\u001B[0;34m()\u001B[0m\n\u001B[1;32m     32\u001B[0m \u001B[38;5;66;03m# Output:\u001B[39;00m\n\u001B[1;32m     33\u001B[0m params_processed: Optional[omegaconf\u001B[38;5;241m.\u001B[39mDictConfig] \u001B[38;5;241m=\u001B[39m \u001B[38;5;28;01mNone\u001B[39;00m\n\u001B[0;32m---> 35\u001B[0m \u001B[38;5;129m@pydantic\u001B[39m\u001B[38;5;241;43m.\u001B[39;49m\u001B[43mmodel_validator\u001B[49m(mode\u001B[38;5;241m=\u001B[39m\u001B[38;5;124m\"\u001B[39m\u001B[38;5;124mbefore\u001B[39m\u001B[38;5;124m\"\u001B[39m)\n\u001B[1;32m     36\u001B[0m \u001B[38;5;28;01mdef\u001B[39;00m \u001B[38;5;21mroot_checks\u001B[39m(\u001B[38;5;28mcls\u001B[39m, values: Dict) \u001B[38;5;241m-\u001B[39m\u001B[38;5;241m>\u001B[39m Dict:  \u001B[38;5;66;03m# pylint: disable=no-self-argument\u001B[39;00m\n\u001B[1;32m     37\u001B[0m     params \u001B[38;5;241m=\u001B[39m values\u001B[38;5;241m.\u001B[39mget(\u001B[38;5;124m\"\u001B[39m\u001B[38;5;124mparams\u001B[39m\u001B[38;5;124m\"\u001B[39m, \u001B[38;5;28mdict\u001B[39m())\n\u001B[1;32m     38\u001B[0m     ParamsDefinitionClass \u001B[38;5;241m=\u001B[39m values\u001B[38;5;241m.\u001B[39mget(\u001B[38;5;124m\"\u001B[39m\u001B[38;5;124mParamsDefinitionClass\u001B[39m\u001B[38;5;124m\"\u001B[39m)\n",
      "\u001B[0;31mAttributeError\u001B[0m: module 'pydantic' has no attribute 'model_validator'"
     ]
    }
   ],
   "source": [
    "import os\n",
    "\n",
    "import pandas as pd\n",
    "from tqdm import tqdm\n",
    "from data_loaders.temporAI_dataloader import load_gsu_dataset\n",
    "import numpy as np\n",
    "from tempor.utils.serialization import load_from_file"
   ]
  },
  {
   "cell_type": "code",
   "execution_count": null,
   "outputs": [],
   "source": [
    "model_path = '/Users/jk1/temp/treatment_effects/training_test/crn_20231127_203329/crn_model_20231127_203329_split_0.cpkl'\n",
    "split_folder = '/Users/jk1/temp/treatment_effects/preprocessing/gsu_Extraction_20220815_prepro_25112023_213851/splits'\n",
    "split = 0"
   ],
   "metadata": {
    "collapsed": false,
    "ExecuteTime": {
     "end_time": "2023-12-11T10:19:26.095442Z",
     "start_time": "2023-12-11T10:19:26.088044Z"
    }
   },
   "id": "c8f878d2ca34ccf9"
  },
  {
   "cell_type": "markdown",
   "source": [
    "# Load data and model"
   ],
   "metadata": {
    "collapsed": false
   },
   "id": "910f86fc85d2b4fa"
  },
  {
   "cell_type": "code",
   "execution_count": null,
   "outputs": [],
   "source": [
    "train_features_path = os.path.join(split_folder, f'train_features_split_{split}.csv')\n",
    "train_cont_outcomes_path = os.path.join(split_folder, f'train_continuous_outcomes_split_{split}.csv')\n",
    "val_features_path = os.path.join(split_folder, f'val_features_split_{split}.csv')\n",
    "val_cont_outcomes_path = os.path.join(split_folder, f'val_continuous_outcomes_split_{split}.csv')"
   ],
   "metadata": {
    "collapsed": false,
    "ExecuteTime": {
     "start_time": "2023-12-11T10:19:26.091497Z"
    }
   },
   "id": "b8d78cfc3ee2bef2"
  },
  {
   "cell_type": "code",
   "execution_count": 5,
   "outputs": [],
   "source": [
    "val_gsu_dataset = load_gsu_dataset(val_features_path, val_cont_outcomes_path)"
   ],
   "metadata": {
    "collapsed": false,
    "ExecuteTime": {
     "end_time": "2023-11-28T07:42:51.557202Z",
     "start_time": "2023-11-28T07:42:43.849891Z"
    }
   },
   "id": "cb2fdef75096c191"
  },
  {
   "cell_type": "code",
   "execution_count": 8,
   "outputs": [],
   "source": [
    "model = load_from_file(model_path)"
   ],
   "metadata": {
    "collapsed": false,
    "ExecuteTime": {
     "end_time": "2023-11-28T07:44:44.268544Z",
     "start_time": "2023-11-28T07:44:44.225054Z"
    }
   },
   "id": "d49cc7b682fd5e1c"
  },
  {
   "cell_type": "markdown",
   "source": [
    "# Get predictions for factuals on validation dataset"
   ],
   "metadata": {
    "collapsed": false
   },
   "id": "ece5a4490a10e6ba"
  },
  {
   "cell_type": "code",
   "execution_count": 53,
   "outputs": [],
   "source": [
    "# horizons: all predictions (starting from TC 2)\n",
    "horizons = [tc.time_indexes()[0][2:] for tc in val_gsu_dataset.time_series]"
   ],
   "metadata": {
    "collapsed": false,
    "ExecuteTime": {
     "end_time": "2023-11-28T08:00:41.646805Z",
     "start_time": "2023-11-28T08:00:40.385632Z"
    }
   },
   "id": "5c17808a4fdd110"
  },
  {
   "cell_type": "code",
   "execution_count": 122,
   "outputs": [],
   "source": [
    "treatment_scenarios = [[ttt.dataframe().values[2:].squeeze().astype(int)\n",
    "                        ] for ttt in val_gsu_dataset.predictive.treatments]"
   ],
   "metadata": {
    "collapsed": false,
    "ExecuteTime": {
     "end_time": "2023-11-28T18:49:57.641164Z",
     "start_time": "2023-11-28T18:49:56.358603Z"
    }
   },
   "id": "45bc55743b7b0ba7"
  },
  {
   "cell_type": "markdown",
   "source": [
    "Criteria for working inference\n",
    "- treatment scenarion must be binary (only 2 different ttt per scenario)\n",
    "- start at timestep 2 (CRN needs at least 2 timesteps run-in"
   ],
   "metadata": {
    "collapsed": false
   },
   "id": "8b0035c74f8e7b12"
  },
  {
   "cell_type": "code",
   "execution_count": 125,
   "outputs": [
    {
     "data": {
      "text/plain": "[[TimeSeries() with data:\n            nihss_delta_at_next_ts\n  time_idx                        \n  2                      -0.034997\n  3                      -0.042279\n  4                      -0.042230\n  5                      -0.042230\n  6                      -0.042230\n  ...                          ...\n  66                     -0.042230\n  67                     -0.042230\n  68                     -0.042230\n  69                     -0.042230\n  70                     -0.042230\n  \n  [69 rows x 1 columns]],\n [TimeSeries() with data:\n            nihss_delta_at_next_ts\n  time_idx                        \n  2                      -0.031219\n  3                      -0.038598\n  4                      -0.038547\n  5                      -0.038548\n  6                      -0.038548\n  ...                          ...\n  66                     -0.038548\n  67                     -0.038548\n  68                     -0.038548\n  69                     -0.038548\n  70                     -0.038548\n  \n  [69 rows x 1 columns]]]"
     },
     "execution_count": 125,
     "metadata": {},
     "output_type": "execute_result"
    }
   ],
   "source": [
    "predicted_factuals = model.predict_counterfactuals(val_gsu_dataset[0:2], horizons=horizons[0:2], treatment_scenarios=treatment_scenarios[0:2])\n",
    "predicted_factuals"
   ],
   "metadata": {
    "collapsed": false,
    "ExecuteTime": {
     "end_time": "2023-11-28T18:51:00.772704Z",
     "start_time": "2023-11-28T18:50:57.071363Z"
    }
   },
   "id": "edd1353bd48c4d8c"
  },
  {
   "cell_type": "code",
   "execution_count": 133,
   "outputs": [],
   "source": [
    "def root_mean_square_error(x1, x2):\n",
    "    if len(x1) != len(x2):\n",
    "        raise ValueError(f'x1 and x2 should be of same length and not {len(x1)} != {len(x2)}')\n",
    "    rmse = np.sqrt(((x1 - x2) ** 2).mean())\n",
    "    return rmse"
   ],
   "metadata": {
    "collapsed": false,
    "ExecuteTime": {
     "end_time": "2023-11-28T19:02:52.348075Z",
     "start_time": "2023-11-28T19:02:52.301048Z"
    }
   },
   "id": "1a211ab51947606f"
  },
  {
   "cell_type": "code",
   "execution_count": 143,
   "outputs": [
    {
     "data": {
      "text/plain": "0.12265416790795378"
     },
     "execution_count": 143,
     "metadata": {},
     "output_type": "execute_result"
    }
   ],
   "source": [
    "root_mean_square_error(val_gsu_dataset[0].predictive.targets.dataframe().values[2:], \n",
    "                       predicted_factuals[0][0].to_numpy())"
   ],
   "metadata": {
    "collapsed": false,
    "ExecuteTime": {
     "end_time": "2023-11-28T19:06:22.142473Z",
     "start_time": "2023-11-28T19:06:18.664274Z"
    }
   },
   "id": "7c6e4cff3a05552b"
  },
  {
   "cell_type": "markdown",
   "source": [
    "Always predict only single TS"
   ],
   "metadata": {
    "collapsed": false
   },
   "id": "1d4c8970d4230e96"
  },
  {
   "cell_type": "code",
   "execution_count": 316,
   "outputs": [],
   "source": [
    "def flatten(l):\n",
    "    return [item for sublist in l for item in sublist]"
   ],
   "metadata": {
    "collapsed": false,
    "ExecuteTime": {
     "end_time": "2023-11-28T21:03:14.261068Z",
     "start_time": "2023-11-28T21:03:14.228653Z"
    }
   },
   "id": "26c52ea29a822ff5"
  },
  {
   "cell_type": "code",
   "execution_count": 303,
   "outputs": [],
   "source": [
    "n_timesteps = val_gsu_dataset.time_series[0].dataframe().shape[0]"
   ],
   "metadata": {
    "collapsed": false,
    "ExecuteTime": {
     "end_time": "2023-11-28T20:58:45.357310Z",
     "start_time": "2023-11-28T20:58:45.347630Z"
    }
   },
   "id": "99433df94042c12d"
  },
  {
   "cell_type": "code",
   "execution_count": 329,
   "outputs": [
    {
     "name": "stderr",
     "output_type": "stream",
     "text": [
      "100%|██████████| 69/69 [06:52<00:00,  5.98s/it]\n"
     ]
    }
   ],
   "source": [
    "n_timesteps_to_predict = 1\n",
    "predicted_factuals_df = pd.DataFrame()\n",
    "true_factuals_df = pd.DataFrame()\n",
    "rmse_per_ts_df = pd.DataFrame()\n",
    "for ts in tqdm(range(2, n_timesteps - n_timesteps_to_predict + 1)):\n",
    "# for ts in tqdm(range(2, 4)):\n",
    "    # predict single timestep at a time\n",
    "    horizon = [tc.time_indexes()[0][ts:ts+n_timesteps_to_predict] for tc in val_gsu_dataset.time_series]\n",
    "    treatment_scenarios = [[ttt.dataframe().values[ts:ts+n_timesteps_to_predict].astype(int)] \n",
    "                           for ttt in val_gsu_dataset.predictive.treatments]\n",
    "    \n",
    "    # TODO: change this to include all subjects\n",
    "    # predicted_factuals_at_ts = model.predict_counterfactuals(val_gsu_dataset, horizons=horizon,         treatment_scenarios=treatment_scenarios)\n",
    "    predicted_factuals_at_ts = model.predict_counterfactuals(val_gsu_dataset[0:2], horizons=horizon[0:2],         treatment_scenarios=treatment_scenarios[0:2])\n",
    "    predicted_factuals_df[ts] = flatten(flatten([pfts[0].to_numpy() for pfts in predicted_factuals_at_ts]))\n",
    "    \n",
    "    # TODO\n",
    "    # temp_df = val_gsu_dataset.predictive.targets.dataframe().reset_index()\n",
    "    temp_df = val_gsu_dataset.predictive.targets[0:2].dataframe().reset_index()\n",
    "    column_name = val_gsu_dataset.predictive.targets.dataframe().columns[0]\n",
    "    true_factuals_df[ts] = temp_df[temp_df.time_idx.isin(range(ts, ts+n_timesteps_to_predict))][column_name].values\n",
    "    \n",
    "    rmse_per_ts_df[ts] = [root_mean_square_error(true_factuals_df[ts].values,\n",
    "                                        predicted_factuals_df[ts].values)]\n",
    "    "
   ],
   "metadata": {
    "collapsed": false,
    "ExecuteTime": {
     "end_time": "2023-11-28T21:31:30.760902Z",
     "start_time": "2023-11-28T21:24:38.183421Z"
    }
   },
   "id": "4043759e792d012c"
  },
  {
   "cell_type": "code",
   "execution_count": 330,
   "outputs": [
    {
     "data": {
      "text/plain": "    2    3    4    5    6    7    8    9    10   11  ...   61   62   63   64  \\\n0  0.0  0.0  0.0  0.0  0.0  0.0  0.0  0.0  0.0  0.0  ...  0.0  0.0  0.0  0.0   \n1  0.0  0.0  0.0  1.0  0.0  0.0  0.0  0.0 -1.0  0.0  ...  0.0  0.0  0.0  0.0   \n\n    65   66   67   68   69   70  \n0  0.0  0.0  0.0  0.0  0.0  0.0  \n1  0.0  0.0  0.0  0.0  0.0  0.0  \n\n[2 rows x 69 columns]",
      "text/html": "<div>\n<style scoped>\n    .dataframe tbody tr th:only-of-type {\n        vertical-align: middle;\n    }\n\n    .dataframe tbody tr th {\n        vertical-align: top;\n    }\n\n    .dataframe thead th {\n        text-align: right;\n    }\n</style>\n<table border=\"1\" class=\"dataframe\">\n  <thead>\n    <tr style=\"text-align: right;\">\n      <th></th>\n      <th>2</th>\n      <th>3</th>\n      <th>4</th>\n      <th>5</th>\n      <th>6</th>\n      <th>7</th>\n      <th>8</th>\n      <th>9</th>\n      <th>10</th>\n      <th>11</th>\n      <th>...</th>\n      <th>61</th>\n      <th>62</th>\n      <th>63</th>\n      <th>64</th>\n      <th>65</th>\n      <th>66</th>\n      <th>67</th>\n      <th>68</th>\n      <th>69</th>\n      <th>70</th>\n    </tr>\n  </thead>\n  <tbody>\n    <tr>\n      <th>0</th>\n      <td>0.0</td>\n      <td>0.0</td>\n      <td>0.0</td>\n      <td>0.0</td>\n      <td>0.0</td>\n      <td>0.0</td>\n      <td>0.0</td>\n      <td>0.0</td>\n      <td>0.0</td>\n      <td>0.0</td>\n      <td>...</td>\n      <td>0.0</td>\n      <td>0.0</td>\n      <td>0.0</td>\n      <td>0.0</td>\n      <td>0.0</td>\n      <td>0.0</td>\n      <td>0.0</td>\n      <td>0.0</td>\n      <td>0.0</td>\n      <td>0.0</td>\n    </tr>\n    <tr>\n      <th>1</th>\n      <td>0.0</td>\n      <td>0.0</td>\n      <td>0.0</td>\n      <td>1.0</td>\n      <td>0.0</td>\n      <td>0.0</td>\n      <td>0.0</td>\n      <td>0.0</td>\n      <td>-1.0</td>\n      <td>0.0</td>\n      <td>...</td>\n      <td>0.0</td>\n      <td>0.0</td>\n      <td>0.0</td>\n      <td>0.0</td>\n      <td>0.0</td>\n      <td>0.0</td>\n      <td>0.0</td>\n      <td>0.0</td>\n      <td>0.0</td>\n      <td>0.0</td>\n    </tr>\n  </tbody>\n</table>\n<p>2 rows × 69 columns</p>\n</div>"
     },
     "execution_count": 330,
     "metadata": {},
     "output_type": "execute_result"
    }
   ],
   "source": [
    "true_factuals_df"
   ],
   "metadata": {
    "collapsed": false,
    "ExecuteTime": {
     "end_time": "2023-11-28T21:31:58.610458Z",
     "start_time": "2023-11-28T21:31:58.582551Z"
    }
   },
   "id": "8b1aad0fe5d7c68"
  },
  {
   "cell_type": "code",
   "execution_count": 331,
   "outputs": [
    {
     "data": {
      "text/plain": "         2         3         4         5         6         7         8   \\\n0 -0.034997 -0.055535 -0.067548 -0.078275 -0.080675 -0.083704 -0.087344   \n1 -0.031219 -0.047482 -0.057662 -0.063753 -0.074397 -0.068745 -0.071192   \n\n         9         10        11  ...        61        62        63        64  \\\n0 -0.090192 -0.092651 -0.095064  ... -0.074182 -0.076579 -0.076311 -0.075674   \n1 -0.071263 -0.073377 -0.062573  ... -0.077067 -0.077068 -0.077068 -0.077068   \n\n         65        66        67        68        69        70  \n0 -0.075303 -0.075022 -0.073745 -0.073277 -0.073052 -0.072976  \n1 -0.077068 -0.077068 -0.077068 -0.077068 -0.077068 -0.077068  \n\n[2 rows x 69 columns]",
      "text/html": "<div>\n<style scoped>\n    .dataframe tbody tr th:only-of-type {\n        vertical-align: middle;\n    }\n\n    .dataframe tbody tr th {\n        vertical-align: top;\n    }\n\n    .dataframe thead th {\n        text-align: right;\n    }\n</style>\n<table border=\"1\" class=\"dataframe\">\n  <thead>\n    <tr style=\"text-align: right;\">\n      <th></th>\n      <th>2</th>\n      <th>3</th>\n      <th>4</th>\n      <th>5</th>\n      <th>6</th>\n      <th>7</th>\n      <th>8</th>\n      <th>9</th>\n      <th>10</th>\n      <th>11</th>\n      <th>...</th>\n      <th>61</th>\n      <th>62</th>\n      <th>63</th>\n      <th>64</th>\n      <th>65</th>\n      <th>66</th>\n      <th>67</th>\n      <th>68</th>\n      <th>69</th>\n      <th>70</th>\n    </tr>\n  </thead>\n  <tbody>\n    <tr>\n      <th>0</th>\n      <td>-0.034997</td>\n      <td>-0.055535</td>\n      <td>-0.067548</td>\n      <td>-0.078275</td>\n      <td>-0.080675</td>\n      <td>-0.083704</td>\n      <td>-0.087344</td>\n      <td>-0.090192</td>\n      <td>-0.092651</td>\n      <td>-0.095064</td>\n      <td>...</td>\n      <td>-0.074182</td>\n      <td>-0.076579</td>\n      <td>-0.076311</td>\n      <td>-0.075674</td>\n      <td>-0.075303</td>\n      <td>-0.075022</td>\n      <td>-0.073745</td>\n      <td>-0.073277</td>\n      <td>-0.073052</td>\n      <td>-0.072976</td>\n    </tr>\n    <tr>\n      <th>1</th>\n      <td>-0.031219</td>\n      <td>-0.047482</td>\n      <td>-0.057662</td>\n      <td>-0.063753</td>\n      <td>-0.074397</td>\n      <td>-0.068745</td>\n      <td>-0.071192</td>\n      <td>-0.071263</td>\n      <td>-0.073377</td>\n      <td>-0.062573</td>\n      <td>...</td>\n      <td>-0.077067</td>\n      <td>-0.077068</td>\n      <td>-0.077068</td>\n      <td>-0.077068</td>\n      <td>-0.077068</td>\n      <td>-0.077068</td>\n      <td>-0.077068</td>\n      <td>-0.077068</td>\n      <td>-0.077068</td>\n      <td>-0.077068</td>\n    </tr>\n  </tbody>\n</table>\n<p>2 rows × 69 columns</p>\n</div>"
     },
     "execution_count": 331,
     "metadata": {},
     "output_type": "execute_result"
    }
   ],
   "source": [
    "predicted_factuals_df"
   ],
   "metadata": {
    "collapsed": false,
    "ExecuteTime": {
     "end_time": "2023-11-28T21:32:04.806111Z",
     "start_time": "2023-11-28T21:32:04.746551Z"
    }
   },
   "id": "8b8caefbafc3fafd"
  },
  {
   "cell_type": "code",
   "execution_count": 332,
   "outputs": [
    {
     "data": {
      "text/plain": "array([[-0.07297616]])"
     },
     "execution_count": 332,
     "metadata": {},
     "output_type": "execute_result"
    }
   ],
   "source": [
    "predicted_factuals_at_ts[0][0].to_numpy()"
   ],
   "metadata": {
    "collapsed": false,
    "ExecuteTime": {
     "end_time": "2023-11-28T21:32:08.899429Z",
     "start_time": "2023-11-28T21:32:08.871788Z"
    }
   },
   "id": "67151aca3f5d891b"
  },
  {
   "cell_type": "code",
   "execution_count": 333,
   "outputs": [
    {
     "data": {
      "text/plain": "         2         3       4        5         6        7         8        9   \\\n0  0.033162  0.051666  0.0628  0.75422  0.077599  0.07659  0.079678  0.08128   \n\n         10        11  ...        61        62       63        64        65  \\\n0  0.658488  0.080475  ...  0.075638  0.076823  0.07669  0.076374  0.076191   \n\n         66        67        68        69       70  \n0  0.076052  0.075425  0.075197  0.075087  0.07505  \n\n[1 rows x 69 columns]",
      "text/html": "<div>\n<style scoped>\n    .dataframe tbody tr th:only-of-type {\n        vertical-align: middle;\n    }\n\n    .dataframe tbody tr th {\n        vertical-align: top;\n    }\n\n    .dataframe thead th {\n        text-align: right;\n    }\n</style>\n<table border=\"1\" class=\"dataframe\">\n  <thead>\n    <tr style=\"text-align: right;\">\n      <th></th>\n      <th>2</th>\n      <th>3</th>\n      <th>4</th>\n      <th>5</th>\n      <th>6</th>\n      <th>7</th>\n      <th>8</th>\n      <th>9</th>\n      <th>10</th>\n      <th>11</th>\n      <th>...</th>\n      <th>61</th>\n      <th>62</th>\n      <th>63</th>\n      <th>64</th>\n      <th>65</th>\n      <th>66</th>\n      <th>67</th>\n      <th>68</th>\n      <th>69</th>\n      <th>70</th>\n    </tr>\n  </thead>\n  <tbody>\n    <tr>\n      <th>0</th>\n      <td>0.033162</td>\n      <td>0.051666</td>\n      <td>0.0628</td>\n      <td>0.75422</td>\n      <td>0.077599</td>\n      <td>0.07659</td>\n      <td>0.079678</td>\n      <td>0.08128</td>\n      <td>0.658488</td>\n      <td>0.080475</td>\n      <td>...</td>\n      <td>0.075638</td>\n      <td>0.076823</td>\n      <td>0.07669</td>\n      <td>0.076374</td>\n      <td>0.076191</td>\n      <td>0.076052</td>\n      <td>0.075425</td>\n      <td>0.075197</td>\n      <td>0.075087</td>\n      <td>0.07505</td>\n    </tr>\n  </tbody>\n</table>\n<p>1 rows × 69 columns</p>\n</div>"
     },
     "execution_count": 333,
     "metadata": {},
     "output_type": "execute_result"
    }
   ],
   "source": [
    "rmse_per_ts_df"
   ],
   "metadata": {
    "collapsed": false,
    "ExecuteTime": {
     "end_time": "2023-11-28T21:32:10.020079Z",
     "start_time": "2023-11-28T21:32:09.996837Z"
    }
   },
   "id": "f631472d749f34df"
  },
  {
   "cell_type": "code",
   "execution_count": 334,
   "outputs": [
    {
     "data": {
      "text/plain": "0.16185998240383107"
     },
     "execution_count": 334,
     "metadata": {},
     "output_type": "execute_result"
    }
   ],
   "source": [
    "overall_rmse = root_mean_square_error(\n",
    "    predicted_factuals_df.melt()['value'].values,\n",
    "    true_factuals_df.melt()['value'].values\n",
    ")\n",
    "overall_rmse"
   ],
   "metadata": {
    "collapsed": false,
    "ExecuteTime": {
     "end_time": "2023-11-28T21:32:13.884788Z",
     "start_time": "2023-11-28T21:32:13.786901Z"
    }
   },
   "id": "a633834d70cb5300"
  },
  {
   "cell_type": "code",
   "execution_count": 299,
   "outputs": [
    {
     "data": {
      "text/plain": "            2         3         4         5         6         7\n0   -0.034997 -0.055535 -0.067548 -0.078275 -0.080675 -0.083704\n1   -0.031219 -0.047482 -0.057662 -0.063753 -0.074397 -0.068745\n2   -0.028617 -0.039621 -0.045561 -0.045533 -0.048170 -0.050694\n3   -0.081144 -0.063939 -0.091070 -0.095970 -0.103121 -0.100882\n4   -0.035518 -0.057192 -0.069503 -0.076238 -0.078553 -0.080481\n..        ...       ...       ...       ...       ...       ...\n351 -0.026591 -0.001958 -0.048967 -0.055947 -0.058771 -0.056175\n352 -0.029668 -0.040226 -0.042179 -0.042969 -0.045682 -0.047156\n353 -0.031401 -0.045244 -0.056741 -0.058990 -0.061918 -0.061960\n354 -0.040367 -0.058833 -0.067498 -0.075655 -0.081521 -0.082423\n355 -0.035521 -0.052883 -0.062540 -0.067046 -0.068892 -0.069278\n\n[356 rows x 6 columns]",
      "text/html": "<div>\n<style scoped>\n    .dataframe tbody tr th:only-of-type {\n        vertical-align: middle;\n    }\n\n    .dataframe tbody tr th {\n        vertical-align: top;\n    }\n\n    .dataframe thead th {\n        text-align: right;\n    }\n</style>\n<table border=\"1\" class=\"dataframe\">\n  <thead>\n    <tr style=\"text-align: right;\">\n      <th></th>\n      <th>2</th>\n      <th>3</th>\n      <th>4</th>\n      <th>5</th>\n      <th>6</th>\n      <th>7</th>\n    </tr>\n  </thead>\n  <tbody>\n    <tr>\n      <th>0</th>\n      <td>-0.034997</td>\n      <td>-0.055535</td>\n      <td>-0.067548</td>\n      <td>-0.078275</td>\n      <td>-0.080675</td>\n      <td>-0.083704</td>\n    </tr>\n    <tr>\n      <th>1</th>\n      <td>-0.031219</td>\n      <td>-0.047482</td>\n      <td>-0.057662</td>\n      <td>-0.063753</td>\n      <td>-0.074397</td>\n      <td>-0.068745</td>\n    </tr>\n    <tr>\n      <th>2</th>\n      <td>-0.028617</td>\n      <td>-0.039621</td>\n      <td>-0.045561</td>\n      <td>-0.045533</td>\n      <td>-0.048170</td>\n      <td>-0.050694</td>\n    </tr>\n    <tr>\n      <th>3</th>\n      <td>-0.081144</td>\n      <td>-0.063939</td>\n      <td>-0.091070</td>\n      <td>-0.095970</td>\n      <td>-0.103121</td>\n      <td>-0.100882</td>\n    </tr>\n    <tr>\n      <th>4</th>\n      <td>-0.035518</td>\n      <td>-0.057192</td>\n      <td>-0.069503</td>\n      <td>-0.076238</td>\n      <td>-0.078553</td>\n      <td>-0.080481</td>\n    </tr>\n    <tr>\n      <th>...</th>\n      <td>...</td>\n      <td>...</td>\n      <td>...</td>\n      <td>...</td>\n      <td>...</td>\n      <td>...</td>\n    </tr>\n    <tr>\n      <th>351</th>\n      <td>-0.026591</td>\n      <td>-0.001958</td>\n      <td>-0.048967</td>\n      <td>-0.055947</td>\n      <td>-0.058771</td>\n      <td>-0.056175</td>\n    </tr>\n    <tr>\n      <th>352</th>\n      <td>-0.029668</td>\n      <td>-0.040226</td>\n      <td>-0.042179</td>\n      <td>-0.042969</td>\n      <td>-0.045682</td>\n      <td>-0.047156</td>\n    </tr>\n    <tr>\n      <th>353</th>\n      <td>-0.031401</td>\n      <td>-0.045244</td>\n      <td>-0.056741</td>\n      <td>-0.058990</td>\n      <td>-0.061918</td>\n      <td>-0.061960</td>\n    </tr>\n    <tr>\n      <th>354</th>\n      <td>-0.040367</td>\n      <td>-0.058833</td>\n      <td>-0.067498</td>\n      <td>-0.075655</td>\n      <td>-0.081521</td>\n      <td>-0.082423</td>\n    </tr>\n    <tr>\n      <th>355</th>\n      <td>-0.035521</td>\n      <td>-0.052883</td>\n      <td>-0.062540</td>\n      <td>-0.067046</td>\n      <td>-0.068892</td>\n      <td>-0.069278</td>\n    </tr>\n  </tbody>\n</table>\n<p>356 rows × 6 columns</p>\n</div>"
     },
     "execution_count": 299,
     "metadata": {},
     "output_type": "execute_result"
    }
   ],
   "source": [
    "predicted_factuals_df"
   ],
   "metadata": {
    "collapsed": false,
    "ExecuteTime": {
     "end_time": "2023-11-28T20:42:21.608723Z",
     "start_time": "2023-11-28T20:42:21.603248Z"
    }
   },
   "id": "74f06c1cc4101079"
  },
  {
   "cell_type": "code",
   "execution_count": 300,
   "outputs": [
    {
     "data": {
      "text/plain": "       2    3    4    5    6    7\n0    0.0  0.0  0.0  0.0  0.0  0.0\n1    0.0  0.0  0.0  1.0  0.0  0.0\n2    0.0  0.0  0.0  0.0  0.0  0.0\n3    8.5  0.0  0.0  0.0  0.0  0.0\n4    0.0  0.0  0.0  0.0  0.0  0.0\n..   ...  ...  ...  ...  ...  ...\n351 -6.0  0.0  0.0  0.0  0.0  0.0\n352  0.0  0.0  0.0  0.0  0.0  0.0\n353  0.0  0.0  0.0  0.0  0.0  0.0\n354  0.0  0.0  0.0  0.0  0.0  0.0\n355  0.0  0.0  0.0  0.0  0.0  0.0\n\n[356 rows x 6 columns]",
      "text/html": "<div>\n<style scoped>\n    .dataframe tbody tr th:only-of-type {\n        vertical-align: middle;\n    }\n\n    .dataframe tbody tr th {\n        vertical-align: top;\n    }\n\n    .dataframe thead th {\n        text-align: right;\n    }\n</style>\n<table border=\"1\" class=\"dataframe\">\n  <thead>\n    <tr style=\"text-align: right;\">\n      <th></th>\n      <th>2</th>\n      <th>3</th>\n      <th>4</th>\n      <th>5</th>\n      <th>6</th>\n      <th>7</th>\n    </tr>\n  </thead>\n  <tbody>\n    <tr>\n      <th>0</th>\n      <td>0.0</td>\n      <td>0.0</td>\n      <td>0.0</td>\n      <td>0.0</td>\n      <td>0.0</td>\n      <td>0.0</td>\n    </tr>\n    <tr>\n      <th>1</th>\n      <td>0.0</td>\n      <td>0.0</td>\n      <td>0.0</td>\n      <td>1.0</td>\n      <td>0.0</td>\n      <td>0.0</td>\n    </tr>\n    <tr>\n      <th>2</th>\n      <td>0.0</td>\n      <td>0.0</td>\n      <td>0.0</td>\n      <td>0.0</td>\n      <td>0.0</td>\n      <td>0.0</td>\n    </tr>\n    <tr>\n      <th>3</th>\n      <td>8.5</td>\n      <td>0.0</td>\n      <td>0.0</td>\n      <td>0.0</td>\n      <td>0.0</td>\n      <td>0.0</td>\n    </tr>\n    <tr>\n      <th>4</th>\n      <td>0.0</td>\n      <td>0.0</td>\n      <td>0.0</td>\n      <td>0.0</td>\n      <td>0.0</td>\n      <td>0.0</td>\n    </tr>\n    <tr>\n      <th>...</th>\n      <td>...</td>\n      <td>...</td>\n      <td>...</td>\n      <td>...</td>\n      <td>...</td>\n      <td>...</td>\n    </tr>\n    <tr>\n      <th>351</th>\n      <td>-6.0</td>\n      <td>0.0</td>\n      <td>0.0</td>\n      <td>0.0</td>\n      <td>0.0</td>\n      <td>0.0</td>\n    </tr>\n    <tr>\n      <th>352</th>\n      <td>0.0</td>\n      <td>0.0</td>\n      <td>0.0</td>\n      <td>0.0</td>\n      <td>0.0</td>\n      <td>0.0</td>\n    </tr>\n    <tr>\n      <th>353</th>\n      <td>0.0</td>\n      <td>0.0</td>\n      <td>0.0</td>\n      <td>0.0</td>\n      <td>0.0</td>\n      <td>0.0</td>\n    </tr>\n    <tr>\n      <th>354</th>\n      <td>0.0</td>\n      <td>0.0</td>\n      <td>0.0</td>\n      <td>0.0</td>\n      <td>0.0</td>\n      <td>0.0</td>\n    </tr>\n    <tr>\n      <th>355</th>\n      <td>0.0</td>\n      <td>0.0</td>\n      <td>0.0</td>\n      <td>0.0</td>\n      <td>0.0</td>\n      <td>0.0</td>\n    </tr>\n  </tbody>\n</table>\n<p>356 rows × 6 columns</p>\n</div>"
     },
     "execution_count": 300,
     "metadata": {},
     "output_type": "execute_result"
    }
   ],
   "source": [
    "true_factuals_df"
   ],
   "metadata": {
    "collapsed": false,
    "ExecuteTime": {
     "end_time": "2023-11-28T20:42:30.357369Z",
     "start_time": "2023-11-28T20:42:30.300992Z"
    }
   },
   "id": "845e09be5764ba26"
  },
  {
   "cell_type": "code",
   "execution_count": null,
   "outputs": [],
   "source": [],
   "metadata": {
    "collapsed": false
   },
   "id": "6ae4e127f1ccbaaa"
  }
 ],
 "metadata": {
  "kernelspec": {
   "display_name": "Python 3",
   "language": "python",
   "name": "python3"
  },
  "language_info": {
   "codemirror_mode": {
    "name": "ipython",
    "version": 2
   },
   "file_extension": ".py",
   "mimetype": "text/x-python",
   "name": "python",
   "nbconvert_exporter": "python",
   "pygments_lexer": "ipython2",
   "version": "2.7.6"
  }
 },
 "nbformat": 4,
 "nbformat_minor": 5
}
