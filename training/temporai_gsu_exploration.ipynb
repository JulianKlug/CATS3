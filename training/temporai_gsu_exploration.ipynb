{
 "cells": [
  {
   "cell_type": "code",
   "execution_count": 1,
   "id": "initial_id",
   "metadata": {
    "collapsed": true,
    "ExecuteTime": {
     "end_time": "2023-11-27T18:50:14.483284Z",
     "start_time": "2023-11-27T18:50:09.797881Z"
    }
   },
   "outputs": [],
   "source": [
    "from tempor import plugin_loader\n",
    "from data_loaders.temporAI_dataloader import load_gsu_dataset\n",
    "import numpy as np"
   ]
  },
  {
   "cell_type": "code",
   "execution_count": 2,
   "outputs": [],
   "source": [
    "data_path = '/Users/jk1/temp/treatment_effects/prepro_test/gsu_Extraction_20220815_prepro_25112023_213851/preprocessed_features_25112023_213851.csv'\n",
    "continuous_outcomes_path = '/Users/jk1/temp/treatment_effects/prepro_test/gsu_Extraction_20220815_prepro_25112023_213851/preprocessed_outcomes_continuous_25112023_213851.csv'"
   ],
   "metadata": {
    "collapsed": false,
    "ExecuteTime": {
     "end_time": "2023-11-27T18:50:14.489663Z",
     "start_time": "2023-11-27T18:50:14.484948Z"
    }
   },
   "id": "d815d8415c81615"
  },
  {
   "cell_type": "markdown",
   "source": [
    "# Load GSU dataset"
   ],
   "metadata": {
    "collapsed": false
   },
   "id": "57813be4c235473f"
  },
  {
   "cell_type": "code",
   "execution_count": 3,
   "outputs": [],
   "source": [
    "gsu_dataset = load_gsu_dataset(data_path, continuous_outcomes_path)"
   ],
   "metadata": {
    "collapsed": false,
    "ExecuteTime": {
     "end_time": "2023-11-27T18:50:44.395863Z",
     "start_time": "2023-11-27T18:50:16.244174Z"
    }
   },
   "id": "2845c18ba577e561"
  },
  {
   "cell_type": "code",
   "execution_count": 4,
   "outputs": [
    {
     "data": {
      "text/plain": "TemporalTreatmentEffectsDataset(\n    time_series=TimeSeriesSamples([2493, *, 84]),\n    predictive=TemporalTreatmentEffectsTaskData(\n        targets=TimeSeriesSamples([2493, *, 1]),\n        treatments=TimeSeriesSamples([2493, *, 1])\n    )\n)"
     },
     "execution_count": 4,
     "metadata": {},
     "output_type": "execute_result"
    }
   ],
   "source": [
    "gsu_dataset"
   ],
   "metadata": {
    "collapsed": false,
    "ExecuteTime": {
     "end_time": "2023-11-27T18:50:44.449279Z",
     "start_time": "2023-11-27T18:50:44.396600Z"
    }
   },
   "id": "db79d65339112bd6"
  },
  {
   "cell_type": "markdown",
   "source": [
    "## Explore model"
   ],
   "metadata": {
    "collapsed": false
   },
   "id": "3344716f999d17be"
  },
  {
   "cell_type": "code",
   "execution_count": 5,
   "outputs": [],
   "source": [
    "temp_dataset = gsu_dataset[0:2]"
   ],
   "metadata": {
    "collapsed": false,
    "ExecuteTime": {
     "end_time": "2023-11-27T18:50:46.680206Z",
     "start_time": "2023-11-27T18:50:44.445511Z"
    }
   },
   "id": "567539ac1edb271"
  },
  {
   "cell_type": "code",
   "execution_count": 30,
   "outputs": [],
   "source": [
    "params = {\n",
    "                                  'epochs': 2,\n",
    "                                  'encoder_rnn_type': 'LSTM',\n",
    "                              'encoder_hidden_size': 3,\n",
    "                              'encoder_num_layers': 2,\n",
    "                              'encoder_bias': True,\n",
    "                              'encoder_dropout': 0.0,\n",
    "                              'encoder_bidirectional': False,\n",
    "                              'encoder_nonlinearity': None,\n",
    "                              'encoder_proj_size': None,\n",
    "                              'decoder_rnn_type': 'LSTM',\n",
    "                              'decoder_hidden_size': 100,\n",
    "                              'decoder_num_layers': 1,\n",
    "                              'decoder_bias': True,\n",
    "                              'decoder_dropout': 0.0,\n",
    "                              'decoder_bidirectional': False,\n",
    "                              'decoder_nonlinearity': None,\n",
    "                              'decoder_proj_size': None,\n",
    "                              'adapter_hidden_dims': [50],\n",
    "                              'adapter_out_activation': 'Tanh',\n",
    "                              'predictor_hidden_dims': [],\n",
    "                              'predictor_out_activation': None,\n",
    "                              'max_len': None,\n",
    "                              'optimizer_str': 'Adam',\n",
    "                              'optimizer_kwargs': {'lr': 0.01, 'weight_decay': 1e-05},\n",
    "                              'batch_size': 32,\n",
    "                              'padding_indicator': -999.0\n",
    "}"
   ],
   "metadata": {
    "collapsed": false,
    "ExecuteTime": {
     "end_time": "2023-11-27T19:06:56.398319Z",
     "start_time": "2023-11-27T19:06:56.385200Z"
    }
   },
   "id": "22218f316488fa96"
  },
  {
   "cell_type": "code",
   "execution_count": 33,
   "outputs": [],
   "source": [
    "# Initialize the model:\n",
    "model = plugin_loader.get(\"treatments.temporal.regression.crn_regressor\", epochs=params['epochs'], encoder_rnn_type=params['encoder_rnn_type'], encoder_hidden_size=params['encoder_hidden_size'], encoder_num_layers=params['encoder_num_layers'], encoder_bias=params['encoder_bias'], encoder_dropout=params['encoder_dropout'], encoder_bidirectional=params['encoder_bidirectional'], encoder_nonlinearity=params['encoder_nonlinearity'], encoder_proj_size=params['encoder_proj_size'], decoder_rnn_type=params['decoder_rnn_type'], decoder_hidden_size=params['decoder_hidden_size'], decoder_num_layers=params['decoder_num_layers'], decoder_bias=params['decoder_bias'], decoder_dropout=params['decoder_dropout'], decoder_bidirectional=params['decoder_bidirectional'], decoder_nonlinearity=params['decoder_nonlinearity'], decoder_proj_size=params['decoder_proj_size'], adapter_hidden_dims=params['adapter_hidden_dims'], adapter_out_activation=params['adapter_out_activation'], predictor_hidden_dims=params['predictor_hidden_dims'], predictor_out_activation=params['predictor_out_activation'], max_len=params['max_len'], optimizer_str=params['optimizer_str'], optimizer_kwargs=params['optimizer_kwargs'], batch_size=params['batch_size'], padding_indicator=params['padding_indicator'],\n",
    "                          encoder_fc_hidden_units=48\n",
    ")"
   ],
   "metadata": {
    "collapsed": false,
    "ExecuteTime": {
     "end_time": "2023-11-27T19:22:14.818587Z",
     "start_time": "2023-11-27T19:22:14.815273Z"
    }
   },
   "id": "566e097e9e9e94a3"
  },
  {
   "cell_type": "code",
   "execution_count": 34,
   "outputs": [
    {
     "name": "stdout",
     "output_type": "stream",
     "text": [
      "Preparing data for decoder training...\n",
      "Preparing data for decoder training DONE.\n",
      "=== Training stage: 1. Train encoder ===\n",
      "Epoch: 0, Prediction Loss: 4.042, Lambda: 1.000, Treatment BR Loss: 0.000, Loss: 4.042\n",
      "Epoch: 1, Prediction Loss: 3.751, Lambda: 1.000, Treatment BR Loss: 0.000, Loss: 3.751\n",
      "=== Training stage: 2. Train decoder ===\n",
      "Epoch: 0, Prediction Loss: 0.048, Lambda: 1.000, Treatment BR Loss: 0.000, Loss: 0.048\n",
      "Epoch: 1, Prediction Loss: 0.008, Lambda: 1.000, Treatment BR Loss: 0.000, Loss: 0.008\n"
     ]
    },
    {
     "data": {
      "text/plain": "CRNTreatmentsRegressor(\n    name='crn_regressor',\n    category='treatments.temporal.regression',\n    plugin_type='method',\n    params={\n        'encoder_rnn_type': 'LSTM',\n        'encoder_hidden_size': 3,\n        'encoder_num_layers': 2,\n        'encoder_bias': True,\n        'encoder_dropout': 0.0,\n        'encoder_bidirectional': False,\n        'encoder_nonlinearity': None,\n        'encoder_proj_size': None,\n        'decoder_rnn_type': 'LSTM',\n        'decoder_hidden_size': 100,\n        'decoder_num_layers': 1,\n        'decoder_bias': True,\n        'decoder_dropout': 0.0,\n        'decoder_bidirectional': False,\n        'decoder_nonlinearity': None,\n        'decoder_proj_size': None,\n        'adapter_hidden_dims': [50],\n        'adapter_out_activation': 'Tanh',\n        'predictor_hidden_dims': [],\n        'predictor_out_activation': None,\n        'max_len': None,\n        'optimizer_str': 'Adam',\n        'optimizer_kwargs': {'lr': 0.01, 'weight_decay': 1e-05},\n        'batch_size': 32,\n        'epochs': 2,\n        'padding_indicator': -999.0\n    }\n)"
     },
     "execution_count": 34,
     "metadata": {},
     "output_type": "execute_result"
    }
   ],
   "source": [
    "# Train the model:\n",
    "model.fit(temp_dataset)"
   ],
   "metadata": {
    "collapsed": false,
    "ExecuteTime": {
     "end_time": "2023-11-27T19:22:22.277883Z",
     "start_time": "2023-11-27T19:22:15.177781Z"
    }
   },
   "id": "e62d285db81dd554"
  },
  {
   "cell_type": "code",
   "execution_count": 36,
   "outputs": [
    {
     "ename": "AttributeError",
     "evalue": "'CRNRegressor' object has no attribute 'encoder_fc_hidden_units'",
     "output_type": "error",
     "traceback": [
      "\u001B[0;31m---------------------------------------------------------------------------\u001B[0m",
      "\u001B[0;31mAttributeError\u001B[0m                            Traceback (most recent call last)",
      "Cell \u001B[0;32mIn[36], line 1\u001B[0m\n\u001B[0;32m----> 1\u001B[0m \u001B[43mmodel\u001B[49m\u001B[38;5;241;43m.\u001B[39;49m\u001B[43mmodel\u001B[49m\u001B[38;5;241;43m.\u001B[39;49m\u001B[43mencoder_fc_hidden_units\u001B[49m\n",
      "File \u001B[0;32m~/opt/anaconda3/envs/treatment_effects/lib/python3.10/site-packages/torch/nn/modules/module.py:1614\u001B[0m, in \u001B[0;36mModule.__getattr__\u001B[0;34m(self, name)\u001B[0m\n\u001B[1;32m   1612\u001B[0m     \u001B[38;5;28;01mif\u001B[39;00m name \u001B[38;5;129;01min\u001B[39;00m modules:\n\u001B[1;32m   1613\u001B[0m         \u001B[38;5;28;01mreturn\u001B[39;00m modules[name]\n\u001B[0;32m-> 1614\u001B[0m \u001B[38;5;28;01mraise\u001B[39;00m \u001B[38;5;167;01mAttributeError\u001B[39;00m(\u001B[38;5;124m\"\u001B[39m\u001B[38;5;124m'\u001B[39m\u001B[38;5;132;01m{}\u001B[39;00m\u001B[38;5;124m'\u001B[39m\u001B[38;5;124m object has no attribute \u001B[39m\u001B[38;5;124m'\u001B[39m\u001B[38;5;132;01m{}\u001B[39;00m\u001B[38;5;124m'\u001B[39m\u001B[38;5;124m\"\u001B[39m\u001B[38;5;241m.\u001B[39mformat(\n\u001B[1;32m   1615\u001B[0m     \u001B[38;5;28mtype\u001B[39m(\u001B[38;5;28mself\u001B[39m)\u001B[38;5;241m.\u001B[39m\u001B[38;5;18m__name__\u001B[39m, name))\n",
      "\u001B[0;31mAttributeError\u001B[0m: 'CRNRegressor' object has no attribute 'encoder_fc_hidden_units'"
     ]
    }
   ],
   "source": [
    "model.model.encoder_fc_hidden_units"
   ],
   "metadata": {
    "collapsed": false,
    "ExecuteTime": {
     "end_time": "2023-11-27T19:23:57.775798Z",
     "start_time": "2023-11-27T19:23:57.669645Z"
    }
   },
   "id": "2d153583f266d171"
  },
  {
   "cell_type": "code",
   "execution_count": 8,
   "outputs": [
    {
     "name": "stdout",
     "output_type": "stream",
     "text": [
      "Horizons for sample 0:\n",
      " [35, 36, 37, 38, 39, 40, 41, 42, 43, 44, 45, 46, 47, 48, 49, 50, 51, 52, 53, 54, 55, 56, 57, 58, 59, 60, 61, 62, 63, 64, 65, 66, 67, 68, 69, 70]\n"
     ]
    }
   ],
   "source": [
    "# Define horizons for each sample.\n",
    "horizons = [tc.time_indexes()[0][len(tc.time_indexes()[0]) // 2 :] for tc in temp_dataset.time_series]\n",
    "print(\"Horizons for sample 0:\\n\", horizons[0], end=\"\\n\\n\")"
   ],
   "metadata": {
    "collapsed": false,
    "ExecuteTime": {
     "end_time": "2023-11-27T18:50:54.100050Z",
     "start_time": "2023-11-27T18:50:54.083015Z"
    }
   },
   "id": "781a497dbf2ab0ac"
  },
  {
   "cell_type": "code",
   "execution_count": 9,
   "outputs": [
    {
     "name": "stdout",
     "output_type": "stream",
     "text": [
      "Alternative treatment scenarios for sample 0:\n",
      " [array([2, 2, 2, 2, 2, 2, 2, 2, 2, 2, 2, 2, 2, 2, 2, 2, 2, 2, 2, 2, 2, 2,\n",
      "       2, 2, 2, 2, 2, 2, 2, 2, 2, 2, 2, 2, 2, 2]), array([0, 0, 0, 0, 0, 0, 0, 0, 0, 0, 0, 0, 0, 0, 0, 0, 0, 0, 0, 0, 0, 0,\n",
      "       0, 0, 0, 0, 0, 0, 0, 0, 0, 0, 0, 0, 0, 0])]\n"
     ]
    }
   ],
   "source": [
    "# Define treatment scenarios for each sample.\n",
    "treatment_scenarios = [[np.asarray([2] * len(h)), np.asarray([0] * len(h))] for h in horizons]\n",
    "print(\"Alternative treatment scenarios for sample 0:\\n\", treatment_scenarios[0], end=\"\\n\\n\")"
   ],
   "metadata": {
    "collapsed": false,
    "ExecuteTime": {
     "end_time": "2023-11-27T18:50:54.130358Z",
     "start_time": "2023-11-27T18:50:54.095946Z"
    }
   },
   "id": "29225dd143e58dcd"
  },
  {
   "cell_type": "code",
   "execution_count": 10,
   "outputs": [
    {
     "data": {
      "text/plain": "TimeSeriesSamples with data:\n                      anti_hypertensive_strategy\nsample_idx  time_idx                            \n100023_4784 0                                4.0\n            1                                4.0\n            2                                4.0\n            3                                4.0\n            4                                4.0\n...                                          ...\n            66                               0.0\n            67                               0.0\n            68                               0.0\n            69                               0.0\n            70                               0.0\n\n[71 rows x 1 columns]",
      "text/html": "<p><span style=\"font-family: monospace;\">TimeSeriesSamples</span> with data:</p><div>\n<style scoped>\n    .dataframe tbody tr th:only-of-type {\n        vertical-align: middle;\n    }\n\n    .dataframe tbody tr th {\n        vertical-align: top;\n    }\n\n    .dataframe thead th {\n        text-align: right;\n    }\n</style>\n<table border=\"1\" class=\"dataframe\">\n  <thead>\n    <tr style=\"text-align: right;\">\n      <th></th>\n      <th></th>\n      <th>anti_hypertensive_strategy</th>\n    </tr>\n    <tr>\n      <th>sample_idx</th>\n      <th>time_idx</th>\n      <th></th>\n    </tr>\n  </thead>\n  <tbody>\n    <tr>\n      <th rowspan=\"11\" valign=\"top\">100023_4784</th>\n      <th>0</th>\n      <td>4.0</td>\n    </tr>\n    <tr>\n      <th>1</th>\n      <td>4.0</td>\n    </tr>\n    <tr>\n      <th>2</th>\n      <td>4.0</td>\n    </tr>\n    <tr>\n      <th>3</th>\n      <td>4.0</td>\n    </tr>\n    <tr>\n      <th>4</th>\n      <td>4.0</td>\n    </tr>\n    <tr>\n      <th>...</th>\n      <td>...</td>\n    </tr>\n    <tr>\n      <th>66</th>\n      <td>0.0</td>\n    </tr>\n    <tr>\n      <th>67</th>\n      <td>0.0</td>\n    </tr>\n    <tr>\n      <th>68</th>\n      <td>0.0</td>\n    </tr>\n    <tr>\n      <th>69</th>\n      <td>0.0</td>\n    </tr>\n    <tr>\n      <th>70</th>\n      <td>0.0</td>\n    </tr>\n  </tbody>\n</table>\n<p>71 rows × 1 columns</p>\n</div>"
     },
     "execution_count": 10,
     "metadata": {},
     "output_type": "execute_result"
    }
   ],
   "source": [
    "# Actual treatment scenarios for sample 0:\n",
    "temp_dataset.predictive.treatments[0]"
   ],
   "metadata": {
    "collapsed": false,
    "ExecuteTime": {
     "end_time": "2023-11-27T18:50:54.133386Z",
     "start_time": "2023-11-27T18:50:54.108045Z"
    }
   },
   "id": "12d5b4d1280120c4"
  },
  {
   "cell_type": "code",
   "execution_count": 11,
   "outputs": [],
   "source": [
    "# Call predict_counterfactuals.\n",
    "counterfactuals = model.predict_counterfactuals(temp_dataset, horizons=horizons, treatment_scenarios=treatment_scenarios)"
   ],
   "metadata": {
    "collapsed": false,
    "ExecuteTime": {
     "end_time": "2023-11-27T18:50:54.326463Z",
     "start_time": "2023-11-27T18:50:54.119587Z"
    }
   },
   "id": "78f0dcf48124e350"
  },
  {
   "cell_type": "code",
   "execution_count": 12,
   "outputs": [
    {
     "name": "stdout",
     "output_type": "stream",
     "text": [
      "Counterfactual outcomes for sample 0, given the alternative treatment scenarios:\n",
      "\n",
      "Treatment scenario 0, [2 2 2 2 2 2 2 2 2 2 2 2 2 2 2 2 2 2 2 2 2 2 2 2 2 2 2 2 2 2 2 2 2 2 2 2]\n",
      "TimeSeries() with data:\n",
      "          nihss_delta_at_next_ts\n",
      "time_idx                        \n",
      "35                     -0.035838\n",
      "36                      0.010643\n",
      "37                      0.010410\n",
      "38                      0.010411\n",
      "39                      0.010411\n",
      "40                      0.010411\n",
      "41                      0.010411\n",
      "42                      0.010411\n",
      "43                      0.010411\n",
      "44                      0.010411\n",
      "45                      0.010411\n",
      "46                      0.010411\n",
      "47                      0.010411\n",
      "48                      0.010411\n",
      "49                      0.010411\n",
      "50                      0.010411\n",
      "51                      0.010411\n",
      "52                      0.010411\n",
      "53                      0.010411\n",
      "54                      0.010411\n",
      "55                      0.010411\n",
      "56                      0.010411\n",
      "57                      0.010411\n",
      "58                      0.010411\n",
      "59                      0.010411\n",
      "60                      0.010411\n",
      "61                      0.010411\n",
      "62                      0.010411\n",
      "63                      0.010411\n",
      "64                      0.010411\n",
      "65                      0.010411\n",
      "66                      0.010411\n",
      "67                      0.010411\n",
      "68                      0.010411\n",
      "69                      0.010411\n",
      "70                      0.010411\n",
      "\n",
      "Treatment scenario 1, [0 0 0 0 0 0 0 0 0 0 0 0 0 0 0 0 0 0 0 0 0 0 0 0 0 0 0 0 0 0 0 0 0 0 0 0]\n",
      "TimeSeries() with data:\n",
      "          nihss_delta_at_next_ts\n",
      "time_idx                        \n",
      "35                     -0.197702\n",
      "36                     -0.114371\n",
      "37                     -0.114823\n",
      "38                     -0.114820\n",
      "39                     -0.114820\n",
      "40                     -0.114820\n",
      "41                     -0.114820\n",
      "42                     -0.114820\n",
      "43                     -0.114820\n",
      "44                     -0.114820\n",
      "45                     -0.114820\n",
      "46                     -0.114820\n",
      "47                     -0.114820\n",
      "48                     -0.114820\n",
      "49                     -0.114820\n",
      "50                     -0.114820\n",
      "51                     -0.114820\n",
      "52                     -0.114820\n",
      "53                     -0.114820\n",
      "54                     -0.114820\n",
      "55                     -0.114820\n",
      "56                     -0.114820\n",
      "57                     -0.114820\n",
      "58                     -0.114820\n",
      "59                     -0.114820\n",
      "60                     -0.114820\n",
      "61                     -0.114820\n",
      "62                     -0.114820\n",
      "63                     -0.114820\n",
      "64                     -0.114820\n",
      "65                     -0.114820\n",
      "66                     -0.114820\n",
      "67                     -0.114820\n",
      "68                     -0.114820\n",
      "69                     -0.114820\n",
      "70                     -0.114820\n"
     ]
    }
   ],
   "source": [
    "print(\"Counterfactual outcomes for sample 0, given the alternative treatment scenarios:\\n\")\n",
    "for idx, c in enumerate(counterfactuals[0]):\n",
    "    print(f\"Treatment scenario {idx}, {treatment_scenarios[0][idx]}\")\n",
    "    print(c, end=\"\\n\\n\")"
   ],
   "metadata": {
    "collapsed": false,
    "ExecuteTime": {
     "end_time": "2023-11-27T18:50:54.336130Z",
     "start_time": "2023-11-27T18:50:54.330429Z"
    }
   },
   "id": "2bdabd6950c1df96"
  },
  {
   "cell_type": "code",
   "execution_count": 13,
   "outputs": [],
   "source": [
    "import os\n",
    "from tempor.utils.serialization import save_to_file\n",
    "\n",
    "save_to_file(os.path.join('/Users/jk1/temp/treatment_effects/training_test', f'crn_model_{101}_split_{0}'), model)\n"
   ],
   "metadata": {
    "collapsed": false,
    "ExecuteTime": {
     "end_time": "2023-11-27T18:52:56.907879Z",
     "start_time": "2023-11-27T18:52:56.876442Z"
    }
   },
   "id": "52a4709fa1983c78"
  },
  {
   "cell_type": "code",
   "execution_count": null,
   "outputs": [],
   "source": [],
   "metadata": {
    "collapsed": false
   },
   "id": "a13104022331513e"
  }
 ],
 "metadata": {
  "kernelspec": {
   "display_name": "Python 3",
   "language": "python",
   "name": "python3"
  },
  "language_info": {
   "codemirror_mode": {
    "name": "ipython",
    "version": 2
   },
   "file_extension": ".py",
   "mimetype": "text/x-python",
   "name": "python",
   "nbconvert_exporter": "python",
   "pygments_lexer": "ipython2",
   "version": "2.7.6"
  }
 },
 "nbformat": 4,
 "nbformat_minor": 5
}
