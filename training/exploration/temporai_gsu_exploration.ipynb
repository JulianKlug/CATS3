{
 "cells": [
  {
   "cell_type": "code",
   "execution_count": 1,
   "id": "initial_id",
   "metadata": {
    "collapsed": true,
    "ExecuteTime": {
     "end_time": "2024-01-02T07:35:18.497185Z",
     "start_time": "2024-01-02T07:35:00.988164Z"
    }
   },
   "outputs": [],
   "source": [
    "from tempor import plugin_loader\n",
    "from data_loaders.temporAI_dataloader import load_gsu_dataset\n",
    "import numpy as np"
   ]
  },
  {
   "cell_type": "code",
   "execution_count": 4,
   "outputs": [],
   "source": [
    "data_path = '/Users/jk1/temp/treatment_effects/preprocessing/gsu_Extraction_20220815_prepro_25112023_213851/preprocessed_features_25112023_213851.csv'\n",
    "continuous_outcomes_path = '/Users/jk1/temp/treatment_effects/preprocessing/gsu_Extraction_20220815_prepro_25112023_213851/preprocessed_outcomes_continuous_25112023_213851.csv'"
   ],
   "metadata": {
    "collapsed": false,
    "ExecuteTime": {
     "end_time": "2024-01-02T07:40:33.756647Z",
     "start_time": "2024-01-02T07:40:33.731063Z"
    }
   },
   "id": "d815d8415c81615"
  },
  {
   "cell_type": "markdown",
   "source": [
    "# Load GSU dataset"
   ],
   "metadata": {
    "collapsed": false
   },
   "id": "57813be4c235473f"
  },
  {
   "cell_type": "code",
   "execution_count": 5,
   "outputs": [],
   "source": [
    "gsu_dataset = load_gsu_dataset(data_path, continuous_outcomes_path)"
   ],
   "metadata": {
    "collapsed": false,
    "ExecuteTime": {
     "end_time": "2024-01-02T07:41:12.871540Z",
     "start_time": "2024-01-02T07:40:36.666608Z"
    }
   },
   "id": "2845c18ba577e561"
  },
  {
   "cell_type": "code",
   "execution_count": 6,
   "outputs": [
    {
     "data": {
      "text/plain": "TemporalTreatmentEffectsDataset(\n    time_series=TimeSeriesSamples([2493, *, 84]),\n    predictive=TemporalTreatmentEffectsTaskData(\n        targets=TimeSeriesSamples([2493, *, 1]),\n        treatments=TimeSeriesSamples([2493, *, 1])\n    )\n)"
     },
     "execution_count": 6,
     "metadata": {},
     "output_type": "execute_result"
    }
   ],
   "source": [
    "gsu_dataset"
   ],
   "metadata": {
    "collapsed": false,
    "ExecuteTime": {
     "end_time": "2024-01-02T07:41:12.935736Z",
     "start_time": "2024-01-02T07:41:12.876574Z"
    }
   },
   "id": "db79d65339112bd6"
  },
  {
   "cell_type": "markdown",
   "source": [
    "## Explore model"
   ],
   "metadata": {
    "collapsed": false
   },
   "id": "3344716f999d17be"
  },
  {
   "cell_type": "code",
   "execution_count": 7,
   "outputs": [],
   "source": [
    "temp_dataset = gsu_dataset[0:2]"
   ],
   "metadata": {
    "collapsed": false,
    "ExecuteTime": {
     "end_time": "2024-01-02T07:42:03.033868Z",
     "start_time": "2024-01-02T07:41:59.546172Z"
    }
   },
   "id": "567539ac1edb271"
  },
  {
   "cell_type": "code",
   "execution_count": 9,
   "outputs": [
    {
     "data": {
      "text/plain": "array([4., 0., 7.])"
     },
     "execution_count": 9,
     "metadata": {},
     "output_type": "execute_result"
    }
   ],
   "source": [
    "temp_dataset.predictive.treatments.dataframe().anti_hypertensive_strategy.unique()"
   ],
   "metadata": {
    "collapsed": false,
    "ExecuteTime": {
     "end_time": "2024-01-02T07:42:24.309264Z",
     "start_time": "2024-01-02T07:42:24.300631Z"
    }
   },
   "id": "88b315ca9acf5a9a"
  },
  {
   "cell_type": "code",
   "execution_count": 10,
   "outputs": [],
   "source": [
    "params = {\n",
    "                                  'epochs': 2,\n",
    "                                  'encoder_rnn_type': 'LSTM',\n",
    "                              'encoder_hidden_size': 3,\n",
    "                              'encoder_num_layers': 2,\n",
    "                              'encoder_bias': True,\n",
    "                              'encoder_dropout': 0.0,\n",
    "                              'encoder_bidirectional': False,\n",
    "                              'encoder_nonlinearity': None,\n",
    "                              'encoder_proj_size': None,\n",
    "                              'decoder_rnn_type': 'LSTM',\n",
    "                              'decoder_hidden_size': 100,\n",
    "                              'decoder_num_layers': 1,\n",
    "                              'decoder_bias': True,\n",
    "                              'decoder_dropout': 0.0,\n",
    "                              'decoder_bidirectional': False,\n",
    "                              'decoder_nonlinearity': None,\n",
    "                              'decoder_proj_size': None,\n",
    "                              'adapter_hidden_dims': [50],\n",
    "                              'adapter_out_activation': 'Tanh',\n",
    "                              'predictor_hidden_dims': [],\n",
    "                              'predictor_out_activation': None,\n",
    "                              'max_len': None,\n",
    "                              'optimizer_str': 'Adam',\n",
    "                              'optimizer_kwargs': {'lr': 0.01, 'weight_decay': 1e-05},\n",
    "                              'batch_size': 32,\n",
    "                              'padding_indicator': -999.0\n",
    "}"
   ],
   "metadata": {
    "collapsed": false,
    "ExecuteTime": {
     "end_time": "2024-01-02T08:14:05.793869Z",
     "start_time": "2024-01-02T08:14:05.792128Z"
    }
   },
   "id": "22218f316488fa96"
  },
  {
   "cell_type": "code",
   "execution_count": 11,
   "outputs": [],
   "source": [
    "# Initialize the model:\n",
    "model = plugin_loader.get(\"treatments.temporal.regression.crn_regressor\", epochs=params['epochs'], encoder_rnn_type=params['encoder_rnn_type'], encoder_hidden_size=params['encoder_hidden_size'], encoder_num_layers=params['encoder_num_layers'], encoder_bias=params['encoder_bias'], encoder_dropout=params['encoder_dropout'], encoder_bidirectional=params['encoder_bidirectional'], encoder_nonlinearity=params['encoder_nonlinearity'], encoder_proj_size=params['encoder_proj_size'], decoder_rnn_type=params['decoder_rnn_type'], decoder_hidden_size=params['decoder_hidden_size'], decoder_num_layers=params['decoder_num_layers'], decoder_bias=params['decoder_bias'], decoder_dropout=params['decoder_dropout'], decoder_bidirectional=params['decoder_bidirectional'], decoder_nonlinearity=params['decoder_nonlinearity'], decoder_proj_size=params['decoder_proj_size'], adapter_hidden_dims=params['adapter_hidden_dims'], adapter_out_activation=params['adapter_out_activation'], predictor_hidden_dims=params['predictor_hidden_dims'], predictor_out_activation=params['predictor_out_activation'], max_len=params['max_len'], optimizer_str=params['optimizer_str'], optimizer_kwargs=params['optimizer_kwargs'], batch_size=params['batch_size'], padding_indicator=params['padding_indicator'],\n",
    "                          encoder_fc_hidden_units=48\n",
    ")"
   ],
   "metadata": {
    "collapsed": false,
    "ExecuteTime": {
     "end_time": "2024-01-02T08:14:06.639609Z",
     "start_time": "2024-01-02T08:14:06.635814Z"
    }
   },
   "id": "566e097e9e9e94a3"
  },
  {
   "cell_type": "code",
   "execution_count": 12,
   "outputs": [
    {
     "name": "stdout",
     "output_type": "stream",
     "text": [
      "Preparing data for decoder training...\n",
      "Preparing data for decoder training DONE.\n",
      "=== Training stage: 1. Train encoder ===\n",
      "Epoch: 0, Prediction Loss: 3.070, Lambda: 1.000, Treatment BR Loss: 0.000, Loss: 3.070\n",
      "Epoch: 1, Prediction Loss: 2.805, Lambda: 1.000, Treatment BR Loss: 0.000, Loss: 2.805\n",
      "=== Training stage: 2. Train decoder ===\n",
      "Epoch: 0, Prediction Loss: 0.066, Lambda: 1.000, Treatment BR Loss: 0.000, Loss: 0.066\n",
      "Epoch: 1, Prediction Loss: 0.022, Lambda: 1.000, Treatment BR Loss: 0.000, Loss: 0.022\n"
     ]
    },
    {
     "data": {
      "text/plain": "CRNTreatmentsRegressor(\n    name='crn_regressor',\n    category='treatments.temporal.regression',\n    plugin_type='method',\n    params={\n        'encoder_rnn_type': 'LSTM',\n        'encoder_hidden_size': 3,\n        'encoder_num_layers': 2,\n        'encoder_bias': True,\n        'encoder_dropout': 0.0,\n        'encoder_bidirectional': False,\n        'encoder_nonlinearity': None,\n        'encoder_proj_size': None,\n        'decoder_rnn_type': 'LSTM',\n        'decoder_hidden_size': 100,\n        'decoder_num_layers': 1,\n        'decoder_bias': True,\n        'decoder_dropout': 0.0,\n        'decoder_bidirectional': False,\n        'decoder_nonlinearity': None,\n        'decoder_proj_size': None,\n        'adapter_hidden_dims': [50],\n        'adapter_out_activation': 'Tanh',\n        'predictor_hidden_dims': [],\n        'predictor_out_activation': None,\n        'max_len': None,\n        'optimizer_str': 'Adam',\n        'optimizer_kwargs': {'lr': 0.01, 'weight_decay': 1e-05},\n        'batch_size': 32,\n        'epochs': 2,\n        'padding_indicator': -999.0\n    }\n)"
     },
     "execution_count": 12,
     "metadata": {},
     "output_type": "execute_result"
    }
   ],
   "source": [
    "# Train the model:\n",
    "model.fit(temp_dataset)"
   ],
   "metadata": {
    "collapsed": false,
    "ExecuteTime": {
     "end_time": "2024-01-02T08:14:12.974817Z",
     "start_time": "2024-01-02T08:14:07.274354Z"
    }
   },
   "id": "e62d285db81dd554"
  },
  {
   "cell_type": "code",
   "execution_count": 14,
   "outputs": [
    {
     "name": "stdout",
     "output_type": "stream",
     "text": [
      "Horizons for sample 0:\n",
      " [35, 36, 37, 38, 39, 40, 41, 42, 43, 44, 45, 46, 47, 48, 49, 50, 51, 52, 53, 54, 55, 56, 57, 58, 59, 60, 61, 62, 63, 64, 65, 66, 67, 68, 69, 70]\n"
     ]
    }
   ],
   "source": [
    "# Define horizons for each sample.\n",
    "horizons = [tc.time_indexes()[0][len(tc.time_indexes()[0]) // 2 :] for tc in temp_dataset.time_series]\n",
    "print(\"Horizons for sample 0:\\n\", horizons[0], end=\"\\n\\n\")"
   ],
   "metadata": {
    "collapsed": false,
    "ExecuteTime": {
     "end_time": "2024-01-02T08:14:19.847067Z",
     "start_time": "2024-01-02T08:14:19.829074Z"
    }
   },
   "id": "781a497dbf2ab0ac"
  },
  {
   "cell_type": "code",
   "execution_count": 46,
   "outputs": [
    {
     "name": "stdout",
     "output_type": "stream",
     "text": [
      "Alternative treatment scenarios for sample 0:\n",
      " [array([0, 1, 2, 2, 2, 2, 2, 2, 2, 2, 2, 2, 2, 2, 2, 2, 2, 2, 2, 2, 2, 2,\n",
      "       2, 2, 2, 2, 2, 2, 2, 2, 2, 2, 2, 2, 2, 2])]\n"
     ]
    }
   ],
   "source": [
    "# Define treatment scenarios for each sample.\n",
    "treatment_scenarios = [[np.asarray([2] * len(h)), np.asarray([0] * len(h))] for h in horizons]\n",
    "print(\"Alternative treatment scenarios for sample 0:\\n\", treatment_scenarios[0], end=\"\\n\\n\")"
   ],
   "metadata": {
    "collapsed": false,
    "ExecuteTime": {
     "end_time": "2024-01-03T07:07:16.474866Z",
     "start_time": "2024-01-03T07:07:16.468800Z"
    }
   },
   "id": "29225dd143e58dcd"
  },
  {
   "cell_type": "code",
   "execution_count": 47,
   "outputs": [
    {
     "data": {
      "text/plain": "TimeSeriesSamples with data:\n                      anti_hypertensive_strategy\nsample_idx  time_idx                            \n100023_4784 0                                4.0\n            1                                4.0\n            2                                4.0\n            3                                4.0\n            4                                4.0\n...                                          ...\n            66                               0.0\n            67                               0.0\n            68                               0.0\n            69                               0.0\n            70                               0.0\n\n[71 rows x 1 columns]",
      "text/html": "<p><span style=\"font-family: monospace;\">TimeSeriesSamples</span> with data:</p><div>\n<style scoped>\n    .dataframe tbody tr th:only-of-type {\n        vertical-align: middle;\n    }\n\n    .dataframe tbody tr th {\n        vertical-align: top;\n    }\n\n    .dataframe thead th {\n        text-align: right;\n    }\n</style>\n<table border=\"1\" class=\"dataframe\">\n  <thead>\n    <tr style=\"text-align: right;\">\n      <th></th>\n      <th></th>\n      <th>anti_hypertensive_strategy</th>\n    </tr>\n    <tr>\n      <th>sample_idx</th>\n      <th>time_idx</th>\n      <th></th>\n    </tr>\n  </thead>\n  <tbody>\n    <tr>\n      <th rowspan=\"11\" valign=\"top\">100023_4784</th>\n      <th>0</th>\n      <td>4.0</td>\n    </tr>\n    <tr>\n      <th>1</th>\n      <td>4.0</td>\n    </tr>\n    <tr>\n      <th>2</th>\n      <td>4.0</td>\n    </tr>\n    <tr>\n      <th>3</th>\n      <td>4.0</td>\n    </tr>\n    <tr>\n      <th>4</th>\n      <td>4.0</td>\n    </tr>\n    <tr>\n      <th>...</th>\n      <td>...</td>\n    </tr>\n    <tr>\n      <th>66</th>\n      <td>0.0</td>\n    </tr>\n    <tr>\n      <th>67</th>\n      <td>0.0</td>\n    </tr>\n    <tr>\n      <th>68</th>\n      <td>0.0</td>\n    </tr>\n    <tr>\n      <th>69</th>\n      <td>0.0</td>\n    </tr>\n    <tr>\n      <th>70</th>\n      <td>0.0</td>\n    </tr>\n  </tbody>\n</table>\n<p>71 rows × 1 columns</p>\n</div>"
     },
     "execution_count": 47,
     "metadata": {},
     "output_type": "execute_result"
    }
   ],
   "source": [
    "# Actual treatment scenarios for sample 0:\n",
    "temp_dataset.predictive.treatments[0]"
   ],
   "metadata": {
    "collapsed": false,
    "ExecuteTime": {
     "end_time": "2024-01-03T07:07:18.846999Z",
     "start_time": "2024-01-03T07:07:18.756363Z"
    }
   },
   "id": "12d5b4d1280120c4"
  },
  {
   "cell_type": "code",
   "execution_count": 48,
   "outputs": [
    {
     "ename": "AssertionError",
     "evalue": "",
     "output_type": "error",
     "traceback": [
      "\u001B[0;31m---------------------------------------------------------------------------\u001B[0m",
      "\u001B[0;31mAssertionError\u001B[0m                            Traceback (most recent call last)",
      "Cell \u001B[0;32mIn[48], line 2\u001B[0m\n\u001B[1;32m      1\u001B[0m \u001B[38;5;66;03m# Call predict_counterfactuals.\u001B[39;00m\n\u001B[0;32m----> 2\u001B[0m counterfactuals \u001B[38;5;241m=\u001B[39m \u001B[43mmodel\u001B[49m\u001B[38;5;241;43m.\u001B[39;49m\u001B[43mpredict_counterfactuals\u001B[49m\u001B[43m(\u001B[49m\u001B[43mtemp_dataset\u001B[49m\u001B[43m,\u001B[49m\u001B[43m \u001B[49m\u001B[43mhorizons\u001B[49m\u001B[38;5;241;43m=\u001B[39;49m\u001B[43mhorizons\u001B[49m\u001B[43m,\u001B[49m\u001B[43m \u001B[49m\u001B[43mtreatment_scenarios\u001B[49m\u001B[38;5;241;43m=\u001B[39;49m\u001B[43mtreatment_scenarios\u001B[49m\u001B[43m)\u001B[49m\n",
      "File \u001B[0;32m~/opt/anaconda3/envs/cats3/lib/python3.10/site-packages/pydantic/deprecated/decorator.py:55\u001B[0m, in \u001B[0;36mvalidate_arguments.<locals>.validate.<locals>.wrapper_function\u001B[0;34m(*args, **kwargs)\u001B[0m\n\u001B[1;32m     53\u001B[0m \u001B[38;5;129m@wraps\u001B[39m(_func)\n\u001B[1;32m     54\u001B[0m \u001B[38;5;28;01mdef\u001B[39;00m \u001B[38;5;21mwrapper_function\u001B[39m(\u001B[38;5;241m*\u001B[39margs: Any, \u001B[38;5;241m*\u001B[39m\u001B[38;5;241m*\u001B[39mkwargs: Any) \u001B[38;5;241m-\u001B[39m\u001B[38;5;241m>\u001B[39m Any:\n\u001B[0;32m---> 55\u001B[0m     \u001B[38;5;28;01mreturn\u001B[39;00m \u001B[43mvd\u001B[49m\u001B[38;5;241;43m.\u001B[39;49m\u001B[43mcall\u001B[49m\u001B[43m(\u001B[49m\u001B[38;5;241;43m*\u001B[39;49m\u001B[43margs\u001B[49m\u001B[43m,\u001B[49m\u001B[43m \u001B[49m\u001B[38;5;241;43m*\u001B[39;49m\u001B[38;5;241;43m*\u001B[39;49m\u001B[43mkwargs\u001B[49m\u001B[43m)\u001B[49m\n",
      "File \u001B[0;32m~/opt/anaconda3/envs/cats3/lib/python3.10/site-packages/pydantic/deprecated/decorator.py:150\u001B[0m, in \u001B[0;36mValidatedFunction.call\u001B[0;34m(self, *args, **kwargs)\u001B[0m\n\u001B[1;32m    148\u001B[0m \u001B[38;5;28;01mdef\u001B[39;00m \u001B[38;5;21mcall\u001B[39m(\u001B[38;5;28mself\u001B[39m, \u001B[38;5;241m*\u001B[39margs: Any, \u001B[38;5;241m*\u001B[39m\u001B[38;5;241m*\u001B[39mkwargs: Any) \u001B[38;5;241m-\u001B[39m\u001B[38;5;241m>\u001B[39m Any:\n\u001B[1;32m    149\u001B[0m     m \u001B[38;5;241m=\u001B[39m \u001B[38;5;28mself\u001B[39m\u001B[38;5;241m.\u001B[39minit_model_instance(\u001B[38;5;241m*\u001B[39margs, \u001B[38;5;241m*\u001B[39m\u001B[38;5;241m*\u001B[39mkwargs)\n\u001B[0;32m--> 150\u001B[0m     \u001B[38;5;28;01mreturn\u001B[39;00m \u001B[38;5;28;43mself\u001B[39;49m\u001B[38;5;241;43m.\u001B[39;49m\u001B[43mexecute\u001B[49m\u001B[43m(\u001B[49m\u001B[43mm\u001B[49m\u001B[43m)\u001B[49m\n",
      "File \u001B[0;32m~/opt/anaconda3/envs/cats3/lib/python3.10/site-packages/pydantic/deprecated/decorator.py:222\u001B[0m, in \u001B[0;36mValidatedFunction.execute\u001B[0;34m(self, m)\u001B[0m\n\u001B[1;32m    220\u001B[0m     \u001B[38;5;28;01mreturn\u001B[39;00m \u001B[38;5;28mself\u001B[39m\u001B[38;5;241m.\u001B[39mraw_function(\u001B[38;5;241m*\u001B[39margs_, \u001B[38;5;241m*\u001B[39m\u001B[38;5;241m*\u001B[39mkwargs, \u001B[38;5;241m*\u001B[39m\u001B[38;5;241m*\u001B[39mvar_kwargs)\n\u001B[1;32m    221\u001B[0m \u001B[38;5;28;01melse\u001B[39;00m:\n\u001B[0;32m--> 222\u001B[0m     \u001B[38;5;28;01mreturn\u001B[39;00m \u001B[38;5;28;43mself\u001B[39;49m\u001B[38;5;241;43m.\u001B[39;49m\u001B[43mraw_function\u001B[49m\u001B[43m(\u001B[49m\u001B[38;5;241;43m*\u001B[39;49m\u001B[38;5;241;43m*\u001B[39;49m\u001B[43md\u001B[49m\u001B[43m,\u001B[49m\u001B[43m \u001B[49m\u001B[38;5;241;43m*\u001B[39;49m\u001B[38;5;241;43m*\u001B[39;49m\u001B[43mvar_kwargs\u001B[49m\u001B[43m)\u001B[49m\n",
      "File \u001B[0;32m~/opt/anaconda3/envs/cats3/lib/python3.10/site-packages/tempor/methods/treatments/temporal/_base.py:53\u001B[0m, in \u001B[0;36mBaseTemporalTreatmentEffects.predict_counterfactuals\u001B[0;34m(self, data, *args, **kwargs)\u001B[0m\n\u001B[1;32m     45\u001B[0m \u001B[38;5;129m@pydantic_utils\u001B[39m\u001B[38;5;241m.\u001B[39mvalidate_arguments(config\u001B[38;5;241m=\u001B[39mpydantic\u001B[38;5;241m.\u001B[39mConfigDict(arbitrary_types_allowed\u001B[38;5;241m=\u001B[39m\u001B[38;5;28;01mTrue\u001B[39;00m))\n\u001B[1;32m     46\u001B[0m \u001B[38;5;28;01mdef\u001B[39;00m \u001B[38;5;21mpredict_counterfactuals\u001B[39m(\n\u001B[1;32m     47\u001B[0m     \u001B[38;5;28mself\u001B[39m,\n\u001B[0;32m   (...)\u001B[0m\n\u001B[1;32m     50\u001B[0m     \u001B[38;5;241m*\u001B[39m\u001B[38;5;241m*\u001B[39mkwargs: Any,\n\u001B[1;32m     51\u001B[0m ) \u001B[38;5;241m-\u001B[39m\u001B[38;5;241m>\u001B[39m List:\n\u001B[1;32m     52\u001B[0m     check_data_class(data)\n\u001B[0;32m---> 53\u001B[0m     \u001B[38;5;28;01mreturn\u001B[39;00m \u001B[38;5;28;43msuper\u001B[39;49m\u001B[43m(\u001B[49m\u001B[43m)\u001B[49m\u001B[38;5;241;43m.\u001B[39;49m\u001B[43mpredict_counterfactuals\u001B[49m\u001B[43m(\u001B[49m\u001B[43mdata\u001B[49m\u001B[43m,\u001B[49m\u001B[43m \u001B[49m\u001B[38;5;241;43m*\u001B[39;49m\u001B[43margs\u001B[49m\u001B[43m,\u001B[49m\u001B[43m \u001B[49m\u001B[38;5;241;43m*\u001B[39;49m\u001B[38;5;241;43m*\u001B[39;49m\u001B[43mkwargs\u001B[49m\u001B[43m)\u001B[49m\n",
      "File \u001B[0;32m~/opt/anaconda3/envs/cats3/lib/python3.10/site-packages/tempor/methods/core/_base_predictor.py:67\u001B[0m, in \u001B[0;36mBasePredictor.predict_counterfactuals\u001B[0;34m(self, data, *args, **kwargs)\u001B[0m\n\u001B[1;32m     62\u001B[0m     \u001B[38;5;28;01mraise\u001B[39;00m \u001B[38;5;167;01mValueError\u001B[39;00m(\n\u001B[1;32m     63\u001B[0m         \u001B[38;5;124mf\u001B[39m\u001B[38;5;124m\"\u001B[39m\u001B[38;5;124mThe dataset was not predict-ready, check that all necessary data components are present:\u001B[39m\u001B[38;5;130;01m\\n\u001B[39;00m\u001B[38;5;132;01m{\u001B[39;00mdata\u001B[38;5;132;01m}\u001B[39;00m\u001B[38;5;124m\"\u001B[39m\n\u001B[1;32m     64\u001B[0m     )\n\u001B[1;32m     66\u001B[0m logger\u001B[38;5;241m.\u001B[39mdebug(\u001B[38;5;124mf\u001B[39m\u001B[38;5;124m\"\u001B[39m\u001B[38;5;124mCalling _predict_counterfactuals() implementation on \u001B[39m\u001B[38;5;132;01m{\u001B[39;00m\u001B[38;5;28mself\u001B[39m\u001B[38;5;241m.\u001B[39m\u001B[38;5;18m__class__\u001B[39m\u001B[38;5;241m.\u001B[39m\u001B[38;5;18m__name__\u001B[39m\u001B[38;5;132;01m}\u001B[39;00m\u001B[38;5;124m\"\u001B[39m)\n\u001B[0;32m---> 67\u001B[0m prediction \u001B[38;5;241m=\u001B[39m \u001B[38;5;28;43mself\u001B[39;49m\u001B[38;5;241;43m.\u001B[39;49m\u001B[43m_predict_counterfactuals\u001B[49m\u001B[43m(\u001B[49m\u001B[43mdata\u001B[49m\u001B[43m,\u001B[49m\u001B[43m \u001B[49m\u001B[38;5;241;43m*\u001B[39;49m\u001B[43margs\u001B[49m\u001B[43m,\u001B[49m\u001B[43m \u001B[49m\u001B[38;5;241;43m*\u001B[39;49m\u001B[38;5;241;43m*\u001B[39;49m\u001B[43mkwargs\u001B[49m\u001B[43m)\u001B[49m\n\u001B[1;32m     69\u001B[0m \u001B[38;5;28;01mreturn\u001B[39;00m prediction\n",
      "File \u001B[0;32m~/opt/anaconda3/envs/cats3/lib/python3.10/site-packages/tempor/methods/treatments/temporal/regression/plugin_crn_regressor.py:152\u001B[0m, in \u001B[0;36mCRNTreatmentsRegressor._predict_counterfactuals\u001B[0;34m(self, data, horizons, treatment_scenarios, *args, **kwargs)\u001B[0m\n\u001B[1;32m    149\u001B[0m horizon_counterfactuals_sample \u001B[38;5;241m=\u001B[39m cl_horizons\u001B[38;5;241m.\u001B[39mtime_index_sequence[idx]\n\u001B[1;32m    151\u001B[0m \u001B[38;5;66;03m# TODO: should enforce treat - treat_scenarios shapes here.\u001B[39;00m\n\u001B[0;32m--> 152\u001B[0m c \u001B[38;5;241m=\u001B[39m \u001B[38;5;28;43mself\u001B[39;49m\u001B[38;5;241;43m.\u001B[39;49m\u001B[43mmodel\u001B[49m\u001B[38;5;241;43m.\u001B[39;49m\u001B[43mpredict_counterfactuals\u001B[49m\u001B[43m(\u001B[49m\n\u001B[1;32m    153\u001B[0m \u001B[43m    \u001B[49m\u001B[43mcl_dataset\u001B[49m\u001B[43m,\u001B[49m\n\u001B[1;32m    154\u001B[0m \u001B[43m    \u001B[49m\u001B[43msample_index\u001B[49m\u001B[38;5;241;43m=\u001B[39;49m\u001B[43msample_idx\u001B[49m\u001B[43m,\u001B[49m\n\u001B[1;32m    155\u001B[0m \u001B[43m    \u001B[49m\u001B[43mtreatment_scenarios\u001B[49m\u001B[38;5;241;43m=\u001B[39;49m\u001B[43mtreat_scenarios\u001B[49m\u001B[43m,\u001B[49m\u001B[43m  \u001B[49m\u001B[38;5;66;43;03m# pyright: ignore\u001B[39;49;00m\n\u001B[1;32m    156\u001B[0m \u001B[43m    \u001B[49m\u001B[43mhorizon\u001B[49m\u001B[38;5;241;43m=\u001B[39;49m\u001B[43mTimeIndexHorizon\u001B[49m\u001B[43m(\u001B[49m\u001B[43mtime_index_sequence\u001B[49m\u001B[38;5;241;43m=\u001B[39;49m\u001B[43m[\u001B[49m\u001B[43mhorizon_counterfactuals_sample\u001B[49m\u001B[43m]\u001B[49m\u001B[43m)\u001B[49m\u001B[43m,\u001B[49m\n\u001B[1;32m    157\u001B[0m \u001B[43m    \u001B[49m\u001B[38;5;241;43m*\u001B[39;49m\u001B[38;5;241;43m*\u001B[39;49m\u001B[43mkwargs\u001B[49m\u001B[43m,\u001B[49m\n\u001B[1;32m    158\u001B[0m \u001B[43m\u001B[49m\u001B[43m)\u001B[49m\n\u001B[1;32m    160\u001B[0m \u001B[38;5;66;03m# Export as DFs, rather than clairvoyance2 TimeSeries:\u001B[39;00m\n\u001B[1;32m    161\u001B[0m c_dfs \u001B[38;5;241m=\u001B[39m []\n",
      "File \u001B[0;32m~/opt/anaconda3/envs/cats3/lib/python3.10/site-packages/clairvoyance2/interface/model.py:226\u001B[0m, in \u001B[0;36mTreatmentEffectsModel.predict_counterfactuals\u001B[0;34m(self, data, sample_index, treatment_scenarios, horizon, **kwargs)\u001B[0m\n\u001B[1;32m    222\u001B[0m     \u001B[38;5;28;01mraise\u001B[39;00m \u001B[38;5;167;01mRuntimeError\u001B[39;00m(\u001B[38;5;124m\"\u001B[39m\u001B[38;5;124mMust call `fit` before calling `predict_counterfactuals`\u001B[39m\u001B[38;5;124m\"\u001B[39m)\n\u001B[1;32m    223\u001B[0m data_processed, treatment_scenarios_processed \u001B[38;5;241m=\u001B[39m \u001B[38;5;28mself\u001B[39m\u001B[38;5;241m.\u001B[39m_process_predict_counterfactuals_input(\n\u001B[1;32m    224\u001B[0m     data, sample_index\u001B[38;5;241m=\u001B[39msample_index, treatment_scenarios\u001B[38;5;241m=\u001B[39mtreatment_scenarios, horizon\u001B[38;5;241m=\u001B[39mhorizon\n\u001B[1;32m    225\u001B[0m )\n\u001B[0;32m--> 226\u001B[0m \u001B[38;5;28;43mself\u001B[39;49m\u001B[38;5;241;43m.\u001B[39;49m\u001B[43mcheck_data_requirements_general\u001B[49m\u001B[43m(\u001B[49m\n\u001B[1;32m    227\u001B[0m \u001B[43m    \u001B[49m\u001B[43mcalled_at_fit_time\u001B[49m\u001B[38;5;241;43m=\u001B[39;49m\u001B[38;5;28;43;01mFalse\u001B[39;49;00m\u001B[43m,\u001B[49m\n\u001B[1;32m    228\u001B[0m \u001B[43m    \u001B[49m\u001B[43mdata\u001B[49m\u001B[38;5;241;43m=\u001B[39;49m\u001B[43mdata_processed\u001B[49m\u001B[43m,\u001B[49m\n\u001B[1;32m    229\u001B[0m \u001B[43m    \u001B[49m\u001B[43mhorizon\u001B[49m\u001B[38;5;241;43m=\u001B[39;49m\u001B[43mhorizon\u001B[49m\u001B[43m,\u001B[49m\n\u001B[1;32m    230\u001B[0m \u001B[43m    \u001B[49m\u001B[43mtreatment_scenarios\u001B[49m\u001B[38;5;241;43m=\u001B[39;49m\u001B[43mtreatment_scenarios_processed\u001B[49m\u001B[43m,\u001B[49m\n\u001B[1;32m    231\u001B[0m \u001B[43m\u001B[49m\u001B[43m)\u001B[49m\n\u001B[1;32m    232\u001B[0m \u001B[38;5;28mself\u001B[39m\u001B[38;5;241m.\u001B[39mcheck_data_requirements_predict_counterfactuals(\n\u001B[1;32m    233\u001B[0m     data_processed,\n\u001B[1;32m    234\u001B[0m     horizon\u001B[38;5;241m=\u001B[39mhorizon,\n\u001B[1;32m    235\u001B[0m     sample_index\u001B[38;5;241m=\u001B[39msample_index,\n\u001B[1;32m    236\u001B[0m     treatment_scenarios\u001B[38;5;241m=\u001B[39mtreatment_scenarios_processed,\n\u001B[1;32m    237\u001B[0m )\n\u001B[1;32m    238\u001B[0m \u001B[38;5;28;01mreturn\u001B[39;00m \u001B[38;5;28mself\u001B[39m\u001B[38;5;241m.\u001B[39m_predict_counterfactuals(\n\u001B[1;32m    239\u001B[0m     data_processed, sample_index, treatment_scenarios_processed, horizon, \u001B[38;5;241m*\u001B[39m\u001B[38;5;241m*\u001B[39mkwargs\n\u001B[1;32m    240\u001B[0m )\n",
      "File \u001B[0;32m~/opt/anaconda3/envs/cats3/lib/python3.10/site-packages/clairvoyance2/interface/model.py:77\u001B[0m, in \u001B[0;36mBaseModel.check_data_requirements_general\u001B[0;34m(self, called_at_fit_time, data, **kwargs)\u001B[0m\n\u001B[1;32m     76\u001B[0m \u001B[38;5;28;01mdef\u001B[39;00m \u001B[38;5;21mcheck_data_requirements_general\u001B[39m(\u001B[38;5;28mself\u001B[39m, called_at_fit_time: \u001B[38;5;28mbool\u001B[39m, data: Dataset, \u001B[38;5;241m*\u001B[39m\u001B[38;5;241m*\u001B[39mkwargs):\n\u001B[0;32m---> 77\u001B[0m     \u001B[43mRequirementsChecker\u001B[49m\u001B[38;5;241;43m.\u001B[39;49m\u001B[43mcheck_data_requirements_general\u001B[49m\u001B[43m(\u001B[49m\n\u001B[1;32m     78\u001B[0m \u001B[43m        \u001B[49m\u001B[43mcalled_at_fit_time\u001B[49m\u001B[38;5;241;43m=\u001B[39;49m\u001B[43mcalled_at_fit_time\u001B[49m\u001B[43m,\u001B[49m\u001B[43m \u001B[49m\u001B[43mrequirements\u001B[49m\u001B[38;5;241;43m=\u001B[39;49m\u001B[38;5;28;43mself\u001B[39;49m\u001B[38;5;241;43m.\u001B[39;49m\u001B[43mrequirements\u001B[49m\u001B[43m,\u001B[49m\u001B[43m \u001B[49m\u001B[43mdata\u001B[49m\u001B[38;5;241;43m=\u001B[39;49m\u001B[43mdata\u001B[49m\u001B[43m,\u001B[49m\u001B[43m \u001B[49m\u001B[38;5;241;43m*\u001B[39;49m\u001B[38;5;241;43m*\u001B[39;49m\u001B[43mkwargs\u001B[49m\n\u001B[1;32m     79\u001B[0m \u001B[43m    \u001B[49m\u001B[43m)\u001B[49m\n",
      "File \u001B[0;32m~/opt/anaconda3/envs/cats3/lib/python3.10/site-packages/clairvoyance2/interface/requirements.py:368\u001B[0m, in \u001B[0;36mRequirementsChecker.check_data_requirements_general\u001B[0;34m(called_at_fit_time, requirements, data, **kwargs)\u001B[0m\n\u001B[1;32m    365\u001B[0m \u001B[38;5;66;03m# Treatment effects -specific data requirements:\u001B[39;00m\n\u001B[1;32m    366\u001B[0m \u001B[38;5;28;01mif\u001B[39;00m requirements\u001B[38;5;241m.\u001B[39mtreatment_effects_requirements \u001B[38;5;129;01mis\u001B[39;00m \u001B[38;5;129;01mnot\u001B[39;00m \u001B[38;5;28;01mNone\u001B[39;00m:\n\u001B[1;32m    367\u001B[0m     \u001B[38;5;66;03m# DataStructure.TIME_SERIES:\u001B[39;00m\n\u001B[0;32m--> 368\u001B[0m     \u001B[43mRequirementsChecker\u001B[49m\u001B[38;5;241;43m.\u001B[39;49m\u001B[43m_check_data_requirements_predict_counterfactuals\u001B[49m\u001B[43m(\u001B[49m\n\u001B[1;32m    369\u001B[0m \u001B[43m        \u001B[49m\u001B[43mcalled_at_fit_time\u001B[49m\u001B[38;5;241;43m=\u001B[39;49m\u001B[43mcalled_at_fit_time\u001B[49m\u001B[43m,\u001B[49m\n\u001B[1;32m    370\u001B[0m \u001B[43m        \u001B[49m\u001B[43mrequirements\u001B[49m\u001B[38;5;241;43m=\u001B[39;49m\u001B[43mrequirements\u001B[49m\u001B[43m,\u001B[49m\n\u001B[1;32m    371\u001B[0m \u001B[43m        \u001B[49m\u001B[43mdata\u001B[49m\u001B[38;5;241;43m=\u001B[39;49m\u001B[43mdata\u001B[49m\u001B[43m,\u001B[49m\n\u001B[1;32m    372\u001B[0m \u001B[43m        \u001B[49m\u001B[43msample_index\u001B[49m\u001B[38;5;241;43m=\u001B[39;49m\u001B[43msample_index\u001B[49m\u001B[43m,\u001B[49m\n\u001B[1;32m    373\u001B[0m \u001B[43m        \u001B[49m\u001B[43mtreatment_scenarios\u001B[49m\u001B[38;5;241;43m=\u001B[39;49m\u001B[43mtreatment_scenarios\u001B[49m\u001B[43m,\u001B[49m\n\u001B[1;32m    374\u001B[0m \u001B[43m        \u001B[49m\u001B[43mhorizon\u001B[49m\u001B[38;5;241;43m=\u001B[39;49m\u001B[43mhorizon\u001B[49m\u001B[43m,\u001B[49m\n\u001B[1;32m    375\u001B[0m \u001B[43m        \u001B[49m\u001B[38;5;241;43m*\u001B[39;49m\u001B[38;5;241;43m*\u001B[39;49m\u001B[43mkwargs\u001B[49m\u001B[43m,\u001B[49m\n\u001B[1;32m    376\u001B[0m \u001B[43m    \u001B[49m\u001B[43m)\u001B[49m\n",
      "File \u001B[0;32m~/opt/anaconda3/envs/cats3/lib/python3.10/site-packages/clairvoyance2/interface/requirements.py:250\u001B[0m, in \u001B[0;36mRequirementsChecker._check_data_requirements_predict_counterfactuals\u001B[0;34m(called_at_fit_time, requirements, data, sample_index, treatment_scenarios, horizon, **kwargs)\u001B[0m\n\u001B[1;32m    248\u001B[0m \u001B[38;5;28;01mif\u001B[39;00m requirements\u001B[38;5;241m.\u001B[39mdataset_requirements\u001B[38;5;241m.\u001B[39mtemporal_treatments_value_type \u001B[38;5;241m==\u001B[39m DataValueOpts\u001B[38;5;241m.\u001B[39mNUMERIC_BINARY:\n\u001B[1;32m    249\u001B[0m     \u001B[38;5;28;01mfor\u001B[39;00m ts \u001B[38;5;129;01min\u001B[39;00m treatment_scenarios:\n\u001B[0;32m--> 250\u001B[0m         \u001B[38;5;28;01massert\u001B[39;00m ts\u001B[38;5;241m.\u001B[39mall_features_numeric \u001B[38;5;129;01mand\u001B[39;00m ts\u001B[38;5;241m.\u001B[39mall_features_binary\n",
      "\u001B[0;31mAssertionError\u001B[0m: "
     ]
    }
   ],
   "source": [
    "# Call predict_counterfactuals.\n",
    "counterfactuals = model.predict_counterfactuals(temp_dataset, horizons=horizons, treatment_scenarios=treatment_scenarios)"
   ],
   "metadata": {
    "collapsed": false,
    "ExecuteTime": {
     "end_time": "2024-01-03T07:07:19.603689Z",
     "start_time": "2024-01-03T07:07:19.418689Z"
    }
   },
   "id": "78f0dcf48124e350"
  },
  {
   "cell_type": "code",
   "execution_count": 18,
   "outputs": [
    {
     "name": "stdout",
     "output_type": "stream",
     "text": [
      "Counterfactual outcomes for sample 0, given the alternative treatment scenarios:\n",
      "\n",
      "Treatment scenario 0, [2 2 2 2 2 2 2 2 2 2 2 2 2 2 2 2 2 2 2 2 2 2 2 2 2 2 2 2 2 2 2 2 2 2 2 2]\n",
      "TimeSeries() with data:\n",
      "          nihss_delta_at_next_ts\n",
      "time_idx                        \n",
      "35                      0.073940\n",
      "36                      0.045756\n",
      "37                      0.046453\n",
      "38                      0.046436\n",
      "39                      0.046436\n",
      "40                      0.046436\n",
      "41                      0.046436\n",
      "42                      0.046436\n",
      "43                      0.046436\n",
      "44                      0.046436\n",
      "45                      0.046436\n",
      "46                      0.046436\n",
      "47                      0.046436\n",
      "48                      0.046436\n",
      "49                      0.046436\n",
      "50                      0.046436\n",
      "51                      0.046436\n",
      "52                      0.046436\n",
      "53                      0.046436\n",
      "54                      0.046436\n",
      "55                      0.046436\n",
      "56                      0.046436\n",
      "57                      0.046436\n",
      "58                      0.046436\n",
      "59                      0.046436\n",
      "60                      0.046436\n",
      "61                      0.046436\n",
      "62                      0.046436\n",
      "63                      0.046436\n",
      "64                      0.046436\n",
      "65                      0.046436\n",
      "66                      0.046436\n",
      "67                      0.046436\n",
      "68                      0.046436\n",
      "69                      0.046436\n",
      "70                      0.046436\n",
      "\n",
      "Treatment scenario 1, [0 0 0 0 0 0 0 0 0 0 0 0 0 0 0 0 0 0 0 0 0 0 0 0 0 0 0 0 0 0 0 0 0 0 0 0]\n",
      "TimeSeries() with data:\n",
      "          nihss_delta_at_next_ts\n",
      "time_idx                        \n",
      "35                      0.151051\n",
      "36                      0.089608\n",
      "37                      0.091061\n",
      "38                      0.091026\n",
      "39                      0.091027\n",
      "40                      0.091027\n",
      "41                      0.091027\n",
      "42                      0.091027\n",
      "43                      0.091027\n",
      "44                      0.091027\n",
      "45                      0.091027\n",
      "46                      0.091027\n",
      "47                      0.091027\n",
      "48                      0.091027\n",
      "49                      0.091027\n",
      "50                      0.091027\n",
      "51                      0.091027\n",
      "52                      0.091027\n",
      "53                      0.091027\n",
      "54                      0.091027\n",
      "55                      0.091027\n",
      "56                      0.091027\n",
      "57                      0.091027\n",
      "58                      0.091027\n",
      "59                      0.091027\n",
      "60                      0.091027\n",
      "61                      0.091027\n",
      "62                      0.091027\n",
      "63                      0.091027\n",
      "64                      0.091027\n",
      "65                      0.091027\n",
      "66                      0.091027\n",
      "67                      0.091027\n",
      "68                      0.091027\n",
      "69                      0.091027\n",
      "70                      0.091027\n"
     ]
    }
   ],
   "source": [
    "print(\"Counterfactual outcomes for sample 0, given the alternative treatment scenarios:\\n\")\n",
    "for idx, c in enumerate(counterfactuals[0]):\n",
    "    print(f\"Treatment scenario {idx}, {treatment_scenarios[0][idx]}\")\n",
    "    print(c, end=\"\\n\\n\")"
   ],
   "metadata": {
    "collapsed": false,
    "ExecuteTime": {
     "end_time": "2024-01-02T08:14:31.646459Z",
     "start_time": "2024-01-02T08:14:31.639338Z"
    }
   },
   "id": "2bdabd6950c1df96"
  },
  {
   "cell_type": "code",
   "execution_count": 13,
   "outputs": [],
   "source": [
    "# import os\n",
    "# from tempor.utils.serialization import save_to_file\n",
    "# \n",
    "# save_to_file(os.path.join('/Users/jk1/temp/treatment_effects/training_test', f'crn_model_{101}_split_{0}'), model)\n"
   ],
   "metadata": {
    "collapsed": false,
    "ExecuteTime": {
     "end_time": "2023-11-27T18:52:56.907879Z",
     "start_time": "2023-11-27T18:52:56.876442Z"
    }
   },
   "id": "52a4709fa1983c78"
  },
  {
   "cell_type": "code",
   "execution_count": null,
   "outputs": [],
   "source": [],
   "metadata": {
    "collapsed": false
   },
   "id": "a13104022331513e"
  }
 ],
 "metadata": {
  "kernelspec": {
   "display_name": "Python 3",
   "language": "python",
   "name": "python3"
  },
  "language_info": {
   "codemirror_mode": {
    "name": "ipython",
    "version": 2
   },
   "file_extension": ".py",
   "mimetype": "text/x-python",
   "name": "python",
   "nbconvert_exporter": "python",
   "pygments_lexer": "ipython2",
   "version": "2.7.6"
  }
 },
 "nbformat": 4,
 "nbformat_minor": 5
}
