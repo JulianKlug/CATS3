{
 "cells": [
  {
   "cell_type": "code",
   "execution_count": 1,
   "id": "initial_id",
   "metadata": {
    "collapsed": true,
    "ExecuteTime": {
     "end_time": "2024-01-06T13:14:22.192930Z",
     "start_time": "2024-01-06T13:14:10.892322Z"
    }
   },
   "outputs": [
    {
     "name": "stderr",
     "output_type": "stream",
     "text": [
      "2024-01-06 14:14:18.071016: I tensorflow/core/platform/cpu_feature_guard.cc:182] This TensorFlow binary is optimized to use available CPU instructions in performance-critical operations.\n",
      "To enable the following instructions: AVX2 FMA, in other operations, rebuild TensorFlow with the appropriate compiler flags.\n"
     ]
    }
   ],
   "source": [
    "import pandas as pd\n",
    "from src.data.mimic_iii.real_dataset import MIMIC3RealDataset\n",
    "from data_loaders.causal_transformer_dataloader import load_gsu_dataset"
   ]
  },
  {
   "cell_type": "code",
   "execution_count": 2,
   "outputs": [],
   "source": [
    "gsu_features_path = '/Users/jk1/temp/treatment_effects/preprocessing/gsu_Extraction_20220815_prepro_25112023_213851/preprocessed_features_25112023_213851.csv'\n",
    "gsu_continuous_outcomes_path = '/Users/jk1/temp/treatment_effects/preprocessing/gsu_Extraction_20220815_prepro_25112023_213851/preprocessed_outcomes_continuous_25112023_213851.csv'"
   ],
   "metadata": {
    "collapsed": false,
    "ExecuteTime": {
     "end_time": "2024-01-06T13:14:22.201836Z",
     "start_time": "2024-01-06T13:14:22.194943Z"
    }
   },
   "id": "b79687241664b147"
  },
  {
   "cell_type": "markdown",
   "source": [
    "# Load dataset and preprocess"
   ],
   "metadata": {
    "collapsed": false
   },
   "id": "f70af68e9e587393"
  },
  {
   "cell_type": "code",
   "execution_count": 3,
   "outputs": [],
   "source": [
    "train_ds = load_gsu_dataset(gsu_features_path, gsu_continuous_outcomes_path)"
   ],
   "metadata": {
    "collapsed": false,
    "ExecuteTime": {
     "end_time": "2024-01-06T13:14:40.476682Z",
     "start_time": "2024-01-06T13:14:22.198640Z"
    }
   },
   "id": "b7353fd8ee926520"
  },
  {
   "cell_type": "code",
   "execution_count": 4,
   "outputs": [],
   "source": [
    "from src.data import RealDatasetCollection\n",
    "\n",
    "\n",
    "class MIMIC3RealDatasetCollection(RealDatasetCollection):\n",
    "    \"\"\"\n",
    "    Dataset collection (train_f, val_f, test_f)\n",
    "    \"\"\"\n",
    "    def __init__(self,\n",
    "                 ds: MIMIC3RealDataset,\n",
    "                 projection_horizon: int = 5,\n",
    "                 autoregressive=True,\n",
    "                 **kwargs):\n",
    "        \"\"\"\n",
    "        Args:\n",
    "            path: Path with MIMIC-3 dataset (HDFStore)\n",
    "            min_seq_length: Min sequence lenght in cohort\n",
    "            max_seq_length: Max sequence lenght in cohort\n",
    "            seed: Seed for random cohort patient selection\n",
    "            max_number: Maximum number of patients in cohort\n",
    "            split: Ratio of train / val / test split\n",
    "            projection_horizon: Range of tau-step-ahead prediction (tau = projection_horizon + 1)\n",
    "            autoregressive:\n",
    "        \"\"\"\n",
    "        super(MIMIC3RealDatasetCollection, self).__init__()\n",
    "        self.train_f = ds\n",
    "        \n",
    "        # only declared for compatibility\n",
    "        self.val_f = ds\n",
    "        self.test_f = ds\n",
    "\n",
    "        self.projection_horizon = projection_horizon\n",
    "        self.has_vitals = True\n",
    "        self.autoregressive = autoregressive\n",
    "        self.processed_data_encoder = True"
   ],
   "metadata": {
    "collapsed": false,
    "ExecuteTime": {
     "end_time": "2024-01-06T13:14:40.487129Z",
     "start_time": "2024-01-06T13:14:40.475242Z"
    }
   },
   "id": "711d0117f317ed67"
  },
  {
   "cell_type": "code",
   "execution_count": 9,
   "outputs": [],
   "source": [
    "ds_collection = MIMIC3RealDatasetCollection(train_ds)"
   ],
   "metadata": {
    "collapsed": false,
    "ExecuteTime": {
     "end_time": "2024-01-06T13:18:54.361570Z",
     "start_time": "2024-01-06T13:18:54.344613Z"
    }
   },
   "id": "dda33ec117187673"
  },
  {
   "cell_type": "code",
   "execution_count": 10,
   "outputs": [
    {
     "data": {
      "text/plain": "{'sequence_lengths': array([71, 71, 71, ..., 71, 71, 71]),\n 'prev_treatments': array([[[4.],\n         [4.],\n         [4.],\n         ...,\n         [0.],\n         [0.],\n         [0.]],\n \n        [[7.],\n         [7.],\n         [7.],\n         ...,\n         [4.],\n         [4.],\n         [4.]],\n \n        [[7.],\n         [7.],\n         [7.],\n         ...,\n         [7.],\n         [7.],\n         [7.]],\n \n        ...,\n \n        [[7.],\n         [7.],\n         [7.],\n         ...,\n         [3.],\n         [3.],\n         [3.]],\n \n        [[7.],\n         [7.],\n         [7.],\n         ...,\n         [7.],\n         [7.],\n         [7.]],\n \n        [[7.],\n         [7.],\n         [7.],\n         ...,\n         [7.],\n         [7.],\n         [7.]]]),\n 'vitals': array([[[-0.30182825, -0.64252919, -0.2857695 , ...,  0.01302788,\n           1.        ,  1.15325429],\n         [-0.30182825, -0.64252919, -0.2857695 , ...,  0.01302788,\n           1.        ,  1.15325429],\n         [-0.30182825, -0.64252919, -0.2857695 , ...,  0.01302788,\n           1.        ,  1.15325429],\n         ...,\n         [-0.30182825, -0.64252919, -0.2857695 , ...,  0.01302788,\n           1.        ,  1.15325429],\n         [-0.30182825, -0.64252919, -0.2857695 , ...,  0.01302788,\n           1.        ,  1.15325429],\n         [-0.30182825, -0.64252919, -0.2857695 , ...,  0.01302788,\n           1.        ,  1.15325429]],\n \n        [[-0.16476602, -0.16509521, -0.2857695 , ...,  1.06150768,\n           1.        ,  0.74380008],\n         [-0.16476602, -0.16509521, -0.2857695 , ...,  1.06150768,\n           1.        ,  0.74380008],\n         [-0.16476602, -0.16509521, -0.2857695 , ...,  1.06150768,\n           1.        ,  0.88028481],\n         ...,\n         [ 0.38348289,  0.15319411, -0.2857695 , ..., -0.39724683,\n           1.        ,  0.88028481],\n         [ 0.38348289,  0.15319411, -0.2857695 , ..., -0.39724683,\n           1.        ,  0.88028481],\n         [ 0.38348289,  0.15319411, -0.2857695 , ..., -0.39724683,\n           1.        ,  0.88028481]],\n \n        [[-0.16476602, -0.16509521, -0.2857695 , ..., -0.85310761,\n           0.        , -0.07510835],\n         [-0.16476602, -0.16509521, -0.2857695 , ..., -0.85310761,\n           0.        , -0.07510835],\n         [-0.16476602, -0.16509521, -0.2857695 , ..., -0.85310761,\n           0.        , -0.07510835],\n         ...,\n         [-1.12420161, -0.32423987, -0.2857695 , ..., -1.03545193,\n           0.        , -0.07510835],\n         [-1.12420161, -0.32423987, -0.2857695 , ..., -1.03545193,\n           0.        , -0.07510835],\n         [-1.12420161, -0.32423987, -0.2857695 , ..., -1.03545193,\n           0.        , -0.07510835]],\n \n        ...,\n \n        [[-0.16476602, -0.16509521, -0.2857695 , ..., -0.89869369,\n           1.        ,  1.63095087],\n         [-0.16476602, -0.16509521, -0.2857695 , ..., -0.89869369,\n           1.        ,  1.63095087],\n         [-0.16476602, -0.16509521, -0.2857695 , ..., -0.89869369,\n           1.        ,  1.63095087],\n         ...,\n         [-0.85007716, -2.07483113, -0.2857695 , ..., -0.94427977,\n           1.        ,  1.71966595],\n         [-0.85007716, -2.07483113, -0.2857695 , ..., -0.94427977,\n           1.        ,  1.71966595],\n         [-0.85007716, -2.07483113, -0.2857695 , ..., -0.94427977,\n           1.        ,  1.71966595]],\n \n        [[-0.16476602, -0.16509521, -0.2857695 , ..., -0.21490252,\n           0.        , -0.55280493],\n         [-0.16476602, -0.16509521, -0.2857695 , ..., -0.21490252,\n           0.        , -0.55280493],\n         [-0.16476602, -0.16509521, -0.2857695 , ..., -0.21490252,\n           0.        , -0.55280493],\n         ...,\n         [-0.16476602, -0.16509521, -0.2857695 , ...,  0.05861396,\n           0.        , -0.55280493],\n         [-0.16476602, -0.16509521, -0.2857695 , ...,  0.05861396,\n           0.        , -0.55280493],\n         [-0.16476602, -0.16509521, -0.2857695 , ...,  0.05861396,\n           0.        , -0.55280493]],\n \n        [[-0.16476602, -0.16509521, -0.2857695 , ...,  0.10420003,\n           0.        , -0.07510835],\n         [-0.16476602, -0.16509521, -0.2857695 , ...,  0.10420003,\n           0.        , -0.07510835],\n         [-0.16476602, -0.16509521, -0.2857695 , ...,  0.10420003,\n           0.        , -0.07510835],\n         ...,\n         [ 1.20585625, -0.80167385, -0.2857695 , ...,  0.37771651,\n           0.        , -0.07510835],\n         [ 1.20585625, -0.80167385, -0.2857695 , ...,  0.37771651,\n           0.        , -0.07510835],\n         [ 1.20585625, -0.80167385, -0.2857695 , ...,  0.37771651,\n           0.        , -0.07510835]]]),\n 'next_vitals': array([[[-0.30182825, -0.64252919, -0.2857695 , ...,  0.01302788,\n           1.        ,  1.15325429],\n         [-0.30182825, -0.64252919, -0.2857695 , ...,  0.01302788,\n           1.        ,  1.15325429],\n         [-0.30182825, -0.64252919, -0.2857695 , ...,  0.01302788,\n           1.        ,  1.15325429],\n         ...,\n         [-0.30182825, -0.64252919, -0.2857695 , ...,  0.01302788,\n           1.        ,  1.15325429],\n         [-0.30182825, -0.64252919, -0.2857695 , ...,  0.01302788,\n           1.        ,  1.15325429],\n         [-0.30182825, -0.64252919, -0.2857695 , ...,  0.01302788,\n           1.        ,  1.15325429]],\n \n        [[-0.16476602, -0.16509521, -0.2857695 , ...,  1.06150768,\n           1.        ,  0.74380008],\n         [-0.16476602, -0.16509521, -0.2857695 , ...,  1.06150768,\n           1.        ,  0.88028481],\n         [-0.16476602, -0.16509521, -0.2857695 , ...,  1.06150768,\n           1.        ,  0.88028481],\n         ...,\n         [ 0.38348289,  0.15319411, -0.2857695 , ..., -0.39724683,\n           1.        ,  0.88028481],\n         [ 0.38348289,  0.15319411, -0.2857695 , ..., -0.39724683,\n           1.        ,  0.88028481],\n         [ 0.38348289,  0.15319411, -0.2857695 , ..., -0.39724683,\n           1.        ,  0.88028481]],\n \n        [[-0.16476602, -0.16509521, -0.2857695 , ..., -0.85310761,\n           0.        , -0.07510835],\n         [-0.16476602, -0.16509521, -0.2857695 , ..., -0.85310761,\n           0.        , -0.07510835],\n         [-0.16476602, -0.16509521, -0.2857695 , ..., -0.85310761,\n           0.        , -0.07510835],\n         ...,\n         [-1.12420161, -0.32423987, -0.2857695 , ..., -1.03545193,\n           0.        , -0.07510835],\n         [-1.12420161, -0.32423987, -0.2857695 , ..., -1.03545193,\n           0.        , -0.07510835],\n         [-1.12420161, -0.32423987, -0.2857695 , ..., -1.03545193,\n           0.        , -0.07510835]],\n \n        ...,\n \n        [[-0.16476602, -0.16509521, -0.2857695 , ..., -0.89869369,\n           1.        ,  1.63095087],\n         [-0.16476602, -0.16509521, -0.2857695 , ..., -0.89869369,\n           1.        ,  1.63095087],\n         [-0.16476602, -0.16509521, -0.2857695 , ..., -0.89869369,\n           1.        ,  1.63095087],\n         ...,\n         [-0.85007716, -2.07483113, -0.2857695 , ..., -0.94427977,\n           1.        ,  1.71966595],\n         [-0.85007716, -2.07483113, -0.2857695 , ..., -0.94427977,\n           1.        ,  1.71966595],\n         [-0.85007716, -2.07483113, -0.2857695 , ..., -0.94427977,\n           1.        ,  1.71966595]],\n \n        [[-0.16476602, -0.16509521, -0.2857695 , ..., -0.21490252,\n           0.        , -0.55280493],\n         [-0.16476602, -0.16509521, -0.2857695 , ..., -0.21490252,\n           0.        , -0.55280493],\n         [-0.16476602, -0.16509521, -0.2857695 , ..., -0.21490252,\n           0.        , -0.55280493],\n         ...,\n         [-0.16476602, -0.16509521, -0.2857695 , ...,  0.05861396,\n           0.        , -0.55280493],\n         [-0.16476602, -0.16509521, -0.2857695 , ...,  0.05861396,\n           0.        , -0.55280493],\n         [-0.16476602, -0.16509521, -0.2857695 , ...,  0.05861396,\n           0.        , -0.55280493]],\n \n        [[-0.16476602, -0.16509521, -0.2857695 , ...,  0.10420003,\n           0.        , -0.07510835],\n         [-0.16476602, -0.16509521, -0.2857695 , ...,  0.10420003,\n           0.        , -0.07510835],\n         [-0.16476602, -0.16509521, -0.2857695 , ...,  0.10420003,\n           0.        , -0.07510835],\n         ...,\n         [ 1.20585625, -0.80167385, -0.2857695 , ...,  0.37771651,\n           0.        , -0.07510835],\n         [ 1.20585625, -0.80167385, -0.2857695 , ...,  0.37771651,\n           0.        , -0.07510835],\n         [ 1.20585625, -0.80167385, -0.2857695 , ...,  0.37771651,\n           0.        , -0.07510835]]]),\n 'current_treatments': array([[[4.],\n         [4.],\n         [4.],\n         ...,\n         [0.],\n         [0.],\n         [0.]],\n \n        [[7.],\n         [7.],\n         [7.],\n         ...,\n         [4.],\n         [4.],\n         [4.]],\n \n        [[7.],\n         [7.],\n         [7.],\n         ...,\n         [7.],\n         [7.],\n         [7.]],\n \n        ...,\n \n        [[7.],\n         [7.],\n         [7.],\n         ...,\n         [3.],\n         [3.],\n         [3.]],\n \n        [[7.],\n         [7.],\n         [7.],\n         ...,\n         [7.],\n         [7.],\n         [7.]],\n \n        [[7.],\n         [7.],\n         [7.],\n         ...,\n         [7.],\n         [7.],\n         [7.]]]),\n 'static_features': array([], shape=(179496, 0), dtype=float64),\n 'active_entries': array([[[1.],\n         [1.],\n         [1.],\n         ...,\n         [1.],\n         [1.],\n         [1.]],\n \n        [[1.],\n         [1.],\n         [1.],\n         ...,\n         [1.],\n         [1.],\n         [1.]],\n \n        [[1.],\n         [1.],\n         [1.],\n         ...,\n         [1.],\n         [1.],\n         [1.]],\n \n        ...,\n \n        [[1.],\n         [1.],\n         [1.],\n         ...,\n         [1.],\n         [1.],\n         [1.]],\n \n        [[1.],\n         [1.],\n         [1.],\n         ...,\n         [1.],\n         [1.],\n         [1.]],\n \n        [[1.],\n         [1.],\n         [1.],\n         ...,\n         [1.],\n         [1.],\n         [1.]]]),\n 'outputs': array([[[ 0.],\n         [ 0.],\n         [ 0.],\n         ...,\n         [ 0.],\n         [ 0.],\n         [ 0.]],\n \n        [[ 0.],\n         [ 0.],\n         [-1.],\n         ...,\n         [ 0.],\n         [ 0.],\n         [ 0.]],\n \n        [[ 0.],\n         [ 0.],\n         [ 0.],\n         ...,\n         [ 0.],\n         [ 0.],\n         [ 0.]],\n \n        ...,\n \n        [[ 0.],\n         [ 0.],\n         [ 0.],\n         ...,\n         [ 0.],\n         [ 0.],\n         [ 0.]],\n \n        [[ 0.],\n         [ 0.],\n         [ 0.],\n         ...,\n         [ 0.],\n         [ 0.],\n         [ 0.]],\n \n        [[ 0.],\n         [ 0.],\n         [ 0.],\n         ...,\n         [ 0.],\n         [ 0.],\n         [ 0.]]]),\n 'unscaled_outputs': array([[[ 0.],\n         [ 0.],\n         [ 0.],\n         ...,\n         [ 0.],\n         [ 0.],\n         [ 0.]],\n \n        [[ 0.],\n         [ 0.],\n         [-1.],\n         ...,\n         [ 0.],\n         [ 0.],\n         [ 0.]],\n \n        [[ 0.],\n         [ 0.],\n         [ 0.],\n         ...,\n         [ 0.],\n         [ 0.],\n         [ 0.]],\n \n        ...,\n \n        [[ 0.],\n         [ 0.],\n         [ 0.],\n         ...,\n         [ 0.],\n         [ 0.],\n         [ 0.]],\n \n        [[ 0.],\n         [ 0.],\n         [ 0.],\n         ...,\n         [ 0.],\n         [ 0.],\n         [ 0.]],\n \n        [[ 0.],\n         [ 0.],\n         [ 0.],\n         ...,\n         [ 0.],\n         [ 0.],\n         [ 0.]]]),\n 'prev_outputs': array([[[-2.],\n         [ 0.],\n         [ 0.],\n         ...,\n         [ 0.],\n         [ 0.],\n         [ 0.]],\n \n        [[ 6.],\n         [ 0.],\n         [ 0.],\n         ...,\n         [ 0.],\n         [ 0.],\n         [ 0.]],\n \n        [[ 0.],\n         [ 0.],\n         [ 0.],\n         ...,\n         [ 0.],\n         [ 0.],\n         [ 0.]],\n \n        ...,\n \n        [[ 0.],\n         [ 0.],\n         [ 0.],\n         ...,\n         [ 0.],\n         [ 0.],\n         [ 0.]],\n \n        [[ 0.],\n         [ 0.],\n         [ 0.],\n         ...,\n         [ 0.],\n         [ 0.],\n         [ 0.]],\n \n        [[ 0.],\n         [ 0.],\n         [ 0.],\n         ...,\n         [ 0.],\n         [ 0.],\n         [ 0.]]])}"
     },
     "execution_count": 10,
     "metadata": {},
     "output_type": "execute_result"
    }
   ],
   "source": [
    "ds_collection.train_f.data"
   ],
   "metadata": {
    "collapsed": false,
    "ExecuteTime": {
     "end_time": "2024-01-06T13:18:54.654005Z",
     "start_time": "2024-01-06T13:18:54.630298Z"
    }
   },
   "id": "9068610fe55e7f30"
  },
  {
   "cell_type": "code",
   "execution_count": 11,
   "outputs": [],
   "source": [
    "# preprocess \n",
    "ds_collection.process_data_multi()"
   ],
   "metadata": {
    "collapsed": false,
    "ExecuteTime": {
     "end_time": "2024-01-06T13:21:04.828259Z",
     "start_time": "2024-01-06T13:18:55.071397Z"
    }
   },
   "id": "b0da3e6603bbe08a"
  },
  {
   "cell_type": "markdown",
   "source": [
    "# Test dataset with model "
   ],
   "metadata": {
    "collapsed": false
   },
   "id": "f7a87f84cb69737e"
  },
  {
   "cell_type": "code",
   "execution_count": 12,
   "outputs": [
    {
     "name": "stdout",
     "output_type": "stream",
     "text": [
      "${sum:${dataset.max_seq_length},${dataset.projection_horizon}}\n"
     ]
    }
   ],
   "source": [
    "config_dict = {\n",
    "    'model': {\n",
    "        'name': 'CT',\n",
    "        'multi': {\n",
    "            '_target_': 'src.models.ct.CT',\n",
    "            'max_seq_length': '${sum:${dataset.max_seq_length},${dataset.projection_horizon}}',\n",
    "            'seq_hidden_units': None,\n",
    "            'br_size': None,\n",
    "            'fc_hidden_units': None,\n",
    "            'dropout_rate': None,\n",
    "            'num_layer': 1,\n",
    "            'num_heads': 2,\n",
    "            'max_grad_norm': None,\n",
    "            'batch_size': None,\n",
    "            'attn_dropout': True,\n",
    "            'disable_cross_attention': False,\n",
    "            'isolate_subnetwork': '_',\n",
    "            'self_positional_encoding': {\n",
    "                'absolute': False,\n",
    "                'trainable': True,\n",
    "                'max_relative_position': 15,\n",
    "            },\n",
    "            'optimizer': {\n",
    "                'optimizer_cls': 'adam',\n",
    "                'learning_rate': None,\n",
    "                'weight_decay': 0.0,\n",
    "                'lr_scheduler': False,\n",
    "            },\n",
    "            'augment_with_masked_vitals': True,\n",
    "            'tune_hparams': False,\n",
    "            'tune_range': 50,\n",
    "            'hparams_grid': None,\n",
    "            'resources_per_trial': None,\n",
    "        }\n",
    "    },\n",
    "    'exp': {\n",
    "        'weights_ema': True,\n",
    "        'balancing': 'domain_confusion',\n",
    "        'alpha': 0.01,\n",
    "    }\n",
    "}\n",
    "\n",
    "# Example usage\n",
    "print(config_dict['model']['multi']['max_seq_length'])  # Accessing a specific value in the dictionary\n"
   ],
   "metadata": {
    "collapsed": false,
    "ExecuteTime": {
     "end_time": "2024-01-06T13:21:05.030852Z",
     "start_time": "2024-01-06T13:21:04.799118Z"
    }
   },
   "id": "982ab562d5858fc"
  },
  {
   "cell_type": "code",
   "execution_count": 13,
   "outputs": [
    {
     "name": "stdout",
     "output_type": "stream",
     "text": [
      "{'model': {'dim_treatments': '???', 'dim_vitals': '???', 'dim_static_features': '???', 'dim_outcomes': '???', 'name': 'CT', 'multi': {'_target_': 'src.models.ct.CT', 'max_seq_length': '${sum:${dataset.max_seq_length},${dataset.projection_horizon}}', 'seq_hidden_units': 24, 'br_size': 22, 'fc_hidden_units': 22, 'dropout_rate': 0.2, 'num_layer': 2, 'num_heads': 3, 'max_grad_norm': None, 'batch_size': 64, 'attn_dropout': True, 'disable_cross_attention': False, 'isolate_subnetwork': '_', 'self_positional_encoding': {'absolute': False, 'trainable': True, 'max_relative_position': 30}, 'optimizer': {'optimizer_cls': 'adam', 'learning_rate': 0.0001, 'weight_decay': 0.0, 'lr_scheduler': False}, 'augment_with_masked_vitals': True, 'tune_hparams': False, 'tune_range': 50, 'hparams_grid': None, 'resources_per_trial': None}}, 'dataset': {'val_batch_size': 512, 'treatment_mode': 'multilabel', 'seed': '${exp.seed}', 'name': 'gsu', 'min_seq_length': 71, 'max_seq_length': 71, 'max_number': 5000, 'projection_horizon': 0, 'autoregressive': True, 'treatment_list': '???', 'outcome_list': '???', 'vital_list': '???', 'static_list': '???', 'drop_first': False}, 'exp': {'seed': 100, 'gpus': [0], 'max_epochs': 300, 'logging': False, 'mlflow_uri': 'http://127.0.0.1:5000', 'unscale_rmse': True, 'percentage_rmse': False, 'alpha': 0.01, 'update_alpha': True, 'alpha_rate': 'exp', 'balancing': 'domain_confusion', 'bce_weight': False, 'weights_ema': True, 'beta': 0.99}}\n"
     ]
    }
   ],
   "source": [
    "from omegaconf import OmegaConf\n",
    "from hydra import initialize, compose\n",
    "\n",
    "OmegaConf.register_new_resolver(\"sum\", lambda x, y: x + y, replace=True)\n",
    "\n",
    "with initialize(version_base=None, config_path=\"./config\"):\n",
    "    cfg=compose(config_name='config.yaml', overrides=['+backbone=CT', '+dataset=gsu', '+hparams=mimic3_diastolic_blood_pressure'])\n",
    "    print(cfg)"
   ],
   "metadata": {
    "collapsed": false,
    "ExecuteTime": {
     "end_time": "2024-01-06T13:21:10.163439Z",
     "start_time": "2024-01-06T13:21:04.840492Z"
    }
   },
   "id": "cd709e1e077a1d28"
  },
  {
   "cell_type": "code",
   "execution_count": 14,
   "outputs": [],
   "source": [
    "cfg.model.dim_outcomes = ds_collection.train_f.data['outputs'].shape[-1]\n",
    "cfg.model.dim_treatments = ds_collection.train_f.data['current_treatments'].shape[-1]\n",
    "cfg.model.dim_vitals = ds_collection.train_f.data['vitals'].shape[-1] if ds_collection.has_vitals else 0\n",
    "cfg.model.dim_static_features = ds_collection.train_f.data['static_features'].shape[-1]"
   ],
   "metadata": {
    "collapsed": false,
    "ExecuteTime": {
     "end_time": "2024-01-06T13:21:10.166807Z",
     "start_time": "2024-01-06T13:21:10.160824Z"
    }
   },
   "id": "5e29668d2990be9c"
  },
  {
   "cell_type": "code",
   "execution_count": 15,
   "outputs": [],
   "source": [
    "cfg['dataset']['treatment_list'] = train_ds.treatment_names\n",
    "cfg['dataset']['vital_list'] = train_ds.feature_names\n",
    "cfg['dataset']['static_list'] = None\n",
    "cfg['dataset']['outcome_list'] = train_ds.outcome_names"
   ],
   "metadata": {
    "collapsed": false,
    "ExecuteTime": {
     "end_time": "2024-01-06T13:21:10.190075Z",
     "start_time": "2024-01-06T13:21:10.168184Z"
    }
   },
   "id": "e5fa34520029f5f0"
  },
  {
   "cell_type": "code",
   "execution_count": 16,
   "outputs": [
    {
     "data": {
      "text/plain": "(24, 22, 22, 0.2)"
     },
     "execution_count": 16,
     "metadata": {},
     "output_type": "execute_result"
    }
   ],
   "source": [
    "# from prior hyperparams\n",
    "cfg['model']['multi']['seq_hidden_units'], cfg['model']['multi']['br_size'], cfg['model']['multi']['fc_hidden_units'], cfg['model']['multi']['dropout_rate']"
   ],
   "metadata": {
    "collapsed": false,
    "ExecuteTime": {
     "end_time": "2024-01-06T13:21:10.255387Z",
     "start_time": "2024-01-06T13:21:10.180663Z"
    }
   },
   "id": "27f81fc41393c0cf"
  },
  {
   "cell_type": "markdown",
   "source": [
    "# Train model"
   ],
   "metadata": {
    "collapsed": false
   },
   "id": "bf8c8b574b0a89b6"
  },
  {
   "cell_type": "code",
   "execution_count": 17,
   "outputs": [],
   "source": [
    "from src.models import CT\n",
    "\n",
    "model = CT(cfg, ds_collection)"
   ],
   "metadata": {
    "collapsed": false,
    "ExecuteTime": {
     "end_time": "2024-01-06T13:21:11.543736Z",
     "start_time": "2024-01-06T13:21:10.187658Z"
    }
   },
   "id": "1b9a12d459efe6cb"
  },
  {
   "cell_type": "code",
   "execution_count": 18,
   "outputs": [],
   "source": [
    "import hydra\n",
    "from pytorch_lightning.callbacks import LearningRateMonitor\n",
    "from src.models.utils import AlphaRise, FilteringMlFlowLogger\n",
    "\n",
    "# Train_callbacks\n",
    "multimodel_callbacks = [AlphaRise(rate=cfg.exp.alpha_rate)]\n",
    "\n",
    "# MlFlow Logger\n",
    "if cfg.exp.logging:\n",
    "    experiment_name = f'{cfg.model.name}/{cfg.dataset.name}'\n",
    "    mlf_logger = FilteringMlFlowLogger(filter_submodels=[], experiment_name=experiment_name, tracking_uri=args.exp.mlflow_uri)\n",
    "    multimodel_callbacks += [LearningRateMonitor(logging_interval='epoch')]\n",
    "    artifacts_path = hydra.utils.to_absolute_path(mlf_logger.experiment.get_run(mlf_logger.run_id).info.artifact_uri)\n",
    "else:\n",
    "    mlf_logger = None\n",
    "    artifacts_path = None"
   ],
   "metadata": {
    "collapsed": false,
    "ExecuteTime": {
     "end_time": "2024-01-06T13:21:11.553854Z",
     "start_time": "2024-01-06T13:21:11.541957Z"
    }
   },
   "id": "303326ee8891ed71"
  },
  {
   "cell_type": "code",
   "execution_count": 19,
   "outputs": [
    {
     "name": "stderr",
     "output_type": "stream",
     "text": [
      "GPU available: False, used: False\n",
      "TPU available: False, using: 0 TPU cores\n",
      "IPU available: False, using: 0 IPUs\n"
     ]
    }
   ],
   "source": [
    "from pytorch_lightning import Trainer\n",
    "\n",
    "cfg.exp.gpus = None\n",
    "multimodel_trainer = Trainer(gpus=eval(str(cfg.exp.gpus)), logger=mlf_logger, max_epochs=cfg.exp.max_epochs,\n",
    "                                 callbacks=multimodel_callbacks, terminate_on_nan=True,\n",
    "                                 gradient_clip_val=cfg.model.multi.max_grad_norm)\n"
   ],
   "metadata": {
    "collapsed": false,
    "ExecuteTime": {
     "end_time": "2024-01-06T13:21:11.565063Z",
     "start_time": "2024-01-06T13:21:11.551168Z"
    }
   },
   "id": "e518e84165bf232c"
  },
  {
   "cell_type": "code",
   "execution_count": 44,
   "outputs": [
    {
     "name": "stderr",
     "output_type": "stream",
     "text": [
      "\n",
      "  | Name                            | Type                       | Params\n",
      "-------------------------------------------------------------------------------\n",
      "0 | input_transformation            | Linear                     | 2.0 K \n",
      "1 | self_positional_encoding_k      | RelativePositionalEncoding | 488   \n",
      "2 | self_positional_encoding_v      | RelativePositionalEncoding | 488   \n",
      "3 | transformer_blocks              | ModuleList                 | 62.9 K\n",
      "4 | output_dropout                  | Dropout                    | 0     \n",
      "5 | br_treatment_outcome_head       | BRTreatmentOutcomeHead     | 1.9 K \n",
      "6 | treatments_input_transformation | Linear                     | 216   \n",
      "7 | vitals_input_transformation     | Linear                     | 2.0 K \n",
      "8 | outputs_input_transformation    | Linear                     | 48    \n",
      "9 | static_input_transformation     | Linear                     | 24    \n",
      "-------------------------------------------------------------------------------\n",
      "69.2 K    Trainable params\n",
      "0         Non-trainable params\n",
      "69.2 K    Total params\n",
      "0.277     Total estimated model params size (MB)\n"
     ]
    },
    {
     "data": {
      "text/plain": "Training: -1it [00:00, ?it/s]",
      "application/vnd.jupyter.widget-view+json": {
       "version_major": 2,
       "version_minor": 0,
       "model_id": "8fb88a6fadfd494fb909c6dbd6a53e61"
      }
     },
     "metadata": {},
     "output_type": "display_data"
    },
    {
     "ename": "IndexError",
     "evalue": "index 820 is out of bounds for axis 0 with size 0",
     "output_type": "error",
     "traceback": [
      "\u001B[0;31m---------------------------------------------------------------------------\u001B[0m",
      "\u001B[0;31mIndexError\u001B[0m                                Traceback (most recent call last)",
      "Cell \u001B[0;32mIn[44], line 1\u001B[0m\n\u001B[0;32m----> 1\u001B[0m \u001B[43mmultimodel_trainer\u001B[49m\u001B[38;5;241;43m.\u001B[39;49m\u001B[43mfit\u001B[49m\u001B[43m(\u001B[49m\u001B[43mmodel\u001B[49m\u001B[43m)\u001B[49m\n",
      "File \u001B[0;32m~/opt/anaconda3/envs/cats3/lib/python3.10/site-packages/pytorch_lightning/trainer/trainer.py:552\u001B[0m, in \u001B[0;36mTrainer.fit\u001B[0;34m(self, model, train_dataloaders, val_dataloaders, datamodule, train_dataloader)\u001B[0m\n\u001B[1;32m    546\u001B[0m \u001B[38;5;28mself\u001B[39m\u001B[38;5;241m.\u001B[39mdata_connector\u001B[38;5;241m.\u001B[39mattach_data(\n\u001B[1;32m    547\u001B[0m     model, train_dataloaders\u001B[38;5;241m=\u001B[39mtrain_dataloaders, val_dataloaders\u001B[38;5;241m=\u001B[39mval_dataloaders, datamodule\u001B[38;5;241m=\u001B[39mdatamodule\n\u001B[1;32m    548\u001B[0m )\n\u001B[1;32m    550\u001B[0m \u001B[38;5;28mself\u001B[39m\u001B[38;5;241m.\u001B[39mcheckpoint_connector\u001B[38;5;241m.\u001B[39mresume_start()\n\u001B[0;32m--> 552\u001B[0m \u001B[38;5;28;43mself\u001B[39;49m\u001B[38;5;241;43m.\u001B[39;49m\u001B[43m_run\u001B[49m\u001B[43m(\u001B[49m\u001B[43mmodel\u001B[49m\u001B[43m)\u001B[49m\n\u001B[1;32m    554\u001B[0m \u001B[38;5;28;01massert\u001B[39;00m \u001B[38;5;28mself\u001B[39m\u001B[38;5;241m.\u001B[39mstate\u001B[38;5;241m.\u001B[39mstopped\n\u001B[1;32m    555\u001B[0m \u001B[38;5;28mself\u001B[39m\u001B[38;5;241m.\u001B[39mtraining \u001B[38;5;241m=\u001B[39m \u001B[38;5;28;01mFalse\u001B[39;00m\n",
      "File \u001B[0;32m~/opt/anaconda3/envs/cats3/lib/python3.10/site-packages/pytorch_lightning/trainer/trainer.py:917\u001B[0m, in \u001B[0;36mTrainer._run\u001B[0;34m(self, model)\u001B[0m\n\u001B[1;32m    914\u001B[0m \u001B[38;5;28mself\u001B[39m\u001B[38;5;241m.\u001B[39mcheckpoint_connector\u001B[38;5;241m.\u001B[39mrestore_training_state()\n\u001B[1;32m    916\u001B[0m \u001B[38;5;66;03m# dispatch `start_training` or `start_evaluating` or `start_predicting`\u001B[39;00m\n\u001B[0;32m--> 917\u001B[0m \u001B[38;5;28;43mself\u001B[39;49m\u001B[38;5;241;43m.\u001B[39;49m\u001B[43m_dispatch\u001B[49m\u001B[43m(\u001B[49m\u001B[43m)\u001B[49m\n\u001B[1;32m    919\u001B[0m \u001B[38;5;66;03m# plugin will finalized fitting (e.g. ddp_spawn will load trained model)\u001B[39;00m\n\u001B[1;32m    920\u001B[0m \u001B[38;5;28mself\u001B[39m\u001B[38;5;241m.\u001B[39m_post_dispatch()\n",
      "File \u001B[0;32m~/opt/anaconda3/envs/cats3/lib/python3.10/site-packages/pytorch_lightning/trainer/trainer.py:985\u001B[0m, in \u001B[0;36mTrainer._dispatch\u001B[0;34m(self)\u001B[0m\n\u001B[1;32m    983\u001B[0m     \u001B[38;5;28mself\u001B[39m\u001B[38;5;241m.\u001B[39maccelerator\u001B[38;5;241m.\u001B[39mstart_predicting(\u001B[38;5;28mself\u001B[39m)\n\u001B[1;32m    984\u001B[0m \u001B[38;5;28;01melse\u001B[39;00m:\n\u001B[0;32m--> 985\u001B[0m     \u001B[38;5;28;43mself\u001B[39;49m\u001B[38;5;241;43m.\u001B[39;49m\u001B[43maccelerator\u001B[49m\u001B[38;5;241;43m.\u001B[39;49m\u001B[43mstart_training\u001B[49m\u001B[43m(\u001B[49m\u001B[38;5;28;43mself\u001B[39;49m\u001B[43m)\u001B[49m\n",
      "File \u001B[0;32m~/opt/anaconda3/envs/cats3/lib/python3.10/site-packages/pytorch_lightning/accelerators/accelerator.py:92\u001B[0m, in \u001B[0;36mAccelerator.start_training\u001B[0;34m(self, trainer)\u001B[0m\n\u001B[1;32m     91\u001B[0m \u001B[38;5;28;01mdef\u001B[39;00m \u001B[38;5;21mstart_training\u001B[39m(\u001B[38;5;28mself\u001B[39m, trainer: \u001B[38;5;124m\"\u001B[39m\u001B[38;5;124mpl.Trainer\u001B[39m\u001B[38;5;124m\"\u001B[39m) \u001B[38;5;241m-\u001B[39m\u001B[38;5;241m>\u001B[39m \u001B[38;5;28;01mNone\u001B[39;00m:\n\u001B[0;32m---> 92\u001B[0m     \u001B[38;5;28;43mself\u001B[39;49m\u001B[38;5;241;43m.\u001B[39;49m\u001B[43mtraining_type_plugin\u001B[49m\u001B[38;5;241;43m.\u001B[39;49m\u001B[43mstart_training\u001B[49m\u001B[43m(\u001B[49m\u001B[43mtrainer\u001B[49m\u001B[43m)\u001B[49m\n",
      "File \u001B[0;32m~/opt/anaconda3/envs/cats3/lib/python3.10/site-packages/pytorch_lightning/plugins/training_type/training_type_plugin.py:161\u001B[0m, in \u001B[0;36mTrainingTypePlugin.start_training\u001B[0;34m(self, trainer)\u001B[0m\n\u001B[1;32m    159\u001B[0m \u001B[38;5;28;01mdef\u001B[39;00m \u001B[38;5;21mstart_training\u001B[39m(\u001B[38;5;28mself\u001B[39m, trainer: \u001B[38;5;124m\"\u001B[39m\u001B[38;5;124mpl.Trainer\u001B[39m\u001B[38;5;124m\"\u001B[39m) \u001B[38;5;241m-\u001B[39m\u001B[38;5;241m>\u001B[39m \u001B[38;5;28;01mNone\u001B[39;00m:\n\u001B[1;32m    160\u001B[0m     \u001B[38;5;66;03m# double dispatch to initiate the training loop\u001B[39;00m\n\u001B[0;32m--> 161\u001B[0m     \u001B[38;5;28mself\u001B[39m\u001B[38;5;241m.\u001B[39m_results \u001B[38;5;241m=\u001B[39m \u001B[43mtrainer\u001B[49m\u001B[38;5;241;43m.\u001B[39;49m\u001B[43mrun_stage\u001B[49m\u001B[43m(\u001B[49m\u001B[43m)\u001B[49m\n",
      "File \u001B[0;32m~/opt/anaconda3/envs/cats3/lib/python3.10/site-packages/pytorch_lightning/trainer/trainer.py:995\u001B[0m, in \u001B[0;36mTrainer.run_stage\u001B[0;34m(self)\u001B[0m\n\u001B[1;32m    993\u001B[0m \u001B[38;5;28;01mif\u001B[39;00m \u001B[38;5;28mself\u001B[39m\u001B[38;5;241m.\u001B[39mpredicting:\n\u001B[1;32m    994\u001B[0m     \u001B[38;5;28;01mreturn\u001B[39;00m \u001B[38;5;28mself\u001B[39m\u001B[38;5;241m.\u001B[39m_run_predict()\n\u001B[0;32m--> 995\u001B[0m \u001B[38;5;28;01mreturn\u001B[39;00m \u001B[38;5;28;43mself\u001B[39;49m\u001B[38;5;241;43m.\u001B[39;49m\u001B[43m_run_train\u001B[49m\u001B[43m(\u001B[49m\u001B[43m)\u001B[49m\n",
      "File \u001B[0;32m~/opt/anaconda3/envs/cats3/lib/python3.10/site-packages/pytorch_lightning/trainer/trainer.py:1044\u001B[0m, in \u001B[0;36mTrainer._run_train\u001B[0;34m(self)\u001B[0m\n\u001B[1;32m   1041\u001B[0m \u001B[38;5;28;01mtry\u001B[39;00m:\n\u001B[1;32m   1042\u001B[0m     \u001B[38;5;66;03m# reset trainer on this loop and all child loops in case user connected a custom loop\u001B[39;00m\n\u001B[1;32m   1043\u001B[0m     \u001B[38;5;28mself\u001B[39m\u001B[38;5;241m.\u001B[39mfit_loop\u001B[38;5;241m.\u001B[39mtrainer \u001B[38;5;241m=\u001B[39m \u001B[38;5;28mself\u001B[39m\n\u001B[0;32m-> 1044\u001B[0m     \u001B[38;5;28;43mself\u001B[39;49m\u001B[38;5;241;43m.\u001B[39;49m\u001B[43mfit_loop\u001B[49m\u001B[38;5;241;43m.\u001B[39;49m\u001B[43mrun\u001B[49m\u001B[43m(\u001B[49m\u001B[43m)\u001B[49m\n\u001B[1;32m   1045\u001B[0m \u001B[38;5;28;01mexcept\u001B[39;00m \u001B[38;5;167;01mKeyboardInterrupt\u001B[39;00m:\n\u001B[1;32m   1046\u001B[0m     rank_zero_warn(\u001B[38;5;124m\"\u001B[39m\u001B[38;5;124mDetected KeyboardInterrupt, attempting graceful shutdown...\u001B[39m\u001B[38;5;124m\"\u001B[39m)\n",
      "File \u001B[0;32m~/opt/anaconda3/envs/cats3/lib/python3.10/site-packages/pytorch_lightning/loops/base.py:111\u001B[0m, in \u001B[0;36mLoop.run\u001B[0;34m(self, *args, **kwargs)\u001B[0m\n\u001B[1;32m    109\u001B[0m \u001B[38;5;28;01mtry\u001B[39;00m:\n\u001B[1;32m    110\u001B[0m     \u001B[38;5;28mself\u001B[39m\u001B[38;5;241m.\u001B[39mon_advance_start(\u001B[38;5;241m*\u001B[39margs, \u001B[38;5;241m*\u001B[39m\u001B[38;5;241m*\u001B[39mkwargs)\n\u001B[0;32m--> 111\u001B[0m     \u001B[38;5;28;43mself\u001B[39;49m\u001B[38;5;241;43m.\u001B[39;49m\u001B[43madvance\u001B[49m\u001B[43m(\u001B[49m\u001B[38;5;241;43m*\u001B[39;49m\u001B[43margs\u001B[49m\u001B[43m,\u001B[49m\u001B[43m \u001B[49m\u001B[38;5;241;43m*\u001B[39;49m\u001B[38;5;241;43m*\u001B[39;49m\u001B[43mkwargs\u001B[49m\u001B[43m)\u001B[49m\n\u001B[1;32m    112\u001B[0m     \u001B[38;5;28mself\u001B[39m\u001B[38;5;241m.\u001B[39mon_advance_end()\n\u001B[1;32m    113\u001B[0m     \u001B[38;5;28mself\u001B[39m\u001B[38;5;241m.\u001B[39miteration_count \u001B[38;5;241m+\u001B[39m\u001B[38;5;241m=\u001B[39m \u001B[38;5;241m1\u001B[39m\n",
      "File \u001B[0;32m~/opt/anaconda3/envs/cats3/lib/python3.10/site-packages/pytorch_lightning/loops/fit_loop.py:200\u001B[0m, in \u001B[0;36mFitLoop.advance\u001B[0;34m(self)\u001B[0m\n\u001B[1;32m    196\u001B[0m train_dataloader \u001B[38;5;241m=\u001B[39m \u001B[38;5;28mself\u001B[39m\u001B[38;5;241m.\u001B[39mtrainer\u001B[38;5;241m.\u001B[39mdata_connector\u001B[38;5;241m.\u001B[39mget_profiled_train_dataloader(train_dataloader)\n\u001B[1;32m    198\u001B[0m \u001B[38;5;28;01mwith\u001B[39;00m \u001B[38;5;28mself\u001B[39m\u001B[38;5;241m.\u001B[39mtrainer\u001B[38;5;241m.\u001B[39mprofiler\u001B[38;5;241m.\u001B[39mprofile(\u001B[38;5;124m\"\u001B[39m\u001B[38;5;124mrun_training_epoch\u001B[39m\u001B[38;5;124m\"\u001B[39m):\n\u001B[1;32m    199\u001B[0m     \u001B[38;5;66;03m# run train epoch\u001B[39;00m\n\u001B[0;32m--> 200\u001B[0m     epoch_output \u001B[38;5;241m=\u001B[39m \u001B[38;5;28;43mself\u001B[39;49m\u001B[38;5;241;43m.\u001B[39;49m\u001B[43mepoch_loop\u001B[49m\u001B[38;5;241;43m.\u001B[39;49m\u001B[43mrun\u001B[49m\u001B[43m(\u001B[49m\u001B[43mtrain_dataloader\u001B[49m\u001B[43m)\u001B[49m\n\u001B[1;32m    202\u001B[0m     \u001B[38;5;28;01mif\u001B[39;00m epoch_output \u001B[38;5;129;01mis\u001B[39;00m \u001B[38;5;28;01mNone\u001B[39;00m:\n\u001B[1;32m    203\u001B[0m         \u001B[38;5;28;01mreturn\u001B[39;00m\n",
      "File \u001B[0;32m~/opt/anaconda3/envs/cats3/lib/python3.10/site-packages/pytorch_lightning/loops/base.py:111\u001B[0m, in \u001B[0;36mLoop.run\u001B[0;34m(self, *args, **kwargs)\u001B[0m\n\u001B[1;32m    109\u001B[0m \u001B[38;5;28;01mtry\u001B[39;00m:\n\u001B[1;32m    110\u001B[0m     \u001B[38;5;28mself\u001B[39m\u001B[38;5;241m.\u001B[39mon_advance_start(\u001B[38;5;241m*\u001B[39margs, \u001B[38;5;241m*\u001B[39m\u001B[38;5;241m*\u001B[39mkwargs)\n\u001B[0;32m--> 111\u001B[0m     \u001B[38;5;28;43mself\u001B[39;49m\u001B[38;5;241;43m.\u001B[39;49m\u001B[43madvance\u001B[49m\u001B[43m(\u001B[49m\u001B[38;5;241;43m*\u001B[39;49m\u001B[43margs\u001B[49m\u001B[43m,\u001B[49m\u001B[43m \u001B[49m\u001B[38;5;241;43m*\u001B[39;49m\u001B[38;5;241;43m*\u001B[39;49m\u001B[43mkwargs\u001B[49m\u001B[43m)\u001B[49m\n\u001B[1;32m    112\u001B[0m     \u001B[38;5;28mself\u001B[39m\u001B[38;5;241m.\u001B[39mon_advance_end()\n\u001B[1;32m    113\u001B[0m     \u001B[38;5;28mself\u001B[39m\u001B[38;5;241m.\u001B[39miteration_count \u001B[38;5;241m+\u001B[39m\u001B[38;5;241m=\u001B[39m \u001B[38;5;241m1\u001B[39m\n",
      "File \u001B[0;32m~/opt/anaconda3/envs/cats3/lib/python3.10/site-packages/pytorch_lightning/loops/epoch/training_epoch_loop.py:118\u001B[0m, in \u001B[0;36mTrainingEpochLoop.advance\u001B[0;34m(self, dataloader_iter, **kwargs)\u001B[0m\n\u001B[1;32m    109\u001B[0m \u001B[38;5;28;01mdef\u001B[39;00m \u001B[38;5;21madvance\u001B[39m(\u001B[38;5;28mself\u001B[39m, dataloader_iter: Iterator, \u001B[38;5;241m*\u001B[39m\u001B[38;5;241m*\u001B[39mkwargs: Any) \u001B[38;5;241m-\u001B[39m\u001B[38;5;241m>\u001B[39m \u001B[38;5;28;01mNone\u001B[39;00m:\n\u001B[1;32m    110\u001B[0m \u001B[38;5;250m    \u001B[39m\u001B[38;5;124;03m\"\"\"Runs a single training batch.\u001B[39;00m\n\u001B[1;32m    111\u001B[0m \n\u001B[1;32m    112\u001B[0m \u001B[38;5;124;03m    Args:\u001B[39;00m\n\u001B[0;32m   (...)\u001B[0m\n\u001B[1;32m    116\u001B[0m \u001B[38;5;124;03m        StopIteration: When the epoch is canceled by the user returning -1\u001B[39;00m\n\u001B[1;32m    117\u001B[0m \u001B[38;5;124;03m    \"\"\"\u001B[39;00m\n\u001B[0;32m--> 118\u001B[0m     _, (batch, is_last) \u001B[38;5;241m=\u001B[39m \u001B[38;5;28;43mnext\u001B[39;49m\u001B[43m(\u001B[49m\u001B[43mdataloader_iter\u001B[49m\u001B[43m)\u001B[49m\n\u001B[1;32m    119\u001B[0m     \u001B[38;5;28mself\u001B[39m\u001B[38;5;241m.\u001B[39mis_last_batch \u001B[38;5;241m=\u001B[39m is_last\n\u001B[1;32m    121\u001B[0m     \u001B[38;5;66;03m# ------------------------------------\u001B[39;00m\n\u001B[1;32m    122\u001B[0m     \u001B[38;5;66;03m# TRAINING_STEP + TRAINING_STEP_END\u001B[39;00m\n\u001B[1;32m    123\u001B[0m     \u001B[38;5;66;03m# ------------------------------------\u001B[39;00m\n",
      "File \u001B[0;32m~/opt/anaconda3/envs/cats3/lib/python3.10/site-packages/pytorch_lightning/profiler/base.py:104\u001B[0m, in \u001B[0;36mBaseProfiler.profile_iterable\u001B[0;34m(self, iterable, action_name)\u001B[0m\n\u001B[1;32m    102\u001B[0m \u001B[38;5;28;01mtry\u001B[39;00m:\n\u001B[1;32m    103\u001B[0m     \u001B[38;5;28mself\u001B[39m\u001B[38;5;241m.\u001B[39mstart(action_name)\n\u001B[0;32m--> 104\u001B[0m     value \u001B[38;5;241m=\u001B[39m \u001B[38;5;28;43mnext\u001B[39;49m\u001B[43m(\u001B[49m\u001B[43miterator\u001B[49m\u001B[43m)\u001B[49m\n\u001B[1;32m    105\u001B[0m     \u001B[38;5;28mself\u001B[39m\u001B[38;5;241m.\u001B[39mstop(action_name)\n\u001B[1;32m    106\u001B[0m     \u001B[38;5;28;01myield\u001B[39;00m value\n",
      "File \u001B[0;32m~/opt/anaconda3/envs/cats3/lib/python3.10/site-packages/pytorch_lightning/trainer/supporters.py:668\u001B[0m, in \u001B[0;36mprefetch_iterator\u001B[0;34m(iterable)\u001B[0m\n\u001B[1;32m    664\u001B[0m it \u001B[38;5;241m=\u001B[39m \u001B[38;5;28miter\u001B[39m(iterable)\n\u001B[1;32m    666\u001B[0m \u001B[38;5;28;01mtry\u001B[39;00m:\n\u001B[1;32m    667\u001B[0m     \u001B[38;5;66;03m# the iterator may be empty from the beginning\u001B[39;00m\n\u001B[0;32m--> 668\u001B[0m     last \u001B[38;5;241m=\u001B[39m \u001B[38;5;28;43mnext\u001B[39;49m\u001B[43m(\u001B[49m\u001B[43mit\u001B[49m\u001B[43m)\u001B[49m\n\u001B[1;32m    669\u001B[0m \u001B[38;5;28;01mexcept\u001B[39;00m \u001B[38;5;167;01mStopIteration\u001B[39;00m:\n\u001B[1;32m    670\u001B[0m     \u001B[38;5;28;01mreturn\u001B[39;00m\n",
      "File \u001B[0;32m~/opt/anaconda3/envs/cats3/lib/python3.10/site-packages/pytorch_lightning/trainer/supporters.py:589\u001B[0m, in \u001B[0;36mCombinedLoaderIterator.__next__\u001B[0;34m(self)\u001B[0m\n\u001B[1;32m    582\u001B[0m \u001B[38;5;28;01mdef\u001B[39;00m \u001B[38;5;21m__next__\u001B[39m(\u001B[38;5;28mself\u001B[39m) \u001B[38;5;241m-\u001B[39m\u001B[38;5;241m>\u001B[39m Any:\n\u001B[1;32m    583\u001B[0m \u001B[38;5;250m    \u001B[39m\u001B[38;5;124;03m\"\"\"\u001B[39;00m\n\u001B[1;32m    584\u001B[0m \u001B[38;5;124;03m    Fetches the next batch from multiple data loaders\u001B[39;00m\n\u001B[1;32m    585\u001B[0m \n\u001B[1;32m    586\u001B[0m \u001B[38;5;124;03m    Returns:\u001B[39;00m\n\u001B[1;32m    587\u001B[0m \u001B[38;5;124;03m        a collections of batch data\u001B[39;00m\n\u001B[1;32m    588\u001B[0m \u001B[38;5;124;03m    \"\"\"\u001B[39;00m\n\u001B[0;32m--> 589\u001B[0m     \u001B[38;5;28;01mreturn\u001B[39;00m \u001B[38;5;28;43mself\u001B[39;49m\u001B[38;5;241;43m.\u001B[39;49m\u001B[43mrequest_next_batch\u001B[49m\u001B[43m(\u001B[49m\u001B[38;5;28;43mself\u001B[39;49m\u001B[38;5;241;43m.\u001B[39;49m\u001B[43mloader_iters\u001B[49m\u001B[43m)\u001B[49m\n",
      "File \u001B[0;32m~/opt/anaconda3/envs/cats3/lib/python3.10/site-packages/pytorch_lightning/trainer/supporters.py:617\u001B[0m, in \u001B[0;36mCombinedLoaderIterator.request_next_batch\u001B[0;34m(loader_iters)\u001B[0m\n\u001B[1;32m    614\u001B[0m     CaptureIterableDataset\u001B[38;5;241m.\u001B[39mstore_samplers_state_dict(iterator, samplers_state_dict)\n\u001B[1;32m    615\u001B[0m     \u001B[38;5;28;01mreturn\u001B[39;00m batch\n\u001B[0;32m--> 617\u001B[0m \u001B[38;5;28;01mreturn\u001B[39;00m \u001B[43mapply_to_collection\u001B[49m\u001B[43m(\u001B[49m\u001B[43mloader_iters\u001B[49m\u001B[43m,\u001B[49m\u001B[43m \u001B[49m\u001B[43mIterator\u001B[49m\u001B[43m,\u001B[49m\u001B[43m \u001B[49m\u001B[43mnext_fn\u001B[49m\u001B[43m)\u001B[49m\n",
      "File \u001B[0;32m~/opt/anaconda3/envs/cats3/lib/python3.10/site-packages/pytorch_lightning/utilities/apply_func.py:96\u001B[0m, in \u001B[0;36mapply_to_collection\u001B[0;34m(data, dtype, function, wrong_dtype, include_none, *args, **kwargs)\u001B[0m\n\u001B[1;32m     94\u001B[0m \u001B[38;5;66;03m# Breaking condition\u001B[39;00m\n\u001B[1;32m     95\u001B[0m \u001B[38;5;28;01mif\u001B[39;00m \u001B[38;5;28misinstance\u001B[39m(data, dtype) \u001B[38;5;129;01mand\u001B[39;00m (wrong_dtype \u001B[38;5;129;01mis\u001B[39;00m \u001B[38;5;28;01mNone\u001B[39;00m \u001B[38;5;129;01mor\u001B[39;00m \u001B[38;5;129;01mnot\u001B[39;00m \u001B[38;5;28misinstance\u001B[39m(data, wrong_dtype)):\n\u001B[0;32m---> 96\u001B[0m     \u001B[38;5;28;01mreturn\u001B[39;00m \u001B[43mfunction\u001B[49m\u001B[43m(\u001B[49m\u001B[43mdata\u001B[49m\u001B[43m,\u001B[49m\u001B[43m \u001B[49m\u001B[38;5;241;43m*\u001B[39;49m\u001B[43margs\u001B[49m\u001B[43m,\u001B[49m\u001B[43m \u001B[49m\u001B[38;5;241;43m*\u001B[39;49m\u001B[38;5;241;43m*\u001B[39;49m\u001B[43mkwargs\u001B[49m\u001B[43m)\u001B[49m\n\u001B[1;32m     98\u001B[0m elem_type \u001B[38;5;241m=\u001B[39m \u001B[38;5;28mtype\u001B[39m(data)\n\u001B[1;32m    100\u001B[0m \u001B[38;5;66;03m# Recursively apply to collection items\u001B[39;00m\n",
      "File \u001B[0;32m~/opt/anaconda3/envs/cats3/lib/python3.10/site-packages/pytorch_lightning/trainer/supporters.py:604\u001B[0m, in \u001B[0;36mCombinedLoaderIterator.request_next_batch.<locals>.next_fn\u001B[0;34m(iterator)\u001B[0m\n\u001B[1;32m    603\u001B[0m \u001B[38;5;28;01mdef\u001B[39;00m \u001B[38;5;21mnext_fn\u001B[39m(iterator: Iterator):\n\u001B[0;32m--> 604\u001B[0m     batch \u001B[38;5;241m=\u001B[39m \u001B[38;5;28;43mnext\u001B[39;49m\u001B[43m(\u001B[49m\u001B[43miterator\u001B[49m\u001B[43m)\u001B[49m\n\u001B[1;32m    605\u001B[0m     \u001B[38;5;28;01mif\u001B[39;00m \u001B[38;5;129;01mnot\u001B[39;00m _fault_tolerant_enabled():\n\u001B[1;32m    606\u001B[0m         \u001B[38;5;28;01mreturn\u001B[39;00m batch\n",
      "File \u001B[0;32m~/opt/anaconda3/envs/cats3/lib/python3.10/site-packages/torch/utils/data/dataloader.py:630\u001B[0m, in \u001B[0;36m_BaseDataLoaderIter.__next__\u001B[0;34m(self)\u001B[0m\n\u001B[1;32m    627\u001B[0m \u001B[38;5;28;01mif\u001B[39;00m \u001B[38;5;28mself\u001B[39m\u001B[38;5;241m.\u001B[39m_sampler_iter \u001B[38;5;129;01mis\u001B[39;00m \u001B[38;5;28;01mNone\u001B[39;00m:\n\u001B[1;32m    628\u001B[0m     \u001B[38;5;66;03m# TODO(https://github.com/pytorch/pytorch/issues/76750)\u001B[39;00m\n\u001B[1;32m    629\u001B[0m     \u001B[38;5;28mself\u001B[39m\u001B[38;5;241m.\u001B[39m_reset()  \u001B[38;5;66;03m# type: ignore[call-arg]\u001B[39;00m\n\u001B[0;32m--> 630\u001B[0m data \u001B[38;5;241m=\u001B[39m \u001B[38;5;28;43mself\u001B[39;49m\u001B[38;5;241;43m.\u001B[39;49m\u001B[43m_next_data\u001B[49m\u001B[43m(\u001B[49m\u001B[43m)\u001B[49m\n\u001B[1;32m    631\u001B[0m \u001B[38;5;28mself\u001B[39m\u001B[38;5;241m.\u001B[39m_num_yielded \u001B[38;5;241m+\u001B[39m\u001B[38;5;241m=\u001B[39m \u001B[38;5;241m1\u001B[39m\n\u001B[1;32m    632\u001B[0m \u001B[38;5;28;01mif\u001B[39;00m \u001B[38;5;28mself\u001B[39m\u001B[38;5;241m.\u001B[39m_dataset_kind \u001B[38;5;241m==\u001B[39m _DatasetKind\u001B[38;5;241m.\u001B[39mIterable \u001B[38;5;129;01mand\u001B[39;00m \\\n\u001B[1;32m    633\u001B[0m         \u001B[38;5;28mself\u001B[39m\u001B[38;5;241m.\u001B[39m_IterableDataset_len_called \u001B[38;5;129;01mis\u001B[39;00m \u001B[38;5;129;01mnot\u001B[39;00m \u001B[38;5;28;01mNone\u001B[39;00m \u001B[38;5;129;01mand\u001B[39;00m \\\n\u001B[1;32m    634\u001B[0m         \u001B[38;5;28mself\u001B[39m\u001B[38;5;241m.\u001B[39m_num_yielded \u001B[38;5;241m>\u001B[39m \u001B[38;5;28mself\u001B[39m\u001B[38;5;241m.\u001B[39m_IterableDataset_len_called:\n",
      "File \u001B[0;32m~/opt/anaconda3/envs/cats3/lib/python3.10/site-packages/torch/utils/data/dataloader.py:674\u001B[0m, in \u001B[0;36m_SingleProcessDataLoaderIter._next_data\u001B[0;34m(self)\u001B[0m\n\u001B[1;32m    672\u001B[0m \u001B[38;5;28;01mdef\u001B[39;00m \u001B[38;5;21m_next_data\u001B[39m(\u001B[38;5;28mself\u001B[39m):\n\u001B[1;32m    673\u001B[0m     index \u001B[38;5;241m=\u001B[39m \u001B[38;5;28mself\u001B[39m\u001B[38;5;241m.\u001B[39m_next_index()  \u001B[38;5;66;03m# may raise StopIteration\u001B[39;00m\n\u001B[0;32m--> 674\u001B[0m     data \u001B[38;5;241m=\u001B[39m \u001B[38;5;28;43mself\u001B[39;49m\u001B[38;5;241;43m.\u001B[39;49m\u001B[43m_dataset_fetcher\u001B[49m\u001B[38;5;241;43m.\u001B[39;49m\u001B[43mfetch\u001B[49m\u001B[43m(\u001B[49m\u001B[43mindex\u001B[49m\u001B[43m)\u001B[49m  \u001B[38;5;66;03m# may raise StopIteration\u001B[39;00m\n\u001B[1;32m    675\u001B[0m     \u001B[38;5;28;01mif\u001B[39;00m \u001B[38;5;28mself\u001B[39m\u001B[38;5;241m.\u001B[39m_pin_memory:\n\u001B[1;32m    676\u001B[0m         data \u001B[38;5;241m=\u001B[39m _utils\u001B[38;5;241m.\u001B[39mpin_memory\u001B[38;5;241m.\u001B[39mpin_memory(data, \u001B[38;5;28mself\u001B[39m\u001B[38;5;241m.\u001B[39m_pin_memory_device)\n",
      "File \u001B[0;32m~/opt/anaconda3/envs/cats3/lib/python3.10/site-packages/torch/utils/data/_utils/fetch.py:51\u001B[0m, in \u001B[0;36m_MapDatasetFetcher.fetch\u001B[0;34m(self, possibly_batched_index)\u001B[0m\n\u001B[1;32m     49\u001B[0m         data \u001B[38;5;241m=\u001B[39m \u001B[38;5;28mself\u001B[39m\u001B[38;5;241m.\u001B[39mdataset\u001B[38;5;241m.\u001B[39m__getitems__(possibly_batched_index)\n\u001B[1;32m     50\u001B[0m     \u001B[38;5;28;01melse\u001B[39;00m:\n\u001B[0;32m---> 51\u001B[0m         data \u001B[38;5;241m=\u001B[39m [\u001B[38;5;28mself\u001B[39m\u001B[38;5;241m.\u001B[39mdataset[idx] \u001B[38;5;28;01mfor\u001B[39;00m idx \u001B[38;5;129;01min\u001B[39;00m possibly_batched_index]\n\u001B[1;32m     52\u001B[0m \u001B[38;5;28;01melse\u001B[39;00m:\n\u001B[1;32m     53\u001B[0m     data \u001B[38;5;241m=\u001B[39m \u001B[38;5;28mself\u001B[39m\u001B[38;5;241m.\u001B[39mdataset[possibly_batched_index]\n",
      "File \u001B[0;32m~/opt/anaconda3/envs/cats3/lib/python3.10/site-packages/torch/utils/data/_utils/fetch.py:51\u001B[0m, in \u001B[0;36m<listcomp>\u001B[0;34m(.0)\u001B[0m\n\u001B[1;32m     49\u001B[0m         data \u001B[38;5;241m=\u001B[39m \u001B[38;5;28mself\u001B[39m\u001B[38;5;241m.\u001B[39mdataset\u001B[38;5;241m.\u001B[39m__getitems__(possibly_batched_index)\n\u001B[1;32m     50\u001B[0m     \u001B[38;5;28;01melse\u001B[39;00m:\n\u001B[0;32m---> 51\u001B[0m         data \u001B[38;5;241m=\u001B[39m [\u001B[38;5;28;43mself\u001B[39;49m\u001B[38;5;241;43m.\u001B[39;49m\u001B[43mdataset\u001B[49m\u001B[43m[\u001B[49m\u001B[43midx\u001B[49m\u001B[43m]\u001B[49m \u001B[38;5;28;01mfor\u001B[39;00m idx \u001B[38;5;129;01min\u001B[39;00m possibly_batched_index]\n\u001B[1;32m     52\u001B[0m \u001B[38;5;28;01melse\u001B[39;00m:\n\u001B[1;32m     53\u001B[0m     data \u001B[38;5;241m=\u001B[39m \u001B[38;5;28mself\u001B[39m\u001B[38;5;241m.\u001B[39mdataset[possibly_batched_index]\n",
      "File \u001B[0;32m~/opt/anaconda3/envs/cats3/lib/python3.10/site-packages/src-0.1.0-py3.10.egg/src/data/mimic_iii/real_dataset.py:89\u001B[0m, in \u001B[0;36mMIMIC3RealDataset.__getitem__\u001B[0;34m(self, index)\u001B[0m\n\u001B[1;32m     88\u001B[0m \u001B[38;5;28;01mdef\u001B[39;00m \u001B[38;5;21m__getitem__\u001B[39m(\u001B[38;5;28mself\u001B[39m, index) \u001B[38;5;241m-\u001B[39m\u001B[38;5;241m>\u001B[39m \u001B[38;5;28mdict\u001B[39m:\n\u001B[0;32m---> 89\u001B[0m     result \u001B[38;5;241m=\u001B[39m {k: v[index] \u001B[38;5;28;01mfor\u001B[39;00m k, v \u001B[38;5;129;01min\u001B[39;00m \u001B[38;5;28mself\u001B[39m\u001B[38;5;241m.\u001B[39mdata\u001B[38;5;241m.\u001B[39mitems()}\n\u001B[1;32m     90\u001B[0m     \u001B[38;5;28;01mif\u001B[39;00m \u001B[38;5;28mhasattr\u001B[39m(\u001B[38;5;28mself\u001B[39m, \u001B[38;5;124m'\u001B[39m\u001B[38;5;124mencoder_r\u001B[39m\u001B[38;5;124m'\u001B[39m):\n\u001B[1;32m     91\u001B[0m         \u001B[38;5;28;01mif\u001B[39;00m \u001B[38;5;124m'\u001B[39m\u001B[38;5;124moriginal_index\u001B[39m\u001B[38;5;124m'\u001B[39m \u001B[38;5;129;01min\u001B[39;00m \u001B[38;5;28mself\u001B[39m\u001B[38;5;241m.\u001B[39mdata:\n",
      "File \u001B[0;32m~/opt/anaconda3/envs/cats3/lib/python3.10/site-packages/src-0.1.0-py3.10.egg/src/data/mimic_iii/real_dataset.py:89\u001B[0m, in \u001B[0;36m<dictcomp>\u001B[0;34m(.0)\u001B[0m\n\u001B[1;32m     88\u001B[0m \u001B[38;5;28;01mdef\u001B[39;00m \u001B[38;5;21m__getitem__\u001B[39m(\u001B[38;5;28mself\u001B[39m, index) \u001B[38;5;241m-\u001B[39m\u001B[38;5;241m>\u001B[39m \u001B[38;5;28mdict\u001B[39m:\n\u001B[0;32m---> 89\u001B[0m     result \u001B[38;5;241m=\u001B[39m {k: \u001B[43mv\u001B[49m\u001B[43m[\u001B[49m\u001B[43mindex\u001B[49m\u001B[43m]\u001B[49m \u001B[38;5;28;01mfor\u001B[39;00m k, v \u001B[38;5;129;01min\u001B[39;00m \u001B[38;5;28mself\u001B[39m\u001B[38;5;241m.\u001B[39mdata\u001B[38;5;241m.\u001B[39mitems()}\n\u001B[1;32m     90\u001B[0m     \u001B[38;5;28;01mif\u001B[39;00m \u001B[38;5;28mhasattr\u001B[39m(\u001B[38;5;28mself\u001B[39m, \u001B[38;5;124m'\u001B[39m\u001B[38;5;124mencoder_r\u001B[39m\u001B[38;5;124m'\u001B[39m):\n\u001B[1;32m     91\u001B[0m         \u001B[38;5;28;01mif\u001B[39;00m \u001B[38;5;124m'\u001B[39m\u001B[38;5;124moriginal_index\u001B[39m\u001B[38;5;124m'\u001B[39m \u001B[38;5;129;01min\u001B[39;00m \u001B[38;5;28mself\u001B[39m\u001B[38;5;241m.\u001B[39mdata:\n",
      "\u001B[0;31mIndexError\u001B[0m: index 820 is out of bounds for axis 0 with size 0"
     ]
    }
   ],
   "source": [
    "multimodel_trainer.fit(model)"
   ],
   "metadata": {
    "collapsed": false,
    "ExecuteTime": {
     "end_time": "2024-01-06T12:53:04.970229Z",
     "start_time": "2024-01-06T12:53:04.750033Z"
    }
   },
   "id": "89772d320ebf9899"
  },
  {
   "cell_type": "code",
   "execution_count": 20,
   "outputs": [],
   "source": [
    "dl = model.train_dataloader()"
   ],
   "metadata": {
    "collapsed": false,
    "ExecuteTime": {
     "end_time": "2024-01-06T13:21:11.629504Z",
     "start_time": "2024-01-06T13:21:11.566790Z"
    }
   },
   "id": "f82d2ef0577e5271"
  },
  {
   "cell_type": "code",
   "execution_count": 5,
   "outputs": [
    {
     "data": {
      "text/plain": "{'sequence_lengths': 71,\n 'prev_treatments': array([[4.],\n        [4.],\n        [4.],\n        [4.],\n        [4.],\n        [4.],\n        [4.],\n        [4.],\n        [4.],\n        [4.],\n        [4.],\n        [4.],\n        [4.],\n        [4.],\n        [4.],\n        [4.],\n        [4.],\n        [4.],\n        [4.],\n        [4.],\n        [4.],\n        [4.],\n        [4.],\n        [4.],\n        [4.],\n        [4.],\n        [4.],\n        [4.],\n        [4.],\n        [4.],\n        [4.],\n        [4.],\n        [4.],\n        [4.],\n        [4.],\n        [4.],\n        [4.],\n        [4.],\n        [4.],\n        [4.],\n        [4.],\n        [0.],\n        [0.],\n        [0.],\n        [0.],\n        [0.],\n        [0.],\n        [0.],\n        [0.],\n        [0.],\n        [0.],\n        [0.],\n        [0.],\n        [0.],\n        [0.],\n        [0.],\n        [0.],\n        [0.],\n        [0.],\n        [0.],\n        [0.],\n        [0.],\n        [0.],\n        [0.],\n        [0.],\n        [0.],\n        [0.],\n        [0.],\n        [0.],\n        [0.],\n        [0.]]),\n 'vitals': array([[-0.30182825, -0.64252919, -0.2857695 , ...,  0.01302788,\n          1.        ,  1.15325429],\n        [-0.30182825, -0.64252919, -0.2857695 , ...,  0.01302788,\n          1.        ,  1.15325429],\n        [-0.30182825, -0.64252919, -0.2857695 , ...,  0.01302788,\n          1.        ,  1.15325429],\n        ...,\n        [-0.30182825, -0.64252919, -0.2857695 , ...,  0.01302788,\n          1.        ,  1.15325429],\n        [-0.30182825, -0.64252919, -0.2857695 , ...,  0.01302788,\n          1.        ,  1.15325429],\n        [-0.30182825, -0.64252919, -0.2857695 , ...,  0.01302788,\n          1.        ,  1.15325429]]),\n 'next_vitals': array([[-0.30182825, -0.64252919, -0.2857695 , ...,  0.01302788,\n          1.        ,  1.15325429],\n        [-0.30182825, -0.64252919, -0.2857695 , ...,  0.01302788,\n          1.        ,  1.15325429],\n        [-0.30182825, -0.64252919, -0.2857695 , ...,  0.01302788,\n          1.        ,  1.15325429],\n        ...,\n        [-0.30182825, -0.64252919, -0.2857695 , ...,  0.01302788,\n          1.        ,  1.15325429],\n        [-0.30182825, -0.64252919, -0.2857695 , ...,  0.01302788,\n          1.        ,  1.15325429],\n        [-0.30182825, -0.64252919, -0.2857695 , ...,  0.01302788,\n          1.        ,  1.15325429]]),\n 'current_treatments': array([[4.],\n        [4.],\n        [4.],\n        [4.],\n        [4.],\n        [4.],\n        [4.],\n        [4.],\n        [4.],\n        [4.],\n        [4.],\n        [4.],\n        [4.],\n        [4.],\n        [4.],\n        [4.],\n        [4.],\n        [4.],\n        [4.],\n        [4.],\n        [4.],\n        [4.],\n        [4.],\n        [4.],\n        [4.],\n        [4.],\n        [4.],\n        [4.],\n        [4.],\n        [4.],\n        [4.],\n        [4.],\n        [4.],\n        [4.],\n        [4.],\n        [4.],\n        [4.],\n        [4.],\n        [4.],\n        [4.],\n        [0.],\n        [0.],\n        [0.],\n        [0.],\n        [0.],\n        [0.],\n        [0.],\n        [0.],\n        [0.],\n        [0.],\n        [0.],\n        [0.],\n        [0.],\n        [0.],\n        [0.],\n        [0.],\n        [0.],\n        [0.],\n        [0.],\n        [0.],\n        [0.],\n        [0.],\n        [0.],\n        [0.],\n        [0.],\n        [0.],\n        [0.],\n        [0.],\n        [0.],\n        [0.],\n        [0.]]),\n 'static_features': array([], dtype=float64),\n 'active_entries': array([[1.],\n        [1.],\n        [1.],\n        [1.],\n        [1.],\n        [1.],\n        [1.],\n        [1.],\n        [1.],\n        [1.],\n        [1.],\n        [1.],\n        [1.],\n        [1.],\n        [1.],\n        [1.],\n        [1.],\n        [1.],\n        [1.],\n        [1.],\n        [1.],\n        [1.],\n        [1.],\n        [1.],\n        [1.],\n        [1.],\n        [1.],\n        [1.],\n        [1.],\n        [1.],\n        [1.],\n        [1.],\n        [1.],\n        [1.],\n        [1.],\n        [1.],\n        [1.],\n        [1.],\n        [1.],\n        [1.],\n        [1.],\n        [1.],\n        [1.],\n        [1.],\n        [1.],\n        [1.],\n        [1.],\n        [1.],\n        [1.],\n        [1.],\n        [1.],\n        [1.],\n        [1.],\n        [1.],\n        [1.],\n        [1.],\n        [1.],\n        [1.],\n        [1.],\n        [1.],\n        [1.],\n        [1.],\n        [1.],\n        [1.],\n        [1.],\n        [1.],\n        [1.],\n        [1.],\n        [1.],\n        [1.],\n        [1.]]),\n 'outputs': array([[0.],\n        [0.],\n        [0.],\n        [0.],\n        [0.],\n        [0.],\n        [0.],\n        [0.],\n        [0.],\n        [0.],\n        [0.],\n        [0.],\n        [0.],\n        [0.],\n        [0.],\n        [0.],\n        [0.],\n        [0.],\n        [0.],\n        [0.],\n        [0.],\n        [0.],\n        [0.],\n        [0.],\n        [0.],\n        [0.],\n        [0.],\n        [0.],\n        [0.],\n        [0.],\n        [0.],\n        [0.],\n        [0.],\n        [0.],\n        [0.],\n        [0.],\n        [0.],\n        [0.],\n        [0.],\n        [0.],\n        [0.],\n        [0.],\n        [0.],\n        [0.],\n        [0.],\n        [0.],\n        [0.],\n        [0.],\n        [0.],\n        [0.],\n        [0.],\n        [0.],\n        [0.],\n        [0.],\n        [0.],\n        [0.],\n        [0.],\n        [0.],\n        [0.],\n        [0.],\n        [0.],\n        [0.],\n        [0.],\n        [0.],\n        [0.],\n        [0.],\n        [0.],\n        [0.],\n        [0.],\n        [0.],\n        [0.]]),\n 'unscaled_outputs': array([[0.],\n        [0.],\n        [0.],\n        [0.],\n        [0.],\n        [0.],\n        [0.],\n        [0.],\n        [0.],\n        [0.],\n        [0.],\n        [0.],\n        [0.],\n        [0.],\n        [0.],\n        [0.],\n        [0.],\n        [0.],\n        [0.],\n        [0.],\n        [0.],\n        [0.],\n        [0.],\n        [0.],\n        [0.],\n        [0.],\n        [0.],\n        [0.],\n        [0.],\n        [0.],\n        [0.],\n        [0.],\n        [0.],\n        [0.],\n        [0.],\n        [0.],\n        [0.],\n        [0.],\n        [0.],\n        [0.],\n        [0.],\n        [0.],\n        [0.],\n        [0.],\n        [0.],\n        [0.],\n        [0.],\n        [0.],\n        [0.],\n        [0.],\n        [0.],\n        [0.],\n        [0.],\n        [0.],\n        [0.],\n        [0.],\n        [0.],\n        [0.],\n        [0.],\n        [0.],\n        [0.],\n        [0.],\n        [0.],\n        [0.],\n        [0.],\n        [0.],\n        [0.],\n        [0.],\n        [0.],\n        [0.],\n        [0.]]),\n 'prev_outputs': array([[-2.],\n        [ 0.],\n        [ 0.],\n        [ 0.],\n        [ 0.],\n        [ 0.],\n        [ 0.],\n        [ 0.],\n        [ 0.],\n        [ 0.],\n        [ 0.],\n        [ 0.],\n        [ 0.],\n        [ 0.],\n        [ 0.],\n        [ 0.],\n        [ 0.],\n        [ 0.],\n        [ 0.],\n        [ 0.],\n        [ 0.],\n        [ 0.],\n        [ 0.],\n        [ 0.],\n        [ 0.],\n        [ 0.],\n        [ 0.],\n        [ 0.],\n        [ 0.],\n        [ 0.],\n        [ 0.],\n        [ 0.],\n        [ 0.],\n        [ 0.],\n        [ 0.],\n        [ 0.],\n        [ 0.],\n        [ 0.],\n        [ 0.],\n        [ 0.],\n        [ 0.],\n        [ 0.],\n        [ 0.],\n        [ 0.],\n        [ 0.],\n        [ 0.],\n        [ 0.],\n        [ 0.],\n        [ 0.],\n        [ 0.],\n        [ 0.],\n        [ 0.],\n        [ 0.],\n        [ 0.],\n        [ 0.],\n        [ 0.],\n        [ 0.],\n        [ 0.],\n        [ 0.],\n        [ 0.],\n        [ 0.],\n        [ 0.],\n        [ 0.],\n        [ 0.],\n        [ 0.],\n        [ 0.],\n        [ 0.],\n        [ 0.],\n        [ 0.],\n        [ 0.],\n        [ 0.]])}"
     },
     "execution_count": 5,
     "metadata": {},
     "output_type": "execute_result"
    }
   ],
   "source": [
    "index = 0\n",
    "{k: v[index] for k, v in train_ds.data.items()}"
   ],
   "metadata": {
    "collapsed": false,
    "ExecuteTime": {
     "end_time": "2024-01-06T13:14:40.552493Z",
     "start_time": "2024-01-06T13:14:40.485264Z"
    }
   },
   "id": "9f67ec80e4f5501f"
  },
  {
   "cell_type": "code",
   "execution_count": 6,
   "outputs": [
    {
     "data": {
      "text/plain": "('next_vitals',\n array([[[-0.30182825, -0.64252919, -0.2857695 , ...,  0.01302788,\n           1.        ,  1.15325429],\n         [-0.30182825, -0.64252919, -0.2857695 , ...,  0.01302788,\n           1.        ,  1.15325429],\n         [-0.30182825, -0.64252919, -0.2857695 , ...,  0.01302788,\n           1.        ,  1.15325429],\n         ...,\n         [-0.30182825, -0.64252919, -0.2857695 , ...,  0.01302788,\n           1.        ,  1.15325429],\n         [-0.30182825, -0.64252919, -0.2857695 , ...,  0.01302788,\n           1.        ,  1.15325429],\n         [-0.30182825, -0.64252919, -0.2857695 , ...,  0.01302788,\n           1.        ,  1.15325429]],\n \n        [[-0.16476602, -0.16509521, -0.2857695 , ...,  1.06150768,\n           1.        ,  0.74380008],\n         [-0.16476602, -0.16509521, -0.2857695 , ...,  1.06150768,\n           1.        ,  0.88028481],\n         [-0.16476602, -0.16509521, -0.2857695 , ...,  1.06150768,\n           1.        ,  0.88028481],\n         ...,\n         [ 0.38348289,  0.15319411, -0.2857695 , ..., -0.39724683,\n           1.        ,  0.88028481],\n         [ 0.38348289,  0.15319411, -0.2857695 , ..., -0.39724683,\n           1.        ,  0.88028481],\n         [ 0.38348289,  0.15319411, -0.2857695 , ..., -0.39724683,\n           1.        ,  0.88028481]],\n \n        [[-0.16476602, -0.16509521, -0.2857695 , ..., -0.85310761,\n           0.        , -0.07510835],\n         [-0.16476602, -0.16509521, -0.2857695 , ..., -0.85310761,\n           0.        , -0.07510835],\n         [-0.16476602, -0.16509521, -0.2857695 , ..., -0.85310761,\n           0.        , -0.07510835],\n         ...,\n         [-1.12420161, -0.32423987, -0.2857695 , ..., -1.03545193,\n           0.        , -0.07510835],\n         [-1.12420161, -0.32423987, -0.2857695 , ..., -1.03545193,\n           0.        , -0.07510835],\n         [-1.12420161, -0.32423987, -0.2857695 , ..., -1.03545193,\n           0.        , -0.07510835]],\n \n        ...,\n \n        [[-0.16476602, -0.16509521, -0.2857695 , ..., -0.89869369,\n           1.        ,  1.63095087],\n         [-0.16476602, -0.16509521, -0.2857695 , ..., -0.89869369,\n           1.        ,  1.63095087],\n         [-0.16476602, -0.16509521, -0.2857695 , ..., -0.89869369,\n           1.        ,  1.63095087],\n         ...,\n         [-0.85007716, -2.07483113, -0.2857695 , ..., -0.94427977,\n           1.        ,  1.71966595],\n         [-0.85007716, -2.07483113, -0.2857695 , ..., -0.94427977,\n           1.        ,  1.71966595],\n         [-0.85007716, -2.07483113, -0.2857695 , ..., -0.94427977,\n           1.        ,  1.71966595]],\n \n        [[-0.16476602, -0.16509521, -0.2857695 , ..., -0.21490252,\n           0.        , -0.55280493],\n         [-0.16476602, -0.16509521, -0.2857695 , ..., -0.21490252,\n           0.        , -0.55280493],\n         [-0.16476602, -0.16509521, -0.2857695 , ..., -0.21490252,\n           0.        , -0.55280493],\n         ...,\n         [-0.16476602, -0.16509521, -0.2857695 , ...,  0.05861396,\n           0.        , -0.55280493],\n         [-0.16476602, -0.16509521, -0.2857695 , ...,  0.05861396,\n           0.        , -0.55280493],\n         [-0.16476602, -0.16509521, -0.2857695 , ...,  0.05861396,\n           0.        , -0.55280493]],\n \n        [[-0.16476602, -0.16509521, -0.2857695 , ...,  0.10420003,\n           0.        , -0.07510835],\n         [-0.16476602, -0.16509521, -0.2857695 , ...,  0.10420003,\n           0.        , -0.07510835],\n         [-0.16476602, -0.16509521, -0.2857695 , ...,  0.10420003,\n           0.        , -0.07510835],\n         ...,\n         [ 1.20585625, -0.80167385, -0.2857695 , ...,  0.37771651,\n           0.        , -0.07510835],\n         [ 1.20585625, -0.80167385, -0.2857695 , ...,  0.37771651,\n           0.        , -0.07510835],\n         [ 1.20585625, -0.80167385, -0.2857695 , ...,  0.37771651,\n           0.        , -0.07510835]]]))"
     },
     "execution_count": 6,
     "metadata": {},
     "output_type": "execute_result"
    }
   ],
   "source": [
    "list(train_ds.data.items())[3]"
   ],
   "metadata": {
    "collapsed": false,
    "ExecuteTime": {
     "end_time": "2024-01-06T13:14:40.562589Z",
     "start_time": "2024-01-06T13:14:40.546176Z"
    }
   },
   "id": "8090985e20139235"
  },
  {
   "cell_type": "code",
   "execution_count": 7,
   "outputs": [
    {
     "name": "stdout",
     "output_type": "stream",
     "text": [
      "sequence_lengths\n",
      "(2493,)\n",
      "prev_treatments\n",
      "(2493, 71, 1)\n",
      "vitals\n",
      "(2493, 71, 84)\n",
      "next_vitals\n",
      "(2493, 70, 84)\n",
      "current_treatments\n",
      "(2493, 71, 1)\n",
      "static_features\n",
      "(179496, 0)\n",
      "active_entries\n",
      "(2493, 71, 1)\n",
      "outputs\n",
      "(2493, 71, 1)\n",
      "unscaled_outputs\n",
      "(2493, 71, 1)\n",
      "prev_outputs\n",
      "(2493, 71, 1)\n"
     ]
    }
   ],
   "source": [
    "for k, v in train_ds.data.items():\n",
    "    print(k)\n",
    "    print(v.shape)"
   ],
   "metadata": {
    "collapsed": false,
    "ExecuteTime": {
     "end_time": "2024-01-06T13:14:40.565274Z",
     "start_time": "2024-01-06T13:14:40.561906Z"
    }
   },
   "id": "7cdb99138afcda10"
  },
  {
   "cell_type": "code",
   "execution_count": 22,
   "outputs": [],
   "source": [
    "temp = next(iter(dl))"
   ],
   "metadata": {
    "collapsed": false,
    "ExecuteTime": {
     "end_time": "2024-01-06T13:25:40.988694Z",
     "start_time": "2024-01-06T13:25:40.875916Z"
    }
   },
   "id": "976f4e716d0f8384"
  },
  {
   "cell_type": "code",
   "execution_count": 24,
   "outputs": [
    {
     "data": {
      "text/plain": "10"
     },
     "execution_count": 24,
     "metadata": {},
     "output_type": "execute_result"
    }
   ],
   "source": [
    "len(temp)"
   ],
   "metadata": {
    "collapsed": false,
    "ExecuteTime": {
     "end_time": "2024-01-06T13:25:49.065522Z",
     "start_time": "2024-01-06T13:25:49.055313Z"
    }
   },
   "id": "9a63b1ae453cfe57"
  },
  {
   "cell_type": "code",
   "execution_count": 42,
   "outputs": [
    {
     "data": {
      "text/plain": "dict_items([('sequence_lengths', array([71, 71, 71, ..., 71, 71, 71])), ('prev_treatments', array([[[4.],\n        [4.],\n        [4.],\n        ...,\n        [0.],\n        [0.],\n        [0.]],\n\n       [[7.],\n        [7.],\n        [7.],\n        ...,\n        [4.],\n        [4.],\n        [4.]],\n\n       [[7.],\n        [7.],\n        [7.],\n        ...,\n        [7.],\n        [7.],\n        [7.]],\n\n       ...,\n\n       [[7.],\n        [7.],\n        [7.],\n        ...,\n        [3.],\n        [3.],\n        [3.]],\n\n       [[7.],\n        [7.],\n        [7.],\n        ...,\n        [7.],\n        [7.],\n        [7.]],\n\n       [[7.],\n        [7.],\n        [7.],\n        ...,\n        [7.],\n        [7.],\n        [7.]]])), ('vitals', array([[[-0.30182825, -0.64252919, -0.2857695 , ...,  0.01302788,\n          1.        ,  1.15325429],\n        [-0.30182825, -0.64252919, -0.2857695 , ...,  0.01302788,\n          1.        ,  1.15325429],\n        [-0.30182825, -0.64252919, -0.2857695 , ...,  0.01302788,\n          1.        ,  1.15325429],\n        ...,\n        [-0.30182825, -0.64252919, -0.2857695 , ...,  0.01302788,\n          1.        ,  1.15325429],\n        [-0.30182825, -0.64252919, -0.2857695 , ...,  0.01302788,\n          1.        ,  1.15325429],\n        [-0.30182825, -0.64252919, -0.2857695 , ...,  0.01302788,\n          1.        ,  1.15325429]],\n\n       [[-0.16476602, -0.16509521, -0.2857695 , ...,  1.06150768,\n          1.        ,  0.74380008],\n        [-0.16476602, -0.16509521, -0.2857695 , ...,  1.06150768,\n          1.        ,  0.74380008],\n        [-0.16476602, -0.16509521, -0.2857695 , ...,  1.06150768,\n          1.        ,  0.88028481],\n        ...,\n        [ 0.38348289,  0.15319411, -0.2857695 , ..., -0.39724683,\n          1.        ,  0.88028481],\n        [ 0.38348289,  0.15319411, -0.2857695 , ..., -0.39724683,\n          1.        ,  0.88028481],\n        [ 0.38348289,  0.15319411, -0.2857695 , ..., -0.39724683,\n          1.        ,  0.88028481]],\n\n       [[-0.16476602, -0.16509521, -0.2857695 , ..., -0.85310761,\n          0.        , -0.07510835],\n        [-0.16476602, -0.16509521, -0.2857695 , ..., -0.85310761,\n          0.        , -0.07510835],\n        [-0.16476602, -0.16509521, -0.2857695 , ..., -0.85310761,\n          0.        , -0.07510835],\n        ...,\n        [-1.12420161, -0.32423987, -0.2857695 , ..., -1.03545193,\n          0.        , -0.07510835],\n        [-1.12420161, -0.32423987, -0.2857695 , ..., -1.03545193,\n          0.        , -0.07510835],\n        [-1.12420161, -0.32423987, -0.2857695 , ..., -1.03545193,\n          0.        , -0.07510835]],\n\n       ...,\n\n       [[-0.16476602, -0.16509521, -0.2857695 , ..., -0.89869369,\n          1.        ,  1.63095087],\n        [-0.16476602, -0.16509521, -0.2857695 , ..., -0.89869369,\n          1.        ,  1.63095087],\n        [-0.16476602, -0.16509521, -0.2857695 , ..., -0.89869369,\n          1.        ,  1.63095087],\n        ...,\n        [-0.85007716, -2.07483113, -0.2857695 , ..., -0.94427977,\n          1.        ,  1.71966595],\n        [-0.85007716, -2.07483113, -0.2857695 , ..., -0.94427977,\n          1.        ,  1.71966595],\n        [-0.85007716, -2.07483113, -0.2857695 , ..., -0.94427977,\n          1.        ,  1.71966595]],\n\n       [[-0.16476602, -0.16509521, -0.2857695 , ..., -0.21490252,\n          0.        , -0.55280493],\n        [-0.16476602, -0.16509521, -0.2857695 , ..., -0.21490252,\n          0.        , -0.55280493],\n        [-0.16476602, -0.16509521, -0.2857695 , ..., -0.21490252,\n          0.        , -0.55280493],\n        ...,\n        [-0.16476602, -0.16509521, -0.2857695 , ...,  0.05861396,\n          0.        , -0.55280493],\n        [-0.16476602, -0.16509521, -0.2857695 , ...,  0.05861396,\n          0.        , -0.55280493],\n        [-0.16476602, -0.16509521, -0.2857695 , ...,  0.05861396,\n          0.        , -0.55280493]],\n\n       [[-0.16476602, -0.16509521, -0.2857695 , ...,  0.10420003,\n          0.        , -0.07510835],\n        [-0.16476602, -0.16509521, -0.2857695 , ...,  0.10420003,\n          0.        , -0.07510835],\n        [-0.16476602, -0.16509521, -0.2857695 , ...,  0.10420003,\n          0.        , -0.07510835],\n        ...,\n        [ 1.20585625, -0.80167385, -0.2857695 , ...,  0.37771651,\n          0.        , -0.07510835],\n        [ 1.20585625, -0.80167385, -0.2857695 , ...,  0.37771651,\n          0.        , -0.07510835],\n        [ 1.20585625, -0.80167385, -0.2857695 , ...,  0.37771651,\n          0.        , -0.07510835]]])), ('next_vitals', array([[[-0.30182825, -0.64252919, -0.2857695 , ...,  0.01302788,\n          1.        ,  1.15325429],\n        [-0.30182825, -0.64252919, -0.2857695 , ...,  0.01302788,\n          1.        ,  1.15325429],\n        [-0.30182825, -0.64252919, -0.2857695 , ...,  0.01302788,\n          1.        ,  1.15325429],\n        ...,\n        [-0.30182825, -0.64252919, -0.2857695 , ...,  0.01302788,\n          1.        ,  1.15325429],\n        [-0.30182825, -0.64252919, -0.2857695 , ...,  0.01302788,\n          1.        ,  1.15325429],\n        [-0.30182825, -0.64252919, -0.2857695 , ...,  0.01302788,\n          1.        ,  1.15325429]],\n\n       [[-0.16476602, -0.16509521, -0.2857695 , ...,  1.06150768,\n          1.        ,  0.74380008],\n        [-0.16476602, -0.16509521, -0.2857695 , ...,  1.06150768,\n          1.        ,  0.88028481],\n        [-0.16476602, -0.16509521, -0.2857695 , ...,  1.06150768,\n          1.        ,  0.88028481],\n        ...,\n        [ 0.38348289,  0.15319411, -0.2857695 , ..., -0.39724683,\n          1.        ,  0.88028481],\n        [ 0.38348289,  0.15319411, -0.2857695 , ..., -0.39724683,\n          1.        ,  0.88028481],\n        [ 0.38348289,  0.15319411, -0.2857695 , ..., -0.39724683,\n          1.        ,  0.88028481]],\n\n       [[-0.16476602, -0.16509521, -0.2857695 , ..., -0.85310761,\n          0.        , -0.07510835],\n        [-0.16476602, -0.16509521, -0.2857695 , ..., -0.85310761,\n          0.        , -0.07510835],\n        [-0.16476602, -0.16509521, -0.2857695 , ..., -0.85310761,\n          0.        , -0.07510835],\n        ...,\n        [-1.12420161, -0.32423987, -0.2857695 , ..., -1.03545193,\n          0.        , -0.07510835],\n        [-1.12420161, -0.32423987, -0.2857695 , ..., -1.03545193,\n          0.        , -0.07510835],\n        [-1.12420161, -0.32423987, -0.2857695 , ..., -1.03545193,\n          0.        , -0.07510835]],\n\n       ...,\n\n       [[-0.16476602, -0.16509521, -0.2857695 , ..., -0.89869369,\n          1.        ,  1.63095087],\n        [-0.16476602, -0.16509521, -0.2857695 , ..., -0.89869369,\n          1.        ,  1.63095087],\n        [-0.16476602, -0.16509521, -0.2857695 , ..., -0.89869369,\n          1.        ,  1.63095087],\n        ...,\n        [-0.85007716, -2.07483113, -0.2857695 , ..., -0.94427977,\n          1.        ,  1.71966595],\n        [-0.85007716, -2.07483113, -0.2857695 , ..., -0.94427977,\n          1.        ,  1.71966595],\n        [-0.85007716, -2.07483113, -0.2857695 , ..., -0.94427977,\n          1.        ,  1.71966595]],\n\n       [[-0.16476602, -0.16509521, -0.2857695 , ..., -0.21490252,\n          0.        , -0.55280493],\n        [-0.16476602, -0.16509521, -0.2857695 , ..., -0.21490252,\n          0.        , -0.55280493],\n        [-0.16476602, -0.16509521, -0.2857695 , ..., -0.21490252,\n          0.        , -0.55280493],\n        ...,\n        [-0.16476602, -0.16509521, -0.2857695 , ...,  0.05861396,\n          0.        , -0.55280493],\n        [-0.16476602, -0.16509521, -0.2857695 , ...,  0.05861396,\n          0.        , -0.55280493],\n        [-0.16476602, -0.16509521, -0.2857695 , ...,  0.05861396,\n          0.        , -0.55280493]],\n\n       [[-0.16476602, -0.16509521, -0.2857695 , ...,  0.10420003,\n          0.        , -0.07510835],\n        [-0.16476602, -0.16509521, -0.2857695 , ...,  0.10420003,\n          0.        , -0.07510835],\n        [-0.16476602, -0.16509521, -0.2857695 , ...,  0.10420003,\n          0.        , -0.07510835],\n        ...,\n        [ 1.20585625, -0.80167385, -0.2857695 , ...,  0.37771651,\n          0.        , -0.07510835],\n        [ 1.20585625, -0.80167385, -0.2857695 , ...,  0.37771651,\n          0.        , -0.07510835],\n        [ 1.20585625, -0.80167385, -0.2857695 , ...,  0.37771651,\n          0.        , -0.07510835]]])), ('current_treatments', array([[[4.],\n        [4.],\n        [4.],\n        ...,\n        [0.],\n        [0.],\n        [0.]],\n\n       [[7.],\n        [7.],\n        [7.],\n        ...,\n        [4.],\n        [4.],\n        [4.]],\n\n       [[7.],\n        [7.],\n        [7.],\n        ...,\n        [7.],\n        [7.],\n        [7.]],\n\n       ...,\n\n       [[7.],\n        [7.],\n        [7.],\n        ...,\n        [3.],\n        [3.],\n        [3.]],\n\n       [[7.],\n        [7.],\n        [7.],\n        ...,\n        [7.],\n        [7.],\n        [7.]],\n\n       [[7.],\n        [7.],\n        [7.],\n        ...,\n        [7.],\n        [7.],\n        [7.]]])), ('static_features', array([], shape=(0, 0), dtype=float64)), ('active_entries', array([[[1.],\n        [1.],\n        [1.],\n        ...,\n        [1.],\n        [1.],\n        [1.]],\n\n       [[1.],\n        [1.],\n        [1.],\n        ...,\n        [1.],\n        [1.],\n        [1.]],\n\n       [[1.],\n        [1.],\n        [1.],\n        ...,\n        [1.],\n        [1.],\n        [1.]],\n\n       ...,\n\n       [[1.],\n        [1.],\n        [1.],\n        ...,\n        [1.],\n        [1.],\n        [1.]],\n\n       [[1.],\n        [1.],\n        [1.],\n        ...,\n        [1.],\n        [1.],\n        [1.]],\n\n       [[1.],\n        [1.],\n        [1.],\n        ...,\n        [1.],\n        [1.],\n        [1.]]])), ('outputs', array([[[ 0.],\n        [ 0.],\n        [ 0.],\n        ...,\n        [ 0.],\n        [ 0.],\n        [ 0.]],\n\n       [[ 0.],\n        [ 0.],\n        [-1.],\n        ...,\n        [ 0.],\n        [ 0.],\n        [ 0.]],\n\n       [[ 0.],\n        [ 0.],\n        [ 0.],\n        ...,\n        [ 0.],\n        [ 0.],\n        [ 0.]],\n\n       ...,\n\n       [[ 0.],\n        [ 0.],\n        [ 0.],\n        ...,\n        [ 0.],\n        [ 0.],\n        [ 0.]],\n\n       [[ 0.],\n        [ 0.],\n        [ 0.],\n        ...,\n        [ 0.],\n        [ 0.],\n        [ 0.]],\n\n       [[ 0.],\n        [ 0.],\n        [ 0.],\n        ...,\n        [ 0.],\n        [ 0.],\n        [ 0.]]])), ('unscaled_outputs', array([[[ 0.],\n        [ 0.],\n        [ 0.],\n        ...,\n        [ 0.],\n        [ 0.],\n        [ 0.]],\n\n       [[ 0.],\n        [ 0.],\n        [-1.],\n        ...,\n        [ 0.],\n        [ 0.],\n        [ 0.]],\n\n       [[ 0.],\n        [ 0.],\n        [ 0.],\n        ...,\n        [ 0.],\n        [ 0.],\n        [ 0.]],\n\n       ...,\n\n       [[ 0.],\n        [ 0.],\n        [ 0.],\n        ...,\n        [ 0.],\n        [ 0.],\n        [ 0.]],\n\n       [[ 0.],\n        [ 0.],\n        [ 0.],\n        ...,\n        [ 0.],\n        [ 0.],\n        [ 0.]],\n\n       [[ 0.],\n        [ 0.],\n        [ 0.],\n        ...,\n        [ 0.],\n        [ 0.],\n        [ 0.]]])), ('prev_outputs', array([[[-2.],\n        [ 0.],\n        [ 0.],\n        ...,\n        [ 0.],\n        [ 0.],\n        [ 0.]],\n\n       [[ 6.],\n        [ 0.],\n        [ 0.],\n        ...,\n        [ 0.],\n        [ 0.],\n        [ 0.]],\n\n       [[ 0.],\n        [ 0.],\n        [ 0.],\n        ...,\n        [ 0.],\n        [ 0.],\n        [ 0.]],\n\n       ...,\n\n       [[ 0.],\n        [ 0.],\n        [ 0.],\n        ...,\n        [ 0.],\n        [ 0.],\n        [ 0.]],\n\n       [[ 0.],\n        [ 0.],\n        [ 0.],\n        ...,\n        [ 0.],\n        [ 0.],\n        [ 0.]],\n\n       [[ 0.],\n        [ 0.],\n        [ 0.],\n        ...,\n        [ 0.],\n        [ 0.],\n        [ 0.]]]))])"
     },
     "execution_count": 42,
     "metadata": {},
     "output_type": "execute_result"
    }
   ],
   "source": [
    "train_ds.data.items()"
   ],
   "metadata": {
    "collapsed": false,
    "ExecuteTime": {
     "end_time": "2024-01-06T12:52:45.913524Z",
     "start_time": "2024-01-06T12:52:45.881215Z"
    }
   },
   "id": "d2d4e35529320b23"
  },
  {
   "cell_type": "code",
   "execution_count": null,
   "outputs": [],
   "source": [],
   "metadata": {
    "collapsed": false
   },
   "id": "658f7923fd14b2a5"
  }
 ],
 "metadata": {
  "kernelspec": {
   "display_name": "Python 3",
   "language": "python",
   "name": "python3"
  },
  "language_info": {
   "codemirror_mode": {
    "name": "ipython",
    "version": 2
   },
   "file_extension": ".py",
   "mimetype": "text/x-python",
   "name": "python",
   "nbconvert_exporter": "python",
   "pygments_lexer": "ipython2",
   "version": "2.7.6"
  }
 },
 "nbformat": 4,
 "nbformat_minor": 5
}
